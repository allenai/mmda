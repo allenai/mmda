{
 "cells": [
  {
   "cell_type": "markdown",
   "id": "e4f2fe41",
   "metadata": {},
   "source": [
    "# SP+ End-to-end Evaluation: Annotation"
   ]
  },
  {
   "cell_type": "markdown",
   "id": "0a5f7d6e",
   "metadata": {},
   "source": [
    "## 0. Setting up your environment"
   ]
  },
  {
   "cell_type": "markdown",
   "id": "cfe6ab2b",
   "metadata": {},
   "source": [
    "### 0a. git clone the mmda repo to your local device: https://github.com/allenai/mmda\n",
    "Follow the instructions for setting up a virtual environment/requirements for working with this repo. You may need to install various libraries/packages. \n",
    "**Make sure you activate the env using:** _conda activate mmda_"
   ]
  },
  {
   "cell_type": "markdown",
   "id": "6a76a78f",
   "metadata": {},
   "source": [
    "### 0b. git clone extract-stuff-from-pdfs repo to your local device: https://github.com/allenai/extract-stuff-from-pdfs\n",
    "Follow the instructions for setting up your environment for this repo."
   ]
  },
  {
   "cell_type": "markdown",
   "id": "8daa8ab5",
   "metadata": {},
   "source": [
    "## 1. Get data from annotation store\n",
    "Load data from schema into notebook."
   ]
  },
  {
   "cell_type": "code",
   "execution_count": 95,
   "id": "b52e509c",
   "metadata": {},
   "outputs": [
    {
     "name": "stdout",
     "output_type": "stream",
     "text": [
      "{'docId': '17ada3c96ef888fc89f6b995d2edd19a45383423', 'attributesFromSource': {'spp-test-1': {'plain-text-doc-id': '740c1d64752b4679a742544046cf5de3452cfef4', 'mentions': {'annotation-type': ['PlainText', 'PDF'], 'mention-detection-source': 'mentions-test-3', 'bib-mention-linker-source': 'citation-links-test-1'}, 'bib-entries': {'annotation-type': 'PDF', 'bib-detection-source': 'bib_detector_test_3'}, 'bib-entry-parses': {'annotation-type': 'PDF', 'bib-parsing-source': 'bib-struct-test-1'}, 'pdf-plumber': 'pdfplumber-0.0.4'}}, 'annotationsFromSource': {}}\n"
     ]
    }
   ],
   "source": [
    "# NOTE - if schema changes, need to update \"annotation-type\", \"bib-mention-linker-source\", etc... (one time only)\n",
    "import urllib.request, json \n",
    "\n",
    "# !!!! ANNOTATOR TODO: We will need to change SHA and annotation/attribute source for each paper evaluated\n",
    "sha = '17ada3c96ef888fc89f6b995d2edd19a45383423'\n",
    "\n",
    "\n",
    "attributeSource = \"spp-test-1\"\n",
    "annotationSource = \"spp-test-1\"\n",
    "\n",
    "# get data from json file\n",
    "with urllib.request.urlopen(f\"http://annotations-api.dev.s2.allenai.org/pdf/{sha}/annotations?\"\n",
    "                            f\"annotationSources={annotationSource}&attributeSources={attributeSource}\") as url:\n",
    "    data = json.load(url)\n",
    "    \n",
    "#sanity check, remove later\n",
    "print(data)"
   ]
  },
  {
   "cell_type": "markdown",
   "id": "18b9d55b",
   "metadata": {},
   "source": [
    "### 1a. Get source names and endpoint types\n",
    "This part of the notebook will retreive information about where to find the annotation sources for each part - mentions, bib-entries, bib-entry-parses, and pdf plumber. It will also retreive whether the annotations for each source are in the annotation store as a PDF or plain text. These sources will be the inputs for retreiving each type of annotation from the annotation store. "
   ]
  },
  {
   "cell_type": "code",
   "execution_count": 96,
   "id": "7028e3ba",
   "metadata": {},
   "outputs": [
    {
     "name": "stdout",
     "output_type": "stream",
     "text": [
      "The autoreload extension is already loaded. To reload it, use:\n",
      "  %reload_ext autoreload\n"
     ]
    }
   ],
   "source": [
    "%load_ext autoreload\n",
    "%autoreload 2"
   ]
  },
  {
   "cell_type": "code",
   "execution_count": 102,
   "id": "bfcfb591",
   "metadata": {
    "scrolled": true
   },
   "outputs": [
    {
     "data": {
      "text/plain": [
       "[[['PlainText', 'PDF'], 'citation-links-test-1', 'mentions-test-3'],\n",
       " ['PDF', 'bib_detector_test_3'],\n",
       " ['PDF', 'bib-struct-test-1'],\n",
       " [['PlainText', 'PDF'], 'pdfplumber-0.0.4']]"
      ]
     },
     "execution_count": 102,
     "metadata": {},
     "output_type": "execute_result"
    }
   ],
   "source": [
    "# sources as variables in case they change later; may need to change strings if schema changes (one time only)\n",
    "mention = \"mentions\"\n",
    "bib_entries = \"bib-entries\"\n",
    "bib_entry_parses = \"bib-entry-parses\"\n",
    "plumber = \"pdf-plumber\"\n",
    "\n",
    "# get source/stored formats in annotation store, store as variables\n",
    "for source_type in data['attributesFromSource'][attributeSource]:  \n",
    "    \n",
    "    # mentions\n",
    "    if source_type == mention:\n",
    "        mention_annot_type = data['attributesFromSource'][attributeSource][source_type]['annotation-type']\n",
    "        mention_bib_link_source = data['attributesFromSource'][attributeSource][source_type]['bib-mention-linker-source']\n",
    "        mention_det_source = data['attributesFromSource'][attributeSource][source_type]['mention-detection-source']\n",
    "        \n",
    "    # bib entries\n",
    "    if source_type == bib_entries:\n",
    "        bib_entry_annot_type = data['attributesFromSource'][attributeSource][source_type]['annotation-type']\n",
    "        bib_entry_det_source = data['attributesFromSource'][attributeSource][source_type]['bib-detection-source']\n",
    "\n",
    "    # bib entry parses\n",
    "    if source_type == bib_entry_parses:\n",
    "        bib_parse_annot_type = data['attributesFromSource'][attributeSource][source_type]['annotation-type']\n",
    "        bib_parse_source = data['attributesFromSource'][attributeSource][source_type]['bib-parsing-source']\n",
    "        \n",
    "    # pdf plumber\n",
    "    if source_type == plumber:\n",
    "        plumber_annot_type = ['PlainText', 'PDF'] #always has annotations from both endpoints\n",
    "        plumber_source = data['attributesFromSource'][attributeSource][source_type]\n",
    "\n",
    "# all source type values and endpoints from data\n",
    "source_values = [[mention_annot_type, mention_bib_link_source, mention_det_source],\n",
    "                [bib_entry_annot_type, bib_entry_det_source],\n",
    "                [bib_parse_annot_type, bib_parse_source],\n",
    "                [plumber_annot_type, plumber_source]]\n",
    "\n",
    "# spot check of source types: outputs all the sources and what format they are stored in\n",
    "[source for source in source_values]"
   ]
  },
  {
   "cell_type": "markdown",
   "id": "fc696479",
   "metadata": {},
   "source": [
    "### 1b. Retrieve Annotations for tokens, rows, and pages\n",
    "Using the sources obtained from the previous cell, we will now retreive the annotations for each source depending on if they are in the annotation store as a PDF or plain text."
   ]
  },
  {
   "cell_type": "code",
   "execution_count": 103,
   "id": "e9ca3264",
   "metadata": {},
   "outputs": [
    {
     "name": "stdout",
     "output_type": "stream",
     "text": [
      "page to annotate: 9\n"
     ]
    }
   ],
   "source": [
    "\"\"\"\n",
    "NOTE: For the provided sample, we are getting annotations from prod annotations-api.\n",
    "      When the data is actually run through SPP, they will be in dev annotations-api.\n",
    "      Will need to modify \"http://annotations-api.prod.s2....\" --> \"http://annotations-api.dev.s2....\"\n",
    "\"\"\"\n",
    "\n",
    "#!/usr/bin/env python3\n",
    "import boto3\n",
    "import requests\n",
    "import random # to get random page number to annotate\n",
    "\n",
    "from mmda.types.span import Span\n",
    "from mmda.types.annotation import SpanGroup, Box\n",
    "from mmda.types.document import Document\n",
    "\n",
    "\n",
    "# !!!! ANNOTATOR TODO: Record page # from output in annotation spreadsheet\n",
    "# get random page number to review and annotate\n",
    "page = random.randrange(1,15) #bailey todo: change range end at # of pages in pdf\n",
    "print(\"page to annotate:\", page)\n",
    "\n",
    "\n",
    "# method that gets url to help create span group\n",
    "def get_text(url: str) -> str:\n",
    "    s3 = boto3.resource('s3')\n",
    "    url_no_prefix = url[5:]\n",
    "    bucket, *key = url_no_prefix.split(\"/\")\n",
    "    key = \"/\".join(key)\n",
    "    with s3.Bucket(bucket).Object(key).get()['Body'] as f:\n",
    "        return f.read().decode('utf-8')"
   ]
  },
  {
   "cell_type": "markdown",
   "id": "40deee9b",
   "metadata": {},
   "source": [
    "#### Part 1: PDF Plumber\n",
    "Get pdf plumber data - Need to use text id, text_url from this block in the rest of the annotations."
   ]
  },
  {
   "cell_type": "code",
   "execution_count": 168,
   "id": "a330bdc6",
   "metadata": {},
   "outputs": [
    {
     "name": "stdout",
     "output_type": "stream",
     "text": [
      "text_url: s3://ai2-s2-science-parse-plus-prod/document/17ada3c96ef888fc89f6b995d2edd19a45383423/pdfplumber-0.0.4/text\n",
      "\n",
      "text_id: 740c1d64752b4679a742544046cf5de3452cfef4\n",
      "[{'id': 'vila-0.0.2|layout-parser-0.0.2|pdfplumber-0.0.4/vila_span_groups/0', 'startChar': 0, 'endChar': 125, 'attributesFromSource': {'vila-0.0.2|layout-parser-0.0.2|pdfplumber-0.0.4': {'type': 'Title', '_group': 0}}}, {'id': 'vila-0.0.2|layout-parser-0.0.2|pdfplumber-0.0.4/vila_span_groups/1', 'startChar': 126, 'endChar': 133, 'attributesFromSource': {'vila-0.0.2|layout-parser-0.0.2|pdfplumber-0.0.4': {'type': 'Paragraph', '_group': 1}}}, {'id': 'vila-0.0.2|layout-parser-0.0.2|pdfplumber-0.0.4/vila_span_groups/2', 'startChar': 134, 'endChar': 140, 'attributesFromSource': {'vila-0.0.2|layout-parser-0.0.2|pdfplumber-0.0.4': {'type': 'Keywords', '_group': 2}}}, {'id': 'vila-0.0.2|layout-parser-0.0.2|pdfplumber-0.0.4/vila_span_groups/3', 'startChar': 141, 'endChar': 180, 'attributesFromSource': {'vila-0.0.2|layout-parser-0.0.2|pdfplumber-0.0.4': {'type': 'Paragraph', '_group': 3}}}, {'id': 'vila-0.0.2|layout-parser-0.0.2|pdfplumber-0.0.4/vila_span_groups/4', 'startChar': 181, 'endChar': 269, 'attributesFromSource': {'vila-0.0.2|layout-parser-0.0.2|pdfplumber-0.0.4': {'type': 'Author', '_group': 4}}}, {'id': 'vila-0.0.2|layout-parser-0.0.2|pdfplumber-0.0.4/vila_span_groups/5', 'startChar': 270, 'endChar': 271, 'attributesFromSource': {'vila-0.0.2|layout-parser-0.0.2|pdfplumber-0.0.4': {'type': 'Paragraph', '_group': 5}}}, {'id': 'vila-0.0.2|layout-parser-0.0.2|pdfplumber-0.0.4/vila_span_groups/6', 'startChar': 272, 'endChar': 1015, 'attributesFromSource': {'vila-0.0.2|layout-parser-0.0.2|pdfplumber-0.0.4': {'type': 'Author', '_group': 6}}}, {'id': 'vila-0.0.2|layout-parser-0.0.2|pdfplumber-0.0.4/vila_span_groups/7', 'startChar': 1016, 'endChar': 1110, 'attributesFromSource': {'vila-0.0.2|layout-parser-0.0.2|pdfplumber-0.0.4': {'type': 'Header', '_group': 7}}}, {'id': 'vila-0.0.2|layout-parser-0.0.2|pdfplumber-0.0.4/vila_span_groups/8', 'startChar': 1111, 'endChar': 1158, 'attributesFromSource': {'vila-0.0.2|layout-parser-0.0.2|pdfplumber-0.0.4': {'type': 'Footer', '_group': 8}}}, {'id': 'vila-0.0.2|layout-parser-0.0.2|pdfplumber-0.0.4/vila_span_groups/9', 'startChar': 1159, 'endChar': 1236, 'attributesFromSource': {'vila-0.0.2|layout-parser-0.0.2|pdfplumber-0.0.4': {'type': 'Header', '_group': 9}}}, {'id': 'vila-0.0.2|layout-parser-0.0.2|pdfplumber-0.0.4/vila_span_groups/10', 'startChar': 1237, 'endChar': 1238, 'attributesFromSource': {'vila-0.0.2|layout-parser-0.0.2|pdfplumber-0.0.4': {'type': 'Paragraph', '_group': 10}}}, {'id': 'vila-0.0.2|layout-parser-0.0.2|pdfplumber-0.0.4/vila_span_groups/11', 'startChar': 1239, 'endChar': 1351, 'attributesFromSource': {'vila-0.0.2|layout-parser-0.0.2|pdfplumber-0.0.4': {'type': 'Section', '_group': 11}}}, {'id': 'vila-0.0.2|layout-parser-0.0.2|pdfplumber-0.0.4/vila_span_groups/12', 'startChar': 1352, 'endChar': 1446, 'attributesFromSource': {'vila-0.0.2|layout-parser-0.0.2|pdfplumber-0.0.4': {'type': 'Paragraph', '_group': 12}}}, {'id': 'vila-0.0.2|layout-parser-0.0.2|pdfplumber-0.0.4/vila_span_groups/13', 'startChar': 1447, 'endChar': 2001, 'attributesFromSource': {'vila-0.0.2|layout-parser-0.0.2|pdfplumber-0.0.4': {'type': 'Abstract', '_group': 13}}}, {'id': 'vila-0.0.2|layout-parser-0.0.2|pdfplumber-0.0.4/vila_span_groups/14', 'startChar': 2002, 'endChar': 2104, 'attributesFromSource': {'vila-0.0.2|layout-parser-0.0.2|pdfplumber-0.0.4': {'type': 'Paragraph', '_group': 14}}}, {'id': 'vila-0.0.2|layout-parser-0.0.2|pdfplumber-0.0.4/vila_span_groups/15', 'startChar': 2105, 'endChar': 2815, 'attributesFromSource': {'vila-0.0.2|layout-parser-0.0.2|pdfplumber-0.0.4': {'type': 'Abstract', '_group': 15}}}, {'id': 'vila-0.0.2|layout-parser-0.0.2|pdfplumber-0.0.4/vila_span_groups/16', 'startChar': 2816, 'endChar': 2893, 'attributesFromSource': {'vila-0.0.2|layout-parser-0.0.2|pdfplumber-0.0.4': {'type': 'Header', '_group': 16}}}, {'id': 'vila-0.0.2|layout-parser-0.0.2|pdfplumber-0.0.4/vila_span_groups/17', 'startChar': 2894, 'endChar': 2895, 'attributesFromSource': {'vila-0.0.2|layout-parser-0.0.2|pdfplumber-0.0.4': {'type': 'Paragraph', '_group': 17}}}, {'id': 'vila-0.0.2|layout-parser-0.0.2|pdfplumber-0.0.4/vila_span_groups/18', 'startChar': 2896, 'endChar': 2908, 'attributesFromSource': {'vila-0.0.2|layout-parser-0.0.2|pdfplumber-0.0.4': {'type': 'Section', '_group': 18}}}, {'id': 'vila-0.0.2|layout-parser-0.0.2|pdfplumber-0.0.4/vila_span_groups/19', 'startChar': 2909, 'endChar': 6079, 'attributesFromSource': {'vila-0.0.2|layout-parser-0.0.2|pdfplumber-0.0.4': {'type': 'Paragraph', '_group': 19}}}, {'id': 'vila-0.0.2|layout-parser-0.0.2|pdfplumber-0.0.4/vila_span_groups/20', 'startChar': 6080, 'endChar': 6157, 'attributesFromSource': {'vila-0.0.2|layout-parser-0.0.2|pdfplumber-0.0.4': {'type': 'Header', '_group': 20}}}, {'id': 'vila-0.0.2|layout-parser-0.0.2|pdfplumber-0.0.4/vila_span_groups/21', 'startChar': 6158, 'endChar': 7126, 'attributesFromSource': {'vila-0.0.2|layout-parser-0.0.2|pdfplumber-0.0.4': {'type': 'Paragraph', '_group': 21}}}, {'id': 'vila-0.0.2|layout-parser-0.0.2|pdfplumber-0.0.4/vila_span_groups/22', 'startChar': 7127, 'endChar': 7192, 'attributesFromSource': {'vila-0.0.2|layout-parser-0.0.2|pdfplumber-0.0.4': {'type': 'Section', '_group': 22}}}, {'id': 'vila-0.0.2|layout-parser-0.0.2|pdfplumber-0.0.4/vila_span_groups/23', 'startChar': 7193, 'endChar': 7437, 'attributesFromSource': {'vila-0.0.2|layout-parser-0.0.2|pdfplumber-0.0.4': {'type': 'Paragraph', '_group': 23}}}, {'id': 'vila-0.0.2|layout-parser-0.0.2|pdfplumber-0.0.4/vila_span_groups/24', 'startChar': 7438, 'endChar': 7468, 'attributesFromSource': {'vila-0.0.2|layout-parser-0.0.2|pdfplumber-0.0.4': {'type': 'Section', '_group': 24}}}, {'id': 'vila-0.0.2|layout-parser-0.0.2|pdfplumber-0.0.4/vila_span_groups/25', 'startChar': 7469, 'endChar': 8022, 'attributesFromSource': {'vila-0.0.2|layout-parser-0.0.2|pdfplumber-0.0.4': {'type': 'Paragraph', '_group': 25}}}, {'id': 'vila-0.0.2|layout-parser-0.0.2|pdfplumber-0.0.4/vila_span_groups/26', 'startChar': 8023, 'endChar': 8063, 'attributesFromSource': {'vila-0.0.2|layout-parser-0.0.2|pdfplumber-0.0.4': {'type': 'Section', '_group': 26}}}, {'id': 'vila-0.0.2|layout-parser-0.0.2|pdfplumber-0.0.4/vila_span_groups/27', 'startChar': 8064, 'endChar': 8487, 'attributesFromSource': {'vila-0.0.2|layout-parser-0.0.2|pdfplumber-0.0.4': {'type': 'Paragraph', '_group': 27}}}, {'id': 'vila-0.0.2|layout-parser-0.0.2|pdfplumber-0.0.4/vila_span_groups/28', 'startChar': 8488, 'endChar': 8534, 'attributesFromSource': {'vila-0.0.2|layout-parser-0.0.2|pdfplumber-0.0.4': {'type': 'Section', '_group': 28}}}, {'id': 'vila-0.0.2|layout-parser-0.0.2|pdfplumber-0.0.4/vila_span_groups/29', 'startChar': 8535, 'endChar': 8934, 'attributesFromSource': {'vila-0.0.2|layout-parser-0.0.2|pdfplumber-0.0.4': {'type': 'Paragraph', '_group': 29}}}, {'id': 'vila-0.0.2|layout-parser-0.0.2|pdfplumber-0.0.4/vila_span_groups/30', 'startChar': 8935, 'endChar': 9012, 'attributesFromSource': {'vila-0.0.2|layout-parser-0.0.2|pdfplumber-0.0.4': {'type': 'Header', '_group': 30}}}, {'id': 'vila-0.0.2|layout-parser-0.0.2|pdfplumber-0.0.4/vila_span_groups/31', 'startChar': 9013, 'endChar': 9051, 'attributesFromSource': {'vila-0.0.2|layout-parser-0.0.2|pdfplumber-0.0.4': {'type': 'Paragraph', '_group': 31}}}, {'id': 'vila-0.0.2|layout-parser-0.0.2|pdfplumber-0.0.4/vila_span_groups/32', 'startChar': 9052, 'endChar': 9060, 'attributesFromSource': {'vila-0.0.2|layout-parser-0.0.2|pdfplumber-0.0.4': {'type': 'Section', '_group': 32}}}, {'id': 'vila-0.0.2|layout-parser-0.0.2|pdfplumber-0.0.4/vila_span_groups/33', 'startChar': 9061, 'endChar': 9521, 'attributesFromSource': {'vila-0.0.2|layout-parser-0.0.2|pdfplumber-0.0.4': {'type': 'Paragraph', '_group': 33}}}, {'id': 'vila-0.0.2|layout-parser-0.0.2|pdfplumber-0.0.4/vila_span_groups/34', 'startChar': 9522, 'endChar': 9577, 'attributesFromSource': {'vila-0.0.2|layout-parser-0.0.2|pdfplumber-0.0.4': {'type': 'Section', '_group': 34}}}, {'id': 'vila-0.0.2|layout-parser-0.0.2|pdfplumber-0.0.4/vila_span_groups/35', 'startChar': 9578, 'endChar': 10053, 'attributesFromSource': {'vila-0.0.2|layout-parser-0.0.2|pdfplumber-0.0.4': {'type': 'Paragraph', '_group': 35}}}, {'id': 'vila-0.0.2|layout-parser-0.0.2|pdfplumber-0.0.4/vila_span_groups/36', 'startChar': 10054, 'endChar': 10105, 'attributesFromSource': {'vila-0.0.2|layout-parser-0.0.2|pdfplumber-0.0.4': {'type': 'Section', '_group': 36}}}, {'id': 'vila-0.0.2|layout-parser-0.0.2|pdfplumber-0.0.4/vila_span_groups/37', 'startChar': 10106, 'endChar': 10875, 'attributesFromSource': {'vila-0.0.2|layout-parser-0.0.2|pdfplumber-0.0.4': {'type': 'Paragraph', '_group': 37}}}, {'id': 'vila-0.0.2|layout-parser-0.0.2|pdfplumber-0.0.4/vila_span_groups/38', 'startChar': 10876, 'endChar': 10942, 'attributesFromSource': {'vila-0.0.2|layout-parser-0.0.2|pdfplumber-0.0.4': {'type': 'Section', '_group': 38}}}, {'id': 'vila-0.0.2|layout-parser-0.0.2|pdfplumber-0.0.4/vila_span_groups/39', 'startChar': 10943, 'endChar': 11241, 'attributesFromSource': {'vila-0.0.2|layout-parser-0.0.2|pdfplumber-0.0.4': {'type': 'Paragraph', '_group': 39}}}, {'id': 'vila-0.0.2|layout-parser-0.0.2|pdfplumber-0.0.4/vila_span_groups/40', 'startChar': 11242, 'endChar': 11297, 'attributesFromSource': {'vila-0.0.2|layout-parser-0.0.2|pdfplumber-0.0.4': {'type': 'Section', '_group': 40}}}, {'id': 'vila-0.0.2|layout-parser-0.0.2|pdfplumber-0.0.4/vila_span_groups/41', 'startChar': 11298, 'endChar': 11808, 'attributesFromSource': {'vila-0.0.2|layout-parser-0.0.2|pdfplumber-0.0.4': {'type': 'Paragraph', '_group': 41}}}, {'id': 'vila-0.0.2|layout-parser-0.0.2|pdfplumber-0.0.4/vila_span_groups/42', 'startChar': 11809, 'endChar': 11886, 'attributesFromSource': {'vila-0.0.2|layout-parser-0.0.2|pdfplumber-0.0.4': {'type': 'Header', '_group': 42}}}, {'id': 'vila-0.0.2|layout-parser-0.0.2|pdfplumber-0.0.4/vila_span_groups/43', 'startChar': 11887, 'endChar': 11888, 'attributesFromSource': {'vila-0.0.2|layout-parser-0.0.2|pdfplumber-0.0.4': {'type': 'Paragraph', '_group': 43}}}, {'id': 'vila-0.0.2|layout-parser-0.0.2|pdfplumber-0.0.4/vila_span_groups/44', 'startChar': 11889, 'endChar': 11911, 'attributesFromSource': {'vila-0.0.2|layout-parser-0.0.2|pdfplumber-0.0.4': {'type': 'Section', '_group': 44}}}, {'id': 'vila-0.0.2|layout-parser-0.0.2|pdfplumber-0.0.4/vila_span_groups/45', 'startChar': 11912, 'endChar': 12482, 'attributesFromSource': {'vila-0.0.2|layout-parser-0.0.2|pdfplumber-0.0.4': {'type': 'Paragraph', '_group': 45}}}, {'id': 'vila-0.0.2|layout-parser-0.0.2|pdfplumber-0.0.4/vila_span_groups/46', 'startChar': 12483, 'endChar': 12503, 'attributesFromSource': {'vila-0.0.2|layout-parser-0.0.2|pdfplumber-0.0.4': {'type': 'Section', '_group': 46}}}, {'id': 'vila-0.0.2|layout-parser-0.0.2|pdfplumber-0.0.4/vila_span_groups/47', 'startChar': 12504, 'endChar': 12838, 'attributesFromSource': {'vila-0.0.2|layout-parser-0.0.2|pdfplumber-0.0.4': {'type': 'Paragraph', '_group': 47}}}, {'id': 'vila-0.0.2|layout-parser-0.0.2|pdfplumber-0.0.4/vila_span_groups/48', 'startChar': 12839, 'endChar': 12900, 'attributesFromSource': {'vila-0.0.2|layout-parser-0.0.2|pdfplumber-0.0.4': {'type': 'Section', '_group': 48}}}, {'id': 'vila-0.0.2|layout-parser-0.0.2|pdfplumber-0.0.4/vila_span_groups/49', 'startChar': 12901, 'endChar': 13314, 'attributesFromSource': {'vila-0.0.2|layout-parser-0.0.2|pdfplumber-0.0.4': {'type': 'Paragraph', '_group': 49}}}, {'id': 'vila-0.0.2|layout-parser-0.0.2|pdfplumber-0.0.4/vila_span_groups/50', 'startChar': 13315, 'endChar': 13358, 'attributesFromSource': {'vila-0.0.2|layout-parser-0.0.2|pdfplumber-0.0.4': {'type': 'Section', '_group': 50}}}, {'id': 'vila-0.0.2|layout-parser-0.0.2|pdfplumber-0.0.4/vila_span_groups/51', 'startChar': 13359, 'endChar': 14753, 'attributesFromSource': {'vila-0.0.2|layout-parser-0.0.2|pdfplumber-0.0.4': {'type': 'Paragraph', '_group': 51}}}, {'id': 'vila-0.0.2|layout-parser-0.0.2|pdfplumber-0.0.4/vila_span_groups/52', 'startChar': 14754, 'endChar': 14831, 'attributesFromSource': {'vila-0.0.2|layout-parser-0.0.2|pdfplumber-0.0.4': {'type': 'Header', '_group': 52}}}, {'id': 'vila-0.0.2|layout-parser-0.0.2|pdfplumber-0.0.4/vila_span_groups/53', 'startChar': 14832, 'endChar': 17963, 'attributesFromSource': {'vila-0.0.2|layout-parser-0.0.2|pdfplumber-0.0.4': {'type': 'Paragraph', '_group': 53}}}, {'id': 'vila-0.0.2|layout-parser-0.0.2|pdfplumber-0.0.4/vila_span_groups/54', 'startChar': 17964, 'endChar': 18025, 'attributesFromSource': {'vila-0.0.2|layout-parser-0.0.2|pdfplumber-0.0.4': {'type': 'Section', '_group': 54}}}, {'id': 'vila-0.0.2|layout-parser-0.0.2|pdfplumber-0.0.4/vila_span_groups/55', 'startChar': 18026, 'endChar': 18108, 'attributesFromSource': {'vila-0.0.2|layout-parser-0.0.2|pdfplumber-0.0.4': {'type': 'Paragraph', '_group': 55}}}, {'id': 'vila-0.0.2|layout-parser-0.0.2|pdfplumber-0.0.4/vila_span_groups/56', 'startChar': 18109, 'endChar': 18186, 'attributesFromSource': {'vila-0.0.2|layout-parser-0.0.2|pdfplumber-0.0.4': {'type': 'Header', '_group': 56}}}, {'id': 'vila-0.0.2|layout-parser-0.0.2|pdfplumber-0.0.4/vila_span_groups/57', 'startChar': 18187, 'endChar': 19559, 'attributesFromSource': {'vila-0.0.2|layout-parser-0.0.2|pdfplumber-0.0.4': {'type': 'Paragraph', '_group': 57}}}, {'id': 'vila-0.0.2|layout-parser-0.0.2|pdfplumber-0.0.4/vila_span_groups/58', 'startChar': 19560, 'endChar': 19625, 'attributesFromSource': {'vila-0.0.2|layout-parser-0.0.2|pdfplumber-0.0.4': {'type': 'Section', '_group': 58}}}, {'id': 'vila-0.0.2|layout-parser-0.0.2|pdfplumber-0.0.4/vila_span_groups/59', 'startChar': 19626, 'endChar': 20293, 'attributesFromSource': {'vila-0.0.2|layout-parser-0.0.2|pdfplumber-0.0.4': {'type': 'Paragraph', '_group': 59}}}, {'id': 'vila-0.0.2|layout-parser-0.0.2|pdfplumber-0.0.4/vila_span_groups/60', 'startChar': 20294, 'endChar': 20399, 'attributesFromSource': {'vila-0.0.2|layout-parser-0.0.2|pdfplumber-0.0.4': {'type': 'Section', '_group': 60}}}, {'id': 'vila-0.0.2|layout-parser-0.0.2|pdfplumber-0.0.4/vila_span_groups/61', 'startChar': 20400, 'endChar': 21239, 'attributesFromSource': {'vila-0.0.2|layout-parser-0.0.2|pdfplumber-0.0.4': {'type': 'Paragraph', '_group': 61}}}, {'id': 'vila-0.0.2|layout-parser-0.0.2|pdfplumber-0.0.4/vila_span_groups/62', 'startChar': 21240, 'endChar': 21317, 'attributesFromSource': {'vila-0.0.2|layout-parser-0.0.2|pdfplumber-0.0.4': {'type': 'Header', '_group': 62}}}, {'id': 'vila-0.0.2|layout-parser-0.0.2|pdfplumber-0.0.4/vila_span_groups/63', 'startChar': 21318, 'endChar': 21858, 'attributesFromSource': {'vila-0.0.2|layout-parser-0.0.2|pdfplumber-0.0.4': {'type': 'Paragraph', '_group': 63}}}, {'id': 'vila-0.0.2|layout-parser-0.0.2|pdfplumber-0.0.4/vila_span_groups/64', 'startChar': 21859, 'endChar': 21876, 'attributesFromSource': {'vila-0.0.2|layout-parser-0.0.2|pdfplumber-0.0.4': {'type': 'Section', '_group': 64}}}, {'id': 'vila-0.0.2|layout-parser-0.0.2|pdfplumber-0.0.4/vila_span_groups/65', 'startChar': 21877, 'endChar': 23656, 'attributesFromSource': {'vila-0.0.2|layout-parser-0.0.2|pdfplumber-0.0.4': {'type': 'Paragraph', '_group': 65}}}, {'id': 'vila-0.0.2|layout-parser-0.0.2|pdfplumber-0.0.4/vila_span_groups/66', 'startChar': 23657, 'endChar': 23748, 'attributesFromSource': {'vila-0.0.2|layout-parser-0.0.2|pdfplumber-0.0.4': {'type': 'Section', '_group': 66}}}, {'id': 'vila-0.0.2|layout-parser-0.0.2|pdfplumber-0.0.4/vila_span_groups/67', 'startChar': 23749, 'endChar': 24259, 'attributesFromSource': {'vila-0.0.2|layout-parser-0.0.2|pdfplumber-0.0.4': {'type': 'Paragraph', '_group': 67}}}, {'id': 'vila-0.0.2|layout-parser-0.0.2|pdfplumber-0.0.4/vila_span_groups/68', 'startChar': 24260, 'endChar': 24337, 'attributesFromSource': {'vila-0.0.2|layout-parser-0.0.2|pdfplumber-0.0.4': {'type': 'Header', '_group': 68}}}, {'id': 'vila-0.0.2|layout-parser-0.0.2|pdfplumber-0.0.4/vila_span_groups/69', 'startChar': 24338, 'endChar': 24340, 'attributesFromSource': {'vila-0.0.2|layout-parser-0.0.2|pdfplumber-0.0.4': {'type': 'Paragraph', '_group': 69}}}, {'id': 'vila-0.0.2|layout-parser-0.0.2|pdfplumber-0.0.4/vila_span_groups/70', 'startChar': 24341, 'endChar': 24409, 'attributesFromSource': {'vila-0.0.2|layout-parser-0.0.2|pdfplumber-0.0.4': {'type': 'Title', '_group': 70}}}, {'id': 'vila-0.0.2|layout-parser-0.0.2|pdfplumber-0.0.4/vila_span_groups/71', 'startChar': 24410, 'endChar': 24449, 'attributesFromSource': {'vila-0.0.2|layout-parser-0.0.2|pdfplumber-0.0.4': {'type': 'Section', '_group': 71}}}, {'id': 'vila-0.0.2|layout-parser-0.0.2|pdfplumber-0.0.4/vila_span_groups/72', 'startChar': 24450, 'endChar': 25198, 'attributesFromSource': {'vila-0.0.2|layout-parser-0.0.2|pdfplumber-0.0.4': {'type': 'Paragraph', '_group': 72}}}, {'id': 'vila-0.0.2|layout-parser-0.0.2|pdfplumber-0.0.4/vila_span_groups/73', 'startChar': 25199, 'endChar': 25209, 'attributesFromSource': {'vila-0.0.2|layout-parser-0.0.2|pdfplumber-0.0.4': {'type': 'Section', '_group': 73}}}, {'id': 'vila-0.0.2|layout-parser-0.0.2|pdfplumber-0.0.4/vila_span_groups/74', 'startChar': 25210, 'endChar': 27452, 'attributesFromSource': {'vila-0.0.2|layout-parser-0.0.2|pdfplumber-0.0.4': {'type': 'Paragraph', '_group': 74}}}, {'id': 'vila-0.0.2|layout-parser-0.0.2|pdfplumber-0.0.4/vila_span_groups/75', 'startChar': 27453, 'endChar': 27530, 'attributesFromSource': {'vila-0.0.2|layout-parser-0.0.2|pdfplumber-0.0.4': {'type': 'Header', '_group': 75}}}, {'id': 'vila-0.0.2|layout-parser-0.0.2|pdfplumber-0.0.4/vila_span_groups/76', 'startChar': 27531, 'endChar': 30196, 'attributesFromSource': {'vila-0.0.2|layout-parser-0.0.2|pdfplumber-0.0.4': {'type': 'Paragraph', '_group': 76}}}, {'id': 'vila-0.0.2|layout-parser-0.0.2|pdfplumber-0.0.4/vila_span_groups/77', 'startChar': 30197, 'endChar': 30274, 'attributesFromSource': {'vila-0.0.2|layout-parser-0.0.2|pdfplumber-0.0.4': {'type': 'Header', '_group': 77}}}, {'id': 'vila-0.0.2|layout-parser-0.0.2|pdfplumber-0.0.4/vila_span_groups/78', 'startChar': 30275, 'endChar': 30277, 'attributesFromSource': {'vila-0.0.2|layout-parser-0.0.2|pdfplumber-0.0.4': {'type': 'Paragraph', '_group': 78}}}, {'id': 'vila-0.0.2|layout-parser-0.0.2|pdfplumber-0.0.4/vila_span_groups/79', 'startChar': 30278, 'endChar': 30294, 'attributesFromSource': {'vila-0.0.2|layout-parser-0.0.2|pdfplumber-0.0.4': {'type': 'Section', '_group': 79}}}, {'id': 'vila-0.0.2|layout-parser-0.0.2|pdfplumber-0.0.4/vila_span_groups/80', 'startChar': 30295, 'endChar': 30702, 'attributesFromSource': {'vila-0.0.2|layout-parser-0.0.2|pdfplumber-0.0.4': {'type': 'Paragraph', '_group': 80}}}, {'id': 'vila-0.0.2|layout-parser-0.0.2|pdfplumber-0.0.4/vila_span_groups/81', 'startChar': 30703, 'endChar': 30727, 'attributesFromSource': {'vila-0.0.2|layout-parser-0.0.2|pdfplumber-0.0.4': {'type': 'Section', '_group': 81}}}, {'id': 'vila-0.0.2|layout-parser-0.0.2|pdfplumber-0.0.4/vila_span_groups/82', 'startChar': 30728, 'endChar': 31342, 'attributesFromSource': {'vila-0.0.2|layout-parser-0.0.2|pdfplumber-0.0.4': {'type': 'Paragraph', '_group': 82}}}, {'id': 'vila-0.0.2|layout-parser-0.0.2|pdfplumber-0.0.4/vila_span_groups/83', 'startChar': 31343, 'endChar': 31378, 'attributesFromSource': {'vila-0.0.2|layout-parser-0.0.2|pdfplumber-0.0.4': {'type': 'Section', '_group': 83}}}, {'id': 'vila-0.0.2|layout-parser-0.0.2|pdfplumber-0.0.4/vila_span_groups/84', 'startChar': 31379, 'endChar': 31432, 'attributesFromSource': {'vila-0.0.2|layout-parser-0.0.2|pdfplumber-0.0.4': {'type': 'Paragraph', '_group': 84}}}, {'id': 'vila-0.0.2|layout-parser-0.0.2|pdfplumber-0.0.4/vila_span_groups/85', 'startChar': 31433, 'endChar': 31510, 'attributesFromSource': {'vila-0.0.2|layout-parser-0.0.2|pdfplumber-0.0.4': {'type': 'Header', '_group': 85}}}, {'id': 'vila-0.0.2|layout-parser-0.0.2|pdfplumber-0.0.4/vila_span_groups/86', 'startChar': 31511, 'endChar': 31513, 'attributesFromSource': {'vila-0.0.2|layout-parser-0.0.2|pdfplumber-0.0.4': {'type': 'Paragraph', '_group': 86}}}, {'id': 'vila-0.0.2|layout-parser-0.0.2|pdfplumber-0.0.4/vila_span_groups/87', 'startChar': 31514, 'endChar': 31525, 'attributesFromSource': {'vila-0.0.2|layout-parser-0.0.2|pdfplumber-0.0.4': {'type': 'Section', '_group': 87}}}, {'id': 'vila-0.0.2|layout-parser-0.0.2|pdfplumber-0.0.4/vila_span_groups/88', 'startChar': 31526, 'endChar': 34218, 'attributesFromSource': {'vila-0.0.2|layout-parser-0.0.2|pdfplumber-0.0.4': {'type': 'Bibliography', '_group': 88}}}, {'id': 'vila-0.0.2|layout-parser-0.0.2|pdfplumber-0.0.4/vila_span_groups/89', 'startChar': 34219, 'endChar': 34296, 'attributesFromSource': {'vila-0.0.2|layout-parser-0.0.2|pdfplumber-0.0.4': {'type': 'Header', '_group': 89}}}, {'id': 'vila-0.0.2|layout-parser-0.0.2|pdfplumber-0.0.4/vila_span_groups/90', 'startChar': 34297, 'endChar': 34299, 'attributesFromSource': {'vila-0.0.2|layout-parser-0.0.2|pdfplumber-0.0.4': {'type': 'Paragraph', '_group': 90}}}, {'id': 'vila-0.0.2|layout-parser-0.0.2|pdfplumber-0.0.4/vila_span_groups/91', 'startChar': 34300, 'endChar': 37247, 'attributesFromSource': {'vila-0.0.2|layout-parser-0.0.2|pdfplumber-0.0.4': {'type': 'Bibliography', '_group': 91}}}, {'id': 'vila-0.0.2|layout-parser-0.0.2|pdfplumber-0.0.4/vila_span_groups/92', 'startChar': 37248, 'endChar': 37325, 'attributesFromSource': {'vila-0.0.2|layout-parser-0.0.2|pdfplumber-0.0.4': {'type': 'Header', '_group': 92}}}, {'id': 'vila-0.0.2|layout-parser-0.0.2|pdfplumber-0.0.4/vila_span_groups/93', 'startChar': 37326, 'endChar': 37328, 'attributesFromSource': {'vila-0.0.2|layout-parser-0.0.2|pdfplumber-0.0.4': {'type': 'Paragraph', '_group': 93}}}, {'id': 'vila-0.0.2|layout-parser-0.0.2|pdfplumber-0.0.4/vila_span_groups/94', 'startChar': 37329, 'endChar': 40173, 'attributesFromSource': {'vila-0.0.2|layout-parser-0.0.2|pdfplumber-0.0.4': {'type': 'Bibliography', '_group': 94}}}, {'id': 'vila-0.0.2|layout-parser-0.0.2|pdfplumber-0.0.4/vila_span_groups/95', 'startChar': 40174, 'endChar': 40251, 'attributesFromSource': {'vila-0.0.2|layout-parser-0.0.2|pdfplumber-0.0.4': {'type': 'Header', '_group': 95}}}, {'id': 'vila-0.0.2|layout-parser-0.0.2|pdfplumber-0.0.4/vila_span_groups/96', 'startChar': 40252, 'endChar': 40254, 'attributesFromSource': {'vila-0.0.2|layout-parser-0.0.2|pdfplumber-0.0.4': {'type': 'Paragraph', '_group': 96}}}, {'id': 'vila-0.0.2|layout-parser-0.0.2|pdfplumber-0.0.4/vila_span_groups/97', 'startChar': 40255, 'endChar': 40980, 'attributesFromSource': {'vila-0.0.2|layout-parser-0.0.2|pdfplumber-0.0.4': {'type': 'Caption', '_group': 97}}}, {'id': 'vila-0.0.2|layout-parser-0.0.2|pdfplumber-0.0.4/vila_span_groups/98', 'startChar': 40981, 'endChar': 41002, 'attributesFromSource': {'vila-0.0.2|layout-parser-0.0.2|pdfplumber-0.0.4': {'type': 'Figure', '_group': 98}}}, {'id': 'vila-0.0.2|layout-parser-0.0.2|pdfplumber-0.0.4/vila_span_groups/99', 'startChar': 41003, 'endChar': 41673, 'attributesFromSource': {'vila-0.0.2|layout-parser-0.0.2|pdfplumber-0.0.4': {'type': 'Caption', '_group': 99}}}, {'id': 'vila-0.0.2|layout-parser-0.0.2|pdfplumber-0.0.4/vila_span_groups/100', 'startChar': 41674, 'endChar': 41843, 'attributesFromSource': {'vila-0.0.2|layout-parser-0.0.2|pdfplumber-0.0.4': {'type': 'Paragraph', '_group': 100}}}, {'id': 'vila-0.0.2|layout-parser-0.0.2|pdfplumber-0.0.4/vila_span_groups/101', 'startChar': 41844, 'endChar': 42356, 'attributesFromSource': {'vila-0.0.2|layout-parser-0.0.2|pdfplumber-0.0.4': {'type': 'Caption', '_group': 101}}}, {'id': 'vila-0.0.2|layout-parser-0.0.2|pdfplumber-0.0.4/vila_span_groups/102', 'startChar': 42357, 'endChar': 42386, 'attributesFromSource': {'vila-0.0.2|layout-parser-0.0.2|pdfplumber-0.0.4': {'type': 'Paragraph', '_group': 102}}}, {'id': 'vila-0.0.2|layout-parser-0.0.2|pdfplumber-0.0.4/vila_span_groups/103', 'startChar': 42387, 'endChar': 42488, 'attributesFromSource': {'vila-0.0.2|layout-parser-0.0.2|pdfplumber-0.0.4': {'type': 'Caption', '_group': 103}}}, {'id': 'vila-0.0.2|layout-parser-0.0.2|pdfplumber-0.0.4/vila_span_groups/104', 'startChar': 42489, 'endChar': 42588, 'attributesFromSource': {'vila-0.0.2|layout-parser-0.0.2|pdfplumber-0.0.4': {'type': 'Paragraph', '_group': 104}}}, {'id': 'vila-0.0.2|layout-parser-0.0.2|pdfplumber-0.0.4/vila_span_groups/105', 'startChar': 42589, 'endChar': 42594, 'attributesFromSource': {'vila-0.0.2|layout-parser-0.0.2|pdfplumber-0.0.4': {'type': 'Caption', '_group': 105}}}, {'id': 'vila-0.0.2|layout-parser-0.0.2|pdfplumber-0.0.4/vila_span_groups/106', 'startChar': 42595, 'endChar': 43151, 'attributesFromSource': {'vila-0.0.2|layout-parser-0.0.2|pdfplumber-0.0.4': {'type': 'Paragraph', '_group': 106}}}, {'id': 'vila-0.0.2|layout-parser-0.0.2|pdfplumber-0.0.4/vila_span_groups/107', 'startChar': 43152, 'endChar': 43175, 'attributesFromSource': {'vila-0.0.2|layout-parser-0.0.2|pdfplumber-0.0.4': {'type': 'Caption', '_group': 107}}}, {'id': 'vila-0.0.2|layout-parser-0.0.2|pdfplumber-0.0.4/vila_span_groups/108', 'startChar': 43176, 'endChar': 43179, 'attributesFromSource': {'vila-0.0.2|layout-parser-0.0.2|pdfplumber-0.0.4': {'type': 'Paragraph', '_group': 108}}}, {'id': 'vila-0.0.2|layout-parser-0.0.2|pdfplumber-0.0.4/vila_span_groups/109', 'startChar': 43180, 'endChar': 43199, 'attributesFromSource': {'vila-0.0.2|layout-parser-0.0.2|pdfplumber-0.0.4': {'type': 'Caption', '_group': 109}}}, {'id': 'vila-0.0.2|layout-parser-0.0.2|pdfplumber-0.0.4/vila_span_groups/110', 'startChar': 43200, 'endChar': 43207, 'attributesFromSource': {'vila-0.0.2|layout-parser-0.0.2|pdfplumber-0.0.4': {'type': 'Paragraph', '_group': 110}}}, {'id': 'vila-0.0.2|layout-parser-0.0.2|pdfplumber-0.0.4/vila_span_groups/111', 'startChar': 43208, 'endChar': 43211, 'attributesFromSource': {'vila-0.0.2|layout-parser-0.0.2|pdfplumber-0.0.4': {'type': 'Caption', '_group': 111}}}, {'id': 'vila-0.0.2|layout-parser-0.0.2|pdfplumber-0.0.4/vila_span_groups/112', 'startChar': 43212, 'endChar': 43217, 'attributesFromSource': {'vila-0.0.2|layout-parser-0.0.2|pdfplumber-0.0.4': {'type': 'Paragraph', '_group': 112}}}, {'id': 'vila-0.0.2|layout-parser-0.0.2|pdfplumber-0.0.4/vila_span_groups/113', 'startChar': 43218, 'endChar': 43232, 'attributesFromSource': {'vila-0.0.2|layout-parser-0.0.2|pdfplumber-0.0.4': {'type': 'Caption', '_group': 113}}}, {'id': 'vila-0.0.2|layout-parser-0.0.2|pdfplumber-0.0.4/vila_span_groups/114', 'startChar': 43233, 'endChar': 43238, 'attributesFromSource': {'vila-0.0.2|layout-parser-0.0.2|pdfplumber-0.0.4': {'type': 'Paragraph', '_group': 114}}}, {'id': 'vila-0.0.2|layout-parser-0.0.2|pdfplumber-0.0.4/vila_span_groups/115', 'startChar': 43239, 'endChar': 43246, 'attributesFromSource': {'vila-0.0.2|layout-parser-0.0.2|pdfplumber-0.0.4': {'type': 'Caption', '_group': 115}}}, {'id': 'vila-0.0.2|layout-parser-0.0.2|pdfplumber-0.0.4/vila_span_groups/116', 'startChar': 43247, 'endChar': 43257, 'attributesFromSource': {'vila-0.0.2|layout-parser-0.0.2|pdfplumber-0.0.4': {'type': 'Paragraph', '_group': 116}}}, {'id': 'vila-0.0.2|layout-parser-0.0.2|pdfplumber-0.0.4/vila_span_groups/117', 'startChar': 43258, 'endChar': 43326, 'attributesFromSource': {'vila-0.0.2|layout-parser-0.0.2|pdfplumber-0.0.4': {'type': 'Caption', '_group': 117}}}, {'id': 'vila-0.0.2|layout-parser-0.0.2|pdfplumber-0.0.4/vila_span_groups/118', 'startChar': 43327, 'endChar': 43336, 'attributesFromSource': {'vila-0.0.2|layout-parser-0.0.2|pdfplumber-0.0.4': {'type': 'Paragraph', '_group': 118}}}, {'id': 'vila-0.0.2|layout-parser-0.0.2|pdfplumber-0.0.4/vila_span_groups/119', 'startChar': 43337, 'endChar': 43494, 'attributesFromSource': {'vila-0.0.2|layout-parser-0.0.2|pdfplumber-0.0.4': {'type': 'Caption', '_group': 119}}}, {'id': 'vila-0.0.2|layout-parser-0.0.2|pdfplumber-0.0.4/vila_span_groups/120', 'startChar': 43495, 'endChar': 43572, 'attributesFromSource': {'vila-0.0.2|layout-parser-0.0.2|pdfplumber-0.0.4': {'type': 'Header', '_group': 120}}}, {'id': 'vila-0.0.2|layout-parser-0.0.2|pdfplumber-0.0.4/vila_span_groups/121', 'startChar': 43573, 'endChar': 43575, 'attributesFromSource': {'vila-0.0.2|layout-parser-0.0.2|pdfplumber-0.0.4': {'type': 'Paragraph', '_group': 121}}}, {'id': 'vila-0.0.2|layout-parser-0.0.2|pdfplumber-0.0.4/vila_span_groups/122', 'startChar': 43576, 'endChar': 43880, 'attributesFromSource': {'vila-0.0.2|layout-parser-0.0.2|pdfplumber-0.0.4': {'type': 'Caption', '_group': 122}}}, {'id': 'vila-0.0.2|layout-parser-0.0.2|pdfplumber-0.0.4/vila_span_groups/123', 'startChar': 43881, 'endChar': 43898, 'attributesFromSource': {'vila-0.0.2|layout-parser-0.0.2|pdfplumber-0.0.4': {'type': 'Figure', '_group': 123}}}, {'id': 'vila-0.0.2|layout-parser-0.0.2|pdfplumber-0.0.4/vila_span_groups/124', 'startChar': 43899, 'endChar': 44969, 'attributesFromSource': {'vila-0.0.2|layout-parser-0.0.2|pdfplumber-0.0.4': {'type': 'Caption', '_group': 124}}}, {'id': 'vila-0.0.2|layout-parser-0.0.2|pdfplumber-0.0.4/vila_span_groups/125', 'startChar': 44970, 'endChar': 45105, 'attributesFromSource': {'vila-0.0.2|layout-parser-0.0.2|pdfplumber-0.0.4': {'type': 'Paragraph', '_group': 125}}}, {'id': 'vila-0.0.2|layout-parser-0.0.2|pdfplumber-0.0.4/vila_span_groups/126', 'startChar': 45106, 'endChar': 46551, 'attributesFromSource': {'vila-0.0.2|layout-parser-0.0.2|pdfplumber-0.0.4': {'type': 'Caption', '_group': 126}}}, {'id': 'vila-0.0.2|layout-parser-0.0.2|pdfplumber-0.0.4/vila_span_groups/127', 'startChar': 46552, 'endChar': 46695, 'attributesFromSource': {'vila-0.0.2|layout-parser-0.0.2|pdfplumber-0.0.4': {'type': 'Abstract', '_group': 127}}}, {'id': 'vila-0.0.2|layout-parser-0.0.2|pdfplumber-0.0.4/vila_span_groups/128', 'startChar': 46696, 'endChar': 46773, 'attributesFromSource': {'vila-0.0.2|layout-parser-0.0.2|pdfplumber-0.0.4': {'type': 'Header', '_group': 128}}}, {'id': 'vila-0.0.2|layout-parser-0.0.2|pdfplumber-0.0.4/vila_span_groups/129', 'startChar': 46774, 'endChar': 47197, 'attributesFromSource': {'vila-0.0.2|layout-parser-0.0.2|pdfplumber-0.0.4': {'type': 'Paragraph', '_group': 129}}}, {'id': 'vila-0.0.2|layout-parser-0.0.2|pdfplumber-0.0.4/vila_span_groups/130', 'startChar': 47198, 'endChar': 47205, 'attributesFromSource': {'vila-0.0.2|layout-parser-0.0.2|pdfplumber-0.0.4': {'type': 'Caption', '_group': 130}}}, {'id': 'vila-0.0.2|layout-parser-0.0.2|pdfplumber-0.0.4/vila_span_groups/131', 'startChar': 47206, 'endChar': 47224, 'attributesFromSource': {'vila-0.0.2|layout-parser-0.0.2|pdfplumber-0.0.4': {'type': 'Paragraph', '_group': 131}}}, {'id': 'vila-0.0.2|layout-parser-0.0.2|pdfplumber-0.0.4/vila_span_groups/132', 'startChar': 47225, 'endChar': 47326, 'attributesFromSource': {'vila-0.0.2|layout-parser-0.0.2|pdfplumber-0.0.4': {'type': 'Caption', '_group': 132}}}, {'id': 'vila-0.0.2|layout-parser-0.0.2|pdfplumber-0.0.4/vila_span_groups/133', 'startChar': 47327, 'endChar': 47331, 'attributesFromSource': {'vila-0.0.2|layout-parser-0.0.2|pdfplumber-0.0.4': {'type': 'Paragraph', '_group': 133}}}, {'id': 'vila-0.0.2|layout-parser-0.0.2|pdfplumber-0.0.4/vila_span_groups/134', 'startChar': 47332, 'endChar': 47344, 'attributesFromSource': {'vila-0.0.2|layout-parser-0.0.2|pdfplumber-0.0.4': {'type': 'Caption', '_group': 134}}}, {'id': 'vila-0.0.2|layout-parser-0.0.2|pdfplumber-0.0.4/vila_span_groups/135', 'startChar': 47345, 'endChar': 47352, 'attributesFromSource': {'vila-0.0.2|layout-parser-0.0.2|pdfplumber-0.0.4': {'type': 'Paragraph', '_group': 135}}}, {'id': 'vila-0.0.2|layout-parser-0.0.2|pdfplumber-0.0.4/vila_span_groups/136', 'startChar': 47353, 'endChar': 47357, 'attributesFromSource': {'vila-0.0.2|layout-parser-0.0.2|pdfplumber-0.0.4': {'type': 'Caption', '_group': 136}}}, {'id': 'vila-0.0.2|layout-parser-0.0.2|pdfplumber-0.0.4/vila_span_groups/137', 'startChar': 47358, 'endChar': 47450, 'attributesFromSource': {'vila-0.0.2|layout-parser-0.0.2|pdfplumber-0.0.4': {'type': 'Paragraph', '_group': 137}}}, {'id': 'vila-0.0.2|layout-parser-0.0.2|pdfplumber-0.0.4/vila_span_groups/138', 'startChar': 47451, 'endChar': 47475, 'attributesFromSource': {'vila-0.0.2|layout-parser-0.0.2|pdfplumber-0.0.4': {'type': 'Caption', '_group': 138}}}, {'id': 'vila-0.0.2|layout-parser-0.0.2|pdfplumber-0.0.4/vila_span_groups/139', 'startChar': 47476, 'endChar': 47482, 'attributesFromSource': {'vila-0.0.2|layout-parser-0.0.2|pdfplumber-0.0.4': {'type': 'Paragraph', '_group': 139}}}, {'id': 'vila-0.0.2|layout-parser-0.0.2|pdfplumber-0.0.4/vila_span_groups/140', 'startChar': 47483, 'endChar': 47489, 'attributesFromSource': {'vila-0.0.2|layout-parser-0.0.2|pdfplumber-0.0.4': {'type': 'Caption', '_group': 140}}}, {'id': 'vila-0.0.2|layout-parser-0.0.2|pdfplumber-0.0.4/vila_span_groups/141', 'startChar': 47490, 'endChar': 47492, 'attributesFromSource': {'vila-0.0.2|layout-parser-0.0.2|pdfplumber-0.0.4': {'type': 'Paragraph', '_group': 141}}}, {'id': 'vila-0.0.2|layout-parser-0.0.2|pdfplumber-0.0.4/vila_span_groups/142', 'startChar': 47493, 'endChar': 47497, 'attributesFromSource': {'vila-0.0.2|layout-parser-0.0.2|pdfplumber-0.0.4': {'type': 'Caption', '_group': 142}}}, {'id': 'vila-0.0.2|layout-parser-0.0.2|pdfplumber-0.0.4/vila_span_groups/143', 'startChar': 47498, 'endChar': 47519, 'attributesFromSource': {'vila-0.0.2|layout-parser-0.0.2|pdfplumber-0.0.4': {'type': 'Paragraph', '_group': 143}}}, {'id': 'vila-0.0.2|layout-parser-0.0.2|pdfplumber-0.0.4/vila_span_groups/144', 'startChar': 47520, 'endChar': 48145, 'attributesFromSource': {'vila-0.0.2|layout-parser-0.0.2|pdfplumber-0.0.4': {'type': 'Caption', '_group': 144}}}, {'id': 'vila-0.0.2|layout-parser-0.0.2|pdfplumber-0.0.4/vila_span_groups/145', 'startChar': 48146, 'endChar': 48179, 'attributesFromSource': {'vila-0.0.2|layout-parser-0.0.2|pdfplumber-0.0.4': {'type': 'Paragraph', '_group': 145}}}, {'id': 'vila-0.0.2|layout-parser-0.0.2|pdfplumber-0.0.4/vila_span_groups/146', 'startChar': 48180, 'endChar': 49481, 'attributesFromSource': {'vila-0.0.2|layout-parser-0.0.2|pdfplumber-0.0.4': {'type': 'Caption', '_group': 146}}}, {'id': 'vila-0.0.2|layout-parser-0.0.2|pdfplumber-0.0.4/vila_span_groups/147', 'startChar': 49482, 'endChar': 49821, 'attributesFromSource': {'vila-0.0.2|layout-parser-0.0.2|pdfplumber-0.0.4': {'type': 'Abstract', '_group': 147}}}, {'id': 'vila-0.0.2|layout-parser-0.0.2|pdfplumber-0.0.4/vila_span_groups/148', 'startChar': 49822, 'endChar': 49899, 'attributesFromSource': {'vila-0.0.2|layout-parser-0.0.2|pdfplumber-0.0.4': {'type': 'Header', '_group': 148}}}, {'id': 'vila-0.0.2|layout-parser-0.0.2|pdfplumber-0.0.4/vila_span_groups/149', 'startChar': 49900, 'endChar': 49902, 'attributesFromSource': {'vila-0.0.2|layout-parser-0.0.2|pdfplumber-0.0.4': {'type': 'Paragraph', '_group': 149}}}, {'id': 'vila-0.0.2|layout-parser-0.0.2|pdfplumber-0.0.4/vila_span_groups/150', 'startChar': 49903, 'endChar': 50221, 'attributesFromSource': {'vila-0.0.2|layout-parser-0.0.2|pdfplumber-0.0.4': {'type': 'Caption', '_group': 150}}}, {'id': 'vila-0.0.2|layout-parser-0.0.2|pdfplumber-0.0.4/vila_span_groups/151', 'startChar': 50222, 'endChar': 50230, 'attributesFromSource': {'vila-0.0.2|layout-parser-0.0.2|pdfplumber-0.0.4': {'type': 'Table', '_group': 151}}}, {'id': 'vila-0.0.2|layout-parser-0.0.2|pdfplumber-0.0.4/vila_span_groups/152', 'startChar': 50231, 'endChar': 50308, 'attributesFromSource': {'vila-0.0.2|layout-parser-0.0.2|pdfplumber-0.0.4': {'type': 'Header', '_group': 152}}}, {'id': 'vila-0.0.2|layout-parser-0.0.2|pdfplumber-0.0.4/vila_span_groups/153', 'startChar': 50309, 'endChar': 50386, 'attributesFromSource': {'vila-0.0.2|layout-parser-0.0.2|pdfplumber-0.0.4': {'type': 'Footer', '_group': 153}}}, {'id': 'vila-0.0.2|layout-parser-0.0.2|pdfplumber-0.0.4/vila_span_groups/154', 'startChar': 50387, 'endChar': 50464, 'attributesFromSource': {'vila-0.0.2|layout-parser-0.0.2|pdfplumber-0.0.4': {'type': 'Footer', '_group': 154}}}, {'id': 'vila-0.0.2|layout-parser-0.0.2|pdfplumber-0.0.4/vila_span_groups/155', 'startChar': 50465, 'endChar': 50542, 'attributesFromSource': {'vila-0.0.2|layout-parser-0.0.2|pdfplumber-0.0.4': {'type': 'Footer', '_group': 155}}}, {'id': 'vila-0.0.2|layout-parser-0.0.2|pdfplumber-0.0.4/vila_span_groups/156', 'startChar': 50543, 'endChar': 50620, 'attributesFromSource': {'vila-0.0.2|layout-parser-0.0.2|pdfplumber-0.0.4': {'type': 'Footer', '_group': 156}}}, {'id': 'vila-0.0.2|layout-parser-0.0.2|pdfplumber-0.0.4/vila_span_groups/157', 'startChar': 50621, 'endChar': 50698, 'attributesFromSource': {'vila-0.0.2|layout-parser-0.0.2|pdfplumber-0.0.4': {'type': 'Footer', '_group': 157}}}, {'id': 'vila-0.0.2|layout-parser-0.0.2|pdfplumber-0.0.4/vila_span_groups/158', 'startChar': 50699, 'endChar': 50776, 'attributesFromSource': {'vila-0.0.2|layout-parser-0.0.2|pdfplumber-0.0.4': {'type': 'Footer', '_group': 158}}}, {'id': 'vila-0.0.2|layout-parser-0.0.2|pdfplumber-0.0.4/vila_span_groups/159', 'startChar': 50777, 'endChar': 50854, 'attributesFromSource': {'vila-0.0.2|layout-parser-0.0.2|pdfplumber-0.0.4': {'type': 'Footer', '_group': 159}}}, {'id': 'vila-0.0.2|layout-parser-0.0.2|pdfplumber-0.0.4/vila_span_groups/160', 'startChar': 50855, 'endChar': 50932, 'attributesFromSource': {'vila-0.0.2|layout-parser-0.0.2|pdfplumber-0.0.4': {'type': 'Footer', '_group': 160}}}, {'id': 'vila-0.0.2|layout-parser-0.0.2|pdfplumber-0.0.4/vila_span_groups/161', 'startChar': 50933, 'endChar': 50999, 'attributesFromSource': {'vila-0.0.2|layout-parser-0.0.2|pdfplumber-0.0.4': {'type': 'Paragraph', '_group': 161}}}, {'id': 'vila-0.0.2|layout-parser-0.0.2|pdfplumber-0.0.4/vila_span_groups/162', 'startChar': 51000, 'endChar': 51178, 'attributesFromSource': {'vila-0.0.2|layout-parser-0.0.2|pdfplumber-0.0.4': {'type': 'Author', '_group': 162}}}, {'id': 'vila-0.0.2|layout-parser-0.0.2|pdfplumber-0.0.4/vila_span_groups/163', 'startChar': 51179, 'endChar': 51302, 'attributesFromSource': {'vila-0.0.2|layout-parser-0.0.2|pdfplumber-0.0.4': {'type': 'Title', '_group': 163}}}, {'id': 'vila-0.0.2|layout-parser-0.0.2|pdfplumber-0.0.4/vila_span_groups/164', 'startChar': 51303, 'endChar': 52400, 'attributesFromSource': {'vila-0.0.2|layout-parser-0.0.2|pdfplumber-0.0.4': {'type': 'Paragraph', '_group': 164}}}, {'id': 'vila-0.0.2|layout-parser-0.0.2|pdfplumber-0.0.4/vila_span_groups/165', 'startChar': 52401, 'endChar': 52478, 'attributesFromSource': {'vila-0.0.2|layout-parser-0.0.2|pdfplumber-0.0.4': {'type': 'Header', '_group': 165}}}]\n"
     ]
    },
    {
     "name": "stdout",
     "output_type": "stream",
     "text": [
      "SpanGroup(uuid='546cb098-a86d-48d8-9e6c-409251dea562', doc=<mmda.types.document.Document object at 0x7fea2e1ced90>, metadata=Metadata({'id': None, 'type': 'Title', 'text': None}), spans=[Span(start=0, end=125, box=None)], box_group=None, id=None, type='Title', text='1\\nFunctions of FMS-like tyrosine kinase 3 (flt3) in zebrafish hematopoiesis and its\\nrelevance to human acute myeloid leukemia')\n"
     ]
    }
   ],
   "source": [
    "#PDF PLUMBER: 1\n",
    "#request annots where source = plumber_source\n",
    "resp1 = requests.get(f'http://annotations-api.prod.s2.allenai.org/pdf/{sha}/annotations?annotationSources=none&attributeSources={plumber_source}').json()\n",
    "\n",
    "#get text_url which is needed to get text (which is needed to make initial annotation doc per paper)\n",
    "text_url = resp1['attributesFromSource'][plumber_source]['text']\n",
    "print(\"text_url:\", text_url)\n",
    "\n",
    "#returns id and s3 url, use this to get text id\n",
    "resp2 = requests.post(\n",
    "    'http://annotations-api.prod.s2.allenai.org/plain-text/',\n",
    "    json={'s3Url': text_url}\n",
    ").json()\n",
    "text_id = resp2['id']\n",
    "print(\"\\ntext_id:\",text_id)\n",
    "\n",
    "#gets document id which is the same throughout all types of annotations; will resuse for future cells\n",
    "#be careful of plain-text vs. pdf endpoint\n",
    "resp3 = requests.get(f'http://annotations-api.prod.s2.allenai.org/plain-text/{text_id}/annotations'\n",
    "                     f'?annotationSources=vila-0.0.2|layout-parser-0.0.2|{plumber_source}'\n",
    "                     '&attributeSources=none').json()\n",
    "\n",
    "\n",
    "#getting annotations from plumber_source\n",
    "vila_annos = resp3['annotationsFromSource'][f'vila-0.0.2|layout-parser-0.0.2|{plumber_source}']['vila_span_groups']\n",
    "#print(resp3['annotationsFromSource'][f'vila-0.0.2|layout-parser-0.0.2|{plumber_source}']['vila_span_groups'])\n",
    "\n",
    "#need this to create span group\n",
    "text = get_text(text_url)\n",
    "vila_spangroups = []\n",
    "for anno in vila_annos:\n",
    "    vila_spangroups.append(\n",
    "        SpanGroup(\n",
    "            spans=[Span(start=anno['startChar'], end=anno['endChar'])],\n",
    "            type=anno['attributesFromSource'][f'vila-0.0.2|layout-parser-0.0.2|{plumber_source}']['type']\n",
    "        )\n",
    "    )\n",
    "\n",
    "#create initial document\n",
    "doc = Document(text)\n",
    "\n",
    "#annotate annotatiosn onto doc\n",
    "doc.annotate(vila=vila_spangroups)\n",
    "\n",
    "#spot check\n",
    "print(vila_spangroups[0])"
   ]
  },
  {
   "cell_type": "code",
   "execution_count": 118,
   "id": "e336a0de",
   "metadata": {},
   "outputs": [
    {
     "name": "stdout",
     "output_type": "stream",
     "text": [
      "SpanGroup(uuid='47fc103c-c18c-46d0-9952-f9ffd1b96007', doc=<mmda.types.document.Document object at 0x7fea4d5d2e20>, metadata=Metadata({'id': None, 'type': 'Title', 'text': None}), spans=[Span(start=0, end=125, box=None)], box_group=None, id=None, type='Title', text='1\\nFunctions of FMS-like tyrosine kinase 3 (flt3) in zebrafish hematopoiesis and its\\nrelevance to human acute myeloid leukemia')\n"
     ]
    }
   ],
   "source": [
    "#PDF PLUMBER: 2\n",
    "def make_span_groups(text_spans, pdf_boxes):\n",
    "    \n",
    "    instance_tokens = []\n",
    "    for i, text_span in enumerate(text_spans):\n",
    "        box_info = pdf_boxes[i]\n",
    "        associated_box = Box(\n",
    "            l=box_info['x'], \n",
    "            t=box_info['y'], \n",
    "            w=box_info['width'], \n",
    "            h=box_info['height'], \n",
    "            page=box_info['page']\n",
    "        )\n",
    "\n",
    "        instance_tokens.append(\n",
    "            SpanGroup(\n",
    "                spans=[Span(start=text_span['startChar'], end=text_span['endChar'], box=associated_box)],\n",
    "                id=text_span['attributesFromSource']['pdfplumber-0.0.4']['id']\n",
    "\n",
    "            )\n",
    "        )\n",
    "    return instance_tokens\n",
    "    \n",
    "\n",
    "symbols = text\n",
    "pdf_plumber_text_annos_resp = requests.get(f'http://annotations-api.prod.s2.allenai.org/plain-text/{text_id}/annotations'\n",
    "                     '?annotationSources=pdfplumber-0.0.4'\n",
    "                     '&attributeSources=none').json()\n",
    "pdf_plumber_pdf_annos_resp = requests.get(f'http://annotations-api.prod.s2.allenai.org/pdf/{sha}/annotations'\n",
    "                     '?annotationSources=pdfplumber-0.0.4'\n",
    "                     '&attributeSources=none').json()\n",
    "\n",
    "token_spans = pdf_plumber_text_annos_resp['annotationsFromSource']['pdfplumber-0.0.4']['tokens']\n",
    "token_boxes = pdf_plumber_pdf_annos_resp['annotationsFromSource']['pdfplumber-0.0.4']['tokens']\n",
    "\n",
    "\n",
    "instance_tokens = make_span_groups(token_spans, token_boxes)\n",
    "\n",
    "# rows/pages specific to PDF Plumber annotations\n",
    "rows = pdf_plumber_text_annos_resp['annotationsFromSource']['pdfplumber-0.0.4']['rows']\n",
    "pages = pdf_plumber_text_annos_resp['annotationsFromSource']['pdfplumber-0.0.4']['pages']\n",
    "vila_span_groups = vila_spangroups\n",
    "print(vila_span_groups[0])"
   ]
  },
  {
   "cell_type": "markdown",
   "id": "8161b550",
   "metadata": {},
   "source": [
    "#### Part 2: Mentions\n",
    "Get mentions annotations from annotation store"
   ]
  },
  {
   "cell_type": "code",
   "execution_count": 150,
   "id": "8f6d0feb",
   "metadata": {},
   "outputs": [
    {
     "name": "stdout",
     "output_type": "stream",
     "text": [
      "SpanGroup(uuid='753f900f-8618-43d0-a3d8-4b37cce627c6', doc=<mmda.types.document.Document object at 0x7fea2f81ff70>, metadata=Metadata({'id': None, 'type': 0, 'text': None}), spans=[Span(start=4376, end=4381, box=None)], box_group=None, id=None, type=0, text='12,13')\n"
     ]
    }
   ],
   "source": [
    "#retrieve mentions boxes and spans (box = pdf) (spans = plain-text)\n",
    "    #Example:\n",
    "    #mention_bib_link_source = citation-links-test-1\n",
    "    #mention_det_source = mentions-test-3\n",
    "\n",
    "#annotation sources = variables found above\n",
    "#attribute sources = all\n",
    "ment_resp1 = requests.get(f'https://annotations-api.dev.s2.allenai.org/pdf/{sha}/'\n",
    "                     f'annotations?annotationSources={mention_det_source}&attributeSources=all').json()\n",
    "\n",
    "\n",
    "#Plain-Text endpoint - get spans\n",
    "ment_resp3 = requests.get(f'http://annotations-api.dev.s2.allenai.org/plain-text/{text_id}/annotations'\n",
    "                         f'?annotationSources={mention_det_source}'\n",
    "                         '&attributeSources=all').json()\n",
    "\n",
    "#getting annotations from mentions\n",
    "anno_mentions = ment_resp3['annotationsFromSource'][f'{mention_det_source}']['mentions']\n",
    "\n",
    "#need to combine spans and boxes into single span group, which can then be annotated onto mmda doc\n",
    "\n",
    "# method that combines box and text spans - specific to mentions\n",
    "def make_span_groups(text_spans, pdf_boxes):\n",
    "    \n",
    "    instance_tokens = []\n",
    "    for i, text_span in enumerate(text_spans):\n",
    "        box_info = pdf_boxes[i]\n",
    "        associated_box = Box(\n",
    "            l=box_info['x'], \n",
    "            t=box_info['y'], \n",
    "            w=box_info['width'], \n",
    "            h=box_info['height'], \n",
    "            page=box_info['page']\n",
    "        )\n",
    "\n",
    "        instance_tokens.append(\n",
    "            SpanGroup(\n",
    "                spans=[Span(start=text_span['startChar'], end=text_span['endChar'], box=associated_box)],\n",
    "                id=text_span['attributesFromSource'][f'{mention_det_source}']\n",
    "            )\n",
    "        )\n",
    "    return instance_tokens\n",
    "\n",
    "# create span group\n",
    "# text = get_text(text_url) --already did this?\n",
    "#initialize mentions spangroup list\n",
    "ment_spangroups = []\n",
    "for anno in anno_mentions: #sub in new variable here\n",
    "    ment_spangroups.append(\n",
    "        SpanGroup(\n",
    "            spans=[Span(start=anno['startChar'], end=anno['endChar'])],\n",
    "            type=anno['attributesFromSource'][f'{mention_det_source}']['group']\n",
    "        )\n",
    "    )\n",
    "\n",
    "symbols = text\n",
    "ment_text_annos_resp = requests.get(f'http://annotations-api.dev.s2.allenai.org/plain-text/{text_id}/annotations'\n",
    "                     f'?annotationSources={mention_det_source}'\n",
    "                     '&attributeSources=none').json()\n",
    "\n",
    "ment_pdf_annos_resp = requests.get(f'http://annotations-api.dev.s2.allenai.org/pdf/{sha}/annotations'\n",
    "                     f'?annotationSources={mention_det_source}'\n",
    "                     '&attributeSources=none').json()\n",
    "\n",
    "token_boxes = ment_pdf_annos_resp['annotationsFromSource'][f'{mention_det_source}']['mentions']\n",
    "token_spans = ment_text_annos_resp['annotationsFromSource'][f'{mention_det_source}']['mentions']\n",
    "\n",
    "instance_tokens = make_span_groups(token_spans, token_boxes)\n",
    "\n",
    "\n",
    "#annotate annotations onto doc\n",
    "doc.annotate(mentions=ment_spangroups)\n",
    "\n",
    "#for now\n",
    "is_overwrite=False\n",
    "\n",
    "#print span group spot check\n",
    "print(ment_spangroups[0])"
   ]
  },
  {
   "cell_type": "markdown",
   "id": "0bb99bd4",
   "metadata": {},
   "source": [
    "### Part 3: Bib-Entries\n",
    "Get bib-entry annotations from annotation store"
   ]
  },
  {
   "cell_type": "code",
   "execution_count": 190,
   "id": "5569c012",
   "metadata": {},
   "outputs": [
    {
     "name": "stdout",
     "output_type": "stream",
     "text": [
      "BoxGroup(uuid='38e9764d-cca7-449c-9bac-0998da64be0a', doc=None, metadata=Metadata({'id': 0, 'type': None}), boxes=[Box(l=0.18146317915032664, t=0.866992529633839, w=0.6380922541862745, h=0.06077997036616102, page=12)], id=0, type=None)\n"
     ]
    },
    {
     "ename": "AttributeError",
     "evalue": "'Document' object has no attribute 'pages'",
     "output_type": "error",
     "traceback": [
      "\u001b[0;31m---------------------------------------------------------------------------\u001b[0m",
      "\u001b[0;31mAttributeError\u001b[0m                            Traceback (most recent call last)",
      "Input \u001b[0;32mIn [190]\u001b[0m, in \u001b[0;36m<cell line: 51>\u001b[0;34m()\u001b[0m\n\u001b[1;32m     49\u001b[0m bib_box_groups \u001b[38;5;241m=\u001b[39m box_groups_json_to_boxgroups(anno_bib)\n\u001b[1;32m     50\u001b[0m \u001b[38;5;66;03m#annotate annotations onto doc\u001b[39;00m\n\u001b[0;32m---> 51\u001b[0m \u001b[43mdoc\u001b[49m\u001b[38;5;241;43m.\u001b[39;49m\u001b[43mannotate\u001b[49m\u001b[43m(\u001b[49m\u001b[43mbibs\u001b[49m\u001b[38;5;241;43m=\u001b[39;49m\u001b[43mbib_box_groups\u001b[49m\u001b[43m)\u001b[49m\n",
      "File \u001b[0;32m~/Projects/SP_end_to_end/mmda/mmda/types/document.py:88\u001b[0m, in \u001b[0;36mDocument.annotate\u001b[0;34m(self, is_overwrite, **kwargs)\u001b[0m\n\u001b[1;32m     83\u001b[0m     span_groups \u001b[38;5;241m=\u001b[39m \u001b[38;5;28mself\u001b[39m\u001b[38;5;241m.\u001b[39m_annotate_span_group(\n\u001b[1;32m     84\u001b[0m         span_groups\u001b[38;5;241m=\u001b[39mannotations, field_name\u001b[38;5;241m=\u001b[39mfield_name\n\u001b[1;32m     85\u001b[0m     )\n\u001b[1;32m     86\u001b[0m \u001b[38;5;28;01melif\u001b[39;00m annotation_type \u001b[38;5;241m==\u001b[39m BoxGroup:\n\u001b[1;32m     87\u001b[0m     \u001b[38;5;66;03m# TODO: not good. BoxGroups should be stored on their own, not auto-generating SpanGroups.\u001b[39;00m\n\u001b[0;32m---> 88\u001b[0m     span_groups \u001b[38;5;241m=\u001b[39m \u001b[38;5;28;43mself\u001b[39;49m\u001b[38;5;241;43m.\u001b[39;49m\u001b[43m_annotate_box_group\u001b[49m\u001b[43m(\u001b[49m\n\u001b[1;32m     89\u001b[0m \u001b[43m        \u001b[49m\u001b[43mbox_groups\u001b[49m\u001b[38;5;241;43m=\u001b[39;49m\u001b[43mannotations\u001b[49m\u001b[43m,\u001b[49m\u001b[43m \u001b[49m\u001b[43mfield_name\u001b[49m\u001b[38;5;241;43m=\u001b[39;49m\u001b[43mfield_name\u001b[49m\n\u001b[1;32m     90\u001b[0m \u001b[43m    \u001b[49m\u001b[43m)\u001b[49m\n\u001b[1;32m     91\u001b[0m \u001b[38;5;28;01melse\u001b[39;00m:\n\u001b[1;32m     92\u001b[0m     \u001b[38;5;28;01mraise\u001b[39;00m \u001b[38;5;167;01mNotImplementedError\u001b[39;00m(\n\u001b[1;32m     93\u001b[0m         \u001b[38;5;124mf\u001b[39m\u001b[38;5;124m\"\u001b[39m\u001b[38;5;124mUnsupported annotation type \u001b[39m\u001b[38;5;132;01m{\u001b[39;00mannotation_type\u001b[38;5;132;01m}\u001b[39;00m\u001b[38;5;124m for \u001b[39m\u001b[38;5;132;01m{\u001b[39;00mfield_name\u001b[38;5;132;01m}\u001b[39;00m\u001b[38;5;124m\"\u001b[39m\n\u001b[1;32m     94\u001b[0m     )\n",
      "File \u001b[0;32m~/Projects/SP_end_to_end/mmda/mmda/types/document.py:161\u001b[0m, in \u001b[0;36mDocument._annotate_box_group\u001b[0;34m(self, box_groups, field_name)\u001b[0m\n\u001b[1;32m    154\u001b[0m \u001b[38;5;28;01mfor\u001b[39;00m box \u001b[38;5;129;01min\u001b[39;00m box_group\u001b[38;5;241m.\u001b[39mboxes:\n\u001b[1;32m    155\u001b[0m \n\u001b[1;32m    156\u001b[0m     \u001b[38;5;66;03m# Caching the page tokens to avoid duplicated search\u001b[39;00m\n\u001b[1;32m    157\u001b[0m     \u001b[38;5;28;01mif\u001b[39;00m box\u001b[38;5;241m.\u001b[39mpage \u001b[38;5;129;01mnot\u001b[39;00m \u001b[38;5;129;01min\u001b[39;00m all_page_tokens:\n\u001b[1;32m    158\u001b[0m         cur_page_tokens \u001b[38;5;241m=\u001b[39m all_page_tokens[box\u001b[38;5;241m.\u001b[39mpage] \u001b[38;5;241m=\u001b[39m \u001b[38;5;28mlist\u001b[39m(\n\u001b[1;32m    159\u001b[0m             itertools\u001b[38;5;241m.\u001b[39mchain\u001b[38;5;241m.\u001b[39mfrom_iterable(\n\u001b[1;32m    160\u001b[0m                 span_group\u001b[38;5;241m.\u001b[39mspans\n\u001b[0;32m--> 161\u001b[0m                 \u001b[38;5;28;01mfor\u001b[39;00m span_group \u001b[38;5;129;01min\u001b[39;00m \u001b[38;5;28;43mself\u001b[39;49m\u001b[38;5;241;43m.\u001b[39;49m\u001b[43mpages\u001b[49m[box\u001b[38;5;241m.\u001b[39mpage]\u001b[38;5;241m.\u001b[39mtokens\n\u001b[1;32m    162\u001b[0m             )\n\u001b[1;32m    163\u001b[0m         )\n\u001b[1;32m    164\u001b[0m     \u001b[38;5;28;01melse\u001b[39;00m:\n\u001b[1;32m    165\u001b[0m         cur_page_tokens \u001b[38;5;241m=\u001b[39m all_page_tokens[box\u001b[38;5;241m.\u001b[39mpage]\n",
      "\u001b[0;31mAttributeError\u001b[0m: 'Document' object has no attribute 'pages'"
     ]
    }
   ],
   "source": [
    "#retrieve bib-entry annotations\n",
    "#pdf endpoint\n",
    "bib_resp1 = requests.get(f'https://annotations-api.dev.s2.allenai.org/pdf/{sha}/'\n",
    "                     f'annotations?annotationSources={bib_entry_det_source}&attributeSources=all').json()\n",
    "\n",
    "\n",
    "#plain-text endpoint\n",
    "#not actually being used here\n",
    "bib_resp3 = requests.get(f'http://annotations-api.dev.s2.allenai.org/plain-text/{text_id}/annotations'\n",
    "                         f'?annotationSources={bib_entry_det_source}'\n",
    "                         '&attributeSources=all').json()\n",
    "\n",
    "#getting annotations from mentions\n",
    "#you may need to change bib_resp1 to bib_resp3 if the annotation type listed is plain-text (rather than PDF)\n",
    "anno_bib = bib_resp1['annotationsFromSource'][f'{bib_entry_det_source}']['bib-entries']\n",
    "#print(anno_bib)\n",
    "\n",
    "# need to create box groups\n",
    "# bib_entry_boxgroups_json to spangroups to json:\n",
    "from mmda.types.annotation import BoxGroup\n",
    "from copy import copy\n",
    "\n",
    "def box_groups_json_to_boxgroups(box_groups_json):\n",
    "    #lil hack\n",
    "    import itertools\n",
    "\n",
    "    counter = itertools.count()\n",
    "    \n",
    "    # make BoxGroups from Json\n",
    "    boxgroups = []\n",
    "    for bg in box_groups_json:\n",
    "        box_info = bg\n",
    "        box = Box(\n",
    "            l=box_info['x'], \n",
    "            t=box_info['y'], \n",
    "            w=box_info['width'], \n",
    "            h=box_info['height'],            \n",
    "            page=box_info['page']\n",
    "        )\n",
    "        boxgroups.append(\n",
    "        BoxGroup(boxes=[box],\n",
    "                 id=next(counter) # OR update models?\n",
    "                )\n",
    "        )\n",
    "    print(boxgroups[0])\n",
    "    #doc.annotate(bibs=boxgroups)\n",
    "    return boxgroups\n",
    "\n",
    "bib_box_groups = box_groups_json_to_boxgroups(anno_bib)\n",
    "#annotate annotations onto doc\n",
    "doc.annotate(bibs=bib_box_groups)"
   ]
  },
  {
   "cell_type": "markdown",
   "id": "72583f80",
   "metadata": {},
   "source": [
    "### Part 4: Bib-Parse \n",
    "Get bib-parse-entry annotations from annotation store"
   ]
  },
  {
   "cell_type": "code",
   "execution_count": 159,
   "id": "5977117f",
   "metadata": {},
   "outputs": [
    {
     "name": "stdout",
     "output_type": "stream",
     "text": [
      "{'bib_detector_test_1': {'bib-entries': [{'x': 0.18146317915032664, 'y': 0.866992529633839, 'page': 12, 'width': 0.6380922541862745, 'height': 0.06077997036616102, 'attributes': {'id': 0}}, {'x': 0.18147058823529413, 'y': 0.1447024740656565, 'page': 12, 'width': 0.6380905871421568, 'height': 0.032949968926767735, 'attributes': {'id': 1}}, {'x': 0.18147058823529413, 'y': 0.1817488250378788, 'page': 12, 'width': 0.638381949408497, 'height': 0.05158693280303038, 'attributes': {'id': 2}}, {'x': 0.1814687359640523, 'y': 0.23720456310606067, 'page': 12, 'width': 0.6376549329460782, 'height': 0.032949968926767735, 'attributes': {'id': 3}}, {'x': 0.18146503142156847, 'y': 0.5522123347601015, 'page': 12, 'width': 0.6379462952124177, 'height': 0.05135935602272722, 'attributes': {'id': 4}}, {'x': 0.18146688369281047, 'y': 0.34834361602272745, 'page': 12, 'width': 0.6379592611111118, 'height': 0.05158693280303038, 'attributes': {'id': 5}}, {'x': 0.18146503142156847, 'y': 0.6076680728282833, 'page': 12, 'width': 0.6379201781879088, 'height': 0.032722392146464656, 'attributes': {'id': 6}}, {'x': 0.18146503142156847, 'y': 0.4967565966919196, 'page': 12, 'width': 0.6379574088398695, 'height': 0.05113177924242421, 'attributes': {'id': 7}}, {'x': 0.18146503142156847, 'y': 0.42243631796717207, 'page': 12, 'width': 0.6381630109477126, 'height': 0.06999631989898993, 'attributes': {'id': 8}}, {'x': 0.18146317915032664, 'y': 0.7372165128409096, 'page': 12, 'width': 0.63790739751634, 'height': 0.05158693280303038, 'attributes': {'id': 9}}, {'x': 0.18146503142156867, 'y': 0.6076687993308085, 'page': 13, 'width': 0.6378870225326793, 'height': 0.051359356022727294, 'attributes': {'id': 0}}, {'x': 0.18146688369281047, 'y': 0.8669932561363642, 'page': 13, 'width': 0.637907212289216, 'height': 0.06077924386363578, 'attributes': {'id': 1}}, {'x': 0.18146688369281047, 'y': 0.8113099412878794, 'page': 13, 'width': 0.6380314996895412, 'height': 0.032949968926767735, 'attributes': {'id': 2}}, {'x': 0.18146688369281053, 'y': 0.7001708883712126, 'page': 13, 'width': 0.6380796587418294, 'height': 0.032949968926767735, 'attributes': {'id': 3}}, {'x': 0.18146688369281047, 'y': 0.8483562922601017, 'page': 13, 'width': 0.6380666928431376, 'height': 0.032949968926767596, 'attributes': {'id': 4}}, {'x': 0.20058787972222225, 'y': 0.6633521141792935, 'page': 13, 'width': 0.6189168013823533, 'height': 0.03272239214646458, 'attributes': {'id': 5}}, {'x': 0.18146317915032684, 'y': 0.8113099412878794, 'page': 14, 'width': 0.6380579871683014, 'height': 0.11646255871212068, 'attributes': {'id': 0}}, {'x': 0.18147058823529413, 'y': 0.12629381347222213, 'page': 14, 'width': 0.6378949872990197, 'height': 0.032722392146464725, 'attributes': {'id': 1}}, {'x': 0.18147058823529413, 'y': 0.14470320056818176, 'page': 14, 'width': 0.6383582403366019, 'height': 0.06999631989899001, 'attributes': {'id': 2}}], 'bib-entry-raw': [{'x': 0.17995676028183083, 'y': 0.8574961652659406, 'page': 12, 'width': 0.6271684559342129, 'height': 0.07612293898457229, 'attributes': {'id': 0}}, {'x': 0.17135871937072356, 'y': 0.133500985424928, 'page': 12, 'width': 0.6554666905621298, 'height': 0.04675692741316979, 'attributes': {'id': 1}}, {'x': 0.19091562507978452, 'y': 0.17366877469149503, 'page': 12, 'width': 0.6276094523909824, 'height': 0.06174721380676886, 'attributes': {'id': 2}}, {'x': 0.18071963740330116, 'y': 0.22629142530036694, 'page': 12, 'width': 0.6439831054288577, 'height': 0.04722046129631274, 'attributes': {'id': 3}}, {'x': 0.18242559245988435, 'y': 0.5421254321782276, 'page': 12, 'width': 0.6360583461188023, 'height': 0.05983522203233507, 'attributes': {'id': 4}}, {'x': 0.18404529297273922, 'y': 0.34202556417445945, 'page': 12, 'width': 0.6339560988681768, 'height': 0.06460921932952572, 'attributes': {'id': 5}}, {'x': 0.19901414011038987, 'y': 0.5996717587865964, 'page': 12, 'width': 0.6011160183576197, 'height': 0.04165425926747948, 'attributes': {'id': 6}}, {'x': 0.18749841677597145, 'y': 0.489915481721512, 'page': 12, 'width': 0.6312281664680032, 'height': 0.060629334112610477, 'attributes': {'id': 7}}, {'x': 0.18020320717805352, 'y': 0.42855565234868215, 'page': 12, 'width': 0.6432925454931322, 'height': 0.06454910894837042, 'attributes': {'id': 8}}, {'x': 0.1902062534506804, 'y': 0.7303565439551768, 'page': 12, 'width': 0.6241494845720678, 'height': 0.06292092679726957, 'attributes': {'id': 9}}, {'x': 0.1745251050961563, 'y': 0.601726416385535, 'page': 13, 'width': 0.6429213355569279, 'height': 0.05683004976523043, 'attributes': {'id': 0}}, {'x': 0.17728553722107332, 'y': 0.8684327867296007, 'page': 13, 'width': 0.6392711564606312, 'height': 0.06801266140407985, 'attributes': {'id': 1}}, {'x': 0.17856444564520144, 'y': 0.8044045188210227, 'page': 13, 'width': 0.6377593271093431, 'height': 0.03916229864563605, 'attributes': {'id': 2}}, {'x': 0.1961826623654833, 'y': 0.6910979145705097, 'page': 13, 'width': 0.6132675245696423, 'height': 0.0434342971955887, 'attributes': {'id': 3}}, {'x': 0.18978050331664242, 'y': 0.8400503601690735, 'page': 13, 'width': 0.6250691008723639, 'height': 0.042567012285945394, 'attributes': {'id': 4}}, {'x': 0.1944680806078942, 'y': 0.6556515163845487, 'page': 13, 'width': 0.6259272456948274, 'height': 0.040275342536695076, 'attributes': {'id': 5}}, {'x': 0.17920707253848805, 'y': 0.802551577789615, 'page': 14, 'width': 0.6426666110169654, 'height': 0.12614017062717015, 'attributes': {'id': 0}}, {'x': 0.19028042811973422, 'y': 0.11645151388765586, 'page': 14, 'width': 0.621524349536771, 'height': 0.045509723701862376, 'attributes': {'id': 1}}, {'x': 0.18007815741246042, 'y': 0.1487778365009963, 'page': 14, 'width': 0.6439494089363447, 'height': 0.0666435704086766, 'attributes': {'id': 2}}]}, 'spp-test-1': {'plain-text-doc-id': '740c1d64752b4679a742544046cf5de3452cfef4', 'mentions': {'annotation-type': ['PlainText', 'PDF'], 'mention-detection-source': 'mentions-test-3', 'bib-mention-linker-source': 'citation-links-test-1'}, 'bib-entries': {'annotation-type': 'PDF', 'bib-detection-source': 'bib_detector_test_3'}, 'bib-entry-parses': {'annotation-type': 'PDF', 'bib-parsing-source': 'bib-struct-test-1'}, 'pdf-plumber': 'pdfplumber-0.0.4'}, 'bib-entry-detector-0.0.test': {'text': 's3://ai2-s2-science-parse-plus-dev/document/17ada3c96ef888fc89f6b995d2edd19a45383423/pdfplumber-0.0.5/text', 'images': ['s3://ai2-s2-science-parse-plus-dev/document/17ada3c96ef888fc89f6b995d2edd19a45383423/pdfplumber-0.0.5/images/0', 's3://ai2-s2-science-parse-plus-dev/document/17ada3c96ef888fc89f6b995d2edd19a45383423/pdfplumber-0.0.5/images/1', 's3://ai2-s2-science-parse-plus-dev/document/17ada3c96ef888fc89f6b995d2edd19a45383423/pdfplumber-0.0.5/images/10', 's3://ai2-s2-science-parse-plus-dev/document/17ada3c96ef888fc89f6b995d2edd19a45383423/pdfplumber-0.0.5/images/11', 's3://ai2-s2-science-parse-plus-dev/document/17ada3c96ef888fc89f6b995d2edd19a45383423/pdfplumber-0.0.5/images/12', 's3://ai2-s2-science-parse-plus-dev/document/17ada3c96ef888fc89f6b995d2edd19a45383423/pdfplumber-0.0.5/images/13', 's3://ai2-s2-science-parse-plus-dev/document/17ada3c96ef888fc89f6b995d2edd19a45383423/pdfplumber-0.0.5/images/14', 's3://ai2-s2-science-parse-plus-dev/document/17ada3c96ef888fc89f6b995d2edd19a45383423/pdfplumber-0.0.5/images/15', 's3://ai2-s2-science-parse-plus-dev/document/17ada3c96ef888fc89f6b995d2edd19a45383423/pdfplumber-0.0.5/images/16', 's3://ai2-s2-science-parse-plus-dev/document/17ada3c96ef888fc89f6b995d2edd19a45383423/pdfplumber-0.0.5/images/17', 's3://ai2-s2-science-parse-plus-dev/document/17ada3c96ef888fc89f6b995d2edd19a45383423/pdfplumber-0.0.5/images/18', 's3://ai2-s2-science-parse-plus-dev/document/17ada3c96ef888fc89f6b995d2edd19a45383423/pdfplumber-0.0.5/images/19', 's3://ai2-s2-science-parse-plus-dev/document/17ada3c96ef888fc89f6b995d2edd19a45383423/pdfplumber-0.0.5/images/2', 's3://ai2-s2-science-parse-plus-dev/document/17ada3c96ef888fc89f6b995d2edd19a45383423/pdfplumber-0.0.5/images/20', 's3://ai2-s2-science-parse-plus-dev/document/17ada3c96ef888fc89f6b995d2edd19a45383423/pdfplumber-0.0.5/images/21', 's3://ai2-s2-science-parse-plus-dev/document/17ada3c96ef888fc89f6b995d2edd19a45383423/pdfplumber-0.0.5/images/22', 's3://ai2-s2-science-parse-plus-dev/document/17ada3c96ef888fc89f6b995d2edd19a45383423/pdfplumber-0.0.5/images/23', 's3://ai2-s2-science-parse-plus-dev/document/17ada3c96ef888fc89f6b995d2edd19a45383423/pdfplumber-0.0.5/images/24', 's3://ai2-s2-science-parse-plus-dev/document/17ada3c96ef888fc89f6b995d2edd19a45383423/pdfplumber-0.0.5/images/25', 's3://ai2-s2-science-parse-plus-dev/document/17ada3c96ef888fc89f6b995d2edd19a45383423/pdfplumber-0.0.5/images/26', 's3://ai2-s2-science-parse-plus-dev/document/17ada3c96ef888fc89f6b995d2edd19a45383423/pdfplumber-0.0.5/images/27', 's3://ai2-s2-science-parse-plus-dev/document/17ada3c96ef888fc89f6b995d2edd19a45383423/pdfplumber-0.0.5/images/3', 's3://ai2-s2-science-parse-plus-dev/document/17ada3c96ef888fc89f6b995d2edd19a45383423/pdfplumber-0.0.5/images/4', 's3://ai2-s2-science-parse-plus-dev/document/17ada3c96ef888fc89f6b995d2edd19a45383423/pdfplumber-0.0.5/images/5', 's3://ai2-s2-science-parse-plus-dev/document/17ada3c96ef888fc89f6b995d2edd19a45383423/pdfplumber-0.0.5/images/6', 's3://ai2-s2-science-parse-plus-dev/document/17ada3c96ef888fc89f6b995d2edd19a45383423/pdfplumber-0.0.5/images/7', 's3://ai2-s2-science-parse-plus-dev/document/17ada3c96ef888fc89f6b995d2edd19a45383423/pdfplumber-0.0.5/images/8', 's3://ai2-s2-science-parse-plus-dev/document/17ada3c96ef888fc89f6b995d2edd19a45383423/pdfplumber-0.0.5/images/9']}, 'layout-parser-0.0.2|pdfplumber-0.0.5': {'text': 's3://ai2-s2-science-parse-plus-dev/document/17ada3c96ef888fc89f6b995d2edd19a45383423/pdfplumber-0.0.5/text', 'images': ['s3://ai2-s2-science-parse-plus-dev/document/17ada3c96ef888fc89f6b995d2edd19a45383423/pdfplumber-0.0.5/images/0', 's3://ai2-s2-science-parse-plus-dev/document/17ada3c96ef888fc89f6b995d2edd19a45383423/pdfplumber-0.0.5/images/1', 's3://ai2-s2-science-parse-plus-dev/document/17ada3c96ef888fc89f6b995d2edd19a45383423/pdfplumber-0.0.5/images/2', 's3://ai2-s2-science-parse-plus-dev/document/17ada3c96ef888fc89f6b995d2edd19a45383423/pdfplumber-0.0.5/images/3', 's3://ai2-s2-science-parse-plus-dev/document/17ada3c96ef888fc89f6b995d2edd19a45383423/pdfplumber-0.0.5/images/4', 's3://ai2-s2-science-parse-plus-dev/document/17ada3c96ef888fc89f6b995d2edd19a45383423/pdfplumber-0.0.5/images/5', 's3://ai2-s2-science-parse-plus-dev/document/17ada3c96ef888fc89f6b995d2edd19a45383423/pdfplumber-0.0.5/images/6', 's3://ai2-s2-science-parse-plus-dev/document/17ada3c96ef888fc89f6b995d2edd19a45383423/pdfplumber-0.0.5/images/7', 's3://ai2-s2-science-parse-plus-dev/document/17ada3c96ef888fc89f6b995d2edd19a45383423/pdfplumber-0.0.5/images/8', 's3://ai2-s2-science-parse-plus-dev/document/17ada3c96ef888fc89f6b995d2edd19a45383423/pdfplumber-0.0.5/images/9', 's3://ai2-s2-science-parse-plus-dev/document/17ada3c96ef888fc89f6b995d2edd19a45383423/pdfplumber-0.0.5/images/10', 's3://ai2-s2-science-parse-plus-dev/document/17ada3c96ef888fc89f6b995d2edd19a45383423/pdfplumber-0.0.5/images/11', 's3://ai2-s2-science-parse-plus-dev/document/17ada3c96ef888fc89f6b995d2edd19a45383423/pdfplumber-0.0.5/images/12', 's3://ai2-s2-science-parse-plus-dev/document/17ada3c96ef888fc89f6b995d2edd19a45383423/pdfplumber-0.0.5/images/13', 's3://ai2-s2-science-parse-plus-dev/document/17ada3c96ef888fc89f6b995d2edd19a45383423/pdfplumber-0.0.5/images/14', 's3://ai2-s2-science-parse-plus-dev/document/17ada3c96ef888fc89f6b995d2edd19a45383423/pdfplumber-0.0.5/images/15', 's3://ai2-s2-science-parse-plus-dev/document/17ada3c96ef888fc89f6b995d2edd19a45383423/pdfplumber-0.0.5/images/16', 's3://ai2-s2-science-parse-plus-dev/document/17ada3c96ef888fc89f6b995d2edd19a45383423/pdfplumber-0.0.5/images/17', 's3://ai2-s2-science-parse-plus-dev/document/17ada3c96ef888fc89f6b995d2edd19a45383423/pdfplumber-0.0.5/images/18', 's3://ai2-s2-science-parse-plus-dev/document/17ada3c96ef888fc89f6b995d2edd19a45383423/pdfplumber-0.0.5/images/19', 's3://ai2-s2-science-parse-plus-dev/document/17ada3c96ef888fc89f6b995d2edd19a45383423/pdfplumber-0.0.5/images/20', 's3://ai2-s2-science-parse-plus-dev/document/17ada3c96ef888fc89f6b995d2edd19a45383423/pdfplumber-0.0.5/images/21', 's3://ai2-s2-science-parse-plus-dev/document/17ada3c96ef888fc89f6b995d2edd19a45383423/pdfplumber-0.0.5/images/22', 's3://ai2-s2-science-parse-plus-dev/document/17ada3c96ef888fc89f6b995d2edd19a45383423/pdfplumber-0.0.5/images/23', 's3://ai2-s2-science-parse-plus-dev/document/17ada3c96ef888fc89f6b995d2edd19a45383423/pdfplumber-0.0.5/images/24', 's3://ai2-s2-science-parse-plus-dev/document/17ada3c96ef888fc89f6b995d2edd19a45383423/pdfplumber-0.0.5/images/25', 's3://ai2-s2-science-parse-plus-dev/document/17ada3c96ef888fc89f6b995d2edd19a45383423/pdfplumber-0.0.5/images/26', 's3://ai2-s2-science-parse-plus-dev/document/17ada3c96ef888fc89f6b995d2edd19a45383423/pdfplumber-0.0.5/images/27']}, 'pdfplumber-0.0.5': {'text': 's3://ai2-s2-science-parse-plus-dev/document/17ada3c96ef888fc89f6b995d2edd19a45383423/pdfplumber-0.0.5/text', 'images': ['s3://ai2-s2-science-parse-plus-dev/document/17ada3c96ef888fc89f6b995d2edd19a45383423/pdfplumber-0.0.5/images/0', 's3://ai2-s2-science-parse-plus-dev/document/17ada3c96ef888fc89f6b995d2edd19a45383423/pdfplumber-0.0.5/images/1', 's3://ai2-s2-science-parse-plus-dev/document/17ada3c96ef888fc89f6b995d2edd19a45383423/pdfplumber-0.0.5/images/2', 's3://ai2-s2-science-parse-plus-dev/document/17ada3c96ef888fc89f6b995d2edd19a45383423/pdfplumber-0.0.5/images/3', 's3://ai2-s2-science-parse-plus-dev/document/17ada3c96ef888fc89f6b995d2edd19a45383423/pdfplumber-0.0.5/images/4', 's3://ai2-s2-science-parse-plus-dev/document/17ada3c96ef888fc89f6b995d2edd19a45383423/pdfplumber-0.0.5/images/5', 's3://ai2-s2-science-parse-plus-dev/document/17ada3c96ef888fc89f6b995d2edd19a45383423/pdfplumber-0.0.5/images/6', 's3://ai2-s2-science-parse-plus-dev/document/17ada3c96ef888fc89f6b995d2edd19a45383423/pdfplumber-0.0.5/images/7', 's3://ai2-s2-science-parse-plus-dev/document/17ada3c96ef888fc89f6b995d2edd19a45383423/pdfplumber-0.0.5/images/8', 's3://ai2-s2-science-parse-plus-dev/document/17ada3c96ef888fc89f6b995d2edd19a45383423/pdfplumber-0.0.5/images/9', 's3://ai2-s2-science-parse-plus-dev/document/17ada3c96ef888fc89f6b995d2edd19a45383423/pdfplumber-0.0.5/images/10', 's3://ai2-s2-science-parse-plus-dev/document/17ada3c96ef888fc89f6b995d2edd19a45383423/pdfplumber-0.0.5/images/11', 's3://ai2-s2-science-parse-plus-dev/document/17ada3c96ef888fc89f6b995d2edd19a45383423/pdfplumber-0.0.5/images/12', 's3://ai2-s2-science-parse-plus-dev/document/17ada3c96ef888fc89f6b995d2edd19a45383423/pdfplumber-0.0.5/images/13', 's3://ai2-s2-science-parse-plus-dev/document/17ada3c96ef888fc89f6b995d2edd19a45383423/pdfplumber-0.0.5/images/14', 's3://ai2-s2-science-parse-plus-dev/document/17ada3c96ef888fc89f6b995d2edd19a45383423/pdfplumber-0.0.5/images/15', 's3://ai2-s2-science-parse-plus-dev/document/17ada3c96ef888fc89f6b995d2edd19a45383423/pdfplumber-0.0.5/images/16', 's3://ai2-s2-science-parse-plus-dev/document/17ada3c96ef888fc89f6b995d2edd19a45383423/pdfplumber-0.0.5/images/17', 's3://ai2-s2-science-parse-plus-dev/document/17ada3c96ef888fc89f6b995d2edd19a45383423/pdfplumber-0.0.5/images/18', 's3://ai2-s2-science-parse-plus-dev/document/17ada3c96ef888fc89f6b995d2edd19a45383423/pdfplumber-0.0.5/images/19', 's3://ai2-s2-science-parse-plus-dev/document/17ada3c96ef888fc89f6b995d2edd19a45383423/pdfplumber-0.0.5/images/20', 's3://ai2-s2-science-parse-plus-dev/document/17ada3c96ef888fc89f6b995d2edd19a45383423/pdfplumber-0.0.5/images/21', 's3://ai2-s2-science-parse-plus-dev/document/17ada3c96ef888fc89f6b995d2edd19a45383423/pdfplumber-0.0.5/images/22', 's3://ai2-s2-science-parse-plus-dev/document/17ada3c96ef888fc89f6b995d2edd19a45383423/pdfplumber-0.0.5/images/23', 's3://ai2-s2-science-parse-plus-dev/document/17ada3c96ef888fc89f6b995d2edd19a45383423/pdfplumber-0.0.5/images/24', 's3://ai2-s2-science-parse-plus-dev/document/17ada3c96ef888fc89f6b995d2edd19a45383423/pdfplumber-0.0.5/images/25', 's3://ai2-s2-science-parse-plus-dev/document/17ada3c96ef888fc89f6b995d2edd19a45383423/pdfplumber-0.0.5/images/26', 's3://ai2-s2-science-parse-plus-dev/document/17ada3c96ef888fc89f6b995d2edd19a45383423/pdfplumber-0.0.5/images/27']}}\n"
     ]
    },
    {
     "ename": "KeyError",
     "evalue": "'bib-struct-test-1'",
     "output_type": "error",
     "traceback": [
      "\u001b[0;31m---------------------------------------------------------------------------\u001b[0m",
      "\u001b[0;31mKeyError\u001b[0m                                  Traceback (most recent call last)",
      "Input \u001b[0;32mIn [159]\u001b[0m, in \u001b[0;36m<cell line: 18>\u001b[0;34m()\u001b[0m\n\u001b[1;32m     14\u001b[0m \u001b[38;5;28mprint\u001b[39m(bib_parse_resp1[\u001b[38;5;124m'\u001b[39m\u001b[38;5;124mattributesFromSource\u001b[39m\u001b[38;5;124m'\u001b[39m])\n\u001b[1;32m     16\u001b[0m \u001b[38;5;66;03m#getting annotations from bib parse\u001b[39;00m\n\u001b[1;32m     17\u001b[0m \u001b[38;5;66;03m#you may need to change bib_resp1 to bib_resp3 if the annotation type listed is plain-text (rather than PDF)\u001b[39;00m\n\u001b[0;32m---> 18\u001b[0m anno_bib_parse \u001b[38;5;241m=\u001b[39m \u001b[43mbib_parse_resp1\u001b[49m\u001b[43m[\u001b[49m\u001b[38;5;124;43m'\u001b[39;49m\u001b[38;5;124;43mannotationsFromSource\u001b[39;49m\u001b[38;5;124;43m'\u001b[39;49m\u001b[43m]\u001b[49m\u001b[43m[\u001b[49m\u001b[38;5;124;43mf\u001b[39;49m\u001b[38;5;124;43m'\u001b[39;49m\u001b[38;5;132;43;01m{\u001b[39;49;00m\u001b[43mbib_parse_source\u001b[49m\u001b[38;5;132;43;01m}\u001b[39;49;00m\u001b[38;5;124;43m'\u001b[39;49m\u001b[43m]\u001b[49m[\u001b[38;5;124m'\u001b[39m\u001b[38;5;124mbib-entry-parses\u001b[39m\u001b[38;5;124m'\u001b[39m]\n\u001b[1;32m     20\u001b[0m \u001b[38;5;66;03m#initialize bib parse spangroup list\u001b[39;00m\n\u001b[1;32m     21\u001b[0m bib_parse_spangroups \u001b[38;5;241m=\u001b[39m []\n",
      "\u001b[0;31mKeyError\u001b[0m: 'bib-struct-test-1'"
     ]
    }
   ],
   "source": [
    "#retrieve bib parse data\n",
    "#pdf endpoint\n",
    "bib_parse_resp1 = requests.get(f'https://annotations-api.dev.s2.allenai.org/pdf/{sha}/'\n",
    "                     f'annotations?annotationSources={bib_parse_source}&attributeSources=all').json()\n",
    "\n",
    "\n",
    "#plain-text endpoint\n",
    "#not actually being used here\n",
    "bib_parse_resp3 = requests.get(f'http://annotations-api.dev.s2.allenai.org/plain-text/{text_id}/annotations'\n",
    "                         f'?annotationSources={bib_parse_source}'\n",
    "                         '&attributeSources=all').json()\n",
    "\n",
    "#test\n",
    "print(bib_parse_resp1['attributesFromSource'])\n",
    "\n",
    "#getting annotations from bib parse\n",
    "#you may need to change bib_resp1 to bib_resp3 if the annotation type listed is plain-text (rather than PDF)\n",
    "anno_bib_parse = bib_parse_resp1['annotationsFromSource'][f'{bib_parse_source}']['bib-entry-parses']\n",
    "\n",
    "#initialize bib parse spangroup list\n",
    "bib_parse_spangroups = []\n",
    "\n",
    "# need this to create span group\n",
    "for anno in anno_bib_parse: #sub in new variable here\n",
    "    bib_parse_spangroups.append(\n",
    "        SpanGroup(\n",
    "            spans=[Span(start=anno['startChar'], end=anno['endChar'])],\n",
    "            type=anno['attributesFromSource'][f'{bib_parse_source}']['id']\n",
    "        )\n",
    "    )\n",
    "\n",
    "#annotate annotations onto doc\n",
    "#doc.annotate(bib_parse=bib_parse_spangroups)"
   ]
  },
  {
   "cell_type": "markdown",
   "id": "87052b75",
   "metadata": {},
   "source": [
    "### 1c. Check to make sure you have annotated all fields onto mmda doc"
   ]
  },
  {
   "cell_type": "code",
   "execution_count": 122,
   "id": "3bbd5c00",
   "metadata": {},
   "outputs": [
    {
     "name": "stdout",
     "output_type": "stream",
     "text": [
      "['vila', 'mentions']\n"
     ]
    }
   ],
   "source": [
    "print(doc.fields)"
   ]
  },
  {
   "cell_type": "markdown",
   "id": "670ccd6f",
   "metadata": {},
   "source": [
    "## 2. Visalize Paper and Draw boxes on mentions"
   ]
  },
  {
   "cell_type": "markdown",
   "id": "51d9da1c",
   "metadata": {},
   "source": [
    "Use draw boxes to visualize each mention"
   ]
  },
  {
   "cell_type": "code",
   "execution_count": 160,
   "id": "8ed9e5e6",
   "metadata": {},
   "outputs": [],
   "source": [
    "#draw boxes function\n",
    "import layoutparser.elements as lpe\n",
    "import layoutparser.visualization as lpv\n",
    "\n",
    "def draw_boxes(groups, canvas, color, **kwargs):\n",
    "    viz = []\n",
    "\n",
    "    for group in groups:\n",
    "        for box in group:\n",
    "            viz.append(lpe.TextBlock(box, type=f\"color\"))\n",
    "\n",
    "    return lpv.draw_box(\n",
    "        canvas, \n",
    "        viz,\n",
    "        color_map={'color': color},\n",
    "        **kwargs\n",
    "    )"
   ]
  },
  {
   "cell_type": "code",
   "execution_count": 164,
   "id": "d7772802",
   "metadata": {},
   "outputs": [
    {
     "ename": "ImportError",
     "evalue": "cannot import name 'make_boxes' from 'extract_citation_mentions' (/Users/baileyk/Projects/SP_end_to_end/extract-stuff-from-pdfs/extract_citation_mentions/__init__.py)",
     "output_type": "error",
     "traceback": [
      "\u001b[0;31m---------------------------------------------------------------------------\u001b[0m",
      "\u001b[0;31mImportError\u001b[0m                               Traceback (most recent call last)",
      "Input \u001b[0;32mIn [164]\u001b[0m, in \u001b[0;36m<cell line: 7>\u001b[0;34m()\u001b[0m\n\u001b[1;32m      4\u001b[0m \u001b[38;5;66;03m# adding folder2 to system path; can't import for some reason\u001b[39;00m\n\u001b[1;32m      5\u001b[0m sys\u001b[38;5;241m.\u001b[39mpath\u001b[38;5;241m.\u001b[39minsert(\u001b[38;5;241m0\u001b[39m, \u001b[38;5;124m'\u001b[39m\u001b[38;5;124m/Users/baileyk/Projects/SP_end_to_end/extract-stuff-from-pdfs\u001b[39m\u001b[38;5;124m'\u001b[39m)\n\u001b[0;32m----> 7\u001b[0m \u001b[38;5;28;01mfrom\u001b[39;00m \u001b[38;5;21;01mextract_citation_mentions\u001b[39;00m \u001b[38;5;28;01mimport\u001b[39;00m download_pdf, make_boxes\n\u001b[1;32m      8\u001b[0m \u001b[38;5;28;01mfrom\u001b[39;00m \u001b[38;5;21;01mmmda\u001b[39;00m\u001b[38;5;21;01m.\u001b[39;00m\u001b[38;5;21;01mrasterizers\u001b[39;00m\u001b[38;5;21;01m.\u001b[39;00m\u001b[38;5;21;01mrasterizer\u001b[39;00m \u001b[38;5;28;01mimport\u001b[39;00m PDF2ImageRasterizer\n\u001b[1;32m     10\u001b[0m paper_sha \u001b[38;5;241m=\u001b[39m \u001b[38;5;124m'\u001b[39m\u001b[38;5;124m17ada3c96ef888fc89f6b995d2edd19a45383423\u001b[39m\u001b[38;5;124m'\u001b[39m\n",
      "\u001b[0;31mImportError\u001b[0m: cannot import name 'make_boxes' from 'extract_citation_mentions' (/Users/baileyk/Projects/SP_end_to_end/extract-stuff-from-pdfs/extract_citation_mentions/__init__.py)"
     ]
    }
   ],
   "source": [
    "# importing sys\n",
    "import sys\n",
    " \n",
    "# adding folder2 to system path; can't import for some reason\n",
    "sys.path.insert(0, '/Users/baileyk/Projects/SP_end_to_end/extract-stuff-from-pdfs')\n",
    "\n",
    "from extract_citation_mentions import download_pdf, make_boxes\n",
    "from mmda.rasterizers.rasterizer import PDF2ImageRasterizer\n",
    "\n",
    "paper_sha = '17ada3c96ef888fc89f6b995d2edd19a45383423'\n",
    "page = 0\n",
    "\n",
    "matches = papers[sha].pages[page]\n",
    "print(f\"found={matches.found} missed={matches.missed} incorrect/extra={matches.incorrect}\")"
   ]
  },
  {
   "cell_type": "code",
   "execution_count": null,
   "id": "881341a2",
   "metadata": {},
   "outputs": [],
   "source": [
    "pdf_path = download_pdf(paper_sha)\n",
    "images = PDF2ImageRasterizer().rasterize(pdf_path, dpi=144)\n",
    "\n",
    "gold = [m.gold for m in matches.matches if m.gold]\n",
    "baseline = [m.baseline for m in matches.matches if m.baseline]\n",
    "\n",
    "image = images[page]\n",
    "image = draw_boxes(make_boxes(gold, image), image, 'yellow')\n",
    "image = draw_boxes(make_boxes(baseline, image), image, 'blue', box_width=3)\n",
    "\n",
    "display(image)"
   ]
  },
  {
   "cell_type": "code",
   "execution_count": null,
   "id": "107aa65b",
   "metadata": {},
   "outputs": [],
   "source": []
  }
 ],
 "metadata": {
  "kernelspec": {
   "display_name": "Python 3 (ipykernel)",
   "language": "python",
   "name": "python3"
  },
  "language_info": {
   "codemirror_mode": {
    "name": "ipython",
    "version": 3
   },
   "file_extension": ".py",
   "mimetype": "text/x-python",
   "name": "python",
   "nbconvert_exporter": "python",
   "pygments_lexer": "ipython3",
   "version": "3.8.13"
  }
 },
 "nbformat": 4,
 "nbformat_minor": 5
}
