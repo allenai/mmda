{
 "cells": [
  {
   "cell_type": "code",
   "execution_count": 1,
   "id": "4c8a40a5-88f0-4ca2-8322-548040ec2876",
   "metadata": {
    "tags": [],
    "ExecuteTime": {
     "start_time": "2023-04-21T11:13:33.572068Z",
     "end_time": "2023-04-21T11:13:36.176630Z"
    }
   },
   "outputs": [
    {
     "name": "stderr",
     "output_type": "stream",
     "text": [
      "/opt/miniconda3/envs/mmda/lib/python3.8/site-packages/tqdm/auto.py:22: TqdmWarning: IProgress not found. Please update jupyter and ipywidgets. See https://ipywidgets.readthedocs.io/en/stable/user_install.html\n",
      "  from .autonotebook import tqdm as notebook_tqdm\n"
     ]
    }
   ],
   "source": [
    "from mmda.recipes.core_recipe import CoreRecipe"
   ]
  },
  {
   "cell_type": "code",
   "execution_count": 3,
   "id": "d30b68d5-df85-419f-be94-a4391baf45de",
   "metadata": {
    "tags": [],
    "ExecuteTime": {
     "start_time": "2023-04-21T11:14:35.094500Z",
     "end_time": "2023-04-21T11:15:51.215668Z"
    }
   },
   "outputs": [
    {
     "name": "stdout",
     "output_type": "stream",
     "text": [
      "huggingface/tokenizers: The current process just got forked, after parallelism has already been used. Disabling parallelism to avoid deadlocks...\n",
      "To disable this warning, you can either:\n",
      "\t- Avoid using `tokenizers` before the fork if possible\n",
      "\t- Explicitly set the environment variable TOKENIZERS_PARALLELISM=(true | false)\n",
      "huggingface/tokenizers: The current process just got forked, after parallelism has already been used. Disabling parallelism to avoid deadlocks...\n",
      "To disable this warning, you can either:\n",
      "\t- Avoid using `tokenizers` before the fork if possible\n",
      "\t- Explicitly set the environment variable TOKENIZERS_PARALLELISM=(true | false)\n",
      "huggingface/tokenizers: The current process just got forked, after parallelism has already been used. Disabling parallelism to avoid deadlocks...\n",
      "To disable this warning, you can either:\n",
      "\t- Avoid using `tokenizers` before the fork if possible\n",
      "\t- Explicitly set the environment variable TOKENIZERS_PARALLELISM=(true | false)\n"
     ]
    },
    {
     "name": "stderr",
     "output_type": "stream",
     "text": [
      "100%|██████████| 15/15 [00:04<00:00,  3.62it/s]\n",
      "100%|██████████| 15/15 [00:03<00:00,  3.96it/s]\n",
      "WARNING:root:tokens with box stored in SpanGroup span.box will be deprecated (that is, future Spans wont contain box). Ensure Document is annotated with tokens having box stored in SpanGroup box_group.boxes\n",
      "WARNING:root:tokens with box stored in SpanGroup span.box will be deprecated (that is, future Spans wont contain box). Ensure Document is annotated with tokens having box stored in SpanGroup box_group.boxes\n",
      "WARNING:root:tokens with box stored in SpanGroup span.box will be deprecated (that is, future Spans wont contain box). Ensure Document is annotated with tokens having box stored in SpanGroup box_group.boxes\n",
      "100%|██████████| 15/15 [01:03<00:00,  4.22s/it]\n"
     ]
    }
   ],
   "source": [
    "recipe_doc = CoreRecipe()\n",
    "\n",
    "doc = recipe_doc.from_path('./test_fixtures/test_doc_sha_d0450478c38dda61f9943f417ab9fcdb2ebeae0a.pdf')"
   ]
  },
  {
   "cell_type": "code",
   "execution_count": 33,
   "id": "d7db773a-c460-46d1-84a6-52f5782d6262",
   "metadata": {
    "tags": []
   },
   "outputs": [
    {
     "data": {
      "text/plain": [
       "['tokens',\n",
       " 'rows',\n",
       " 'pages',\n",
       " 'words',\n",
       " 'layout',\n",
       " 'equations',\n",
       " 'blocks',\n",
       " 'vila_span_groups']"
      ]
     },
     "execution_count": 33,
     "metadata": {},
     "output_type": "execute_result"
    }
   ],
   "source": [
    "doc.fields"
   ]
  },
  {
   "cell_type": "code",
   "execution_count": 34,
   "id": "47b6d5f3-3825-405e-ad75-1dd21678426c",
   "metadata": {
    "tags": []
   },
   "outputs": [],
   "source": [
    "doc.remove('blocks')"
   ]
  },
  {
   "cell_type": "code",
   "execution_count": 35,
   "id": "9aabf25c-112f-40ef-93e9-ba706dfa4242",
   "metadata": {
    "tags": []
   },
   "outputs": [],
   "source": [
    "doc.remove('layout')"
   ]
  },
  {
   "cell_type": "code",
   "execution_count": 36,
   "id": "244324db-e23d-4cc9-8ecc-6227c2377755",
   "metadata": {
    "tags": []
   },
   "outputs": [],
   "source": [
    "doc.remove('equations')"
   ]
  },
  {
   "cell_type": "code",
   "execution_count": 37,
   "id": "bd061e2f-c85b-437e-97ad-13f43a2ffa20",
   "metadata": {
    "tags": []
   },
   "outputs": [
    {
     "name": "stderr",
     "output_type": "stream",
     "text": [
      "100%|██████████████████████████████████████████████████████████████████████████████████████████████████████████████████████████████████████████████████████████████| 15/15 [00:03<00:00,  3.76it/s]\n",
      "100%|██████████████████████████████████████████████████████████████████████████████████████████████████████████████████████████████████████████████████████████████| 15/15 [00:03<00:00,  4.07it/s]\n"
     ]
    }
   ],
   "source": [
    "layout = recipe_doc.effdet_publaynet_predictor.predict(document=doc)\n",
    "equations = recipe_doc.effdet_mfd_predictor.predict(document=doc)"
   ]
  },
  {
   "cell_type": "code",
   "execution_count": 38,
   "id": "a56419eb-b861-409f-9a18-52b101d0f75b",
   "metadata": {
    "tags": []
   },
   "outputs": [],
   "source": [
    "dict_to_save = {'layout_equations': layout + equations, 'doc': doc}"
   ]
  },
  {
   "cell_type": "code",
   "execution_count": 45,
   "id": "5a683076-c8bb-4ab6-a3cc-20145a6e6de5",
   "metadata": {
    "tags": []
   },
   "outputs": [],
   "source": [
    "dict_to_save_json = {'layout_equations': [entry.to_json() for entry in dict_to_save['layout_equations']], 'doc': doc.to_json(with_images=True) }"
   ]
  },
  {
   "cell_type": "code",
   "execution_count": 46,
   "id": "99c4615e-8e20-42f6-b0d7-8b41580308ac",
   "metadata": {
    "tags": []
   },
   "outputs": [],
   "source": [
    "import json\n",
    "with open('./test_fixtures/test_doc_sha_d0450478c38dda61f9943f417ab9fcdb2ebeae0a.json', 'w') as f:\n",
    "    json.dump(dict_to_save_json, f)"
   ]
  }
 ],
 "metadata": {
  "kernelspec": {
   "display_name": "mmda",
   "language": "python",
   "name": "mmda"
  },
  "language_info": {
   "codemirror_mode": {
    "name": "ipython",
    "version": 3
   },
   "file_extension": ".py",
   "mimetype": "text/x-python",
   "name": "python",
   "nbconvert_exporter": "python",
   "pygments_lexer": "ipython3",
   "version": "3.8.16"
  }
 },
 "nbformat": 4,
 "nbformat_minor": 5
}
