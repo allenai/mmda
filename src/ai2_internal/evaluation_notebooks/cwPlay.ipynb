{
 "cells": [
  {
   "cell_type": "markdown",
   "metadata": {},
   "source": [
    "# MAKE SPP API CALLS #\n",
    "\n",
    "# STEP 0 = choose pyenv = spp for the kernel here!!! \n",
    "# STEP 1 = run sanity check cell below\n",
    "# STEP 2 = run setup cell after that\n",
    "# Then make the client.get_document() calls"
   ]
  },
  {
   "cell_type": "code",
   "execution_count": 1,
   "metadata": {},
   "outputs": [
    {
     "name": "stdout",
     "output_type": "stream",
     "text": [
      "SANITY CHECK 1 = Should have MMDA version >= 0.3.5\n",
      "Name: mmda\n",
      "Version: 0.4.3\n",
      "Summary: MMDA - multimodal document analysis\n",
      "Home-page: None\n",
      "Author: None\n",
      "Author-email: Allen Institute for Artificial Intelligence <contact@allenai.org>\n",
      "License: Apache-2.0\n",
      "Location: /Users/carolinew/.pyenv/versions/3.9.6/envs/spp/lib/python3.9/site-packages\n",
      "Requires: necessary, requests, pdfplumber, ncls, pandas, pdf2image, tqdm, pydantic\n",
      "Required-by: spp-client\n",
      "\n",
      "SANITY CHECK 2 = Should have spp-client version == 0.3.1\n",
      "Name: spp-client\n",
      "Version: 0.3.1\n",
      "Summary: For retrieving SPP document data in handy dandy mmda format\n",
      "Home-page: https://github.com/allenai/spp/client\n",
      "Author: None\n",
      "Author-email: None\n",
      "License: None\n",
      "Location: /Users/carolinew/.pyenv/versions/3.9.6/envs/spp/lib/python3.9/site-packages\n",
      "Requires: requests, boto3, annotation-store-client, mmda\n",
      "Required-by: \n"
     ]
    }
   ],
   "source": [
    "# STEP 1 = SANITY CHECKS\n",
    "print(\"SANITY CHECK 1 = Should have MMDA version >= 0.3.5\")\n",
    "! pip show mmda\n",
    "\n",
    "print(\"\\nSANITY CHECK 2 = Should have spp-client version == 0.3.1\")\n",
    "! pip show spp-client"
   ]
  },
  {
   "cell_type": "code",
   "execution_count": 2,
   "metadata": {},
   "outputs": [],
   "source": [
    "# STEP 2 = SETUP\n",
    "import json\n",
    "from spp_client.client import (\n",
    "    mmda_span_group_to_text_via_dwp_words,\n",
    "    RelationTypeId,\n",
    "    SppClient,\n",
    ")\n",
    "client = SppClient.mk(env=\"dev\")\n",
    "\n",
    "sha = \"TODO later!\"\n",
    "spp_mmda_version = \"TODO later!\""
   ]
  },
  {
   "cell_type": "markdown",
   "metadata": {},
   "source": [
    "# Here's an example of a SPP API call!"
   ]
  },
  {
   "cell_type": "code",
   "execution_count": 3,
   "metadata": {},
   "outputs": [],
   "source": [
    "### API CALL = For s2airs PR430 tests! \n",
    "\n",
    "sha = '496a7f1f2eae30d375fd5fb2c55829fcffc93dfa'\n",
    "spp_mmda_version = \"0.0.22\"\n",
    "\n",
    "spp_mmda_doc, spp_mmda_relations = client.get_document(\n",
    "    sha,\n",
    "    spp_mmda_version,\n",
    "    annotation_types=[\n",
    "        \"pages\",\n",
    "        \"tokens\",\n",
    "        \"rows\",\n",
    "        \"bib_entries\",\n",
    "        \"term_contexts\",\n",
    "        \"term_mentions\"\n",
    "        \"words\"\n",
    "        ],\n",
    "    relation_types=[],\n",
    "    allow_missing=True,\n",
    "    include_images=True\n",
    "    )\n",
    "\n",
    "dir(spp_mmda_doc)"
   ]
  },
  {
   "cell_type": "code",
   "execution_count": 11,
   "metadata": {},
   "outputs": [
    {
     "name": "stdout",
     "output_type": "stream",
     "text": [
      "AutoAlpha: an Efﬁcient Hierarchical Evolutionary Algorithm for Mining Alpha\n",
      "Factors in Quantitative Investment\n",
      "Tianping Zhang , Yuanqi Li , Yifei Jin , Jian Li\n",
      "Institute for Interdisciplinary Information Sciences (IIIS), Tsinghua University, China\n",
      "ztp18@mails.tsinghua.edu.cn, { timezerolyq, yfjin199\n",
      "dict_keys(['symbols', 'metadata', 'term_contexts', 'tokens', 'rows', 'bib_entries', 'pages'])\n",
      "{\n",
      "    \"spans\": [\n",
      "        {\n",
      "            \"start\": 845,\n",
      "            \"end\": 1028\n",
      "        }\n",
      "    ],\n",
      "    \"id\": 17,\n",
      "    \"metadata\": {},\n",
      "    \"box_group\": {\n",
      "        \"boxes\": [\n",
      "            {\n",
      "                \"left\": 0.20467692450980385,\n",
      "                \"top\": 0.43581732525252515,\n",
      "                \"width\": 0.24805571699346418,\n",
      "                \"height\": 0.012579040404040343,\n",
      "                \"page\": 0\n",
      "            },\n",
      "            {\n",
      "                \"left\": 0.12079248366013065,\n",
      "                \"top\": 0.4496544464646463,\n",
      "                \"width\": 0.33194015784313735,\n",
      "                \"height\": 0.012579040404040398,\n",
      "                \"page\": 0\n",
      "            },\n",
      "            {\n",
      "                \"left\": 0.12079248366013065,\n",
      "                \"top\": 0.4632022497474746,\n",
      "                \"width\": 0.33194965555555556,\n",
      "                \"height\": 0.01286835833333333,\n",
      "                \"page\": 0\n",
      "            },\n",
      "            {\n",
      "                \"left\": 0.12079248366013062,\n",
      "                \"top\": 0.47732742626262614,\n",
      "                \"width\": 0.3319401578431375,\n",
      "                \"height\": 0.012579040404040398,\n",
      "                \"page\": 0\n",
      "            }\n",
      "        ],\n",
      "        \"id\": 17\n",
      "    }\n",
      "}\n"
     ]
    }
   ],
   "source": [
    "# If i want to get symbols\n",
    "print(getattr(spp_mmda_doc, \"symbols\")[:300])\n",
    "\n",
    "# If I want to turn it to json using mmda method\n",
    "mmdaJson = spp_mmda_doc.to_json()\n",
    "print(mmdaJson.keys())\n",
    "\n",
    "# If I want to only look at some things\n",
    "tcs = mmdaJson[\"term_contexts\"]\n",
    "for tc in tcs:\n",
    "    if (tc['id'] == 17):\n",
    "        print(json.dumps(tc, indent=4))\n",
    "\n",
    "# If I want to save this as .json\n",
    "    # first need to serialize that jsoon\n",
    "json_object = json.dumps(mmdaJson, indent=4)\n",
    "with open(\"sample.json\", \"w\") as outfile:\n",
    "    outfile.write(json_object)\n",
    "    # now can use this file, and cut out things I don't care about, use for testing purposes as seen in s2airs PR 430\n",
    "\n",
    "# Q = The resulting .json has keys=[\"symbols\", 'term_contexts', 'tokens', 'rows', 'bib_entries', 'pages], but what about \"term_mentions\"?!?!?!\n",
    "# A = That's bc SPP just happens to not have that assembled for us.  But s2airs DOES!  So Chloe actually had s2airs do it. (which I saved to https://github.com/allenai/s2airs/blob/cwPlayGetMmdaDocument/s2airs/upstream/pipelines/selfserve_v0/retrievers/spptommda.py#L81-L95)\n",
    "    # okay so I temporarily made these changes locally:\n",
    "    # diff --git a/s2airs/upstream/pipelines/selfserve_v0/retrievers/spptommda.py b/s2airs/upstream/pipelines/selfserve_v0/retrievers/spptommda.py\n",
    "    # index d55e8dda..0251b2f8 100644\n",
    "    # --- a/s2airs/upstream/pipelines/selfserve_v0/retrievers/spptommda.py\n",
    "    # +++ b/s2airs/upstream/pipelines/selfserve_v0/retrievers/spptommda.py\n",
    "    # @@ -1,4 +1,5 @@\n",
    "    #  from dataclasses import asdict, dataclass\n",
    "    # +import json\n",
    "    #  from typing import List\n",
    "\n",
    "    #  from scholar_data_util.events.annotation_store import AnnotationStoreEvent\n",
    "    # @@ -78,6 +79,8 @@ class SppToMMDA(Retriever[AnnotationStoreEvent, MMDAInput]):\n",
    "    #              include_as_attrs=self.spp_client_args.include_as_attrs,\n",
    "    #          )\n",
    "\n",
    "    # +        print(json.dumps(doc.to_json(), indent=2))\n",
    "    # +\n",
    "    #          # build our location info dict\n",
    "    #          loc_info_dict = self.spp_client_args.dict_version()\n",
    "    #          loc_info_dict[\"spp_version_only\"] = spp_version_only\n",
    "    # brought up a local s2airs stack, and sent it a message for your pdf with the relevant version:\n",
    "    # curl -XPOST \"http://localhost:9000/2015-03-31/functions/function/invocations\" -d '{\n",
    "    #     \"Records\": [\n",
    "    #         {\n",
    "    #             \"body\": {\"type\": \"Annotation_PDF\", \"id\": \"496a7f1f2eae30d375fd5fb2c55829fcffc93dfa\", \"timestamp\": \"2022-07-06T18:49:30.183324+00:00\", \"action\": \"modified\", \"publisher\": \"science-parse-plus\", \"channel\": \"default\", \"trace\": [\"940c9d51-37f0-475a-9202-08f210230fad\"], \"source\": \"spp-0.0.22\"}\n",
    "    #         }\n",
    "    #     ]\n",
    "    # }'\n",
    "    # null%\n",
    "    # then I piped the output of the logs to a file:\n",
    "    # make local-lambda-logs > 496a7f1f2eae30d375fd5fb2c55829fcffc93dfa-spp-0.0.22-terms-pretty.json\n",
    "    # and deleted the logs before and after the json part\n"
   ]
  },
  {
   "cell_type": "code",
   "execution_count": null,
   "metadata": {},
   "outputs": [],
   "source": []
  },
  {
   "cell_type": "markdown",
   "metadata": {},
   "source": [
    "# Other examples below for posterity..."
   ]
  }
 ],
 "metadata": {
  "interpreter": {
   "hash": "c3d423d9951799dc36cf6fbf27c9169c5ac24f9f16d3113630166130e0a716b1"
  },
  "kernelspec": {
   "display_name": "Python 3.9.6 64-bit ('spp')",
   "language": "python",
   "name": "python3"
  },
  "language_info": {
   "codemirror_mode": {
    "name": "ipython",
    "version": 3
   },
   "file_extension": ".py",
   "mimetype": "text/x-python",
   "name": "python",
   "nbconvert_exporter": "python",
   "pygments_lexer": "ipython3",
   "version": "3.9.6"
  },
  "orig_nbformat": 4
 },
 "nbformat": 4,
 "nbformat_minor": 2
}
