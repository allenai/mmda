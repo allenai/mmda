{
 "cells": [
  {
   "cell_type": "markdown",
   "id": "e4f2fe41",
   "metadata": {},
   "source": [
    "# SP+ End-to-end Evaluation: Annotation"
   ]
  },
  {
   "attachments": {},
   "cell_type": "markdown",
   "id": "0a5f7d6e",
   "metadata": {},
   "source": [
    "## 0. Setting up your environment\n",
    "### Install spp client to your local device: \n",
    "`pip install -i https://pip.s2.allenai.org/simple spp_client==0.3.1`\n",
    "\n",
    "### make sure you have the other important notebook pieces\n",
    "`pip install layoutparser`  \n",
    "`pip install matplotlib`"
   ]
  },
  {
   "cell_type": "markdown",
   "id": "8daa8ab5",
   "metadata": {},
   "source": [
    "## 1. Get data from annotation store via spp_client"
   ]
  },
  {
   "cell_type": "markdown",
   "id": "18b9d55b",
   "metadata": {},
   "source": [
    "### 1a. Get and set sources\n",
    "Retreive information about the sources for each annotation - mentions, bib-entries, bib-entry-parses, and pdf plumber"
   ]
  },
  {
   "cell_type": "code",
   "execution_count": 1,
   "id": "b6b1dc26",
   "metadata": {
    "tags": [
     "parameters"
    ]
   },
   "outputs": [],
   "source": [
    "####################################################################\n",
    "# ANNOTATOR TODO: change this to sha you're analyzing\n",
    "####################################################################\n",
    "\n",
    "#This sha will get overwritten when running autogenerater script\n",
    "sha = '61f1ac16610fcc20ba49432aa7a5943ad5b7fdd8'"
   ]
  },
  {
   "cell_type": "code",
   "execution_count": 2,
   "id": "01fbbcd2",
   "metadata": {},
   "outputs": [],
   "source": [
    "# SPP versions for eval samples\n",
    "spp_grobid_version = \"dag-0.0.4\"\n",
    "spp_mmda_version = \"dag-0.0.5\""
   ]
  },
  {
   "cell_type": "code",
   "execution_count": 3,
   "id": "aa22c98a",
   "metadata": {},
   "outputs": [
    {
     "name": "stdout",
     "output_type": "stream",
     "text": [
      "Name: mmda\n",
      "Version: 0.3.2\n",
      "Summary: MMDA - multimodal document analysis\n",
      "Home-page: \n",
      "Author: \n",
      "Author-email: Allen Institute for Artificial Intelligence <contact@allenai.org>\n",
      "License: Apache-2.0\n",
      "Location: /Users/angelez/miniconda3/envs/mmda_bailey_annot_b058/lib/python3.8/site-packages\n",
      "Requires: ncls, necessary, pandas, pdf2image, pdfplumber, pydantic, requests, tqdm\n",
      "Required-by: spp-client\n"
     ]
    }
   ],
   "source": [
    "# Should have MMDA version >= 0.3.5\n",
    "! pip show mmda"
   ]
  },
  {
   "cell_type": "markdown",
   "id": "fc696479",
   "metadata": {},
   "source": [
    "### 1b. Retrieve Annotations\n",
    "Using the sources obtained from the previous cell, we will now retreive the annotations for each source via spp_client."
   ]
  },
  {
   "cell_type": "code",
   "execution_count": 4,
   "id": "29cd21cc",
   "metadata": {},
   "outputs": [],
   "source": [
    "# Get annotations and data as text using spp client\n",
    "from spp_client.client import (\n",
    "    mmda_span_group_to_text_via_dwp_words,\n",
    "    RelationTypeId,\n",
    "    SppClient,\n",
    ")\n",
    "client = SppClient.mk(env=\"dev\")\n",
    "\n",
    "spp_grobid_doc, relations = client.get_document(\n",
    "            sha,\n",
    "            spp_grobid_version,\n",
    "            annotation_types=[\n",
    "                \"pages\",\n",
    "                \"tokens\",\n",
    "                \"rows\",\n",
    "                \"bib_entries\",\n",
    "                \"citation_mentions\",\n",
    "                \"bib_entry_titles\",\n",
    "                \"bib_entry_dois\",\n",
    "                \"bib_entry_years\",\n",
    "                \"words\"\n",
    "            ],\n",
    "            relation_types=[\n",
    "                RelationTypeId(\"refers_to\", \"citation_mentions\", \"bib_entries\")\n",
    "            ],\n",
    "            allow_missing=True,\n",
    "            include_images=True\n",
    "        )\n"
   ]
  },
  {
   "cell_type": "code",
   "execution_count": 5,
   "id": "16dfacc7",
   "metadata": {},
   "outputs": [
    {
     "name": "stdout",
     "output_type": "stream",
     "text": [
      "['bib_entry_years', 'citation_mentions', 'bib_entry_titles', 'words', 'tokens', 'rows', 'bib_entry_dois', 'bib_entries', 'pages']\n"
     ]
    }
   ],
   "source": [
    "print(spp_grobid_doc.fields)\n",
    "\n",
    "if 'bib_entries' not in spp_grobid_doc.fields:\n",
    "    print(\"No bib_entries!\")"
   ]
  },
  {
   "cell_type": "markdown",
   "id": "670ccd6f",
   "metadata": {},
   "source": [
    "## 2. Visalize Mentions (draw boxes)\n",
    "Use draw_boxes to visualize each mention."
   ]
  },
  {
   "attachments": {},
   "cell_type": "markdown",
   "id": "726a378c",
   "metadata": {},
   "source": [
    "### 2a. Make Layout Rectangles for mentions so that vizes can be made for them."
   ]
  },
  {
   "cell_type": "code",
   "execution_count": 6,
   "id": "699b78cd",
   "metadata": {},
   "outputs": [],
   "source": [
    "#imports\n",
    "from collections import defaultdict\n",
    "import layoutparser.elements as lpe\n",
    "import layoutparser.visualization as lpv\n",
    "from typing import List\n",
    "\n",
    "#function to create box groups from mentions on the mmda doc\n",
    "def make_boxgroups_mentions(mmda_doc):\n",
    "\n",
    "    result_boxes_by_page = defaultdict(list)\n",
    "    original_boxes_by_page = defaultdict(list)\n",
    "    \n",
    "    for mention in mmda_doc.citation_mentions:\n",
    "        for box in mention.box_group.boxes:\n",
    "            original_boxes_by_page[box.page].append(box) \n",
    "            \n",
    "    #mapping between pages and spans on page\n",
    "    for page, list_of_boxes in original_boxes_by_page.items():\n",
    "        page_w, page_h = mmda_doc.images[page].size\n",
    "\n",
    "\n",
    "        for box in list_of_boxes:\n",
    "            if box.page == page:\n",
    "                result_boxes_by_page[page].append(lpe.Rectangle(\n",
    "                        box.l * page_w,\n",
    "                        box.t * page_h,\n",
    "                        (box.l + box.w) * page_w,\n",
    "                        (box.t + box.h) * page_h\n",
    "                    ))\n",
    "            else:\n",
    "                raise ValueError('Page number')\n",
    "    return result_boxes_by_page"
   ]
  },
  {
   "cell_type": "markdown",
   "id": "40eaf7c9",
   "metadata": {},
   "source": [
    "## 3. Get references and s2 id's for each mention."
   ]
  },
  {
   "cell_type": "markdown",
   "id": "b34d8d19",
   "metadata": {},
   "source": [
    "### 3a. Retreive citation mention numbers and which bib entries they are linked to."
   ]
  },
  {
   "cell_type": "code",
   "execution_count": 7,
   "id": "e390bde1",
   "metadata": {},
   "outputs": [],
   "source": [
    "# ie: for citation_mention '0', the bib_entry_id it's linked to is '3'. \n",
    "citation_links = defaultdict(int)\n",
    "\n",
    "for relation in relations[list(relations.keys())[0]]:\n",
    "    #add to list of citation link data\n",
    "    citation_links[relation.from_id] = relation.to_id"
   ]
  },
  {
   "cell_type": "markdown",
   "id": "8cb6d7f1",
   "metadata": {},
   "source": [
    "### 3b. Use API call to find what s2 paper each bib entry is linked to."
   ]
  },
  {
   "cell_type": "code",
   "execution_count": 8,
   "id": "d82b4657",
   "metadata": {},
   "outputs": [],
   "source": [
    "def get_index_of_bib_entry_with_id(bib_entry_id, mmda_doc):\n",
    "    linked_bib_entry_index_list = [i for i, bib_entry in enumerate(mmda_doc.bib_entries) if bib_entry.id == bib_entry_id]\n",
    "    assert len(linked_bib_entry_index_list) == 1, f\"there should be exactly one bib_entry with the id {bib_entry_id}.\"\n",
    "    return linked_bib_entry_index_list[0]\n",
    "\n",
    "def extract_first_group_symbols(span_groups):\n",
    "    if len(span_groups) > 1:\n",
    "        print(\"warning: multiple span_groups detected when 0 or 1 expected\")\n",
    "        for i, sg in enumerate(span_groups):\n",
    "             print(i, sg.text)\n",
    "    try: \n",
    "        first_one = span_groups[0] \n",
    "        text = mmda_span_group_to_text_via_dwp_words(first_one)\n",
    "    except IndexError: # case where was no annotation detected so span_groups was empty list\n",
    "            text = \"\" # it can be empty or say \"no text detected\" or something\n",
    "    return text\n",
    "\n",
    "def extract_first_group_symbols_no_dwp(span_groups):\n",
    "    if len(span_groups) > 1:\n",
    "        print(\"warning: multiple span_groups detected when 0 or 1 expected\")\n",
    "        for i, sg in enumerate(span_groups):\n",
    "            print(i, sg.text)\n",
    "    try: \n",
    "        first_one = span_groups[0] \n",
    "        text = mmda_span_group_to_text_via_dwp_words(first_one)\n",
    "    except IndexError: # case where was no annotation detected so span_groups was empty list\n",
    "            text = \"\" # it can be empty or say \"no text detected\" or something\n",
    "    return text\n",
    "\n",
    "\n",
    "def get_bib_entry_title(citation_mention_id, mmda_doc):\n",
    "    linked_bib_id = citation_links[citation_mention_id]\n",
    "    # print(\"linked_bib_id: \", linked_bib_id)\n",
    "    # Accessing the linked bib_entry this way is error-prone because MMDA annotations can't be assumed to be sorted by SpanGroup IDs\n",
    "    # bib_title_span_groups = mmda_doc.bib_entries[linked_bib_id].bib_entry_titles \n",
    "    # We have to find the correct bib_entry this way:\n",
    "    linked_bib_index = get_index_of_bib_entry_with_id(linked_bib_id, mmda_doc)\n",
    "    if len(mmda_doc.bib_entry_titles) == 0:\n",
    "        return None\n",
    "    bib_title_span_groups = mmda_doc.bib_entries[linked_bib_index].bib_entry_titles \n",
    "    text_words = extract_first_group_symbols(bib_title_span_groups)\n",
    "    if text_words == \"\":\n",
    "         text_words = None\n",
    "\n",
    "    return text_words\n",
    "\n",
    "def get_bib_entry_year(citation_mention_id, mmda_doc):\n",
    "    linked_bib_id = citation_links[citation_mention_id]\n",
    "    linked_bib_index = get_index_of_bib_entry_with_id(linked_bib_id, mmda_doc)\n",
    "    if len(mmda_doc.bib_entry_years) == 0:\n",
    "        return None\n",
    "    bib_year_span_groups = mmda_doc.bib_entries[linked_bib_index].bib_entry_years \n",
    "    text_symbols = extract_first_group_symbols_no_dwp(bib_year_span_groups)\n",
    "    try:\n",
    "        year = int(text_symbols)\n",
    "    except:\n",
    "        # If the year fails to be mapped to integer, default to None\n",
    "        year = None\n",
    "\n",
    "    return year\n",
    "\n",
    "def get_bib_entry_doi(citation_mention_id, mmda_doc):\n",
    "    linked_bib_id = citation_links[citation_mention_id]\n",
    "    linked_bib_index = get_index_of_bib_entry_with_id(linked_bib_id, mmda_doc)\n",
    "    if len(mmda_doc.bib_entry_dois) == 0: \n",
    "         return None\n",
    "    bib_doi_span_groups = mmda_doc.bib_entries[linked_bib_index].bib_entry_dois\n",
    "    text_symbols = extract_first_group_symbols_no_dwp(bib_doi_span_groups)\n",
    "    if text_symbols == \"\":\n",
    "         text_symbols = None\n",
    "    return text_symbols\n",
    "\n",
    "def get_full_bib_entry_text(citation_mention_id, mmda_doc):\n",
    "    linked_bib_id = citation_links[citation_mention_id]\n",
    "    linked_bib_index = get_index_of_bib_entry_with_id(linked_bib_id, mmda_doc)\n",
    "\n",
    "    bib_span_groups = [mmda_doc.bib_entries[linked_bib_index]]\n",
    "    text_symbols = extract_first_group_symbols(bib_span_groups)\n",
    "\n",
    "    return text_symbols"
   ]
  },
  {
   "cell_type": "code",
   "execution_count": 9,
   "id": "69523ad6",
   "metadata": {},
   "outputs": [],
   "source": [
    "#make api call to get linked papers\n",
    "import json\n",
    "import requests\n",
    "\n",
    "def make_payload(mention_id, mmda_doc):\n",
    "    payload = dict()\n",
    "    # make payload similar to how s2matchmaker does\n",
    "    # https://github.com/allenai/s2matchmaker/blob/a88bc1415cc28c0e4c644e5394529229db0a9c13/s2matchmaker/model/bib_entry_info.py#L32\n",
    "    title = get_bib_entry_title(mention_id, mmda_doc) # make sure exists -- if no title then no payload\n",
    "    if not title:\n",
    "        return payload\n",
    "    # optional attributes will have None value in the payload even it is missing from the attributes\n",
    "    year = get_bib_entry_year(mention_id, mmda_doc) # make sure is int, no dwp\n",
    "    doi = get_bib_entry_doi(mention_id, mmda_doc) # no dwp \n",
    "    \n",
    "    payload.update({'title': title, 'year': year, 'matchedDoi': doi})\n",
    "\n",
    "    return payload\n",
    "\n",
    "\n",
    "def bibLinkingApiPost(payload, end_point='http://pipeline-api.prod.s2.allenai.org/citation/match'):\n",
    "    payload_str = json.dumps([payload])\n",
    "    headers = {\n",
    "        'Content-Type': 'application/json'\n",
    "    }\n",
    "    response = requests.request(\"POST\", end_point, headers=headers, data=payload_str).json()\n",
    "    return response\n",
    "\n",
    "\n",
    "\n",
    "# get s2_ids linked to each mention\n",
    "def get_s2_ids(mmda_doc):\n",
    "    s2_ids = []\n",
    "    for citation_mention in mmda_doc.citation_mentions:\n",
    "        payload = make_payload(citation_mention.id, mmda_doc)\n",
    "        if not payload:\n",
    "            s2_ids.append(\"\")\n",
    "            continue\n",
    "        matched_s2_id = str((bibLinkingApiPost(payload))).replace('[', '').replace(']', '')\n",
    "        s2_ids.append(matched_s2_id)\n",
    "    return s2_ids"
   ]
  },
  {
   "cell_type": "markdown",
   "id": "59efc1db",
   "metadata": {},
   "source": [
    "## 4. Annotation Info!"
   ]
  },
  {
   "cell_type": "code",
   "execution_count": 10,
   "id": "7cd13912",
   "metadata": {},
   "outputs": [
    {
     "name": "stdout",
     "output_type": "stream",
     "text": [
      "page to annotate: 0\n"
     ]
    }
   ],
   "source": [
    "####################################################################\n",
    "# ANNOTATOR TODO: Record page # from output in annotation spreadsheet\n",
    "####################################################################\n",
    "\n",
    "# get random page number to review and annotate\n",
    "import random\n",
    "\n",
    "pages_w_mentions = [citation_mention.pages[0].id for citation_mention in spp_grobid_doc.citation_mentions]\n",
    "\n",
    "annot_page = random.choice(pages_w_mentions)\n",
    "print(\"page to annotate:\", annot_page)"
   ]
  },
  {
   "cell_type": "code",
   "execution_count": 11,
   "id": "40b53886",
   "metadata": {},
   "outputs": [
    {
     "ename": "SyntaxError",
     "evalue": "invalid syntax (1042526348.py, line 6)",
     "output_type": "error",
     "traceback": [
      "\u001b[0;36m  Cell \u001b[0;32mIn[11], line 6\u001b[0;36m\u001b[0m\n\u001b[0;31m    def generate_ref_info(mmda_doc)\u001b[0m\n\u001b[0m                                   ^\u001b[0m\n\u001b[0;31mSyntaxError\u001b[0m\u001b[0;31m:\u001b[0m invalid syntax\n"
     ]
    }
   ],
   "source": [
    "# gives table of SPP mentions and their corresponding bib_entry ids \n",
    "# (if the doc is annotated with bib_entries), and s2 linked papers \n",
    "import pandas as pd\n",
    "from IPython.display import HTML\n",
    "\n",
    "def generate_ref_info(mmda_doc)\n",
    "    if 'bib_entries' in mmda_doc.fields:\n",
    "        s2_ids = get_s2_ids(mmda_doc)\n",
    "        ref_info = {\n",
    "            # \"Mention ID\": [citation_mention.id for citation_mention in mmda_doc.citation_mentions],\n",
    "            \"Page\": [citation_mention.pages[0].id for citation_mention in mmda_doc.citation_mentions],\n",
    "            \"Mention text\": [citation_mention.symbols for citation_mention in mmda_doc.citation_mentions],\n",
    "            # Bib entry and title texts are DWP \"words\".texts\n",
    "            \"Linked Bib Entry Extracted Text\": [get_full_bib_entry_text(citation_mention.id) for citation_mention in mmda_doc.citation_mentions],    \n",
    "            \"Linked Bib Entry Title\": [get_bib_entry_title(citation_mention.id) for citation_mention in mmda_doc.citation_mentions],    \n",
    "            # \"Linked Bib id\": [citation_links[citation_mention.id] for citation_mention in mmda_doc.citation_mentions],\n",
    "            \"S2 id:\": [ids if ids != str(-1) else \" \" for ids in s2_ids],\n",
    "            \"S2 url\": [f\"http://api.semanticscholar.org/corpusid:{ids}\" if ids != str(-1) else \" \" for ids in s2_ids]\n",
    "            }\n",
    "    else:\n",
    "        ref_info = {\n",
    "            # \"Mention ID\": [citation_mention.id for citation_mention in mmda_doc.citation_mentions],\n",
    "            \"Page\": [citation_mention.pages[0].id for citation_mention in mmda_doc.citation_mentions],\n",
    "            \"Mention text\": [citation_mention.symbols for citation_mention in mmda_doc.citation_mentions],\n",
    "            \"Linked Bib Entry Title\": [\"no bibs\" for citation_mention in mmda_doc.citation_mentions],    \n",
    "            \"Linked Bib Entry Extracted Text\": [\"no bibs\" for citation_mention in mmda_doc.citation_mentions],    \n",
    "            \"S2 id:\": [\"no bibs\" for citation_mention in mmda_doc.citation_mentions],\n",
    "            \"S2 url\": [\"no bibs\" for citation_mention in mmda_doc.citation_mentions]\n",
    "            }\n",
    "    return ref_info\n",
    "\n",
    "spp_grobid_ref_info = generate_ref_info(spp_grobid_doc)\n",
    "\n",
    "spp_grobid_df = pd.DataFrame.from_dict(spp_grobid_ref_info, orient='index')\n",
    "spp_grobid_df = spp_grobid_df.transpose()\n",
    "\n",
    "# selecting rows based on random page selected to annotate\n",
    "# you can comment the line below out to see all mentions across all pages\n",
    "# spp_df = spp_df[spp_df['Page'] == annot_page]\n",
    "\n",
    "\n",
    "# make s2 links clickable\n",
    "print(\"SPP-Grobid:\")\n",
    "HTML(spp_grobid_df.to_html(render_links=True, escape=False))"
   ]
  },
  {
   "cell_type": "code",
   "execution_count": null,
   "id": "efc17903",
   "metadata": {},
   "outputs": [],
   "source": [
    "#egor version\n",
    "def draw_boxgroups(image, rectangle_list, color_map=None, id_map=None):\n",
    "    viz = []\n",
    "    if color_map is None:\n",
    "        color_map={'color_1': 'blue', 'color_2': 'green', 'color_3': 'yellow', 'color_4': 'pink'}\n",
    "\n",
    "    for rectangle in rectangle_list:\n",
    "        viz.append(lpe.TextBlock(rectangle,\n",
    "                                 type=f'color_1'\n",
    "                                )\n",
    "                  )\n",
    "\n",
    "    if image:\n",
    "        return lpv.draw_box(image,\n",
    "                            viz,\n",
    "                            color_map=color_map,\n",
    "                            show_element_id=False,\n",
    "                            id_font_size=10)\n",
    "    \n",
    "    return None"
   ]
  },
  {
   "cell_type": "code",
   "execution_count": null,
   "id": "745fc1e4",
   "metadata": {
    "scrolled": true
   },
   "outputs": [],
   "source": [
    "# mentions imgs\n",
    "import cv2\n",
    "from matplotlib import pyplot as plt\n",
    "from matplotlib.pyplot import figure\n",
    "\n",
    "\n",
    "rows = 1\n",
    "columns = 2\n",
    "fontsize = 48\n",
    "\n",
    "print(\"annotation page: \", annot_page)\n",
    "\n",
    "#spp\n",
    "#make boxes and save as image\n",
    "boxes_by_page = make_boxgroups_mentions(spp_grobid_doc)\n",
    "image1 = draw_boxgroups(spp_grobid_doc.images[annot_page], boxes_by_page[annot_page])\n",
    "\n",
    "#plot\n",
    "fig = plt.figure(figsize=(50, 50))\n",
    "fig.add_subplot(rows, columns, 1)\n",
    "plt.axis('off')\n",
    "plt.title(\"SPP Mentions\",fontdict={'fontsize': fontsize})\n",
    "plt.imshow(image1)\n"
   ]
  },
  {
   "cell_type": "code",
   "execution_count": null,
   "id": "7423b66f",
   "metadata": {},
   "outputs": [],
   "source": [
    "# View all mentions\n",
    "# uncomment below to see all pages that have mentions (not just the selected annotation page)\n",
    "\n",
    "# print(\"annotation page: \", annot_page)\n",
    "\n",
    "# for page in boxes_by_page:\n",
    "#     print(f\"page {page}:\")\n",
    "#     display(draw_boxgroups(mmda_doc.images[page], boxes_by_page[page]))"
   ]
  },
  {
   "cell_type": "code",
   "execution_count": null,
   "id": "daa08795",
   "metadata": {},
   "outputs": [],
   "source": [
    "def draw_text_blocks(page, text_blocks_dictionary, color_map=None, id_map=None):\n",
    "    image = spp_grobid_doc.images[page]\n",
    "\n",
    "    if color_map is None:\n",
    "        color_map={'color_1': 'blue', 'color_2': 'green', 'color_3': 'yellow', 'color_4': 'pink'}\n",
    "\n",
    "    if image:\n",
    "        return lpv.draw_box(image,\n",
    "                            text_blocks_dictionary[page],\n",
    "                            color_map=color_map,\n",
    "                            show_element_id=True,\n",
    "                            id_font_size=10\n",
    "                            # id_text_background_alpha=0.2\n",
    "                            )\n",
    "    \n",
    "    return None\n",
    "\n",
    "#function to create labeled text blocks from grobid bibs on the mmda doc\n",
    "def make_text_blocks_bibs(mmda_doc):\n",
    "\n",
    "    result_text_blocks_list = defaultdict(list)\n",
    "    dictionary_of_box_groups = defaultdict(list)\n",
    "    \n",
    "    for bib in mmda_doc.bib_entries:\n",
    "        # it's always 1 box\n",
    "        dictionary_of_box_groups[bib.box_group.boxes[0].page].append(bib.box_group)\n",
    "    \n",
    "    #mapping between pages and spans on page\n",
    "    for page, box_groups in dictionary_of_box_groups.items():\n",
    "        page_w, page_h = mmda_doc.images[page].size\n",
    "\n",
    "        for box_group in box_groups:\n",
    "            # it's always 1 box\n",
    "            box = box_group.boxes[0]\n",
    "            rect = lpe.Rectangle(\n",
    "                    box.l * page_w,\n",
    "                    box.t * page_h,\n",
    "                    (box.l + box.w) * page_w,\n",
    "                    (box.t + box.h) * page_h\n",
    "                )\n",
    "            result_text_blocks_list[page].append(lpe.TextBlock(\n",
    "                rect,\n",
    "                id=box_group.id,\n",
    "                type='color_1'\n",
    "            ))\n",
    "    return result_text_blocks_list\n",
    "\n",
    "#function to create labeled text blocks from raw grobid bibs on the mmda doc\n",
    "def make_text_blocks_raw_bibs(mmda_doc):\n",
    "\n",
    "    result_boxes_by_page = defaultdict(list)\n",
    "    box_bib_id_by_page = defaultdict(list)\n",
    "    \n",
    "    for bib in mmda_doc.raw_grobid_bib_entry_boxes:\n",
    "        for box in bib.box_group.boxes:\n",
    "            box_bib_id_by_page[box.page].append([box, bib.id])\n",
    "    \n",
    "    #mapping between pages and spans on page\n",
    "    for page, list_of_boxes_and_ids in box_bib_id_by_page.items():\n",
    "        page_w, page_h = mmda_doc.images[page].size\n",
    "\n",
    "        for box_id in list_of_boxes_and_ids:\n",
    "        # it's NOT always 1 box\n",
    "            if box_id[0].page == page:\n",
    "                rect = lpe.Rectangle(\n",
    "                        box.l * page_w,\n",
    "                        box.t * page_h,\n",
    "                        (box.l + box.w) * page_w,\n",
    "                        (box.t + box.h) * page_h\n",
    "                    )\n",
    "                result_boxes_by_page[page].append(lpe.TextBlock(\n",
    "                    rect,\n",
    "                    id=box_id[1],\n",
    "                    type='color_1'\n",
    "                ))\n",
    "    return result_boxes_by_page"
   ]
  },
  {
   "attachments": {},
   "cell_type": "markdown",
   "id": "c2c008dc",
   "metadata": {},
   "source": [
    "### SPP-Grobid Bibs Pages"
   ]
  },
  {
   "cell_type": "code",
   "execution_count": null,
   "id": "4e0fc2db",
   "metadata": {},
   "outputs": [],
   "source": [
    "# bibs imgs\n",
    "bib_pages = set([bib_entry.box_group.boxes[0].page for bib_entry in spp_grobid_doc.bib_entries])\n",
    "\n",
    "rows = len(bib_pages)\n",
    "columns = 2\n",
    "fontsize = 48\n",
    "\n",
    "#spp\n",
    "#make bib text blocks and save as image\n",
    "print(\"SPP\")\n",
    "\n",
    "dic_text_blocks = make_text_blocks_bibs(spp_grobid_doc)\n",
    "bib_pages = sorted(list(bib_pages))\n",
    "print('bib_pages', bib_pages)\n",
    "for page in bib_pages:\n",
    "    print(f\"page {page}:\")\n",
    "    display(draw_text_blocks(page, dic_text_blocks))\n"
   ]
  },
  {
   "cell_type": "code",
   "execution_count": null,
   "id": "3a8f2fc3",
   "metadata": {},
   "outputs": [],
   "source": [
    "# spp texts\n",
    "for bib in spp_grobid_doc.bib_entries:\n",
    "    print(extract_first_group_symbols([bib]))\n",
    "    print()"
   ]
  },
  {
   "cell_type": "code",
   "execution_count": null,
   "id": "9603361d",
   "metadata": {},
   "outputs": [],
   "source": [
    "# Original grobid bibs\n",
    "\n",
    "#spp\n",
    "#make bib text blocks and save as image\n",
    "print(\"RAW GROBID\")\n",
    "\n",
    "dic_text_blocks = make_text_blocks_raw_bibs(spp_grobid_doc)\n",
    "print('bib_pages', bib_pages)\n",
    "for page in bib_pages:\n",
    "    print(f\"page {page}:\")\n",
    "    display(draw_text_blocks(page, dic_text_blocks))\n"
   ]
  },
  {
   "cell_type": "code",
   "execution_count": null,
   "id": "c9ca4013",
   "metadata": {},
   "outputs": [],
   "source": [
    "## spp-grobid texts vs raw grobid boxes spangroup texts (using DWP)\n",
    "for bib, raw_bib in zip(spp_grobid_doc.bib_entries, spp_grobid_doc.raw_grobid_bib_entry_boxes):\n",
    "    print(extract_first_group_symbols([bib]))\n",
    "    print()\n",
    "    print(extract_first_group_symbols([raw_bib]))\n",
    "    print()\n"
   ]
  },
  {
   "cell_type": "code",
   "execution_count": null,
   "id": "67d6de8f",
   "metadata": {},
   "outputs": [],
   "source": []
  },
  {
   "cell_type": "markdown",
   "id": "aae60d6e",
   "metadata": {},
   "source": [
    "## ANNOTATOR TODO: \n",
    "Record each mention on this page (regardless of if it got recognized by SPP or not) as 1 row in the spreadsheet."
   ]
  },
  {
   "cell_type": "code",
   "execution_count": null,
   "id": "5581b444",
   "metadata": {},
   "outputs": [],
   "source": []
  }
 ],
 "metadata": {
  "celltoolbar": "Tags",
  "kernelspec": {
   "display_name": "Python 3 (ipykernel)",
   "language": "python",
   "name": "python3"
  },
  "language_info": {
   "codemirror_mode": {
    "name": "ipython",
    "version": 3
   },
   "file_extension": ".py",
   "mimetype": "text/x-python",
   "name": "python",
   "nbconvert_exporter": "python",
   "pygments_lexer": "ipython3",
   "version": "3.8.16"
  },
  "vscode": {
   "interpreter": {
    "hash": "85aef6625182614c82ba3fada19dd46c3306619fa9c96361bbc593929a8b39ac"
   }
  }
 },
 "nbformat": 4,
 "nbformat_minor": 5
}
