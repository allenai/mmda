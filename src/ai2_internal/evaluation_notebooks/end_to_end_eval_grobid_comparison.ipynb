{
 "cells": [
  {
   "cell_type": "markdown",
   "id": "e4f2fe41",
   "metadata": {},
   "source": [
    "# SP+ End-to-end Evaluation: Annotation"
   ]
  },
  {
   "attachments": {},
   "cell_type": "markdown",
   "id": "0a5f7d6e",
   "metadata": {},
   "source": [
    "## 0. Setting up your environment\n",
    "### Install spp client to your local device: \n",
    "`pip install -i https://pip.s2.allenai.org/simple spp_client==0.3.0`\n",
    "`pip install --extra-index-url https://pip.s2.allenai.org/simple spp_client==0.3.0`\n",
    "\n",
    "### Then install an upgraded version of MMDA:  \n",
    "`pip install -i https://pip.s2.allenai.org/simple mmda==0.3.5`\n",
    "`pip install --extra-index-url https://pip.s2.allenai.org/simple spp_client==0.3.0`"
   ]
  },
  {
   "cell_type": "markdown",
   "id": "8daa8ab5",
   "metadata": {},
   "source": [
    "## 1. Get data from annotation store via spp_client"
   ]
  },
  {
   "cell_type": "markdown",
   "id": "18b9d55b",
   "metadata": {},
   "source": [
    "### 1a. Get and set sources\n",
    "Retreive information about the sources for each annotation - mentions, bib-entries, bib-entry-parses, and pdf plumber"
   ]
  },
  {
   "cell_type": "code",
   "execution_count": 1,
   "id": "b6b1dc26",
   "metadata": {
    "tags": [
     "parameters"
    ]
   },
   "outputs": [],
   "source": [
    "####################################################################\n",
    "# ANNOTATOR TODO: change this to sha you're analyzing\n",
    "####################################################################\n",
    "\n",
    "#This sha will get overwritten when running autogenerater script\n",
    "sha = 'd17961483e3eb55df82cc16a01d4519af1b4dbbd'\n",
    "sha = '61f1ac16610fcc20ba49432aa7a5943ad5b7fdd8'\n"
   ]
  },
  {
   "cell_type": "code",
   "execution_count": 2,
   "id": "01fbbcd2",
   "metadata": {},
   "outputs": [],
   "source": [
    "# SPP version for Eval Sample\n",
    "spp_version = \"dag-0.0.4\""
   ]
  },
  {
   "cell_type": "code",
   "execution_count": 3,
   "id": "aa22c98a",
   "metadata": {},
   "outputs": [
    {
     "name": "stdout",
     "output_type": "stream",
     "text": [
      "Name: mmda\n",
      "Version: 0.3.5\n",
      "Summary: MMDA - multimodal document analysis\n",
      "Home-page: \n",
      "Author: \n",
      "Author-email: Allen Institute for Artificial Intelligence <contact@allenai.org>\n",
      "License: Apache-2.0\n",
      "Location: /Users/angelez/miniconda3/envs/mmda_bailey_annot_b058/lib/python3.8/site-packages\n",
      "Requires: ncls, necessary, pandas, pdf2image, pdfplumber, pydantic, requests, tqdm\n",
      "Required-by: spp-client\n"
     ]
    }
   ],
   "source": [
    "# See step 0 -- should have MMDA version 0.3.5\n",
    "! pip show mmda"
   ]
  },
  {
   "cell_type": "code",
   "execution_count": 9,
   "id": "084a8942",
   "metadata": {},
   "outputs": [],
   "source": [
    "# import sys\n",
    "sys.path.remove('/Users/angelez/src/mmda')"
   ]
  },
  {
   "cell_type": "code",
   "execution_count": 10,
   "id": "da82b6f2",
   "metadata": {},
   "outputs": [
    {
     "name": "stdout",
     "output_type": "stream",
     "text": [
      "3.8.16 | packaged by conda-forge | (default, Feb  1 2023, 16:05:36) \n",
      "[Clang 14.0.6 ]\n",
      "/Users/angelez/miniconda3/envs/mmda_bailey_annot_b058/lib/python38.zip\n",
      "/Users/angelez/miniconda3/envs/mmda_bailey_annot_b058/lib/python3.8\n",
      "/Users/angelez/miniconda3/envs/mmda_bailey_annot_b058/lib/python3.8/lib-dynload\n",
      "\n",
      "/Users/angelez/miniconda3/envs/mmda_bailey_annot_b058/lib/python3.8/site-packages\n"
     ]
    }
   ],
   "source": [
    "import sys\n",
    "print(sys.version)\n",
    "print(\"\\n\".join(sys.path))"
   ]
  },
  {
   "cell_type": "code",
   "execution_count": 6,
   "id": "4c97cc28",
   "metadata": {},
   "outputs": [],
   "source": [
    "# See step 0 -- should have MMDA version 0.3.5\n",
    "# ! pip show spp-client\n"
   ]
  },
  {
   "cell_type": "markdown",
   "id": "fc696479",
   "metadata": {},
   "source": [
    "### 1b. Retrieve Annotations\n",
    "Using the sources obtained from the previous cell, we will now retreive the annotations for each source via spp_client."
   ]
  },
  {
   "cell_type": "code",
   "execution_count": 12,
   "id": "29cd21cc",
   "metadata": {},
   "outputs": [
    {
     "ename": "ImportError",
     "evalue": "cannot import name 'api' from 'ai2_internal' (/Users/angelez/src/mmda/ai2_internal/__init__.py)",
     "output_type": "error",
     "traceback": [
      "\u001B[0;31m---------------------------------------------------------------------------\u001B[0m",
      "\u001B[0;31mImportError\u001B[0m                               Traceback (most recent call last)",
      "Cell \u001B[0;32mIn[12], line 2\u001B[0m\n\u001B[1;32m      1\u001B[0m \u001B[39m# Get annotations and data as text using spp client\u001B[39;00m\n\u001B[0;32m----> 2\u001B[0m \u001B[39mfrom\u001B[39;00m \u001B[39mspp_client\u001B[39;00m\u001B[39m.\u001B[39;00m\u001B[39mclient\u001B[39;00m \u001B[39mimport\u001B[39;00m (\n\u001B[1;32m      3\u001B[0m     mmda_span_group_to_text_via_dwp_words,\n\u001B[1;32m      4\u001B[0m     RelationTypeId,\n\u001B[1;32m      5\u001B[0m     SppClient,\n\u001B[1;32m      6\u001B[0m )\n\u001B[1;32m      7\u001B[0m client \u001B[39m=\u001B[39m SppClient\u001B[39m.\u001B[39mmk(env\u001B[39m=\u001B[39m\u001B[39m\"\u001B[39m\u001B[39mdev\u001B[39m\u001B[39m\"\u001B[39m)\n\u001B[1;32m      9\u001B[0m mmda_doc, relations \u001B[39m=\u001B[39m client\u001B[39m.\u001B[39mget_document(\n\u001B[1;32m     10\u001B[0m             sha,\n\u001B[1;32m     11\u001B[0m             spp_version,\n\u001B[0;32m   (...)\u001B[0m\n\u001B[1;32m     25\u001B[0m             include_images\u001B[39m=\u001B[39m\u001B[39mTrue\u001B[39;00m\n\u001B[1;32m     26\u001B[0m         )\n",
      "File \u001B[0;32m~/miniconda3/envs/mmda_bailey_annot_b058/lib/python3.8/site-packages/spp_client/client.py:19\u001B[0m\n\u001B[1;32m     16\u001B[0m \u001B[39mfrom\u001B[39;00m \u001B[39mPIL\u001B[39;00m\u001B[39m.\u001B[39;00m\u001B[39mImage\u001B[39;00m \u001B[39mimport\u001B[39;00m Image \u001B[39mas\u001B[39;00m PILImage\n\u001B[1;32m     17\u001B[0m \u001B[39mimport\u001B[39;00m \u001B[39mrequests\u001B[39;00m\n\u001B[0;32m---> 19\u001B[0m \u001B[39mfrom\u001B[39;00m \u001B[39mai2_internal\u001B[39;00m \u001B[39mimport\u001B[39;00m api\n\u001B[1;32m     20\u001B[0m \u001B[39mfrom\u001B[39;00m \u001B[39mannotation_store\u001B[39;00m\u001B[39m.\u001B[39;00m\u001B[39mclient\u001B[39;00m \u001B[39mimport\u001B[39;00m ApiClient\n\u001B[1;32m     21\u001B[0m \u001B[39mfrom\u001B[39;00m \u001B[39mannotation_store\u001B[39;00m\u001B[39m.\u001B[39;00m\u001B[39mpdf_annotations\u001B[39;00m \u001B[39mimport\u001B[39;00m (\n\u001B[1;32m     22\u001B[0m     Box \u001B[39mas\u001B[39;00m AsBox,\n\u001B[1;32m     23\u001B[0m     PdfAnnotations \u001B[39mas\u001B[39;00m AsPdfAnnotations,\n\u001B[1;32m     24\u001B[0m )\n",
      "\u001B[0;31mImportError\u001B[0m: cannot import name 'api' from 'ai2_internal' (/Users/angelez/src/mmda/ai2_internal/__init__.py)"
     ]
    }
   ],
   "source": [
    "# Get annotations and data as text using spp client\n",
    "from spp_client.client import (\n",
    "    mmda_span_group_to_text_via_dwp_words,\n",
    "    RelationTypeId,\n",
    "    SppClient,\n",
    ")\n",
    "client = SppClient.mk(env=\"dev\")\n",
    "\n",
    "mmda_doc, relations = client.get_document(\n",
    "            sha,\n",
    "            spp_version,\n",
    "            annotation_types=[\n",
    "                \"pages\",\n",
    "                \"tokens\",\n",
    "                \"rows\",\n",
    "                \"bib_entries\",\n",
    "                \"citation_mentions\",\n",
    "                \"bib_entry_titles\",\n",
    "                \"words\"\n",
    "            ],\n",
    "            relation_types=[\n",
    "                RelationTypeId(\"refers_to\", \"citation_mentions\", \"bib_entries\")\n",
    "            ],\n",
    "            allow_missing=True,\n",
    "            include_images=True\n",
    "        )\n"
   ]
  },
  {
   "cell_type": "code",
   "execution_count": null,
   "id": "16dfacc7",
   "metadata": {},
   "outputs": [],
   "source": [
    "print(mmda_doc.fields)\n",
    "\n",
    "if 'bib_entries' not in mmda_doc.fields:\n",
    "    print(\"No bib_entries!\")"
   ]
  },
  {
   "cell_type": "markdown",
   "id": "670ccd6f",
   "metadata": {},
   "source": [
    "## 2. Visalize Mentions (draw boxes)\n",
    "Use draw_boxes to visualize each mention."
   ]
  },
  {
   "attachments": {},
   "cell_type": "markdown",
   "id": "726a378c",
   "metadata": {},
   "source": [
    "### 2a. Make Layout Rectangles for mentions so that vizes can be made for them."
   ]
  },
  {
   "cell_type": "code",
   "execution_count": null,
   "id": "699b78cd",
   "metadata": {},
   "outputs": [],
   "source": [
    "#imports\n",
    "from collections import defaultdict\n",
    "import layoutparser.elements as lpe\n",
    "import layoutparser.visualization as lpv\n",
    "from typing import List\n",
    "\n",
    "#function to create box groups from mentions on the mmda doc\n",
    "def make_boxgroups_mentions(mmda_doc):\n",
    "\n",
    "    result_boxes_by_page = defaultdict(list)\n",
    "    original_boxes_by_page = defaultdict(list)\n",
    "    \n",
    "    for mention in mmda_doc.citation_mentions:\n",
    "        for box in mention.box_group.boxes:\n",
    "            original_boxes_by_page[box.page].append(box) \n",
    "            \n",
    "    #mapping between pages and spans on page\n",
    "    for page, list_of_boxes in original_boxes_by_page.items():\n",
    "        page_w, page_h = mmda_doc.images[page].size\n",
    "\n",
    "\n",
    "        for box in list_of_boxes:\n",
    "            if box.page == page:\n",
    "                result_boxes_by_page[page].append(lpe.Rectangle(\n",
    "                        box.l * page_w,\n",
    "                        box.t * page_h,\n",
    "                        (box.l + box.w) * page_w,\n",
    "                        (box.t + box.h) * page_h\n",
    "                    ))\n",
    "            else:\n",
    "                raise ValueError('Page number')\n",
    "    return result_boxes_by_page"
   ]
  },
  {
   "cell_type": "markdown",
   "id": "cb4651bf",
   "metadata": {},
   "source": [
    "### 2b. Make boxes for Grobid annotation"
   ]
  },
  {
   "cell_type": "code",
   "execution_count": null,
   "id": "69d9bcb8",
   "metadata": {},
   "outputs": [],
   "source": [
    "import os\n",
    "import requests\n",
    "import json\n",
    "import boto3\n",
    "\n",
    "####################################################################\n",
    "# ANNOTATOR TODO: Update with path to your grobid papers and uncomment below\n",
    "# if the s3 code doesn't work.\n",
    "# Annos are in s3://ai2-s2-mmda/citation-link-evaluation-sample-2/grobid_annotation\n",
    "####################################################################\n",
    "# with open(f'/Users/baileyk/Work/mmda/spp_grobid/{sha}.json') as f:\n",
    "#     grobid_annotation = json.load(f)\n",
    "\n",
    "# s3 code\n",
    "s3_resource = boto3.resource('s3')\n",
    "key = f\"citation-link-evaluation-sample-2/grobid_annotation/{sha}.json\"\n",
    "obj = s3_resource.Object(\"ai2-s2-mmda\", key)\n",
    "\n",
    "try:\n",
    "    grobid_annotation = json.loads(obj.get()[\"Body\"].read().decode(\"utf-8\"))\n",
    "    print(\"grobid annos found.\")\n",
    "except:\n",
    "    print(f\"no grobid annotations found at s3://ai2-s2-mmda/{key}\")\n",
    "    grobid_annotation = dict()"
   ]
  },
  {
   "cell_type": "code",
   "execution_count": null,
   "id": "48dfa6d8",
   "metadata": {},
   "outputs": [],
   "source": [
    "def make_boxgroup_mentions_from_grobid(grobid_annotation):\n",
    "    grobid_mention_boxes_by_page = defaultdict(list)\n",
    "    for mention in grobid_annotation[\"refMarkers\"]:\n",
    "        page = int(mention[\"p\"]) - 1\n",
    "        box = lpe.Rectangle(\n",
    "            mention[\"x\"], \n",
    "            mention[\"y\"], \n",
    "            mention[\"x\"] + mention[\"w\"],\n",
    "            mention[\"y\"] + mention[\"h\"]\n",
    "        )\n",
    "        grobid_mention_boxes_by_page[page].append(box)\n",
    "    return grobid_mention_boxes_by_page\n",
    "\n",
    "#egor version\n",
    "def draw_boxgroups(image, rectangle_list, color_map=None, id_map=None):\n",
    "    viz = []\n",
    "    if color_map is None:\n",
    "        color_map={'color_1': 'blue', 'color_2': 'green', 'color_3': 'yellow', 'color_4': 'pink'}\n",
    "\n",
    "    for rectangle in rectangle_list:\n",
    "        viz.append(lpe.TextBlock(rectangle,\n",
    "                                 type=f'color_1'\n",
    "                                )\n",
    "                  )\n",
    "\n",
    "    if image:\n",
    "        return lpv.draw_box(image,\n",
    "                            viz,\n",
    "                            color_map=color_map,\n",
    "                            show_element_id=False,\n",
    "                            id_font_size=10)\n",
    "    \n",
    "    return None"
   ]
  },
  {
   "cell_type": "code",
   "execution_count": null,
   "id": "d959bf93",
   "metadata": {},
   "outputs": [],
   "source": [
    "# annotate the doc with grobid mentions and bibs\n",
    "from mmda.types.annotation import BoxGroup, Box, Metadata\n",
    "\n",
    "# make grobid mention box groups:\n",
    "grobid_mention_box_groups = []\n",
    "for anno in grobid_annotation['refMarkers']:\n",
    "    metadata = Metadata()\n",
    "    metadata['bib_entry_id'] = anno.get('id')\n",
    "    \n",
    "    # grobid is silly\n",
    "    page = anno['p']-1\n",
    "    relative_box = Box(l=anno['x'], t=anno['y'], w=anno['w'], h=anno['h'], \n",
    "        page=page\n",
    "        ).get_relative(\n",
    "            page_width=grobid_annotation['pages'][page]['page_width'],\n",
    "            page_height=grobid_annotation['pages'][page]['page_height'],\n",
    "        )\n",
    "    \n",
    "    grobid_mention_box_groups.append(BoxGroup(\n",
    "        boxes=[relative_box],\n",
    "        metadata=metadata\n",
    "        )\n",
    "    )\n",
    "print(f\"{len(grobid_mention_box_groups)} grobid mentions.\")\n",
    "    \n",
    "\n",
    "# make grobid bib entry box groups:\n",
    "grobid_bib_entry_box_groups = []\n",
    "for anno in grobid_annotation['refBibs']:\n",
    "    bib_boxes = []\n",
    "    for box in anno['pos']:\n",
    "        # grobid is silly\n",
    "        page = box['p']-1\n",
    "        bib_boxes.append(Box(l=box['x'], t=box['y'], w=box['w'], h=box['h'], \n",
    "        page=page).get_relative(\n",
    "            page_width=grobid_annotation['pages'][page]['page_width'],\n",
    "            page_height=grobid_annotation['pages'][page]['page_height'],\n",
    "            )\n",
    "        )\n",
    "\n",
    "    grobid_bib_entry_box_groups.append(BoxGroup(\n",
    "        boxes=bib_boxes,\n",
    "        id=anno['id']\n",
    "        )\n",
    "    )\n",
    "print(f\"{len(grobid_bib_entry_box_groups)} grobid bibs.\")\n",
    "\n",
    "mmda_doc.annotate(grobid_mentions=grobid_mention_box_groups)\n",
    "mmda_doc.annotate(grobid_bibs=grobid_bib_entry_box_groups)\n",
    "\n",
    "print(mmda_doc.fields)"
   ]
  },
  {
   "cell_type": "markdown",
   "id": "40eaf7c9",
   "metadata": {},
   "source": [
    "## 3. Get references and s2 id's for each mention."
   ]
  },
  {
   "cell_type": "markdown",
   "id": "b34d8d19",
   "metadata": {},
   "source": [
    "### 3a. Retreive citation mention numbers and which bib entries they are linked to."
   ]
  },
  {
   "cell_type": "code",
   "execution_count": null,
   "id": "e390bde1",
   "metadata": {},
   "outputs": [],
   "source": [
    "# ie: for citation_mention '0', the bib_entry_id it's linked to is '3'. \n",
    "citation_links = defaultdict(int)\n",
    "\n",
    "for relation in relations[list(relations.keys())[0]]:\n",
    "    #add to list of citation link data\n",
    "    citation_links[relation.from_id] = relation.to_id"
   ]
  },
  {
   "cell_type": "markdown",
   "id": "8cb6d7f1",
   "metadata": {},
   "source": [
    "### 3b. Use API call to find what s2 paper each bib entry is linked to."
   ]
  },
  {
   "cell_type": "code",
   "execution_count": null,
   "id": "d82b4657",
   "metadata": {},
   "outputs": [],
   "source": [
    "def get_index_of_bib_entry_with_id(bib_entry_id):\n",
    "    linked_bib_entry_index_list = [i for i, bib_entry in enumerate(mmda_doc.bib_entries) if bib_entry.id == bib_entry_id]\n",
    "    assert len(linked_bib_entry_index_list) == 1, f\"there should be exactly one bib_entry with the id {bib_entry_id}.\"\n",
    "    return linked_bib_entry_index_list[0]\n",
    "\n",
    "def extract_first_group_symbols(span_groups):\n",
    "    if len(span_groups) > 1:\n",
    "        print(\"warning: multiple span_groups detected when 0 or 1 expected\")\n",
    "    try: \n",
    "        first_one = span_groups[0] \n",
    "        text = mmda_span_group_to_text_via_dwp_words(first_one)\n",
    "    except IndexError: # case where was no annotation detected so span_groups was empty list\n",
    "            text = \"\" # it can be empty or say \"no text detected\" or something\n",
    "    return text\n",
    "\n",
    "\n",
    "def get_bib_entry_title(citation_mention_id):\n",
    "    linked_bib_id = citation_links[citation_mention_id]\n",
    "    # print(\"linked_bib_id: \", linked_bib_id)\n",
    "    # Accessing the linked bib_entry this way is error-prone because MMDA annotations can't be assumed to be sorted by SpanGroup IDs\n",
    "    # bib_title_span_groups = mmda_doc.bib_entries[linked_bib_id].bib_entry_titles \n",
    "    # We have to find the correct bib_entry this way:\n",
    "    linked_bib_index = get_index_of_bib_entry_with_id(linked_bib_id)\n",
    "    \n",
    "    bib_title_span_groups = mmda_doc.bib_entries[linked_bib_index].bib_entry_titles \n",
    "    text_symbols = extract_first_group_symbols(bib_title_span_groups)\n",
    "\n",
    "    return text_symbols\n",
    "\n",
    "def get_full_bib_entry_text(citation_mention_id):\n",
    "    linked_bib_id = citation_links[citation_mention_id]\n",
    "    linked_bib_index = get_index_of_bib_entry_with_id(linked_bib_id)\n",
    "\n",
    "    bib_span_groups = [mmda_doc.bib_entries[linked_bib_index]]\n",
    "    text_symbols = extract_first_group_symbols(bib_span_groups)\n",
    "\n",
    "    return text_symbols"
   ]
  },
  {
   "cell_type": "code",
   "execution_count": null,
   "id": "69523ad6",
   "metadata": {},
   "outputs": [],
   "source": [
    "#make api call to get linked papers\n",
    "def bibLinkingApiPost(title, end_point='http://pipeline-api.prod.s2.allenai.org/citation/match'):\n",
    "    payload = json.dumps([{'title': title}])\n",
    "    headers = {\n",
    "        'Content-Type': 'application/json'\n",
    "    }\n",
    "\n",
    "    response = requests.request(\"POST\", end_point, headers=headers, data=payload).json()\n",
    "    return response\n",
    "\n",
    "\n",
    "#get s2_ids linked to each mention\n",
    "s2_ids = []\n",
    "for citation_mention in mmda_doc.citation_mentions:\n",
    "    title = get_bib_entry_title(citation_mention.id)\n",
    "    s2_ids.append(str((bibLinkingApiPost(title))).replace('[', '').replace(']', ''))"
   ]
  },
  {
   "cell_type": "markdown",
   "id": "59efc1db",
   "metadata": {},
   "source": [
    "## 4. Annotation Info!"
   ]
  },
  {
   "cell_type": "code",
   "execution_count": null,
   "id": "7cd13912",
   "metadata": {},
   "outputs": [],
   "source": [
    "####################################################################\n",
    "# ANNOTATOR TODO: Record page # from output in annotation spreadsheet\n",
    "####################################################################\n",
    "\n",
    "# get random page number to review and annotate\n",
    "import random\n",
    "\n",
    "pages_w_mentions = [citation_mention.pages[0].id for citation_mention in mmda_doc.citation_mentions]\n",
    "\n",
    "annot_page = random.choice(pages_w_mentions)\n",
    "print(\"page to annotate:\", annot_page)"
   ]
  },
  {
   "cell_type": "code",
   "execution_count": null,
   "id": "40b53886",
   "metadata": {},
   "outputs": [],
   "source": [
    "# gives table of SPP mentions and their corresponding bib_entry ids \n",
    "# (if the doc is annotated with bib_entries), and s2 linked papers \n",
    "import pandas as pd\n",
    "from IPython.display import HTML\n",
    "\n",
    "if 'bib_entries' in mmda_doc.fields:\n",
    "    ref_info = {\n",
    "        # \"Mention ID\": [citation_mention.id for citation_mention in mmda_doc.citation_mentions],\n",
    "        \"Page\": [citation_mention.pages[0].id for citation_mention in mmda_doc.citation_mentions],\n",
    "        \"Mention text\": [citation_mention.symbols for citation_mention in mmda_doc.citation_mentions],\n",
    "        # Bib entry and title texts are DWP \"words\".texts\n",
    "        \"Linked Bib Entry Extracted Text\": [get_full_bib_entry_text(citation_mention.id) for citation_mention in mmda_doc.citation_mentions],    \n",
    "        \"Linked Bib Entry Title\": [get_bib_entry_title(citation_mention.id) for citation_mention in mmda_doc.citation_mentions],    \n",
    "        # \"Linked Bib id\": [citation_links[citation_mention.id] for citation_mention in mmda_doc.citation_mentions],\n",
    "        \"S2 id:\": [ids if ids != str(-1) else \" \" for ids in s2_ids],\n",
    "        \"S2 url\": [f\"http://api.semanticscholar.org/corpusid:{ids}\" if ids != str(-1) else \" \" for ids in s2_ids]\n",
    "        }\n",
    "else:\n",
    "    ref_info = {\n",
    "        # \"Mention ID\": [citation_mention.id for citation_mention in mmda_doc.citation_mentions],\n",
    "        \"Page\": [citation_mention.pages[0].id for citation_mention in mmda_doc.citation_mentions],\n",
    "        \"Mention text\": [citation_mention.symbols for citation_mention in mmda_doc.citation_mentions],\n",
    "        # TODO: use DWP \"words\" text instead of doc.symbols (ex: the title \"Reaction-Diﬀusion processes and meta-population mod-\\nels in Heterogeneous Networks\" gives no match, but manually changing \"mod-\\nels\" to \"models\" results in an S2 id match)\n",
    "        \"Linked Bib Entry Title\": [\"no bibs\" for citation_mention in mmda_doc.citation_mentions],    \n",
    "        \"Linked Bib Entry Extracted Text\": [\"no bibs\" for citation_mention in mmda_doc.citation_mentions],    \n",
    "        \"S2 id:\": [\"no bibs\" for ids in s2_ids],\n",
    "        \"S2 url\": [\"no bibs\" for ids in s2_ids]\n",
    "        }\n",
    "\n",
    "spp_df = pd.DataFrame.from_dict(ref_info, orient='index')\n",
    "spp_df = spp_df.transpose()\n",
    "\n",
    "# selecting rows based on random page selected to annotate\n",
    "# you can comment the line below out to see all mentions across all pages\n",
    "spp_df = spp_df[spp_df['Page'] == annot_page]\n",
    "\n",
    "\n",
    "# make s2 links clickable\n",
    "print(\"SPP:\")\n",
    "HTML(spp_df.to_html(render_links=True, escape=False))"
   ]
  },
  {
   "cell_type": "code",
   "execution_count": null,
   "id": "3fa92ee5",
   "metadata": {},
   "outputs": [],
   "source": [
    "# gives table of GROBID mentions and their corresponding bib_entry ids, s2 linked papers \n",
    "import pandas as pd\n",
    "from IPython.display import HTML\n",
    "\n",
    "def get_index_of_grobid_bib_entry_with_id(grobid_bib_entry_id):\n",
    "    linked_bib_entry_index_list = [i for i, grobid_bib_entry in enumerate(mmda_doc.grobid_bibs) if grobid_bib_entry.box_group.id == grobid_bib_entry_id]\n",
    "    assert len(linked_bib_entry_index_list) <2, f\"there should be no more than one grobid bib entry with the id {grobid_bib_entry_id}. \\ninstead, we got this: {linked_bib_entry_index_list}\"\n",
    "    return linked_bib_entry_index_list[0] if len(linked_bib_entry_index_list) == 1 else None\n",
    "\n",
    "\n",
    "def get_full_grobid_bib_entry_text(grobid_mention):\n",
    "    linked_grobid_bib_id = grobid_mention.box_group.metadata.bib_entry_id\n",
    "    linked_grobid_bib_index = get_index_of_grobid_bib_entry_with_id(linked_grobid_bib_id)\n",
    "    if linked_grobid_bib_index == None:\n",
    "        return None\n",
    "    else:\n",
    "        grobid_bib_span_groups = [mmda_doc.grobid_bibs[linked_grobid_bib_index]]\n",
    "        text_symbols = extract_first_group_symbols(grobid_bib_span_groups)\n",
    "    return text_symbols\n",
    "\n",
    "# get titles from bibentry-predictor API\n",
    "def get_linked_bib_title_from_bib_predictor(grobid_mention):\n",
    "    bib_text = get_full_grobid_bib_entry_text(grobid_mention)\n",
    "    if bib_text:\n",
    "        payload = json.dumps({\"instances\": [{\"bib_entry\": bib_text}]})    \n",
    "        headers = {\n",
    "            'Content-Type': 'application/json'\n",
    "        }\n",
    "        end_point = \"http://bibentry-predictor.v0.dev.models.s2.allenai.org/invocations\"\n",
    "\n",
    "        response = requests.request(\"POST\", end_point, headers=headers, data=payload).json()\n",
    "        title_prediction = response['predictions'][0].get('title', 'no title detected')\n",
    "    else:\n",
    "        return None\n",
    "    return title_prediction\n",
    "\n",
    "\n",
    "linked_bib_entry_titles_grobid = [get_linked_bib_title_from_bib_predictor(grobid_mention) for grobid_mention in mmda_doc.grobid_mentions]\n",
    "\n",
    "\n",
    "#get grobid_s2_ids linked to each mention\n",
    "grobid_s2_ids = []\n",
    "for title in linked_bib_entry_titles_grobid:\n",
    "    if title:\n",
    "        grobid_s2_ids.append(str((bibLinkingApiPost(title))).replace('[', '').replace(']', ''))\n",
    "    else:\n",
    "        grobid_s2_ids.append(None)\n",
    "\n",
    "print(grobid_s2_ids)\n",
    "\n",
    "ref_info = {\n",
    "    \"Page\": [grobid_mention.box_group.boxes[0].page for grobid_mention in mmda_doc.grobid_mentions], # some mentions don't overlap with tokens so missing span and therefore page info\n",
    "    \"Grobid Mention text\": [grobid_mention.symbols for grobid_mention in mmda_doc.grobid_mentions],\n",
    "    \"Linked Bib Entry ID\": [grobid_mention.box_group.metadata.bib_entry_id for grobid_mention in mmda_doc.grobid_mentions],    \n",
    "    \"Linked Bib Entry Title\": linked_bib_entry_titles_grobid,\n",
    "    \"Linked Bib Entry Extracted Text\": [get_full_grobid_bib_entry_text(grobid_mention) for grobid_mention in mmda_doc.grobid_mentions],\n",
    "    \"S2 id:\": [id if id != str(-1) else \" \" for id in grobid_s2_ids],\n",
    "    \"S2 url\": [f\"http://api.semanticscholar.org/corpusid:{id}\" if id not in [str(-1), None] else \" \" for id in grobid_s2_ids]\n",
    "\n",
    "     }\n",
    "    \n",
    "grobid_df = pd.DataFrame.from_dict(ref_info, orient='index')\n",
    "grobid_df = grobid_df.transpose()\n",
    "\n",
    "# selecting rows based on random page selected to annotate\n",
    "# you can comment the line below out to see all mentions across all pages\n",
    "grobid_df = grobid_df[grobid_df['Page'] == annot_page]\n",
    "\n",
    "\n",
    "#make s2 links clickable\n",
    "print(\"Grobid:\")\n",
    "HTML(grobid_df.to_html(render_links=True, escape=False))"
   ]
  },
  {
   "cell_type": "code",
   "execution_count": null,
   "id": "745fc1e4",
   "metadata": {
    "scrolled": true
   },
   "outputs": [],
   "source": [
    "# mentions imgs\n",
    "import cv2\n",
    "from matplotlib import pyplot as plt\n",
    "from matplotlib.pyplot import figure\n",
    "\n",
    "\n",
    "rows = 1\n",
    "columns = 2\n",
    "fontsize = 48\n",
    "\n",
    "#spp\n",
    "#make boxes and save as image\n",
    "boxes_by_page = make_boxgroups_mentions(mmda_doc)\n",
    "image1 = draw_boxgroups(mmda_doc.images[annot_page], boxes_by_page[annot_page])\n",
    "\n",
    "#plot\n",
    "fig = plt.figure(figsize=(50, 50))\n",
    "fig.add_subplot(rows, columns, 1)\n",
    "plt.axis('off')\n",
    "plt.title(\"SPP Mentions\",fontdict={'fontsize': fontsize})\n",
    "plt.imshow(image1)\n",
    "\n",
    "\n",
    "#grobid\n",
    "#make boxes and save as image\n",
    "grobid_boxes_by_page = make_boxgroup_mentions_from_grobid(grobid_annotation)\n",
    "image2 = draw_boxgroups(mmda_doc.images[annot_page], grobid_boxes_by_page[annot_page])\n",
    "\n",
    "#plot side by side\n",
    "fig.add_subplot(rows, columns, 2)\n",
    "plt.axis('off')\n",
    "plt.title(\"Grobid Mentions\",fontdict={'fontsize': fontsize})\n",
    "plt.imshow(image2)\n",
    "plt.subplots_adjust(bottom=0.15, wspace=0.05)"
   ]
  },
  {
   "cell_type": "code",
   "execution_count": null,
   "id": "daa08795",
   "metadata": {},
   "outputs": [],
   "source": [
    "def draw_text_blocks(page, text_blocks_dictionary, color_map=None, id_map=None):\n",
    "    image = mmda_doc.images[page]\n",
    "\n",
    "    if color_map is None:\n",
    "        color_map={'color_1': 'blue', 'color_2': 'green', 'color_3': 'yellow', 'color_4': 'pink'}\n",
    "\n",
    "    if image:\n",
    "        return lpv.draw_box(image,\n",
    "                            text_blocks_dictionary[page],\n",
    "                            color_map=color_map,\n",
    "                            show_element_id=True,\n",
    "                            id_font_size=10\n",
    "                            # id_text_background_alpha=0.2\n",
    "                            )\n",
    "    \n",
    "    return None\n",
    "\n",
    "#function to create labeled text blocks from grobid bibs on the mmda doc\n",
    "def make_text_blocks_bibs(mmda_doc):\n",
    "\n",
    "    result_text_blocks_list = defaultdict(list)\n",
    "    dictionary_of_box_groups = defaultdict(list)\n",
    "    \n",
    "    for bib in mmda_doc.bib_entries:\n",
    "        # it's always 1 box\n",
    "        dictionary_of_box_groups[bib.box_group.boxes[0].page].append(bib.box_group)\n",
    "    \n",
    "    #mapping between pages and spans on page\n",
    "    for page, box_groups in dictionary_of_box_groups.items():\n",
    "        page_w, page_h = mmda_doc.images[page].size\n",
    "\n",
    "        for box_group in box_groups:\n",
    "            # it's always 1 box\n",
    "            box = box_group.boxes[0]\n",
    "            rect = lpe.Rectangle(\n",
    "                    box.l * page_w,\n",
    "                    box.t * page_h,\n",
    "                    (box.l + box.w) * page_w,\n",
    "                    (box.t + box.h) * page_h\n",
    "                )\n",
    "            result_text_blocks_list[page].append(lpe.TextBlock(\n",
    "                rect,\n",
    "                id=box_group.id,\n",
    "                type='color_1'\n",
    "            ))\n",
    "    return result_text_blocks_list"
   ]
  },
  {
   "attachments": {},
   "cell_type": "markdown",
   "id": "c2c008dc",
   "metadata": {},
   "source": [
    "### SPP Bibs Pages"
   ]
  },
  {
   "cell_type": "code",
   "execution_count": null,
   "id": "4e0fc2db",
   "metadata": {},
   "outputs": [],
   "source": [
    "# bibs imgs\n",
    "bib_pages = set([bib_entry.box_group.boxes[0].page for bib_entry in mmda_doc.bib_entries])\n",
    "\n",
    "rows = len(bib_pages)\n",
    "columns = 2\n",
    "fontsize = 48\n",
    "\n",
    "#spp\n",
    "#make bib text blocks and save as image\n",
    "print(\"SPP\")\n",
    "\n",
    "dic_text_blocks = make_text_blocks_bibs(mmda_doc)\n",
    "bib_pages = sorted(list(bib_pages))\n",
    "print('bib_pages', bib_pages)\n",
    "for page in bib_pages:\n",
    "    print(f\"page {page}:\")\n",
    "    display(draw_text_blocks(page, dic_text_blocks))\n"
   ]
  },
  {
   "attachments": {},
   "cell_type": "markdown",
   "id": "6e229d05",
   "metadata": {},
   "source": [
    "### Grobid Bibs Pages"
   ]
  },
  {
   "cell_type": "code",
   "execution_count": null,
   "id": "88273350",
   "metadata": {},
   "outputs": [],
   "source": [
    "#function to create labeled text blocks from bibs on the mmda doc\n",
    "def make_text_blocks_grobid_bibs(mmda_doc):\n",
    "\n",
    "    result_text_blocks_list = defaultdict(list)\n",
    "    dictionary_of_box_groups = defaultdict(list)\n",
    "    \n",
    "    for bib in mmda_doc.grobid_bibs:\n",
    "        dictionary_of_box_groups[bib.box_group.boxes[0].page].append(bib.box_group)\n",
    "    \n",
    "    #mapping between pages and spans on page\n",
    "    for page, box_groups in dictionary_of_box_groups.items():\n",
    "        page_w, page_h = mmda_doc.images[page].size\n",
    "\n",
    "        for box_group in box_groups:\n",
    "            # it's usually multiple boxes\n",
    "            for i, box in enumerate(box_group.boxes):\n",
    "                box_id = box_group.id if i == 0 else \" \"\n",
    "                rect = lpe.Rectangle(\n",
    "                        box.l * page_w,\n",
    "                        box.t * page_h,\n",
    "                        (box.l + box.w) * page_w,\n",
    "                        (box.t + box.h) * page_h\n",
    "                    )\n",
    "                result_text_blocks_list[page].append(lpe.TextBlock(\n",
    "                    rect,\n",
    "                    id=box_id,\n",
    "                    type='color_1'\n",
    "                ))\n",
    "    return result_text_blocks_list\n",
    "    \n",
    "# bibs imgs\n",
    "print(\"Grobid 0.5\")\n",
    "bib_pages = set([bib_entry.box_group.boxes[0].page for bib_entry in mmda_doc.grobid_bibs])\n",
    "rows = len(bib_pages)\n",
    "columns = 2\n",
    "fontsize = 48\n",
    "\n",
    "#grobid\n",
    "#make bib text blocks and save as image\n",
    "dic_text_blocks = make_text_blocks_grobid_bibs(mmda_doc)\n",
    "bib_pages = sorted(list(bib_pages))\n",
    "print('bib_pages', bib_pages)\n",
    "for page in bib_pages:\n",
    "    print(f\"page {page}:\")\n",
    "    display(draw_text_blocks(page, dic_text_blocks))\n"
   ]
  },
  {
   "cell_type": "markdown",
   "id": "aae60d6e",
   "metadata": {},
   "source": [
    "## ANNOTATOR TODO: \n",
    "Record each mention on this page (regardless of if it got recognized by SPP or not) as 1 row in the spreadsheet."
   ]
  },
  {
   "cell_type": "code",
   "execution_count": null,
   "id": "5581b444",
   "metadata": {},
   "outputs": [],
   "source": []
  }
 ],
 "metadata": {
  "celltoolbar": "Tags",
  "kernelspec": {
   "display_name": "mmda_bailey_annot_b058",
   "language": "python",
   "name": "python3"
  },
  "language_info": {
   "codemirror_mode": {
    "name": "ipython",
    "version": 3
   },
   "file_extension": ".py",
   "mimetype": "text/x-python",
   "name": "python",
   "nbconvert_exporter": "python",
   "pygments_lexer": "ipython3",
   "version": "3.8.16"
  }
 },
 "nbformat": 4,
 "nbformat_minor": 5
}
