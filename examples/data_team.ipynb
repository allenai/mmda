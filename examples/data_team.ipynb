{
 "cells": [
  {
   "cell_type": "markdown",
   "metadata": {},
   "source": [
    "## Exploring the MMDA data model"
   ]
  },
  {
   "cell_type": "code",
   "execution_count": null,
   "metadata": {},
   "outputs": [],
   "source": [
    "import json\n",
    "from typing import *\n",
    "\n",
    "from mmda.types import *\n",
    "from mmda.parsers.pdfplumber_parser import PDFPlumberParser\n",
    "from mmda.rasterizers.rasterizer import PDF2ImageRasterizer\n",
    "\n",
    "sha = 'cca0ef8230a85e9dc233980ebb8d5778b8982394'\n",
    "pdf_loc = '/Users/yogic/git/mmda/pdfs/cca0ef8230a85e9dc233980ebb8d5778b8982394.pdf'\n",
    "\n",
    "images = list(PDF2ImageRasterizer().rasterize(pdf_loc, dpi=72))\n",
    "images[0]"
   ]
  },
  {
   "cell_type": "markdown",
   "metadata": {},
   "source": [
    "The __parser__ produces rows, tokens, and pages. All are of type List[SpanGroup].\n",
    "\n",
    "Within each SpanGroup, every span has also a box."
   ]
  },
  {
   "cell_type": "code",
   "execution_count": null,
   "metadata": {},
   "outputs": [],
   "source": [
    "doc = PDFPlumberParser().parse(pdf_loc)\n",
    "\n",
    "def print_anno(anno):\n",
    "    if type(anno) is SpanGroup:\n",
    "        print(f\"SpanGroup \", end='')\n",
    "        print(json.dumps(anno.to_json(), indent=2))\n",
    "    elif type(anno) is BoxGroup:\n",
    "        print(\"BoxGroup \", end='')\n",
    "        print(json.dumps(anno.to_json(), indent=2))\n",
    "\n",
    "print(f\"the first token = \", end='')\n",
    "print_anno(doc.tokens[0])\n",
    "print(f\"the first row = \", end='')\n",
    "print_anno(doc.rows[0])"
   ]
  },
  {
   "cell_type": "markdown",
   "metadata": {},
   "source": [
    "Lets pretend to be some models called layoutparser and vila.\n",
    "\n",
    "* LayoutParser https://github.com/allenai/mmda/blob/451004a9945646125d18121066517d7631de5618/mmda/predictors/lp_predictors.py#L89\n",
    "* Vila https://github.com/allenai/mmda/blob/451004a9945646125d18121066517d7631de5618/mmda/predictors/hf_predictors/vila_predictor.py#L176"
   ]
  },
  {
   "cell_type": "code",
   "execution_count": null,
   "metadata": {},
   "outputs": [],
   "source": [
    "# from layoutparser, returns groups of boxes\n",
    "boxes: List[BoxGroup] = [BoxGroup(id=1, boxes=[Box(0.1, 0.1, 0.2, 0.2, 1)])]\n",
    "# from vila, returns groups of spans (individual spans have no box) \n",
    "elements: List[SpanGroup] = [SpanGroup(id=1, type='Title', spans=[Span(start=5, end=45, box=None)])]\n",
    "\n",
    "print_anno(boxes[0])\n",
    "print_anno(elements[0])\n",
    "\n",
    "doc.annotate(boxes=boxes)\n",
    "doc.annotate(elements=elements)"
   ]
  },
  {
   "cell_type": "markdown",
   "metadata": {},
   "source": [
    "MMDA converts `BoxGroup`s to `SpanGroup`s when annotated on a document. It leaves the orginial boxes you gave as input as a property called `box_group` on the each `SpanGroup`."
   ]
  },
  {
   "cell_type": "code",
   "execution_count": null,
   "metadata": {},
   "outputs": [],
   "source": [
    "first_box_group = doc.boxes[0].to_json()\n",
    "first_box_group['spans'] = first_box_group['spans'][:2]  # so that it prints less\n",
    "\n",
    "print(type(doc.boxes[0]))\n",
    "print(json.dumps(first_box_group, indent=2))"
   ]
  },
  {
   "cell_type": "markdown",
   "metadata": {},
   "source": [
    "We can use MMDA to jump between annotation types."
   ]
  },
  {
   "cell_type": "code",
   "execution_count": null,
   "metadata": {},
   "outputs": [],
   "source": [
    "print(f\"number of tokens in the first page = {len(doc.pages[0].tokens)}\")\n",
    "print(f\"number of rows in the second page = {len(doc.pages[1].rows)}\")"
   ]
  },
  {
   "cell_type": "code",
   "execution_count": null,
   "metadata": {},
   "outputs": [],
   "source": [
    "for token in doc.rows[0].tokens:\n",
    "    print(token.symbols)"
   ]
  },
  {
   "cell_type": "markdown",
   "metadata": {},
   "source": [
    "Every document has all of its text stored in a prop called `symbols` using which `SpanGroups` also derive a property of the same name.\n",
    "\n",
    "The example below really shows the strength of MMDA in action. We annotated the document with a Box and now are able to retrieve the text enclosed by that box."
   ]
  },
  {
   "cell_type": "code",
   "execution_count": null,
   "metadata": {},
   "outputs": [],
   "source": [
    "doc.boxes[0].symbols"
   ]
  },
  {
   "cell_type": "markdown",
   "metadata": {},
   "source": [
    "The \"vila\" prediction doesn't contain boxes. Yet, we can find the overlapping tokens and list their boxes instead for a visual perspective."
   ]
  },
  {
   "cell_type": "code",
   "execution_count": null,
   "metadata": {},
   "outputs": [],
   "source": [
    "print_anno(doc.elements[0])\n",
    "print()\n",
    "\n",
    "for token in doc.elements[0].tokens:\n",
    "    for box in token.spans:\n",
    "        print(box.box.to_json())"
   ]
  },
  {
   "cell_type": "markdown",
   "metadata": {},
   "source": [
    "# Annotation Store"
   ]
  },
  {
   "cell_type": "markdown",
   "metadata": {},
   "source": [
    "* __Document__ - Some immutable file. Can be text, pdf, or token-stream. The document type determines the annotations it can have.\n",
    "* __Annotation__ - \"sources\" provide boxes as annotations for pdf documents, and spans for text documents.\n",
    "* __Attributes__ - \"sources\" provide attributes attached to documents and/or annotations.\n",
    "\n",
    "PDFAnnotation = (page, x, y, width, height, attributes)\n",
    "\n",
    "TextAnnotation = (start, end, attributes)"
   ]
  },
  {
   "cell_type": "markdown",
   "metadata": {},
   "source": [
    "## Document"
   ]
  },
  {
   "cell_type": "code",
   "execution_count": null,
   "metadata": {},
   "outputs": [],
   "source": [
    "import requests\n",
    "\n",
    "url = \"https://annotations-api.prod.s2.allenai.org\"\n",
    "\n",
    "s3_url = f\"s3://ai2-s2-pdfs/{sha[:4]}/{sha[4:]}.pdf\"\n",
    "anno_doc = requests.post(f\"{url}/pdf\", json={\"s3Url\": s3_url}).json()\n",
    "print(json.dumps(anno_doc, indent=2))"
   ]
  },
  {
   "cell_type": "markdown",
   "metadata": {},
   "source": [
    "## Attributes"
   ]
  },
  {
   "cell_type": "code",
   "execution_count": null,
   "metadata": {},
   "outputs": [],
   "source": [
    "anno_doc_id = anno_doc['id']\n",
    "# source = 'yogi-data-team-meeting-demo'\n",
    "\n",
    "resp = requests.get(f\"{url}/pdf/{anno_doc_id}/annotations\", params={\"annotationSources\": \"none\", \"attributeSources\": \"all\"}).json()\n",
    "print(json.dumps(resp, indent=2))"
   ]
  },
  {
   "cell_type": "markdown",
   "metadata": {},
   "source": [
    "Re-creating the MMDA doc from Annotation Store"
   ]
  },
  {
   "cell_type": "code",
   "execution_count": null,
   "metadata": {},
   "outputs": [],
   "source": [
    "# first we need to get the doc-id associated with the text file\n",
    "s3_text_url = 's3://ai2-s2-science-parse-plus-prod/document/cca0ef8230a85e9dc233980ebb8d5778b8982394/pdfplumber-0.0.5/text'\n",
    "anno_text_doc_id = requests.post(f\"{url}/plain-text\", json={\"s3Url\": s3_text_url}).json()[\"id\"]\n",
    "print(anno_text_doc_id)"
   ]
  },
  {
   "cell_type": "code",
   "execution_count": null,
   "metadata": {},
   "outputs": [],
   "source": [
    "anno_pdf_annotations = requests.get(\n",
    "    f\"{url}/pdf/{anno_doc_id}/annotations\", params={\"annotationSources\": \"pdfplumber-0.0.5\", \"attributeSources\": \"none\"}\n",
    ").json()['annotationsFromSource']['pdfplumber-0.0.5']\n",
    "anno_text_annotations = requests.get(\n",
    "    f\"{url}/plain-text/{anno_text_doc_id}/annotations\", params={\"annotationSources\": \"pdfplumber-0.0.5\", \"attributeSources\": \"none\"}\n",
    ").json()['annotationsFromSource']['pdfplumber-0.0.5']"
   ]
  },
  {
   "cell_type": "code",
   "execution_count": null,
   "metadata": {},
   "outputs": [],
   "source": [
    "print(\"PDFAnnotation \" + json.dumps(anno_pdf_annotations['pages'][0], indent=2))\n",
    "print(\"TextAnnotation \" + json.dumps(anno_text_annotations['pages'][0], indent=2))"
   ]
  },
  {
   "cell_type": "code",
   "execution_count": null,
   "metadata": {},
   "outputs": [],
   "source": [
    "from collections import defaultdict\n",
    "\n",
    "def mk_mmda_annos(text_annos, pdf_annos) -> List[SpanGroup]:\n",
    "    grouped_text_annos = defaultdict(list)\n",
    "    for text_anno in text_annos:\n",
    "        grouped_text_annos[text_anno['attributesFromSource']['pdfplumber-0.0.5']['_group']].append(text_anno)\n",
    "    grouped_pdf_annos = defaultdict(list)\n",
    "    for pdf_anno in pdf_annos:\n",
    "        grouped_pdf_annos[pdf_anno['attributesFromSource']['pdfplumber-0.0.5']['_group']].append(pdf_anno)\n",
    "\n",
    "    grouped_text_annos = dict(grouped_text_annos)\n",
    "    grouped_pdf_annos = dict(grouped_pdf_annos)\n",
    "\n",
    "    keys = sorted(list(grouped_text_annos.keys()))\n",
    "    span_groups = []\n",
    "    for key in keys:\n",
    "        text_annos = grouped_text_annos[key]\n",
    "        pdf_annos = grouped_pdf_annos[key]\n",
    "        spans = []\n",
    "        for (text_anno, pdf_anno) in zip(text_annos, pdf_annos):\n",
    "            span = Span(\n",
    "                start=text_anno['startChar'],\n",
    "                end=text_anno['endChar'],\n",
    "                box=Box(l=pdf_anno['x'], t=pdf_anno['y'], w=pdf_anno['width'], h=pdf_anno['height'], page=pdf_anno['page'])\n",
    "            )\n",
    "            spans.append(span)\n",
    "        span_groups.append(SpanGroup(spans=spans, id=pdf_annos[0]['attributesFromSource']['pdfplumber-0.0.5']['_group']))\n",
    "    return span_groups\n",
    "\n",
    "tokens = mk_mmda_annos(anno_text_annotations['tokens'], anno_pdf_annotations['tokens'])\n",
    "rows = mk_mmda_annos(anno_text_annotations['rows'], anno_pdf_annotations['rows'])\n",
    "pages = mk_mmda_annos(anno_text_annotations['pages'], anno_pdf_annotations['pages'])"
   ]
  },
  {
   "cell_type": "code",
   "execution_count": null,
   "metadata": {},
   "outputs": [],
   "source": [
    "# re-use text from the parsed doc. IRL, we get text from S3.\n",
    "new_doc = Document(doc.symbols)\n",
    "new_doc.annotate(tokens=tokens)\n",
    "new_doc.annotate(rows=rows)\n",
    "new_doc.annotate(pages=pages)"
   ]
  },
  {
   "cell_type": "code",
   "execution_count": null,
   "metadata": {},
   "outputs": [],
   "source": [
    "# this the doc we parsed at the start\n",
    "for token in doc.rows[0].tokens:\n",
    "    print(token.symbols)\n",
    "print(\"-------\")\n",
    "# new doc we re-constructed from data SPP stored in annotation store\n",
    "for token in new_doc.rows[0].tokens:\n",
    "    print(token.symbols)"
   ]
  },
  {
   "cell_type": "markdown",
   "metadata": {},
   "source": [
    "## New!!\n",
    "\n",
    "python folk (or those forced into it through the magic of mmda) no longer need bother with how SPP stores MMDA annotations in the annotation store. \n",
    "\n",
    "https://github.com/allenai/spp/tree/main/client\n",
    "\n",
    "Don't care about MMDA but are still curious about the annotation store?\n",
    "\n",
    "https://github.com/allenai/annotation-store/tree/main/clients/python\n",
    "\n",
    "https://github.com/allenai/annotation-store/tree/main/clients/scala\n",
    "\n",
    "## Thank you!"
   ]
  }
 ],
 "metadata": {
  "kernelspec": {
   "display_name": "Python 3.8.11 64-bit ('mmda')",
   "language": "python",
   "name": "python3"
  },
  "language_info": {
   "codemirror_mode": {
    "name": "ipython",
    "version": 3
   },
   "file_extension": ".py",
   "mimetype": "text/x-python",
   "name": "python",
   "nbconvert_exporter": "python",
   "pygments_lexer": "ipython3",
   "version": "3.8.11"
  },
  "orig_nbformat": 4,
  "vscode": {
   "interpreter": {
    "hash": "cbaa436037b66e967ec2ddee2d7b3accf1e2e82c243866a302c9a45c874ffe99"
   }
  }
 },
 "nbformat": 4,
 "nbformat_minor": 2
}
