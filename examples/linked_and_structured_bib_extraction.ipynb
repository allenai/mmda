{
 "cells": [
  {
   "cell_type": "markdown",
   "id": "c0a99bc9",
   "metadata": {},
   "source": [
    "### basic doc annos retreived from prod"
   ]
  },
  {
   "cell_type": "code",
   "execution_count": 1,
   "id": "8fddac74",
   "metadata": {},
   "outputs": [],
   "source": [
    "%load_ext autoreload\n",
    "%autoreload 2"
   ]
  },
  {
   "cell_type": "code",
   "execution_count": 2,
   "id": "651506d3",
   "metadata": {},
   "outputs": [
    {
     "name": "stdout",
     "output_type": "stream",
     "text": [
      "text_url:  s3://ai2-s2-science-parse-plus-prod/document/17ada3c96ef888fc89f6b995d2edd19a45383423/pdfplumber-0.0.4/text\n",
      "740c1d64752b4679a742544046cf5de3452cfef4\n",
      "\n",
      "{'id': 'vila-0.0.2|layout-parser-0.0.2|pdfplumber-0.0.4/vila_span_groups/0', 'startChar': 0, 'endChar': 125, 'attributesFromSource': {'vila-0.0.2|layout-parser-0.0.2|pdfplumber-0.0.4': {'type': 'Title', '_group': 0}}}\n",
      "\n",
      "SpanGroup(uuid='08ac912a-1136-4c0d-85d9-bcafa3d5181f', doc=<mmda.types.document.Document object at 0x7f1888303970>, metadata=Metadata({'id': None, 'type': 'Title', 'text': None}), spans=[Span(start=0, end=125, box=None)], box_group=None, id=None, type='Title', text='1\\nFunctions of FMS-like tyrosine kinase 3 (flt3) in zebrafish hematopoiesis and its\\nrelevance to human acute myeloid leukemia')\n"
     ]
    }
   ],
   "source": [
    "#!/usr/bin/env python3\n",
    "import boto3\n",
    "import requests\n",
    "\n",
    "from mmda.types.span import Span\n",
    "from mmda.types.annotation import SpanGroup, Box\n",
    "from mmda.types.document import Document\n",
    "\n",
    "def get_text(url: str) -> str:\n",
    "    s3 = boto3.resource('s3')\n",
    "    url_no_prefix = url[5:]\n",
    "    bucket, *key = url_no_prefix.split(\"/\")\n",
    "    key = \"/\".join(key)\n",
    "    with s3.Bucket(bucket).Object(key).get()['Body'] as f:\n",
    "        return f.read().decode('utf-8')\n",
    "    \n",
    "\n",
    "\n",
    "sha = '17ada3c96ef888fc89f6b995d2edd19a45383423'\n",
    "resp1 = requests.get(f'http://annotations-api.prod.s2.allenai.org/pdf/{sha}/annotations?annotationSources=none&attributeSources=pdfplumber-0.0.4').json()\n",
    "text_url = resp1['attributesFromSource']['pdfplumber-0.0.4']['text']\n",
    "print(\"text_url: \", text_url)\n",
    "\n",
    "resp2 = requests.post(\n",
    "    'http://annotations-api.prod.s2.allenai.org/plain-text/',\n",
    "    json={'s3Url': text_url}\n",
    ").json()\n",
    "text_id = resp2['id']\n",
    "print(text_id)\n",
    "\n",
    "resp3 = requests.get(f'http://annotations-api.prod.s2.allenai.org/plain-text/{text_id}/annotations'\n",
    "                     '?annotationSources=vila-0.0.2|layout-parser-0.0.2|pdfplumber-0.0.4'\n",
    "                     '&attributeSources=none').json()\n",
    "vila_annos = resp3['annotationsFromSource']['vila-0.0.2|layout-parser-0.0.2|pdfplumber-0.0.4']['vila_span_groups']\n",
    "\n",
    "text = get_text(text_url)\n",
    "vila_spangroups = []\n",
    "for anno in vila_annos:\n",
    "    vila_spangroups.append(\n",
    "        SpanGroup(\n",
    "            spans=[Span(start=anno['startChar'], end=anno['endChar'])],\n",
    "            type=anno['attributesFromSource']['vila-0.0.2|layout-parser-0.0.2|pdfplumber-0.0.4']['type']\n",
    "        )\n",
    "    )\n",
    "\n",
    "doc = Document(text)\n",
    "doc.annotate(vila=vila_spangroups)\n",
    "\n",
    "print(\"\")\n",
    "print(vila_annos[0])\n",
    "print(\"\")\n",
    "# for spangroup in doc.vila:\n",
    "#     if spangroup.type == \"Bibliography\":\n",
    "#         print(spangroup.symbols)\n",
    "print(vila_spangroups[0])"
   ]
  },
  {
   "cell_type": "markdown",
   "id": "d342c143",
   "metadata": {},
   "source": [
    "### get and store bib entry annos to dev"
   ]
  },
  {
   "cell_type": "code",
   "execution_count": 3,
   "id": "044839bc",
   "metadata": {},
   "outputs": [],
   "source": [
    "from annotation_store import client\n",
    "\n",
    "api = client.client() # host http://annotations-api.dev.s2.allenai.org"
   ]
  },
  {
   "cell_type": "code",
   "execution_count": 4,
   "id": "354a2706",
   "metadata": {},
   "outputs": [
    {
     "data": {
      "text/plain": [
       "<annotation_store.client.ApiClient at 0x7f18882f7460>"
      ]
     },
     "execution_count": 4,
     "metadata": {},
     "output_type": "execute_result"
    }
   ],
   "source": [
    "api"
   ]
  },
  {
   "cell_type": "code",
   "execution_count": 5,
   "id": "3d76b0ba",
   "metadata": {},
   "outputs": [],
   "source": [
    "dev_doc_id = api.Pdf.create_document(\"s3://ai2-s2-pdfs/17ad/a3c96ef888fc89f6b995d2edd19a45383423.pdf\")"
   ]
  },
  {
   "cell_type": "code",
   "execution_count": 6,
   "id": "ab394f40",
   "metadata": {},
   "outputs": [
    {
     "data": {
      "text/plain": [
       "'17ada3c96ef888fc89f6b995d2edd19a45383423'"
      ]
     },
     "execution_count": 6,
     "metadata": {},
     "output_type": "execute_result"
    }
   ],
   "source": [
    "dev_doc_id # '17ada3c96ef888fc89f6b995d2edd19a45383423' cool"
   ]
  },
  {
   "cell_type": "code",
   "execution_count": 7,
   "id": "e23a8b83",
   "metadata": {},
   "outputs": [],
   "source": [
    "# instance requires\n",
    "#     symbols: str\n",
    "#     tokens: List[api.SpanGroup]\n",
    "#     rows: List[api.SpanGroup]\n",
    "#     pages: List[api.SpanGroup]\n",
    "#     vila_span_groups: List[api.SpanGroup]\n",
    "#     page_images: List[str] = Field(description=\"List of base64-encoded page images\")"
   ]
  },
  {
   "cell_type": "code",
   "execution_count": 8,
   "id": "6b7b50b3",
   "metadata": {},
   "outputs": [
    {
     "name": "stdout",
     "output_type": "stream",
     "text": [
      "SpanGroup(uuid='08ac912a-1136-4c0d-85d9-bcafa3d5181f', doc=<mmda.types.document.Document object at 0x7f1888303970>, metadata=Metadata({'id': None, 'type': 'Title', 'text': None}), spans=[Span(start=0, end=125, box=None)], box_group=None, id=None, type='Title', text='1\\nFunctions of FMS-like tyrosine kinase 3 (flt3) in zebrafish hematopoiesis and its\\nrelevance to human acute myeloid leukemia')\n"
     ]
    }
   ],
   "source": [
    "# prod stuff\n",
    "# symbols and tokens\n",
    "\n",
    "def make_span_groups(text_spans, pdf_boxes):\n",
    "    \n",
    "    instance_tokens = []\n",
    "    for i, text_span in enumerate(text_spans):\n",
    "        box_info = pdf_boxes[i]\n",
    "        associated_box = Box(\n",
    "            l=box_info['x'], \n",
    "            t=box_info['y'], \n",
    "            w=box_info['width'], \n",
    "            h=box_info['height'], \n",
    "            page=box_info['page']\n",
    "        )\n",
    "\n",
    "        instance_tokens.append(\n",
    "            SpanGroup(\n",
    "                spans=[Span(start=text_span['startChar'], end=text_span['endChar'], box=associated_box)],\n",
    "                id=text_span['attributesFromSource']['pdfplumber-0.0.4']['id']\n",
    "\n",
    "            )\n",
    "        )\n",
    "    return instance_tokens\n",
    "    \n",
    "\n",
    "symbols = text\n",
    "pdf_plumber_text_annos_resp = requests.get(f'http://annotations-api.prod.s2.allenai.org/plain-text/{text_id}/annotations'\n",
    "                     '?annotationSources=pdfplumber-0.0.4'\n",
    "                     '&attributeSources=none').json()\n",
    "pdf_plumber_pdf_annos_resp = requests.get(f'http://annotations-api.prod.s2.allenai.org/pdf/{sha}/annotations'\n",
    "                     '?annotationSources=pdfplumber-0.0.4'\n",
    "                     '&attributeSources=none').json()\n",
    "\n",
    "token_spans = pdf_plumber_text_annos_resp['annotationsFromSource']['pdfplumber-0.0.4']['tokens']\n",
    "token_boxes = pdf_plumber_pdf_annos_resp['annotationsFromSource']['pdfplumber-0.0.4']['tokens']\n",
    "\n",
    "\n",
    "instance_tokens = make_span_groups(token_spans, token_boxes)\n",
    "    \n",
    "# print(token_spans[0])\n",
    "# print(len(token_spans))\n",
    "# print(token_boxes[0])\n",
    "# print(len(token_boxes))\n",
    "# print(instance_tokens[0])\n",
    "rows = pdf_plumber_text_annos_resp['annotationsFromSource']['pdfplumber-0.0.4']['rows']\n",
    "# print(rows[0])\n",
    "pages = pdf_plumber_text_annos_resp['annotationsFromSource']['pdfplumber-0.0.4']['pages']\n",
    "# print(pages[0])\n",
    "vila_span_groups = vila_spangroups\n",
    "print(vila_span_groups[0])\n"
   ]
  },
  {
   "cell_type": "code",
   "execution_count": 9,
   "id": "cf94a7fd",
   "metadata": {},
   "outputs": [
    {
     "name": "stdout",
     "output_type": "stream",
     "text": [
      "{'id': 'pdfplumber-0.0.4/rows/0', 'startChar': 0, 'endChar': 1, 'attributesFromSource': {'pdfplumber-0.0.4': {'id': 0, '_group': 0}}}\n",
      "901\n",
      "{'id': 'pdfplumber-0.0.4/rows/0', 'page': 0, 'x': 0.4970588235294117, 'y': 0.9170906818181819, 'width': 0.0069117647058823395, 'height': 0.010681818181818237, 'attributesFromSource': {'pdfplumber-0.0.4': {'id': 0, '_group': 0}}}\n",
      "901\n",
      "instance row:\n",
      "SpanGroup(uuid='a543c77b-535a-4b60-a520-6ae2997c9656', doc=None, metadata=Metadata({'id': 0, 'type': None, 'text': None}), spans=[Span(start=0, end=1, box=Box(l=0.4970588235294117, t=0.9170906818181819, w=0.0069117647058823395, h=0.010681818181818237, page=0))], box_group=None, id=0, type=None, text='')\n",
      "{'id': 'pdfplumber-0.0.4/pages/0', 'startChar': 0, 'endChar': 1236, 'attributesFromSource': {'pdfplumber-0.0.4': {'id': 0, '_group': 0}}}\n",
      "\n",
      "\n",
      "\n",
      "\n",
      "\n",
      "{'id': 'pdfplumber-0.0.4/pages/0', 'startChar': 0, 'endChar': 1236, 'attributesFromSource': {'pdfplumber-0.0.4': {'id': 0, '_group': 0}}}\n",
      "28\n",
      "{'id': 'pdfplumber-0.0.4/pages/0', 'page': 0, 'x': 0.08796004901960783, 'y': 0.011190656565656636, 'width': 0.8240833333333321, 'height': 0.9737462121212122, 'attributesFromSource': {'pdfplumber-0.0.4': {'id': 0, '_group': 0}}}\n",
      "28\n",
      "instance page:\n",
      "SpanGroup(uuid='6a62f3eb-10f2-454d-a556-49b2f0fef701', doc=None, metadata=Metadata({'id': 0, 'type': None, 'text': None}), spans=[Span(start=0, end=1236, box=Box(l=0.08796004901960783, t=0.011190656565656636, w=0.8240833333333321, h=0.9737462121212122, page=0))], box_group=None, id=0, type=None, text='')\n",
      "{'id': 'pdfplumber-0.0.4/pages/0', 'startChar': 0, 'endChar': 1236, 'attributesFromSource': {'pdfplumber-0.0.4': {'id': 0, '_group': 0}}}\n"
     ]
    }
   ],
   "source": [
    "# prod rows and pages\n",
    "row_spans = pdf_plumber_text_annos_resp['annotationsFromSource']['pdfplumber-0.0.4']['rows']\n",
    "row_boxes = pdf_plumber_pdf_annos_resp['annotationsFromSource']['pdfplumber-0.0.4']['rows']\n",
    "\n",
    "instance_rows = make_span_groups(row_spans, row_boxes)\n",
    "\n",
    "print(row_spans[0])\n",
    "print(len(row_spans))\n",
    "print(row_boxes[0])\n",
    "print(len(row_boxes))\n",
    "print(\"instance row:\")\n",
    "print(instance_rows[0])\n",
    "\n",
    "print(pages[0])\n",
    "print('\\n\\n\\n\\n')\n",
    "\n",
    "\n",
    "page_spans = pdf_plumber_text_annos_resp['annotationsFromSource']['pdfplumber-0.0.4']['pages']\n",
    "page_boxes = pdf_plumber_pdf_annos_resp['annotationsFromSource']['pdfplumber-0.0.4']['pages']\n",
    "\n",
    "instance_pages = make_span_groups(page_spans, page_boxes)\n",
    "\n",
    "print(page_spans[0])\n",
    "print(len(page_spans))\n",
    "print(page_boxes[0])\n",
    "print(len(page_boxes))\n",
    "print(\"instance page:\")\n",
    "print(instance_pages[0])\n",
    "\n",
    "print(pages[0])\n"
   ]
  },
  {
   "cell_type": "code",
   "execution_count": 10,
   "id": "d4cb6b6f",
   "metadata": {},
   "outputs": [],
   "source": [
    "# now just need to get the images\n",
    "from mmda.types.image import tobase64\n",
    "\n",
    "from awscli.customizations.s3.utils import split_s3_bucket_key\n",
    "from io import BytesIO\n",
    "from PIL import Image\n",
    "\n",
    "import boto3\n",
    "\n",
    "s3 = boto3.client('s3')\n",
    "image_s3_keys = resp1['attributesFromSource']['pdfplumber-0.0.4']['images']\n",
    "page_images = []\n",
    "for key in image_s3_keys:\n",
    "    bucket_name, key_name = split_s3_bucket_key(key)\n",
    "    img_obj = s3.get_object(Bucket=bucket_name, Key=key_name)\n",
    "    img_data = img_obj[\"Body\"].read()\n",
    "    img = Image.open(BytesIO(img_data))\n",
    "    page_images.append(tobase64(img))"
   ]
  },
  {
   "cell_type": "code",
   "execution_count": 11,
   "id": "19393689",
   "metadata": {
    "scrolled": true
   },
   "outputs": [
    {
     "data": {
      "text/plain": [
       "[SpanGroup(uuid='6a62f3eb-10f2-454d-a556-49b2f0fef701', doc=None, metadata=Metadata({'id': 0, 'type': None, 'text': None}), spans=[Span(start=0, end=1236, box=Box(l=0.08796004901960783, t=0.011190656565656636, w=0.8240833333333321, h=0.9737462121212122, page=0))], box_group=None, id=0, type=None, text=''),\n",
       " SpanGroup(uuid='10021fd5-74f7-49b8-ac63-ad5f0a385033', doc=None, metadata=Metadata({'id': 1, 'type': None, 'text': None}), spans=[Span(start=1237, end=2893, box=Box(l=0.1814683842647059, t=0.011190656565656636, w=0.6383671124836606, h=0.9165818434343435, page=1))], box_group=None, id=1, type=None, text=''),\n",
       " SpanGroup(uuid='7839f96a-30fb-45d6-8725-477ef4351c7e', doc=None, metadata=Metadata({'id': 2, 'type': None, 'text': None}), spans=[Span(start=2894, end=6157, box=Box(l=0.18146668784313721, t=0.011190656565656636, w=0.6428722485784314, h=0.9165818434343435, page=2))], box_group=None, id=2, type=None, text=''),\n",
       " SpanGroup(uuid='671685ec-5b07-47ee-bce3-ec49502e2495', doc=None, metadata=Metadata({'id': 3, 'type': None, 'text': None}), spans=[Span(start=6158, end=9012, box=Box(l=0.1814673217647059, t=0.011190656565656636, w=0.6386446014705887, h=0.9165818434343435, page=3))], box_group=None, id=3, type=None, text=''),\n",
       " SpanGroup(uuid='b0898988-1e05-45b5-a163-e611eb1f41f8', doc=None, metadata=Metadata({'id': 4, 'type': None, 'text': None}), spans=[Span(start=9013, end=11886, box=Box(l=0.1814663224346404, t=0.011190656565656636, w=0.6423787802941168, h=0.9165818434343435, page=4))], box_group=None, id=4, type=None, text=''),\n",
       " SpanGroup(uuid='f6ba7a37-0c12-43c0-ac1e-9df3e3924f63', doc=None, metadata=Metadata({'id': 5, 'type': None, 'text': None}), spans=[Span(start=11887, end=14831, box=Box(l=0.1814661209640523, t=0.011190656565656636, w=0.6383667826045754, h=0.9165818434343435, page=5))], box_group=None, id=5, type=None, text=''),\n",
       " SpanGroup(uuid='3a4be5e2-ae98-4215-8ab9-1cbd47e60c81', doc=None, metadata=Metadata({'id': 6, 'type': None, 'text': None}), spans=[Span(start=14832, end=18186, box=Box(l=0.1814696071732025, t=0.011190656565656636, w=0.6382258578692809, h=0.9165818434343435, page=6))], box_group=None, id=6, type=None, text=''),\n",
       " SpanGroup(uuid='e4b1c5de-b9c5-4cb5-b88e-8e0e0c4f7caf', doc=None, metadata=Metadata({'id': 7, 'type': None, 'text': None}), spans=[Span(start=18187, end=21317, box=Box(l=0.1814683902287581, t=0.011190656565656636, w=0.6489073498039217, h=0.9165818434343435, page=7))], box_group=None, id=7, type=None, text=''),\n",
       " SpanGroup(uuid='694d7f05-f061-427b-9f8a-2e0db965d3da', doc=None, metadata=Metadata({'id': 8, 'type': None, 'text': None}), spans=[Span(start=21318, end=24337, box=Box(l=0.18146735264705874, t=0.011190656565656636, w=0.6430932880392165, h=0.9165818434343435, page=8))], box_group=None, id=8, type=None, text=''),\n",
       " SpanGroup(uuid='d37f3021-3472-4fe9-97b9-b964afe04c41', doc=None, metadata=Metadata({'id': 9, 'type': None, 'text': None}), spans=[Span(start=24338, end=27530, box=Box(l=0.18146912032679738, t=0.011190656565656636, w=0.6440902789215679, h=0.9165818434343435, page=9))], box_group=None, id=9, type=None, text=''),\n",
       " SpanGroup(uuid='0cda5b35-be31-4e8c-8fbd-2f365060750e', doc=None, metadata=Metadata({'id': 10, 'type': None, 'text': None}), spans=[Span(start=27531, end=30274, box=Box(l=0.18146917403594778, t=0.011190656565656636, w=0.6425372191503269, h=0.9165818434343435, page=10))], box_group=None, id=10, type=None, text=''),\n",
       " SpanGroup(uuid='84e0872e-b647-404d-a89c-d3ab8f661e2e', doc=None, metadata=Metadata({'id': 11, 'type': None, 'text': None}), spans=[Span(start=30275, end=31510, box=Box(l=0.1814705882352941, t=0.011190656565656636, w=0.6385429117794124, h=0.9165818434343435, page=11))], box_group=None, id=11, type=None, text=''),\n",
       " SpanGroup(uuid='634fdef2-aa5a-458e-be81-38c5a88e7c88', doc=None, metadata=Metadata({'id': 12, 'type': None, 'text': None}), spans=[Span(start=31511, end=34296, box=Box(l=0.18146317915032664, t=0.011190656565656636, w=0.6383893584934645, h=0.9165818434343435, page=12))], box_group=None, id=12, type=None, text=''),\n",
       " SpanGroup(uuid='d4a360ea-9605-4ddb-a6f9-ad880ab3ff27', doc=None, metadata=Metadata({'id': 13, 'type': None, 'text': None}), spans=[Span(start=34297, end=37325, box=Box(l=0.18146503142156867, t=0.011190656565656636, w=0.6383741698692813, h=0.9165818434343435, page=13))], box_group=None, id=13, type=None, text=''),\n",
       " SpanGroup(uuid='cc37dd00-0298-4b3d-9b8a-6196b82e5666', doc=None, metadata=Metadata({'id': 14, 'type': None, 'text': None}), spans=[Span(start=37326, end=40251, box=Box(l=0.18146317915032684, t=0.011190656565656636, w=0.6428525912777772, h=0.9165818434343435, page=14))], box_group=None, id=14, type=None, text=''),\n",
       " SpanGroup(uuid='05682806-a48d-497b-b529-6820c3ffba36', doc=None, metadata=Metadata({'id': 15, 'type': None, 'text': None}), spans=[Span(start=40252, end=43572, box=Box(l=0.18146825017973858, t=0.011190656565656636, w=0.6383226767287585, h=0.9165818434343435, page=15))], box_group=None, id=15, type=None, text=''),\n",
       " SpanGroup(uuid='87b556e8-19ca-4f57-b3e3-9fb0e7653de1', doc=None, metadata=Metadata({'id': 16, 'type': None, 'text': None}), spans=[Span(start=43573, end=46773, box=Box(l=0.18146781001633994, t=0.011190656565656636, w=0.6444054287434641, h=0.9165818434343435, page=16))], box_group=None, id=16, type=None, text=''),\n",
       " SpanGroup(uuid='b7bd09a2-2219-4dd8-90fe-fcce2647d60e', doc=None, metadata=Metadata({'id': 17, 'type': None, 'text': None}), spans=[Span(start=46774, end=49899, box=Box(l=0.18146783915032677, t=0.011190656565656636, w=0.638369509869281, h=0.9165818434343435, page=17))], box_group=None, id=17, type=None, text=''),\n",
       " SpanGroup(uuid='e25b368b-48bd-4d7f-8f50-addde33f9965', doc=None, metadata=Metadata({'id': 18, 'type': None, 'text': None}), spans=[Span(start=49900, end=50308, box=Box(l=0.18147026145424838, t=0.011190656565656636, w=0.6381092950816998, h=0.9165818434343435, page=18))], box_group=None, id=18, type=None, text=''),\n",
       " SpanGroup(uuid='4ee0ad5e-1933-43fe-9ae8-b81103b148fe', doc=None, metadata=Metadata({'id': 19, 'type': None, 'text': None}), spans=[Span(start=50309, end=50386, box=Box(l=0.40080303030303027, t=0.0, w=0.5991969696969697, h=0.0, page=19))], box_group=None, id=19, type=None, text=''),\n",
       " SpanGroup(uuid='abe7d0fe-73eb-4f20-a0f3-32090d838e00', doc=None, metadata=Metadata({'id': 20, 'type': None, 'text': None}), spans=[Span(start=50387, end=50464, box=Box(l=0.40080303030303027, t=0.0, w=0.5991969696969697, h=0.0, page=20))], box_group=None, id=20, type=None, text=''),\n",
       " SpanGroup(uuid='b92cf0fb-f98d-4c02-bf27-f9060cddf178', doc=None, metadata=Metadata({'id': 21, 'type': None, 'text': None}), spans=[Span(start=50465, end=50542, box=Box(l=0.40080303030303027, t=0.0, w=0.5991969696969697, h=0.0, page=21))], box_group=None, id=21, type=None, text=''),\n",
       " SpanGroup(uuid='e94f119a-403b-40bb-b853-de8a0dd218ce', doc=None, metadata=Metadata({'id': 22, 'type': None, 'text': None}), spans=[Span(start=50543, end=50620, box=Box(l=0.40080303030303027, t=0.0, w=0.5991969696969697, h=0.0, page=22))], box_group=None, id=22, type=None, text=''),\n",
       " SpanGroup(uuid='8ec5d040-decc-4da8-9f69-15f42bd85402', doc=None, metadata=Metadata({'id': 23, 'type': None, 'text': None}), spans=[Span(start=50621, end=50698, box=Box(l=0.40080303030303027, t=0.0, w=0.5991969696969697, h=0.0, page=23))], box_group=None, id=23, type=None, text=''),\n",
       " SpanGroup(uuid='8a07b401-b4a5-471a-a18f-5e9818a4d3e4', doc=None, metadata=Metadata({'id': 24, 'type': None, 'text': None}), spans=[Span(start=50699, end=50776, box=Box(l=0.40080303030303027, t=0.0, w=0.5991969696969697, h=0.0, page=24))], box_group=None, id=24, type=None, text=''),\n",
       " SpanGroup(uuid='b6efe7ed-bb32-4c9e-bfae-8e3941a7bb7f', doc=None, metadata=Metadata({'id': 25, 'type': None, 'text': None}), spans=[Span(start=50777, end=50854, box=Box(l=0.40080303030303027, t=0.0, w=0.5991969696969697, h=0.0, page=25))], box_group=None, id=25, type=None, text=''),\n",
       " SpanGroup(uuid='1d2aec87-9b0e-496d-95e2-886949dd6996', doc=None, metadata=Metadata({'id': 26, 'type': None, 'text': None}), spans=[Span(start=50855, end=50932, box=Box(l=0.40080303030303027, t=0.0, w=0.5991969696969697, h=0.0, page=26))], box_group=None, id=26, type=None, text=''),\n",
       " SpanGroup(uuid='fade0290-f515-4bd9-b21a-98c9645f1a8d', doc=None, metadata=Metadata({'id': 27, 'type': None, 'text': None}), spans=[Span(start=50933, end=52478, box=Box(l=0.11764705882352941, t=0.011190656565656636, w=0.7555228758169933, h=0.9257665277777778, page=27))], box_group=None, id=27, type=None, text='')]"
      ]
     },
     "execution_count": 11,
     "metadata": {},
     "output_type": "execute_result"
    }
   ],
   "source": [
    "instance_pages"
   ]
  },
  {
   "cell_type": "code",
   "execution_count": 12,
   "id": "3a231e36",
   "metadata": {},
   "outputs": [
    {
     "data": {
      "text/plain": [
       "{'spans': [{'start': 0, 'end': 125}], 'type': 'Title'}"
      ]
     },
     "execution_count": 12,
     "metadata": {},
     "output_type": "execute_result"
    }
   ],
   "source": [
    "instance = {\n",
    "    \"symbols\": symbols,\n",
    "    \"tokens\" : [sg.to_json() for sg in instance_tokens],\n",
    "    \"rows\" : [sg.to_json() for sg in instance_rows],\n",
    "    \"pages\" : [sg.to_json() for sg in instance_pages],\n",
    "    \"vila_span_groups\" : [sg.to_json() for sg in vila_span_groups],\n",
    "    \"page_images\" : page_images\n",
    "}\n",
    "\n",
    "instance['vila_span_groups'][0]"
   ]
  },
  {
   "cell_type": "code",
   "execution_count": 13,
   "id": "35b8cd6e",
   "metadata": {},
   "outputs": [
    {
     "name": "stdout",
     "output_type": "stream",
     "text": [
      "<Response [200]>\n"
     ]
    }
   ],
   "source": [
    "# send the request:\n",
    "bib_detector_response = requests.post(\n",
    "    'http://bibentry-detector.v0.prod.models.s2.allenai.org/invocations',\n",
    "    json={'instances': [instance]}\n",
    ")\n",
    "# ).json()\n",
    "    \n",
    "# bib_detector_response['predictions']['bib_entry_boxes'][0]\n",
    "print(bib_detector_response)"
   ]
  },
  {
   "cell_type": "code",
   "execution_count": 14,
   "id": "d115313b",
   "metadata": {
    "scrolled": true
   },
   "outputs": [
    {
     "data": {
      "text/plain": [
       "'{\"predictions\":[{\"bib_entry_boxes\":[{\"boxes\":[{\"left\":0.18146317915032664,\"top\":0.866992529633839,\"width\":0.6380922541862745,\"height\":0.06077997036616102,\"page\":12}],\"id\":0,\"type\":\"bib_entry\"},{\"boxes\":[{\"left\":0.18147058823529413,\"top\":0.1447024740656565,\"width\":0.6380905871421568,\"height\":0.032949968926767735,\"page\":12}],\"id\":1,\"type\":\"bib_entry\"},{\"boxes\":[{\"left\":0.18147058823529413,\"top\":0.1817488250378788,\"width\":0.638381949408497,\"height\":0.05158693280303038,\"page\":12}],\"id\":2,\"type\":\"bib_entry\"},{\"boxes\":[{\"left\":0.1814687359640523,\"top\":0.23720456310606067,\"width\":0.6376549329460782,\"height\":0.032949968926767735,\"page\":12}],\"id\":3,\"type\":\"bib_entry\"},{\"boxes\":[{\"left\":0.18146503142156847,\"top\":0.5522123347601015,\"width\":0.6379462952124177,\"height\":0.05135935602272722,\"page\":12}],\"id\":4,\"type\":\"bib_entry\"},{\"boxes\":[{\"left\":0.18146688369281047,\"top\":0.34834361602272745,\"width\":0.6379592611111118,\"height\":0.05158693280303038,\"page\":12}],\"id\":5,\"type\":\"bib_entry\"},{\"boxes\":[{\"left\":0.18146503142156847,\"top\":0.6076680728282833,\"width\":0.6379201781879088,\"height\":0.032722392146464656,\"page\":12}],\"id\":6,\"type\":\"bib_entry\"},{\"boxes\":[{\"left\":0.18146503142156847,\"top\":0.4967565966919196,\"width\":0.6379574088398695,\"height\":0.05113177924242421,\"page\":12}],\"id\":7,\"type\":\"bib_entry\"},{\"boxes\":[{\"left\":0.18146503142156847,\"top\":0.42243631796717207,\"width\":0.6381630109477126,\"height\":0.06999631989898993,\"page\":12}],\"id\":8,\"type\":\"bib_entry\"},{\"boxes\":[{\"left\":0.18146317915032664,\"top\":0.7372165128409096,\"width\":0.63790739751634,\"height\":0.05158693280303038,\"page\":12}],\"id\":9,\"type\":\"bib_entry\"},{\"boxes\":[{\"left\":0.18146503142156867,\"top\":0.6076687993308085,\"width\":0.6378870225326793,\"height\":0.051359356022727294,\"page\":13}],\"id\":0,\"type\":\"bib_entry\"},{\"boxes\":[{\"left\":0.18146688369281047,\"top\":0.8669932561363642,\"width\":0.637907212289216,\"height\":0.06077924386363578,\"page\":13}],\"id\":1,\"type\":\"bib_entry\"},{\"boxes\":[{\"left\":0.18146688369281047,\"top\":0.8113099412878794,\"width\":0.6380314996895412,\"height\":0.032949968926767735,\"page\":13}],\"id\":2,\"type\":\"bib_entry\"},{\"boxes\":[{\"left\":0.18146688369281053,\"top\":0.7001708883712126,\"width\":0.6380796587418294,\"height\":0.032949968926767735,\"page\":13}],\"id\":3,\"type\":\"bib_entry\"},{\"boxes\":[{\"left\":0.18146688369281047,\"top\":0.8483562922601017,\"width\":0.6380666928431376,\"height\":0.032949968926767596,\"page\":13}],\"id\":4,\"type\":\"bib_entry\"},{\"boxes\":[{\"left\":0.20058787972222225,\"top\":0.6633521141792935,\"width\":0.6189168013823533,\"height\":0.03272239214646458,\"page\":13}],\"id\":5,\"type\":\"bib_entry\"},{\"boxes\":[{\"left\":0.18146317915032684,\"top\":0.8113099412878794,\"width\":0.6380579871683014,\"height\":0.11646255871212068,\"page\":14}],\"id\":0,\"type\":\"bib_entry\"},{\"boxes\":[{\"left\":0.18147058823529413,\"top\":0.12629381347222213,\"width\":0.6378949872990197,\"height\":0.032722392146464725,\"page\":14}],\"id\":1,\"type\":\"bib_entry\"},{\"boxes\":[{\"left\":0.18147058823529413,\"top\":0.14470320056818176,\"width\":0.6383582403366019,\"height\":0.06999631989899001,\"page\":14}],\"id\":2,\"type\":\"bib_entry\"}],\"raw_bib_entry_boxes\":[{\"boxes\":[{\"left\":0.17995676028183083,\"top\":0.8574961652659406,\"width\":0.6271684559342129,\"height\":0.07612293898457229,\"page\":12}],\"id\":0,\"type\":\"raw_model_prediction\"},{\"boxes\":[{\"left\":0.17135871937072356,\"top\":0.133500985424928,\"width\":0.6554666905621298,\"height\":0.04675692741316979,\"page\":12}],\"id\":1,\"type\":\"raw_model_prediction\"},{\"boxes\":[{\"left\":0.19091562507978452,\"top\":0.17366877469149503,\"width\":0.6276094523909824,\"height\":0.06174721380676886,\"page\":12}],\"id\":2,\"type\":\"raw_model_prediction\"},{\"boxes\":[{\"left\":0.18071963740330116,\"top\":0.22629142530036694,\"width\":0.6439831054288577,\"height\":0.04722046129631274,\"page\":12}],\"id\":3,\"type\":\"raw_model_prediction\"},{\"boxes\":[{\"left\":0.18242559245988435,\"top\":0.5421254321782276,\"width\":0.6360583461188023,\"height\":0.05983522203233507,\"page\":12}],\"id\":4,\"type\":\"raw_model_prediction\"},{\"boxes\":[{\"left\":0.18404529297273922,\"top\":0.34202556417445945,\"width\":0.6339560988681768,\"height\":0.06460921932952572,\"page\":12}],\"id\":5,\"type\":\"raw_model_prediction\"},{\"boxes\":[{\"left\":0.19901414011038987,\"top\":0.5996717587865964,\"width\":0.6011160183576197,\"height\":0.04165425926747948,\"page\":12}],\"id\":6,\"type\":\"raw_model_prediction\"},{\"boxes\":[{\"left\":0.18749841677597145,\"top\":0.489915481721512,\"width\":0.6312281664680032,\"height\":0.060629334112610477,\"page\":12}],\"id\":7,\"type\":\"raw_model_prediction\"},{\"boxes\":[{\"left\":0.18020320717805352,\"top\":0.42855565234868215,\"width\":0.6432925454931322,\"height\":0.06454910894837042,\"page\":12}],\"id\":8,\"type\":\"raw_model_prediction\"},{\"boxes\":[{\"left\":0.1902062534506804,\"top\":0.7303565439551768,\"width\":0.6241494845720678,\"height\":0.06292092679726957,\"page\":12}],\"id\":9,\"type\":\"raw_model_prediction\"},{\"boxes\":[{\"left\":0.1745251050961563,\"top\":0.601726416385535,\"width\":0.6429213355569279,\"height\":0.05683004976523043,\"page\":13}],\"id\":0,\"type\":\"raw_model_prediction\"},{\"boxes\":[{\"left\":0.17728553722107332,\"top\":0.8684327867296007,\"width\":0.6392711564606312,\"height\":0.06801266140407985,\"page\":13}],\"id\":1,\"type\":\"raw_model_prediction\"},{\"boxes\":[{\"left\":0.17856444564520144,\"top\":0.8044045188210227,\"width\":0.6377593271093431,\"height\":0.03916229864563605,\"page\":13}],\"id\":2,\"type\":\"raw_model_prediction\"},{\"boxes\":[{\"left\":0.1961826623654833,\"top\":0.6910979145705097,\"width\":0.6132675245696423,\"height\":0.0434342971955887,\"page\":13}],\"id\":3,\"type\":\"raw_model_prediction\"},{\"boxes\":[{\"left\":0.18978050331664242,\"top\":0.8400503601690735,\"width\":0.6250691008723639,\"height\":0.042567012285945394,\"page\":13}],\"id\":4,\"type\":\"raw_model_prediction\"},{\"boxes\":[{\"left\":0.1944680806078942,\"top\":0.6556515163845487,\"width\":0.6259272456948274,\"height\":0.040275342536695076,\"page\":13}],\"id\":5,\"type\":\"raw_model_prediction\"},{\"boxes\":[{\"left\":0.17920707253848805,\"top\":0.802551577789615,\"width\":0.6426666110169654,\"height\":0.12614017062717015,\"page\":14}],\"id\":0,\"type\":\"raw_model_prediction\"},{\"boxes\":[{\"left\":0.19028042811973422,\"top\":0.11645151388765586,\"width\":0.621524349536771,\"height\":0.045509723701862376,\"page\":14}],\"id\":1,\"type\":\"raw_model_prediction\"},{\"boxes\":[{\"left\":0.18007815741246042,\"top\":0.1487778365009963,\"width\":0.6439494089363447,\"height\":0.0666435704086766,\"page\":14}],\"id\":2,\"type\":\"raw_model_prediction\"}]}]}'"
      ]
     },
     "execution_count": 14,
     "metadata": {},
     "output_type": "execute_result"
    }
   ],
   "source": [
    "bib_detector_response.text"
   ]
  },
  {
   "cell_type": "code",
   "execution_count": 15,
   "id": "d283ac5b",
   "metadata": {
    "scrolled": true
   },
   "outputs": [
    {
     "data": {
      "text/plain": [
       "[{'boxes': [{'left': 0.18146317915032664,\n",
       "    'top': 0.866992529633839,\n",
       "    'width': 0.6380922541862745,\n",
       "    'height': 0.06077997036616102,\n",
       "    'page': 12}],\n",
       "  'id': 0,\n",
       "  'type': 'bib_entry'},\n",
       " {'boxes': [{'left': 0.18147058823529413,\n",
       "    'top': 0.1447024740656565,\n",
       "    'width': 0.6380905871421568,\n",
       "    'height': 0.032949968926767735,\n",
       "    'page': 12}],\n",
       "  'id': 1,\n",
       "  'type': 'bib_entry'},\n",
       " {'boxes': [{'left': 0.18147058823529413,\n",
       "    'top': 0.1817488250378788,\n",
       "    'width': 0.638381949408497,\n",
       "    'height': 0.05158693280303038,\n",
       "    'page': 12}],\n",
       "  'id': 2,\n",
       "  'type': 'bib_entry'},\n",
       " {'boxes': [{'left': 0.1814687359640523,\n",
       "    'top': 0.23720456310606067,\n",
       "    'width': 0.6376549329460782,\n",
       "    'height': 0.032949968926767735,\n",
       "    'page': 12}],\n",
       "  'id': 3,\n",
       "  'type': 'bib_entry'},\n",
       " {'boxes': [{'left': 0.18146503142156847,\n",
       "    'top': 0.5522123347601015,\n",
       "    'width': 0.6379462952124177,\n",
       "    'height': 0.05135935602272722,\n",
       "    'page': 12}],\n",
       "  'id': 4,\n",
       "  'type': 'bib_entry'},\n",
       " {'boxes': [{'left': 0.18146688369281047,\n",
       "    'top': 0.34834361602272745,\n",
       "    'width': 0.6379592611111118,\n",
       "    'height': 0.05158693280303038,\n",
       "    'page': 12}],\n",
       "  'id': 5,\n",
       "  'type': 'bib_entry'},\n",
       " {'boxes': [{'left': 0.18146503142156847,\n",
       "    'top': 0.6076680728282833,\n",
       "    'width': 0.6379201781879088,\n",
       "    'height': 0.032722392146464656,\n",
       "    'page': 12}],\n",
       "  'id': 6,\n",
       "  'type': 'bib_entry'},\n",
       " {'boxes': [{'left': 0.18146503142156847,\n",
       "    'top': 0.4967565966919196,\n",
       "    'width': 0.6379574088398695,\n",
       "    'height': 0.05113177924242421,\n",
       "    'page': 12}],\n",
       "  'id': 7,\n",
       "  'type': 'bib_entry'},\n",
       " {'boxes': [{'left': 0.18146503142156847,\n",
       "    'top': 0.42243631796717207,\n",
       "    'width': 0.6381630109477126,\n",
       "    'height': 0.06999631989898993,\n",
       "    'page': 12}],\n",
       "  'id': 8,\n",
       "  'type': 'bib_entry'},\n",
       " {'boxes': [{'left': 0.18146317915032664,\n",
       "    'top': 0.7372165128409096,\n",
       "    'width': 0.63790739751634,\n",
       "    'height': 0.05158693280303038,\n",
       "    'page': 12}],\n",
       "  'id': 9,\n",
       "  'type': 'bib_entry'},\n",
       " {'boxes': [{'left': 0.18146503142156867,\n",
       "    'top': 0.6076687993308085,\n",
       "    'width': 0.6378870225326793,\n",
       "    'height': 0.051359356022727294,\n",
       "    'page': 13}],\n",
       "  'id': 0,\n",
       "  'type': 'bib_entry'},\n",
       " {'boxes': [{'left': 0.18146688369281047,\n",
       "    'top': 0.8669932561363642,\n",
       "    'width': 0.637907212289216,\n",
       "    'height': 0.06077924386363578,\n",
       "    'page': 13}],\n",
       "  'id': 1,\n",
       "  'type': 'bib_entry'},\n",
       " {'boxes': [{'left': 0.18146688369281047,\n",
       "    'top': 0.8113099412878794,\n",
       "    'width': 0.6380314996895412,\n",
       "    'height': 0.032949968926767735,\n",
       "    'page': 13}],\n",
       "  'id': 2,\n",
       "  'type': 'bib_entry'},\n",
       " {'boxes': [{'left': 0.18146688369281053,\n",
       "    'top': 0.7001708883712126,\n",
       "    'width': 0.6380796587418294,\n",
       "    'height': 0.032949968926767735,\n",
       "    'page': 13}],\n",
       "  'id': 3,\n",
       "  'type': 'bib_entry'},\n",
       " {'boxes': [{'left': 0.18146688369281047,\n",
       "    'top': 0.8483562922601017,\n",
       "    'width': 0.6380666928431376,\n",
       "    'height': 0.032949968926767596,\n",
       "    'page': 13}],\n",
       "  'id': 4,\n",
       "  'type': 'bib_entry'},\n",
       " {'boxes': [{'left': 0.20058787972222225,\n",
       "    'top': 0.6633521141792935,\n",
       "    'width': 0.6189168013823533,\n",
       "    'height': 0.03272239214646458,\n",
       "    'page': 13}],\n",
       "  'id': 5,\n",
       "  'type': 'bib_entry'},\n",
       " {'boxes': [{'left': 0.18146317915032684,\n",
       "    'top': 0.8113099412878794,\n",
       "    'width': 0.6380579871683014,\n",
       "    'height': 0.11646255871212068,\n",
       "    'page': 14}],\n",
       "  'id': 0,\n",
       "  'type': 'bib_entry'},\n",
       " {'boxes': [{'left': 0.18147058823529413,\n",
       "    'top': 0.12629381347222213,\n",
       "    'width': 0.6378949872990197,\n",
       "    'height': 0.032722392146464725,\n",
       "    'page': 14}],\n",
       "  'id': 1,\n",
       "  'type': 'bib_entry'},\n",
       " {'boxes': [{'left': 0.18147058823529413,\n",
       "    'top': 0.14470320056818176,\n",
       "    'width': 0.6383582403366019,\n",
       "    'height': 0.06999631989899001,\n",
       "    'page': 14}],\n",
       "  'id': 2,\n",
       "  'type': 'bib_entry'}]"
      ]
     },
     "execution_count": 15,
     "metadata": {},
     "output_type": "execute_result"
    }
   ],
   "source": [
    "bib_detector_response.json()['predictions'][0]['bib_entry_boxes']"
   ]
  },
  {
   "cell_type": "markdown",
   "id": "2921cb14",
   "metadata": {},
   "source": [
    "### store them to dev"
   ]
  },
  {
   "cell_type": "code",
   "execution_count": 16,
   "id": "4b344c9d",
   "metadata": {},
   "outputs": [
    {
     "data": {
      "text/plain": [
       "'17ada3c96ef888fc89f6b995d2edd19a45383423'"
      ]
     },
     "execution_count": 16,
     "metadata": {},
     "output_type": "execute_result"
    }
   ],
   "source": [
    "dev_doc_id"
   ]
  },
  {
   "cell_type": "code",
   "execution_count": 17,
   "id": "c5ffbbb1",
   "metadata": {},
   "outputs": [],
   "source": [
    "bib_entry_boxgroups_json = bib_detector_response.json()['predictions'][0]['bib_entry_boxes']"
   ]
  },
  {
   "cell_type": "code",
   "execution_count": 201,
   "id": "0acf72bb",
   "metadata": {},
   "outputs": [],
   "source": [
    "def box_group_json_response_to_annotation_array(boxgroups_json):\n",
    "    # more lil hackiness\n",
    "    import itertools\n",
    "    sg_counter = itertools.count()\n",
    "    \n",
    "    anno_array = []\n",
    "    \n",
    "    for box_group_json in boxgroups_json:\n",
    "        group_id = next(sg_counter)\n",
    "        box = box_group_json['boxes'][0]\n",
    "        anno_array.append({\n",
    "            \"page\": box['page'],\n",
    "            \"x\": box['left'],\n",
    "            \"y\": box['top'],\n",
    "            \"width\": box['width'],\n",
    "            \"height\": box['height'],\n",
    "            # will be able to use sg \"id\" as group id in future3\n",
    "            # also, box groups from model currently only give 1 box per box group so that's good\n",
    "            \"attributes\": {\"group\": group_id} # TODO: update models cause \"id is bad\"\n",
    "            }\n",
    "        )\n",
    "    return anno_array"
   ]
  },
  {
   "cell_type": "code",
   "execution_count": 202,
   "id": "1e0f76af",
   "metadata": {},
   "outputs": [
    {
     "data": {
      "text/plain": [
       "{'page': 12,\n",
       " 'x': 0.18146317915032664,\n",
       " 'y': 0.866992529633839,\n",
       " 'width': 0.6380922541862745,\n",
       " 'height': 0.06077997036616102,\n",
       " 'attributes': {'group': 0}}"
      ]
     },
     "execution_count": 202,
     "metadata": {},
     "output_type": "execute_result"
    }
   ],
   "source": [
    "bib_entry_annos = box_group_json_response_to_annotation_array(bib_entry_boxgroups_json)\n",
    "bib_entry_annos[0]"
   ]
  },
  {
   "cell_type": "code",
   "execution_count": 203,
   "id": "4d5c7814",
   "metadata": {},
   "outputs": [
    {
     "data": {
      "text/plain": [
       "<Response [200]>"
      ]
     },
     "execution_count": 203,
     "metadata": {},
     "output_type": "execute_result"
    }
   ],
   "source": [
    "source = \"bib_detector_test_3\"\n",
    "bib_entry_post_response = requests.post(\n",
    "    f'http://annotations-api.dev.s2.allenai.org/pdf/{dev_doc_id}/annotations/{source}',\n",
    "    json={\"bib-entries\": bib_entry_annos}\n",
    "    )\n",
    "bib_entry_post_response"
   ]
  },
  {
   "cell_type": "code",
   "execution_count": 21,
   "id": "d7a0deed",
   "metadata": {},
   "outputs": [
    {
     "data": {
      "text/plain": [
       "{'boxes': [{'left': 0.17995676028183083,\n",
       "   'top': 0.8574961652659406,\n",
       "   'width': 0.6271684559342129,\n",
       "   'height': 0.07612293898457229,\n",
       "   'page': 12}],\n",
       " 'id': 0,\n",
       " 'type': 'raw_model_prediction'}"
      ]
     },
     "execution_count": 21,
     "metadata": {},
     "output_type": "execute_result"
    }
   ],
   "source": [
    "bib_entry_raw_annos_json = bib_detector_response.json()['predictions'][0]['raw_bib_entry_boxes']\n",
    "bib_entry_raw_annos_json[0]"
   ]
  },
  {
   "cell_type": "code",
   "execution_count": 22,
   "id": "af42d8cc",
   "metadata": {},
   "outputs": [
    {
     "data": {
      "text/plain": [
       "<Response [200]>"
      ]
     },
     "execution_count": 22,
     "metadata": {},
     "output_type": "execute_result"
    }
   ],
   "source": [
    "# also store the \"raw\" ones\n",
    "bib_entry_raw_annos = box_group_json_response_to_annotation_array(bib_entry_raw_annos_json)\n",
    "bib_entry_post_response = requests.post(\n",
    "    f'http://annotations-api.dev.s2.allenai.org/pdf/{dev_doc_id}/annotations/{source}',\n",
    "    json={\"bib-entry-raw\": bib_entry_raw_annos}\n",
    "    )\n",
    "bib_entry_post_response"
   ]
  },
  {
   "cell_type": "markdown",
   "id": "357fd445",
   "metadata": {},
   "source": [
    "### create and save mention spans and boxes to anno store"
   ]
  },
  {
   "cell_type": "code",
   "execution_count": 23,
   "id": "d6a9b568",
   "metadata": {},
   "outputs": [
    {
     "name": "stdout",
     "output_type": "stream",
     "text": [
      "<Response [200]>\n"
     ]
    }
   ],
   "source": [
    "mentions_instance = {\n",
    "    \"symbols\": symbols,\n",
    "    \"tokens\" : [sg.to_json() for sg in instance_tokens],\n",
    "    \"pages\" : [sg.to_json() for sg in instance_pages],\n",
    "}\n",
    "\n",
    "# send the request:\n",
    "mentions_response = requests.post(\n",
    "    'http://citation-mentions.v0.prod.models.s2.allenai.org/invocations',\n",
    "    json={'instances': [mentions_instance]}\n",
    ")\n",
    "# ).json()\n",
    "    \n",
    "# bib_detector_response['predictions']['bib_entry_boxes'][0]\n",
    "print(mentions_response)"
   ]
  },
  {
   "cell_type": "code",
   "execution_count": 24,
   "id": "f4d641b3",
   "metadata": {},
   "outputs": [
    {
     "data": {
      "text/plain": [
       "{'predictions': [{'mentions': [{'spans': [{'start': 4376,\n",
       "       'end': 4381,\n",
       "       'box': {'left': 0.3673529411764706,\n",
       "        'top': 0.45673090681818185,\n",
       "        'width': 0.027257940653594773,\n",
       "        'height': 0.00939974747474745,\n",
       "        'page': 2}}],\n",
       "     'box_group': None,\n",
       "     'id': 0,\n",
       "     'type': None,\n",
       "     'text': None},\n",
       "    {'spans': [{'start': 4840,\n",
       "       'end': 4845,\n",
       "       'box': {'left': 0.36411764705882355,\n",
       "        'top': 0.5862763613636364,\n",
       "        'width': 0.02755158876470585,\n",
       "        'height': 0.00939974747474745,\n",
       "        'page': 2}}],\n",
       "     'box_group': None,\n",
       "     'id': 1,\n",
       "     'type': None,\n",
       "     'text': None},\n",
       "    {'spans': [{'start': 5072,\n",
       "       'end': 5083,\n",
       "       'box': {'left': 0.23176470588235296,\n",
       "        'top': 0.6419581795454545,\n",
       "        'width': 0.05784770473856206,\n",
       "        'height': 0.00939974747474745,\n",
       "        'page': 2}}],\n",
       "     'box_group': None,\n",
       "     'id': 2,\n",
       "     'type': None,\n",
       "     'text': None},\n",
       "    {'spans': [{'start': 5316,\n",
       "       'end': 5318,\n",
       "       'box': {'left': 0.7738235294117647,\n",
       "        'top': 0.6787763613636364,\n",
       "        'width': 0.011964883267973883,\n",
       "        'height': 0.009399747474747377,\n",
       "        'page': 2}}],\n",
       "     'box_group': None,\n",
       "     'id': 3,\n",
       "     'type': None,\n",
       "     'text': None},\n",
       "    {'spans': [{'start': 5649,\n",
       "       'end': 5651,\n",
       "       'box': {'left': 0.3032352941176471,\n",
       "        'top': 0.771503634090909,\n",
       "        'width': 0.011964883267973838,\n",
       "        'height': 0.00939974747474752,\n",
       "        'page': 2}}],\n",
       "     'box_group': None,\n",
       "     'id': 4,\n",
       "     'type': None,\n",
       "     'text': None},\n",
       "    {'spans': [{'start': 6188,\n",
       "       'end': 6190,\n",
       "       'box': {'left': 0.37470588235294117,\n",
       "        'top': 0.08650363409090907,\n",
       "        'width': 0.01225926124183005,\n",
       "        'height': 0.00939974747474752,\n",
       "        'page': 3}}],\n",
       "     'box_group': None,\n",
       "     'id': 0,\n",
       "     'type': None,\n",
       "     'text': None},\n",
       "    {'spans': [{'start': 6316,\n",
       "       'end': 6318,\n",
       "       'box': {'left': 0.7152941176470589,\n",
       "        'top': 0.10513999772727269,\n",
       "        'width': 0.012259261241830141,\n",
       "        'height': 0.00939974747474752,\n",
       "        'page': 3}}],\n",
       "     'box_group': None,\n",
       "     'id': 1,\n",
       "     'type': None,\n",
       "     'text': None},\n",
       "    {'spans': [{'start': 6328,\n",
       "       'end': 6330,\n",
       "       'box': {'left': 0.8070588235294118,\n",
       "        'top': 0.10513999772727269,\n",
       "        'width': 0.012259261241830141,\n",
       "        'height': 0.00939974747474752,\n",
       "        'page': 3}}],\n",
       "     'box_group': None,\n",
       "     'id': 2,\n",
       "     'type': None,\n",
       "     'text': None},\n",
       "    {'spans': [{'start': 6647,\n",
       "       'end': 6652,\n",
       "       'box': {'left': 0.7055882352941176,\n",
       "        'top': 0.17900363409090905,\n",
       "        'width': 0.027551588764705894,\n",
       "        'height': 0.00939974747474752,\n",
       "        'page': 3}}],\n",
       "     'box_group': None,\n",
       "     'id': 3,\n",
       "     'type': None,\n",
       "     'text': None},\n",
       "    {'spans': [{'start': 6707,\n",
       "       'end': 6709,\n",
       "       'box': {'left': 0.48764705882352943,\n",
       "        'top': 0.19763999772727267,\n",
       "        'width': 0.011964883267973883,\n",
       "        'height': 0.00939974747474752,\n",
       "        'page': 3}}],\n",
       "     'box_group': None,\n",
       "     'id': 4,\n",
       "     'type': None,\n",
       "     'text': None},\n",
       "    {'spans': [{'start': 7298,\n",
       "       'end': 7303,\n",
       "       'box': {'left': 0.3694117647058824,\n",
       "        'top': 0.4010490886363636,\n",
       "        'width': 0.027554751503267957,\n",
       "        'height': 0.00939974747474745,\n",
       "        'page': 3}}],\n",
       "     'box_group': None,\n",
       "     'id': 5,\n",
       "     'type': None,\n",
       "     'text': None},\n",
       "    {'spans': [{'start': 8137,\n",
       "       'end': 8142,\n",
       "       'box': {'left': 0.7920588235294118,\n",
       "        'top': 0.6605945431818182,\n",
       "        'width': 0.027259157091503308,\n",
       "        'height': 0.009399747474747377,\n",
       "        'page': 3}}],\n",
       "     'box_group': None,\n",
       "     'id': 6,\n",
       "     'type': None,\n",
       "     'text': None},\n",
       "    {'spans': [{'start': 8836,\n",
       "       'end': 8841,\n",
       "       'box': {'left': 0.6311764705882352,\n",
       "        'top': 0.8640036340909091,\n",
       "        'width': 0.027553535065359472,\n",
       "        'height': 0.00939974747474752,\n",
       "        'page': 3}}],\n",
       "     'box_group': None,\n",
       "     'id': 7,\n",
       "     'type': None,\n",
       "     'text': None},\n",
       "    {'spans': [{'start': 9319,\n",
       "       'end': 9324,\n",
       "       'box': {'left': 0.33794117647058824,\n",
       "        'top': 0.1605945431818181,\n",
       "        'width': 0.027259643666666653,\n",
       "        'height': 0.00939974747474752,\n",
       "        'page': 4}}],\n",
       "     'box_group': None,\n",
       "     'id': 0,\n",
       "     'type': None,\n",
       "     'text': None},\n",
       "    {'spans': [{'start': 9485,\n",
       "       'end': 9487,\n",
       "       'box': {'left': 0.37058823529411766,\n",
       "        'top': 0.23445817954545445,\n",
       "        'width': 0.012258166447712389,\n",
       "        'height': 0.00939974747474752,\n",
       "        'page': 4}}],\n",
       "     'box_group': None,\n",
       "     'id': 1,\n",
       "     'type': None,\n",
       "     'text': None},\n",
       "    {'spans': [{'start': 19257,\n",
       "       'end': 19259,\n",
       "       'box': {'left': 0.5479411764705882,\n",
       "        'top': 0.3455945431818181,\n",
       "        'width': 0.011964883267973883,\n",
       "        'height': 0.00939974747474752,\n",
       "        'page': 7}}],\n",
       "     'box_group': None,\n",
       "     'id': 0,\n",
       "     'type': None,\n",
       "     'text': None},\n",
       "    {'spans': [{'start': 19775,\n",
       "       'end': 19780,\n",
       "       'box': {'left': 0.585,\n",
       "        'top': 0.49377636136363634,\n",
       "        'width': 0.027849129477124167,\n",
       "        'height': 0.00939974747474745,\n",
       "        'page': 7}}],\n",
       "     'box_group': None,\n",
       "     'id': 1,\n",
       "     'type': None,\n",
       "     'text': None},\n",
       "    {'spans': [{'start': 24650,\n",
       "       'end': 24655,\n",
       "       'box': {'left': 0.5608823529411765,\n",
       "        'top': 0.1605945431818181,\n",
       "        'width': 0.027259157091503308,\n",
       "        'height': 0.00939974747474752,\n",
       "        'page': 9}}],\n",
       "     'box_group': None,\n",
       "     'id': 0,\n",
       "     'type': None,\n",
       "     'text': None},\n",
       "    {'spans': [{'start': 26549,\n",
       "       'end': 26551,\n",
       "       'box': {'left': 0.3967647058823529,\n",
       "        'top': 0.6605945431818182,\n",
       "        'width': 0.01225926124183005,\n",
       "        'height': 0.009399747474747377,\n",
       "        'page': 9}}],\n",
       "     'box_group': None,\n",
       "     'id': 1,\n",
       "     'type': None,\n",
       "     'text': None},\n",
       "    {'spans': [{'start': 28101,\n",
       "       'end': 28103,\n",
       "       'box': {'left': 0.40705882352941175,\n",
       "        'top': 0.21604908863636363,\n",
       "        'width': 0.012258166447712436,\n",
       "        'height': 0.00939974747474752,\n",
       "        'page': 10}}],\n",
       "     'box_group': None,\n",
       "     'id': 0,\n",
       "     'type': None,\n",
       "     'text': None},\n",
       "    {'spans': [{'start': 28184,\n",
       "       'end': 28189,\n",
       "       'box': {'left': 0.4320588235294118,\n",
       "        'top': 0.23445817954545445,\n",
       "        'width': 0.027259157091503308,\n",
       "        'height': 0.00939974747474752,\n",
       "        'page': 10}}],\n",
       "     'box_group': None,\n",
       "     'id': 1,\n",
       "     'type': None,\n",
       "     'text': None},\n",
       "    {'spans': [{'start': 29544,\n",
       "       'end': 29546,\n",
       "       'box': {'left': 0.8073529411764706,\n",
       "        'top': 0.5862763613636364,\n",
       "        'width': 0.012259261241830141,\n",
       "        'height': 0.00939974747474745,\n",
       "        'page': 10}}],\n",
       "     'box_group': None,\n",
       "     'id': 2,\n",
       "     'type': None,\n",
       "     'text': None},\n",
       "    {'spans': [{'start': 29553,\n",
       "       'end': 29555,\n",
       "       'box': {'left': 0.23176470588235296,\n",
       "        'top': 0.604912725,\n",
       "        'width': 0.012258166447712389,\n",
       "        'height': 0.00939974747474745,\n",
       "        'page': 10}}],\n",
       "     'box_group': None,\n",
       "     'id': 3,\n",
       "     'type': None,\n",
       "     'text': None},\n",
       "    {'spans': [{'start': 29565,\n",
       "       'end': 29567,\n",
       "       'box': {'left': 0.3261764705882353,\n",
       "        'top': 0.604912725,\n",
       "        'width': 0.011964883267973838,\n",
       "        'height': 0.00939974747474745,\n",
       "        'page': 10}}],\n",
       "     'box_group': None,\n",
       "     'id': 4,\n",
       "     'type': None,\n",
       "     'text': None},\n",
       "    {'spans': [{'start': 29934,\n",
       "       'end': 29936,\n",
       "       'box': {'left': 0.6841176470588235,\n",
       "        'top': 0.6787763613636364,\n",
       "        'width': 0.012259261241830141,\n",
       "        'height': 0.009399747474747377,\n",
       "        'page': 10}}],\n",
       "     'box_group': None,\n",
       "     'id': 5,\n",
       "     'type': None,\n",
       "     'text': None},\n",
       "    {'spans': [{'start': 30047,\n",
       "       'end': 30049,\n",
       "       'box': {'left': 0.3014705882352941,\n",
       "        'top': 0.7160490886363636,\n",
       "        'width': 0.012258166447712389,\n",
       "        'height': 0.00939974747474752,\n",
       "        'page': 10}}],\n",
       "     'box_group': None,\n",
       "     'id': 6,\n",
       "     'type': None,\n",
       "     'text': None}]}]}"
      ]
     },
     "execution_count": 24,
     "metadata": {},
     "output_type": "execute_result"
    }
   ],
   "source": [
    "mentions_response.json()"
   ]
  },
  {
   "cell_type": "code",
   "execution_count": 25,
   "id": "325e1172",
   "metadata": {},
   "outputs": [
    {
     "data": {
      "text/plain": [
       "{'spans': [{'start': 4376,\n",
       "   'end': 4381,\n",
       "   'box': {'left': 0.3673529411764706,\n",
       "    'top': 0.45673090681818185,\n",
       "    'width': 0.027257940653594773,\n",
       "    'height': 0.00939974747474745,\n",
       "    'page': 2}}],\n",
       " 'box_group': None,\n",
       " 'id': 0,\n",
       " 'type': None,\n",
       " 'text': None}"
      ]
     },
     "execution_count": 25,
     "metadata": {},
     "output_type": "execute_result"
    }
   ],
   "source": [
    "mentions_annos_json = mentions_response.json()['predictions'][0]['mentions']\n",
    "mentions_annos_json[0]"
   ]
  },
  {
   "cell_type": "code",
   "execution_count": 26,
   "id": "f9360131",
   "metadata": {},
   "outputs": [
    {
     "data": {
      "text/plain": [
       "SpanGroup(uuid='d163bd69-267a-49b7-a965-5633bbfedc9a', doc=None, metadata=Metadata({'id': 0, 'type': None, 'text': None}), spans=[Span(start=4376, end=4381, box=Box(l='left', t='top', w='width', h='height', page='page'))], box_group=None, id=0, type=None, text='')"
      ]
     },
     "execution_count": 26,
     "metadata": {},
     "output_type": "execute_result"
    }
   ],
   "source": [
    "# spangroups_json to mmda_spangroups:\n",
    "mentions_spangroups = [SpanGroup.from_json(sg) for sg in mentions_annos_json] # oh this works ez but extra crap\n",
    "mentions_spangroups[0]\n"
   ]
  },
  {
   "cell_type": "code",
   "execution_count": 77,
   "id": "4aed6d60",
   "metadata": {},
   "outputs": [],
   "source": [
    "# def spangroups_json_response_to_text_and_pdf_anno_arrays(spangroups_json):\n",
    "#     # more lil hackiness\n",
    "#     import itertools\n",
    "\n",
    "#     sg_counter = itertools.count()\n",
    "    \n",
    "#     text_anno_array = []\n",
    "#     pdf_anno_array = []\n",
    "#     for spangroup_json in spangroups_json:\n",
    "#         current_id = next(sg_counter)\n",
    "#         span = spangroup_json['spans'][0]\n",
    "#         box = span['box']\n",
    "#         pdf_anno_array.append({\n",
    "#             \"page\": box['page'],\n",
    "#             \"x\": box['left'],\n",
    "#             \"y\": box['top'],\n",
    "#             \"width\": box['width'],\n",
    "#             \"height\": box['height'],\n",
    "#             \"attributes\": {\"id\": current_id} # \"_group\"?\n",
    "#             }\n",
    "#         )\n",
    "#         text_anno_array.append({\n",
    "#             \"startChar\": span['start'],\n",
    "#             \"endChar\": span['end'],\n",
    "#             \"attributes\": {\"id\": current_id}\n",
    "#         })\n",
    "#         # id_count = next(counter)\n",
    "#     return text_anno_array, pdf_anno_array\n",
    "\n",
    "# tryna figure out SpanGroups w/ multiple spans...\n",
    "def spangroups_json_response_to_text_and_pdf_anno_arrays(spangroups_json):\n",
    "    # more lil hackiness\n",
    "    import itertools\n",
    "\n",
    "    sg_counter = itertools.count()\n",
    "    \n",
    "    text_anno_array = []\n",
    "    pdf_anno_array = []\n",
    "    for spangroup_json in spangroups_json:\n",
    "        current_id = next(sg_counter)\n",
    "        \n",
    "        for span in spangroup_json['spans']:\n",
    "            box = span['box']\n",
    "            pdf_anno_array.append({\n",
    "                \"page\": box['page'],\n",
    "                \"x\": box['left'],\n",
    "                \"y\": box['top'],\n",
    "                \"width\": box['width'],\n",
    "                \"height\": box['height'],\n",
    "                \"attributes\": {\"group\": current_id} # \"_group\"?\n",
    "                }\n",
    "            )\n",
    "            text_anno_array.append({\n",
    "                \"startChar\": span['start'],\n",
    "                \"endChar\": span['end'],\n",
    "                \"attributes\": {\"group\": current_id}\n",
    "            })\n",
    "    return text_anno_array, pdf_anno_array\n",
    "            \n"
   ]
  },
  {
   "cell_type": "code",
   "execution_count": 78,
   "id": "5830d01a",
   "metadata": {},
   "outputs": [
    {
     "name": "stdout",
     "output_type": "stream",
     "text": [
      "{'startChar': 4376, 'endChar': 4381, 'attributes': {'group': 0}}\n",
      "\n",
      "{'page': 2, 'x': 0.3673529411764706, 'y': 0.45673090681818185, 'width': 0.027257940653594773, 'height': 0.00939974747474745, 'attributes': {'group': 0}}\n"
     ]
    }
   ],
   "source": [
    "# TODO(at least in SPP) the thingies need to have _group bcuz could be more spans per spangroup\n",
    "mention_text_annos, mention_pdf_annos = spangroups_json_response_to_text_and_pdf_anno_arrays(mentions_annos_json)\n",
    "print(mention_text_annos[0])\n",
    "print()\n",
    "print(mention_pdf_annos[0])"
   ]
  },
  {
   "cell_type": "code",
   "execution_count": 29,
   "id": "ccd6f724",
   "metadata": {},
   "outputs": [
    {
     "data": {
      "text/plain": [
       "<Response [200]>"
      ]
     },
     "execution_count": 29,
     "metadata": {},
     "output_type": "execute_result"
    }
   ],
   "source": [
    "# make dev plain text doc\n",
    "dev_text_id = requests.post(\n",
    "    f'http://annotations-api.dev.s2.allenai.org/plain-text/',\n",
    "    json={\"s3Url\": text_url}\n",
    "    )\n",
    "dev_text_id"
   ]
  },
  {
   "cell_type": "code",
   "execution_count": 30,
   "id": "ef445496",
   "metadata": {},
   "outputs": [
    {
     "name": "stdout",
     "output_type": "stream",
     "text": [
      "740c1d64752b4679a742544046cf5de3452cfef4\n"
     ]
    }
   ],
   "source": [
    "dev_text_id_response = dev_text_id\n",
    "dev_text_id = dev_text_id_response.json()['id']\n",
    "print(dev_text_id)"
   ]
  },
  {
   "cell_type": "code",
   "execution_count": 79,
   "id": "48f7e10d",
   "metadata": {},
   "outputs": [
    {
     "name": "stdout",
     "output_type": "stream",
     "text": [
      "<Response [200]>\n",
      "<Response [200]>\n"
     ]
    }
   ],
   "source": [
    "source = \"mentions-test-3\"\n",
    "mentions_text_post_response = requests.post(\n",
    "    f'http://annotations-api.dev.s2.allenai.org/plain-text/{dev_text_id}/annotations/{source}',\n",
    "    json={\"mentions\": mention_text_annos}\n",
    "    )\n",
    "mentions_pdf_post_response = requests.post(\n",
    "    f'http://annotations-api.dev.s2.allenai.org/pdf/{dev_doc_id}/annotations/{source}',\n",
    "    json={\"mentions\": mention_pdf_annos}\n",
    "    )\n",
    "\n",
    "print(mentions_text_post_response)\n",
    "print(mentions_pdf_post_response)"
   ]
  },
  {
   "cell_type": "code",
   "execution_count": 32,
   "id": "29f457fa",
   "metadata": {},
   "outputs": [
    {
     "data": {
      "text/plain": [
       "<Response [200]>"
      ]
     },
     "execution_count": 32,
     "metadata": {},
     "output_type": "execute_result"
    }
   ],
   "source": [
    "mentions_text_post_response"
   ]
  },
  {
   "cell_type": "markdown",
   "id": "dfb5fa2c",
   "metadata": {},
   "source": [
    "### get and save citation-links annos"
   ]
  },
  {
   "cell_type": "markdown",
   "id": "79860202",
   "metadata": {},
   "source": [
    "#### turn bibs json into real spangroup bibs"
   ]
  },
  {
   "cell_type": "code",
   "execution_count": 33,
   "id": "aba307ad",
   "metadata": {},
   "outputs": [
    {
     "data": {
      "text/plain": [
       "[{'boxes': [{'left': 0.18146317915032664,\n",
       "    'top': 0.866992529633839,\n",
       "    'width': 0.6380922541862745,\n",
       "    'height': 0.06077997036616102,\n",
       "    'page': 12}],\n",
       "  'id': 0,\n",
       "  'type': 'bib_entry'},\n",
       " {'boxes': [{'left': 0.18147058823529413,\n",
       "    'top': 0.1447024740656565,\n",
       "    'width': 0.6380905871421568,\n",
       "    'height': 0.032949968926767735,\n",
       "    'page': 12}],\n",
       "  'id': 1,\n",
       "  'type': 'bib_entry'},\n",
       " {'boxes': [{'left': 0.18147058823529413,\n",
       "    'top': 0.1817488250378788,\n",
       "    'width': 0.638381949408497,\n",
       "    'height': 0.05158693280303038,\n",
       "    'page': 12}],\n",
       "  'id': 2,\n",
       "  'type': 'bib_entry'},\n",
       " {'boxes': [{'left': 0.1814687359640523,\n",
       "    'top': 0.23720456310606067,\n",
       "    'width': 0.6376549329460782,\n",
       "    'height': 0.032949968926767735,\n",
       "    'page': 12}],\n",
       "  'id': 3,\n",
       "  'type': 'bib_entry'},\n",
       " {'boxes': [{'left': 0.18146503142156847,\n",
       "    'top': 0.5522123347601015,\n",
       "    'width': 0.6379462952124177,\n",
       "    'height': 0.05135935602272722,\n",
       "    'page': 12}],\n",
       "  'id': 4,\n",
       "  'type': 'bib_entry'},\n",
       " {'boxes': [{'left': 0.18146688369281047,\n",
       "    'top': 0.34834361602272745,\n",
       "    'width': 0.6379592611111118,\n",
       "    'height': 0.05158693280303038,\n",
       "    'page': 12}],\n",
       "  'id': 5,\n",
       "  'type': 'bib_entry'},\n",
       " {'boxes': [{'left': 0.18146503142156847,\n",
       "    'top': 0.6076680728282833,\n",
       "    'width': 0.6379201781879088,\n",
       "    'height': 0.032722392146464656,\n",
       "    'page': 12}],\n",
       "  'id': 6,\n",
       "  'type': 'bib_entry'},\n",
       " {'boxes': [{'left': 0.18146503142156847,\n",
       "    'top': 0.4967565966919196,\n",
       "    'width': 0.6379574088398695,\n",
       "    'height': 0.05113177924242421,\n",
       "    'page': 12}],\n",
       "  'id': 7,\n",
       "  'type': 'bib_entry'},\n",
       " {'boxes': [{'left': 0.18146503142156847,\n",
       "    'top': 0.42243631796717207,\n",
       "    'width': 0.6381630109477126,\n",
       "    'height': 0.06999631989898993,\n",
       "    'page': 12}],\n",
       "  'id': 8,\n",
       "  'type': 'bib_entry'},\n",
       " {'boxes': [{'left': 0.18146317915032664,\n",
       "    'top': 0.7372165128409096,\n",
       "    'width': 0.63790739751634,\n",
       "    'height': 0.05158693280303038,\n",
       "    'page': 12}],\n",
       "  'id': 9,\n",
       "  'type': 'bib_entry'},\n",
       " {'boxes': [{'left': 0.18146503142156867,\n",
       "    'top': 0.6076687993308085,\n",
       "    'width': 0.6378870225326793,\n",
       "    'height': 0.051359356022727294,\n",
       "    'page': 13}],\n",
       "  'id': 0,\n",
       "  'type': 'bib_entry'},\n",
       " {'boxes': [{'left': 0.18146688369281047,\n",
       "    'top': 0.8669932561363642,\n",
       "    'width': 0.637907212289216,\n",
       "    'height': 0.06077924386363578,\n",
       "    'page': 13}],\n",
       "  'id': 1,\n",
       "  'type': 'bib_entry'},\n",
       " {'boxes': [{'left': 0.18146688369281047,\n",
       "    'top': 0.8113099412878794,\n",
       "    'width': 0.6380314996895412,\n",
       "    'height': 0.032949968926767735,\n",
       "    'page': 13}],\n",
       "  'id': 2,\n",
       "  'type': 'bib_entry'},\n",
       " {'boxes': [{'left': 0.18146688369281053,\n",
       "    'top': 0.7001708883712126,\n",
       "    'width': 0.6380796587418294,\n",
       "    'height': 0.032949968926767735,\n",
       "    'page': 13}],\n",
       "  'id': 3,\n",
       "  'type': 'bib_entry'},\n",
       " {'boxes': [{'left': 0.18146688369281047,\n",
       "    'top': 0.8483562922601017,\n",
       "    'width': 0.6380666928431376,\n",
       "    'height': 0.032949968926767596,\n",
       "    'page': 13}],\n",
       "  'id': 4,\n",
       "  'type': 'bib_entry'},\n",
       " {'boxes': [{'left': 0.20058787972222225,\n",
       "    'top': 0.6633521141792935,\n",
       "    'width': 0.6189168013823533,\n",
       "    'height': 0.03272239214646458,\n",
       "    'page': 13}],\n",
       "  'id': 5,\n",
       "  'type': 'bib_entry'},\n",
       " {'boxes': [{'left': 0.18146317915032684,\n",
       "    'top': 0.8113099412878794,\n",
       "    'width': 0.6380579871683014,\n",
       "    'height': 0.11646255871212068,\n",
       "    'page': 14}],\n",
       "  'id': 0,\n",
       "  'type': 'bib_entry'},\n",
       " {'boxes': [{'left': 0.18147058823529413,\n",
       "    'top': 0.12629381347222213,\n",
       "    'width': 0.6378949872990197,\n",
       "    'height': 0.032722392146464725,\n",
       "    'page': 14}],\n",
       "  'id': 1,\n",
       "  'type': 'bib_entry'},\n",
       " {'boxes': [{'left': 0.18147058823529413,\n",
       "    'top': 0.14470320056818176,\n",
       "    'width': 0.6383582403366019,\n",
       "    'height': 0.06999631989899001,\n",
       "    'page': 14}],\n",
       "  'id': 2,\n",
       "  'type': 'bib_entry'}]"
      ]
     },
     "execution_count": 33,
     "metadata": {},
     "output_type": "execute_result"
    }
   ],
   "source": [
    "# bib_entry_boxgroups_json = bib_detector_response.json()['predictions'][0]['bib_entry_boxes']\n",
    "bib_entry_boxgroups_json"
   ]
  },
  {
   "cell_type": "code",
   "execution_count": 34,
   "id": "7e0a60c5",
   "metadata": {},
   "outputs": [
    {
     "data": {
      "text/plain": [
       "SpanGroup(uuid='6a62f3eb-10f2-454d-a556-49b2f0fef701', doc=<mmda.types.document.Document object at 0x7f1888303970>, metadata=Metadata({'id': 0, 'type': None, 'text': None}), spans=[Span(start=0, end=1236, box=Box(l=0.08796004901960783, t=0.011190656565656636, w=0.8240833333333321, h=0.9737462121212122, page=0))], box_group=None, id=0, type=None, text='1\\nFunctions of FMS-like tyrosine kinase 3 (flt3) in zebrafish hematopoiesis and its\\nrelevance to human acute myeloid leukemia\\nRunning Title: Flt3 in zebrafish hematopoiesis and AML\\nBai-Liang He 1 , Xiangguo Shi 1 , Cheuk Him Man 1 , Alvin CH Ma 1,2 , Stephen C. Ekker 2 ,\\nHoward CH Chow 1 , Chi Wai Eric So 3 , William WL Choi 4 , Wenqing Zhang 5 , Yiyue\\nZhang 5 and Anskar YH Leung 1, *\\n1 Division of Haematology, Department of Medicine, LKS Faculty of Medicine, The\\nUniversity of Hong Kong\\n2 Department of Biochemistry and Molecular Biology, Mayo Clinic, Rochester,\\nMinnesota, USA\\n3 Department of Haematological Medicine, King’s College London, London SE5 9NU,\\nUK\\n4 Department of Pathology, LKS Faculty of Medicine, The University of Hong Kong\\n5 Department of Cell Biology, Southern Medical University, Guangzhou, China\\n*Correspondence:\\nDr. Anskar Y.H. Leung\\nRoom K418, K Block, Department of Medicine, Queen Mary Hospital, Pok Fu Lam\\nRoad, Hong Kong\\nPhone: 852 2255 3347\\nFax:\\n852 2974 1165\\nEmail: ayhleung@hku.hk\\nBlood First Edition Paper, prepublished online March 3, 2014; DOI 10.1182/blood-2013-02-486688\\nCopyright © 2014 American Society of Hematology\\nFor personal use only. on August 24, 2017. by guest www.bloodjournal.org From')"
      ]
     },
     "execution_count": 34,
     "metadata": {},
     "output_type": "execute_result"
    }
   ],
   "source": [
    "# first add pages to the doc (idk why rlly but seems it needs pages to annotate th boxgroups? prob cause those have pgs\n",
    "doc.annotate(pages=instance_pages)\n",
    "doc.pages[0]"
   ]
  },
  {
   "cell_type": "code",
   "execution_count": 35,
   "id": "9c391518",
   "metadata": {},
   "outputs": [],
   "source": [
    "# ok guess it needs tokens, adding rows too\n",
    "doc.annotate(tokens=instance_tokens)\n",
    "doc.annotate(rows=instance_rows)"
   ]
  },
  {
   "cell_type": "code",
   "execution_count": 36,
   "id": "6975f86f",
   "metadata": {},
   "outputs": [],
   "source": [
    "# bib_entry_boxgroups_json to spangroups to json:\n",
    "from mmda.types.annotation import BoxGroup\n",
    "from copy import copy\n",
    "\n",
    "def box_groups_json_to_boxgroups(box_groups_json):\n",
    "    #lil hack\n",
    "    import itertools\n",
    "\n",
    "    counter = itertools.count()\n",
    "    \n",
    "    # make BoxGroups from Json\n",
    "    boxgroups = []\n",
    "    for bg in box_groups_json:\n",
    "        box_info = bg['boxes'][0]\n",
    "        box = Box(\n",
    "            l=box_info['left'], \n",
    "            t=box_info['top'], \n",
    "            w=box_info['width'], \n",
    "            h=box_info['height'], \n",
    "            page=box_info['page']\n",
    "        )\n",
    "        boxgroups.append(\n",
    "        BoxGroup(boxes=[box],\n",
    "                 id=next(counter) # OR update models?\n",
    "                )\n",
    "        )\n",
    "    print(\"boxgroups0\")\n",
    "    print(boxgroups[0])\n",
    "#     mmda_doc.annotate(bibs=boxgroups) # don't redo it'll get mad!!\n",
    "    return boxgroups\n"
   ]
  },
  {
   "cell_type": "code",
   "execution_count": 37,
   "id": "09979a4d",
   "metadata": {},
   "outputs": [
    {
     "name": "stdout",
     "output_type": "stream",
     "text": [
      "boxgroups0\n",
      "BoxGroup(uuid='3d126f60-d7c8-44d8-94c0-237a123377be', doc=None, metadata=Metadata({'id': 0, 'type': None}), boxes=[Box(l=0.18146317915032664, t=0.866992529633839, w=0.6380922541862745, h=0.06077997036616102, page=12)], id=0, type=None)\n"
     ]
    }
   ],
   "source": [
    "bib_box_groups = box_groups_json_to_boxgroups(bib_entry_boxgroups_json)"
   ]
  },
  {
   "cell_type": "code",
   "execution_count": 38,
   "id": "fdea3ef4",
   "metadata": {},
   "outputs": [
    {
     "name": "stdout",
     "output_type": "stream",
     "text": [
      "0\n",
      "1\n",
      "2\n",
      "3\n",
      "4\n",
      "5\n",
      "6\n",
      "7\n",
      "8\n",
      "9\n",
      "10\n",
      "11\n",
      "12\n",
      "13\n",
      "14\n",
      "15\n",
      "16\n",
      "17\n",
      "18\n"
     ]
    }
   ],
   "source": [
    "# PROBLEM!!\n",
    "for bib in bib_box_groups:\n",
    "    print(bib.id)"
   ]
  },
  {
   "cell_type": "code",
   "execution_count": 39,
   "id": "a8c8a6fd",
   "metadata": {},
   "outputs": [],
   "source": [
    "doc.annotate(bibs=bib_box_groups)"
   ]
  },
  {
   "cell_type": "code",
   "execution_count": 40,
   "id": "8151dcc4",
   "metadata": {},
   "outputs": [
    {
     "data": {
      "text/plain": [
       "SpanGroup(uuid='dcbcbb36-dd3f-4e58-9230-b28b477e4a58', doc=<mmda.types.document.Document object at 0x7f1888303970>, metadata=Metadata({'id': 0, 'type': None, 'text': None}), spans=[Span(start=31511, end=31513, box=Box(l=0.4932352941176471, t=0.9170906818181819, w=0.013970058823529467, h=0.010681818181818228, page=12)), Span(start=34105, end=34218, box=None)], box_group=BoxGroup(uuid='3d126f60-d7c8-44d8-94c0-237a123377be', doc=None, metadata=Metadata({'id': 0, 'type': None}), boxes=[Box(l=0.18146317915032664, t=0.866992529633839, w=0.6380922541862745, h=0.06077997036616102, page=12)], id=0, type=None), id=0, type=None, text='13 16. Stirewalt DL, Radich JP. The role of FLT3 in haematopoietic malignancies. Nat\\nRev Cancer . 2003;3(9):650-665.')"
      ]
     },
     "execution_count": 40,
     "metadata": {},
     "output_type": "execute_result"
    }
   ],
   "source": [
    "doc.bibs[0]"
   ]
  },
  {
   "cell_type": "code",
   "execution_count": 41,
   "id": "fc8b106e",
   "metadata": {},
   "outputs": [
    {
     "data": {
      "text/plain": [
       "{'spans': [{'start': 31511,\n",
       "   'end': 31513,\n",
       "   'box': {'left': 0.4932352941176471,\n",
       "    'top': 0.9170906818181819,\n",
       "    'width': 0.013970058823529467,\n",
       "    'height': 0.010681818181818228,\n",
       "    'page': 12}},\n",
       "  {'start': 34105, 'end': 34218}],\n",
       " 'box_group': {'boxes': [{'left': 0.18146317915032664,\n",
       "    'top': 0.866992529633839,\n",
       "    'width': 0.6380922541862745,\n",
       "    'height': 0.06077997036616102,\n",
       "    'page': 12}]},\n",
       " 'id': 0}"
      ]
     },
     "execution_count": 41,
     "metadata": {},
     "output_type": "execute_result"
    }
   ],
   "source": [
    "[sg.to_json() for sg in doc.bibs][0]"
   ]
  },
  {
   "cell_type": "markdown",
   "id": "a6eee2de",
   "metadata": {},
   "source": [
    "#### and also mentions into real spangroups"
   ]
  },
  {
   "cell_type": "code",
   "execution_count": 42,
   "id": "f36aba19",
   "metadata": {},
   "outputs": [
    {
     "data": {
      "text/plain": [
       "{'spans': [{'start': 4376,\n",
       "   'end': 4381,\n",
       "   'box': {'left': 0.3673529411764706,\n",
       "    'top': 0.45673090681818185,\n",
       "    'width': 0.027257940653594773,\n",
       "    'height': 0.00939974747474745,\n",
       "    'page': 2}}],\n",
       " 'box_group': None,\n",
       " 'id': 0,\n",
       " 'type': None,\n",
       " 'text': None}"
      ]
     },
     "execution_count": 42,
     "metadata": {},
     "output_type": "execute_result"
    }
   ],
   "source": [
    "mentions_annos_json[0]"
   ]
  },
  {
   "cell_type": "code",
   "execution_count": 112,
   "id": "c7ee3e48",
   "metadata": {},
   "outputs": [
    {
     "data": {
      "text/plain": [
       "SpanGroup(uuid='6b2a9671-5cd2-4756-be2c-8b45a86cd7a9', doc=None, metadata=Metadata({'id': 0, 'type': None, 'text': None}), spans=[Span(start=4376, end=4381, box=Box(l=0.3673529411764706, t=0.45673090681818185, w=0.027257940653594773, h=0.00939974747474745, page=2))], box_group=None, id=0, type=None, text='')"
      ]
     },
     "execution_count": 112,
     "metadata": {},
     "output_type": "execute_result"
    }
   ],
   "source": [
    "#lil hack\n",
    "import itertools\n",
    "\n",
    "counter = itertools.count()\n",
    "\n",
    "mentions = []\n",
    "for anno in mentions_annos_json:\n",
    "    anno_spans = anno['spans']\n",
    "    mmda_spans = []\n",
    "    for anno_span in anno_spans:\n",
    "        box_info = anno_span['box']\n",
    "        mmda_spans.append(Span(\n",
    "            start=anno_span['start'], \n",
    "            end=anno_span['end'],\n",
    "            box=Box(\n",
    "                l=box_info['left'], \n",
    "                t=box_info['top'], \n",
    "                w=box_info['width'], \n",
    "                h=box_info['height'], \n",
    "                page=box_info['page']\n",
    "                )\n",
    "            )\n",
    "        )\n",
    "    mentions.append(SpanGroup(\n",
    "        spans=mmda_spans,\n",
    "        id=next(counter)       \n",
    "        )\n",
    "    )\n",
    "mentions[0]"
   ]
  },
  {
   "cell_type": "code",
   "execution_count": 113,
   "id": "4fda3373",
   "metadata": {},
   "outputs": [
    {
     "name": "stdout",
     "output_type": "stream",
     "text": [
      "0\n",
      "1\n",
      "2\n",
      "3\n",
      "4\n",
      "5\n",
      "6\n",
      "7\n",
      "8\n",
      "9\n",
      "10\n",
      "11\n",
      "12\n",
      "13\n",
      "14\n",
      "15\n",
      "16\n",
      "17\n",
      "18\n",
      "19\n",
      "20\n",
      "21\n",
      "22\n",
      "23\n",
      "24\n",
      "25\n"
     ]
    }
   ],
   "source": [
    "# get mentions from anno store:\n",
    "\n",
    "# noooo it's too annoying cause they're split into box and spans\n",
    "\n",
    "for mention in mentions:\n",
    "    print(mention.id)"
   ]
  },
  {
   "cell_type": "code",
   "execution_count": 71,
   "id": "5de650e9",
   "metadata": {},
   "outputs": [
    {
     "data": {
      "text/plain": [
       "[{'spans': [{'start': 31511,\n",
       "    'end': 31513,\n",
       "    'box': {'left': 0.4932352941176471,\n",
       "     'top': 0.9170906818181819,\n",
       "     'width': 0.013970058823529467,\n",
       "     'height': 0.010681818181818228,\n",
       "     'page': 12}},\n",
       "   {'start': 34105, 'end': 34218}],\n",
       "  'box_group': {'boxes': [{'left': 0.18146317915032664,\n",
       "     'top': 0.866992529633839,\n",
       "     'width': 0.6380922541862745,\n",
       "     'height': 0.06077997036616102,\n",
       "     'page': 12}]},\n",
       "  'id': 0},\n",
       " {'spans': [{'start': 31653, 'end': 31762}],\n",
       "  'box_group': {'boxes': [{'left': 0.18147058823529413,\n",
       "     'top': 0.1447024740656565,\n",
       "     'width': 0.6380905871421568,\n",
       "     'height': 0.032949968926767735,\n",
       "     'page': 12}],\n",
       "   'id': 1},\n",
       "  'id': 1}]"
      ]
     },
     "execution_count": 71,
     "metadata": {},
     "output_type": "execute_result"
    }
   ],
   "source": [
    "citation_links_instance = {\n",
    "    \"symbols\": symbols,\n",
    "    \"mentions\" : [sg.to_json() for sg in mentions],\n",
    "    \"bibs\" : [sg.to_json() for sg in doc.bibs],\n",
    "}\n",
    "\n",
    "citation_links_instance['bibs'][:2]"
   ]
  },
  {
   "cell_type": "code",
   "execution_count": 72,
   "id": "c7b0e700",
   "metadata": {},
   "outputs": [
    {
     "name": "stdout",
     "output_type": "stream",
     "text": [
      "<Response [200]>\n"
     ]
    }
   ],
   "source": [
    "# send the request:\n",
    "citation_links_response = requests.post(\n",
    "    'http://citation-links.v0.prod.models.s2.allenai.org/invocations',\n",
    "    json={'instances': [citation_links_instance]}\n",
    ")\n",
    "# ).json()\n",
    "    \n",
    "# bib_detector_response['predictions']['bib_entry_boxes'][0]\n",
    "print(citation_links_response) # had to make sure SpanGroup.to_json() includes id\n",
    "\n",
    "# SpanGroup 'id' is the group id.\n",
    "# When it goes to the anno store..."
   ]
  },
  {
   "cell_type": "code",
   "execution_count": 73,
   "id": "95f9586f",
   "metadata": {},
   "outputs": [
    {
     "data": {
      "text/plain": [
       "{'predictions': [{'linked_mentions': [['0', '0'],\n",
       "    ['1', '14'],\n",
       "    ['2', '14'],\n",
       "    ['3', '15'],\n",
       "    ['4', '15'],\n",
       "    ['5', '15'],\n",
       "    ['6', '15'],\n",
       "    ['7', '15'],\n",
       "    ['8', '11'],\n",
       "    ['9', '12'],\n",
       "    ['10', '13'],\n",
       "    ['11', '14'],\n",
       "    ['12', '15'],\n",
       "    ['13', '18'],\n",
       "    ['14', '4'],\n",
       "    ['15', '15'],\n",
       "    ['16', '0'],\n",
       "    ['17', '11'],\n",
       "    ['18', '15'],\n",
       "    ['19', '0'],\n",
       "    ['20', '0'],\n",
       "    ['21', '0'],\n",
       "    ['22', '15'],\n",
       "    ['23', '0'],\n",
       "    ['24', '0'],\n",
       "    ['25', '12']]}]}"
      ]
     },
     "execution_count": 73,
     "metadata": {},
     "output_type": "execute_result"
    }
   ],
   "source": [
    "citation_links_response.json() # returns (mention.id, bib.id)"
   ]
  },
  {
   "cell_type": "markdown",
   "id": "a9d9768e",
   "metadata": {},
   "source": [
    "#### now save to plain-text anno store"
   ]
  },
  {
   "cell_type": "code",
   "execution_count": 103,
   "id": "2b96d167",
   "metadata": {
    "scrolled": true
   },
   "outputs": [
    {
     "name": "stdout",
     "output_type": "stream",
     "text": [
      "group, anno_id\n",
      "0 0\n",
      "1 2\n",
      "2 3\n",
      "3 4\n",
      "4 6\n",
      "5 7\n",
      "6 8\n",
      "7 9\n",
      "8 10\n",
      "9 11\n",
      "10 12\n",
      "11 13\n",
      "12 14\n",
      "13 15\n",
      "14 16\n",
      "15 17\n",
      "16 18\n",
      "17 19\n",
      "18 20\n",
      "19 21\n",
      "20 22\n",
      "21 23\n",
      "22 24\n",
      "23 25\n",
      "24 26\n",
      "25 27\n"
     ]
    }
   ],
   "source": [
    "# map of annotation-id to {\"bib-entry\"}\n",
    "\n",
    "# \"test_mentions\" has fake spangroups w/ multiple spans (sg 0 and 3)\n",
    "mentions_source = \"mentions-test-3\"\n",
    "link_anno_id_base = f\"{mentions_source}/mentions\"\n",
    "\n",
    "links_source = \"citation-links-test-1\"\n",
    "\n",
    "# this works as long as the groups we get back from anno store are same order as they were when we\n",
    "# put them in...should be.\n",
    "\n",
    "# the anno_id in annotation store could be diff\n",
    "# from the 'id' given back by links response because of flattening of \n",
    "# SpanGroups that got sent to annotation store \n",
    "# ie, mention w/ id 'mentions-test-3/mentions/1' could belong to group 0 \n",
    "# if group 0 had 2 spans w/in hte span group) - so we need a map to \n",
    "# make sure we're writing the attributes to the correct annos:\n",
    "test_mentions = copy(mentions)\n",
    "two_spans = [Span(start=4376, end=4381, box=Box(l=0.3673529411764706, t=0.45673090681818185, w=0.027257940653594773, h=0.00939974747474745, page=2)),\n",
    "             Span(start=4840, end=4845, box=Box(l=0.36411764705882355, t=0.5862763613636364, w=0.02755158876470585, h=0.00939974747474745, page=2))]\n",
    "test_mentions[0].spans = two_spans\n",
    "test_mentions[3].spans = two_spans\n",
    "group_to_anno_id = dict()\n",
    "counter = 0\n",
    "for sg in test_mentions:\n",
    "#     print(\"group id:\")\n",
    "#     print(sg.id)\n",
    "#     print(\"anno span id:\")\n",
    "#     print(counter)\n",
    "    group_to_anno_id[sg.id] = counter\n",
    "    for span in sg.spans:\n",
    "#         print(span)\n",
    "        counter += 1\n",
    "print(\"group, anno_id\")        \n",
    "for k, v in group_to_anno_id.items():\n",
    "    print(k, v)"
   ]
  },
  {
   "cell_type": "code",
   "execution_count": 114,
   "id": "5528fb65",
   "metadata": {},
   "outputs": [
    {
     "name": "stdout",
     "output_type": "stream",
     "text": [
      "group, anno_id\n",
      "0 0\n",
      "1 1\n",
      "2 2\n",
      "3 3\n",
      "4 4\n",
      "5 5\n",
      "6 6\n",
      "7 7\n",
      "8 8\n",
      "9 9\n",
      "10 10\n",
      "11 11\n",
      "12 12\n",
      "13 13\n",
      "14 14\n",
      "15 15\n",
      "16 16\n",
      "17 17\n",
      "18 18\n",
      "19 19\n",
      "20 20\n",
      "21 21\n",
      "22 22\n",
      "23 23\n",
      "24 24\n",
      "25 25\n"
     ]
    }
   ],
   "source": [
    "# for reals\n",
    "group_to_anno_id = dict()\n",
    "anno_id_counter = 0\n",
    "for sg in mentions:\n",
    "    group_to_anno_id[sg.id] = anno_id_counter\n",
    "    for span in sg.spans:\n",
    "        anno_id_counter += 1\n",
    "        \n",
    "print(\"group, anno_id\")        \n",
    "for k, v in group_to_anno_id.items():\n",
    "    print(k, v)\n",
    "    "
   ]
  },
  {
   "cell_type": "code",
   "execution_count": 117,
   "id": "6dc3a259",
   "metadata": {
    "scrolled": true
   },
   "outputs": [],
   "source": [
    "mentions_source = \"mentions-test-3\"\n",
    "link_anno_id_base = f\"{mentions_source}/mentions\"\n",
    "\n",
    "for linked_mention in citation_links_response.json()['predictions'][0]['linked_mentions']:\n",
    "#     print('linked_mention: ', linked_mention)\n",
    "#     print('group_to_anno_id: ', group_to_anno_id)\n",
    "    anno_id = f\"{link_anno_id_base}/{group_to_anno_id[int(linked_mention[0])]}\" # dict is necessary for multi span sgs\n",
    "    #     this only works if there is always only 1 span per spangroup\n",
    "#     anno_id = f\"{link_anno_id_base}/{linked_mention[0]}\" \n",
    "#     print(anno_id)\n",
    "    linked_bib = int(linked_mention[1]) # int!\n",
    "    attr_post_response = requests.post(\n",
    "    f'http://annotations-api.dev.s2.allenai.org/plain-text/{dev_text_id}/annotations/{links_source}/attributes',\n",
    "    json={anno_id: {\"bib-entry-group-id\": linked_bib}}\n",
    "    )"
   ]
  },
  {
   "cell_type": "markdown",
   "id": "7bbad318",
   "metadata": {},
   "source": [
    "### get and save bib structuring data to anno store"
   ]
  },
  {
   "cell_type": "code",
   "execution_count": 96,
   "id": "57e8f0c6",
   "metadata": {
    "scrolled": true
   },
   "outputs": [
    {
     "data": {
      "text/plain": [
       "[{'boxes': [{'left': 0.18146317915032664,\n",
       "    'top': 0.866992529633839,\n",
       "    'width': 0.6380922541862745,\n",
       "    'height': 0.06077997036616102,\n",
       "    'page': 12}],\n",
       "  'id': 0,\n",
       "  'type': 'bib_entry'},\n",
       " {'boxes': [{'left': 0.18147058823529413,\n",
       "    'top': 0.1447024740656565,\n",
       "    'width': 0.6380905871421568,\n",
       "    'height': 0.032949968926767735,\n",
       "    'page': 12}],\n",
       "  'id': 1,\n",
       "  'type': 'bib_entry'}]"
      ]
     },
     "execution_count": 96,
     "metadata": {},
     "output_type": "execute_result"
    }
   ],
   "source": [
    "# symbols, tokens, pages, bib_entry_boxes\n",
    "bib_struct_instance = {\n",
    "    \"symbols\": symbols,\n",
    "    \"tokens\": [sg.to_json() for sg in instance_tokens],\n",
    "    \"pages\": [sg.to_json() for sg in instance_pages],\n",
    "    \"bib_entry_boxes\" : bib_entry_boxgroups_json, # the boxes, not spangroups\n",
    "}\n",
    "\n",
    "bib_struct_instance['bib_entry_boxes'][:2]"
   ]
  },
  {
   "cell_type": "code",
   "execution_count": 97,
   "id": "73e2cf2e",
   "metadata": {},
   "outputs": [
    {
     "name": "stdout",
     "output_type": "stream",
     "text": [
      "<Response [200]>\n"
     ]
    }
   ],
   "source": [
    "# send the request:\n",
    "bib_struct_response = requests.post(\n",
    "    'http://bibentry-predictor-mmda.v0.prod.models.s2.allenai.org/invocations',\n",
    "    json={'instances': [bib_struct_instance]}\n",
    ")\n",
    "# ).json()\n",
    "    \n",
    "# bib_detector_response['predictions']['bib_entry_boxes'][0]\n",
    "print(bib_struct_response)"
   ]
  },
  {
   "cell_type": "code",
   "execution_count": 98,
   "id": "542ab73c",
   "metadata": {},
   "outputs": [
    {
     "data": {
      "text/plain": [
       "{'predictions': [{'bib_entry_number': [{'spans': [{'start': 31511,\n",
       "       'end': 31513,\n",
       "       'box': None},\n",
       "      {'start': 34105, 'end': 34107, 'box': None}],\n",
       "     'box_group': None,\n",
       "     'id': None,\n",
       "     'type': None,\n",
       "     'text': ''},\n",
       "    {'spans': [{'start': 31653, 'end': 31654, 'box': None}],\n",
       "     'box_group': None,\n",
       "     'id': None,\n",
       "     'type': None,\n",
       "     'text': ''},\n",
       "    {'spans': [{'start': 31763, 'end': 31764, 'box': None}],\n",
       "     'box_group': None,\n",
       "     'id': None,\n",
       "     'type': None,\n",
       "     'text': ''},\n",
       "    {'spans': [{'start': 31971, 'end': 31972, 'box': None}],\n",
       "     'box_group': None,\n",
       "     'id': None,\n",
       "     'type': None,\n",
       "     'text': ''},\n",
       "    {'spans': [{'start': 32329, 'end': 32330, 'box': None}],\n",
       "     'box_group': None,\n",
       "     'id': None,\n",
       "     'type': None,\n",
       "     'text': ''},\n",
       "    {'spans': [{'start': 32821, 'end': 32822, 'box': None}],\n",
       "     'box_group': None,\n",
       "     'id': None,\n",
       "     'type': None,\n",
       "     'text': ''},\n",
       "    {'spans': [{'start': 33036, 'end': 33038, 'box': None}],\n",
       "     'box_group': None,\n",
       "     'id': None,\n",
       "     'type': None,\n",
       "     'text': ''},\n",
       "    {'spans': [{'start': 33204, 'end': 33206, 'box': None}],\n",
       "     'box_group': None,\n",
       "     'id': None,\n",
       "     'type': None,\n",
       "     'text': ''},\n",
       "    {'spans': [{'start': 33672, 'end': 33674, 'box': None}],\n",
       "     'box_group': None,\n",
       "     'id': None,\n",
       "     'type': None,\n",
       "     'text': ''},\n",
       "    {'spans': [{'start': 34297, 'end': 34299, 'box': None}],\n",
       "     'box_group': None,\n",
       "     'id': None,\n",
       "     'type': None,\n",
       "     'text': ''},\n",
       "    {'spans': [{'start': 36253, 'end': 36255, 'box': None}],\n",
       "     'box_group': None,\n",
       "     'id': None,\n",
       "     'type': None,\n",
       "     'text': ''},\n",
       "    {'spans': [{'start': 36418, 'end': 36420, 'box': None}],\n",
       "     'box_group': None,\n",
       "     'id': None,\n",
       "     'type': None,\n",
       "     'text': ''},\n",
       "    {'spans': [{'start': 36555, 'end': 36557, 'box': None}],\n",
       "     'box_group': None,\n",
       "     'id': None,\n",
       "     'type': None,\n",
       "     'text': ''},\n",
       "    {'spans': [{'start': 36925, 'end': 36927, 'box': None}],\n",
       "     'box_group': None,\n",
       "     'id': None,\n",
       "     'type': None,\n",
       "     'text': ''},\n",
       "    {'spans': [{'start': 37036, 'end': 37038, 'box': None}],\n",
       "     'box_group': None,\n",
       "     'id': None,\n",
       "     'type': None,\n",
       "     'text': ''},\n",
       "    {'spans': [{'start': 37326, 'end': 37328, 'box': None},\n",
       "      {'start': 40012, 'end': 40014, 'box': None}],\n",
       "     'box_group': None,\n",
       "     'id': None,\n",
       "     'type': None,\n",
       "     'text': ''},\n",
       "    {'spans': [{'start': 37445, 'end': 37447, 'box': None}],\n",
       "     'box_group': None,\n",
       "     'id': None,\n",
       "     'type': None,\n",
       "     'text': ''},\n",
       "    {'spans': [{'start': 37595, 'end': 37597, 'box': None}],\n",
       "     'box_group': None,\n",
       "     'id': None,\n",
       "     'type': None,\n",
       "     'text': ''}],\n",
       "   'bib_entry_authors': [{'spans': [{'start': 34109,\n",
       "       'end': 34121,\n",
       "       'box': None}],\n",
       "     'box_group': None,\n",
       "     'id': None,\n",
       "     'type': None,\n",
       "     'text': ''},\n",
       "    {'spans': [{'start': 34123, 'end': 34132, 'box': None}],\n",
       "     'box_group': None,\n",
       "     'id': None,\n",
       "     'type': None,\n",
       "     'text': ''},\n",
       "    {'spans': [{'start': 31656, 'end': 31660, 'box': None}],\n",
       "     'box_group': None,\n",
       "     'id': None,\n",
       "     'type': None,\n",
       "     'text': ''},\n",
       "    {'spans': [{'start': 31662, 'end': 31666, 'box': None}],\n",
       "     'box_group': None,\n",
       "     'id': None,\n",
       "     'type': None,\n",
       "     'text': ''},\n",
       "    {'spans': [{'start': 31668, 'end': 31673, 'box': None}],\n",
       "     'box_group': None,\n",
       "     'id': None,\n",
       "     'type': None,\n",
       "     'text': ''},\n",
       "    {'spans': [{'start': 31766, 'end': 31777, 'box': None}],\n",
       "     'box_group': None,\n",
       "     'id': None,\n",
       "     'type': None,\n",
       "     'text': ''},\n",
       "    {'spans': [{'start': 31779, 'end': 31787, 'box': None}],\n",
       "     'box_group': None,\n",
       "     'id': None,\n",
       "     'type': None,\n",
       "     'text': ''},\n",
       "    {'spans': [{'start': 31789, 'end': 31795, 'box': None}],\n",
       "     'box_group': None,\n",
       "     'id': None,\n",
       "     'type': None,\n",
       "     'text': ''},\n",
       "    {'spans': [{'start': 31974, 'end': 31982, 'box': None}],\n",
       "     'box_group': None,\n",
       "     'id': None,\n",
       "     'type': None,\n",
       "     'text': ''},\n",
       "    {'spans': [{'start': 31984, 'end': 31995, 'box': None}],\n",
       "     'box_group': None,\n",
       "     'id': None,\n",
       "     'type': None,\n",
       "     'text': ''},\n",
       "    {'spans': [{'start': 32332, 'end': 32338, 'box': None}],\n",
       "     'box_group': None,\n",
       "     'id': None,\n",
       "     'type': None,\n",
       "     'text': ''},\n",
       "    {'spans': [{'start': 32340, 'end': 32349, 'box': None}],\n",
       "     'box_group': None,\n",
       "     'id': None,\n",
       "     'type': None,\n",
       "     'text': ''},\n",
       "    {'spans': [{'start': 32351, 'end': 32358, 'box': None}],\n",
       "     'box_group': None,\n",
       "     'id': None,\n",
       "     'type': None,\n",
       "     'text': ''},\n",
       "    {'spans': [{'start': 32360, 'end': 32369, 'box': None}],\n",
       "     'box_group': None,\n",
       "     'id': None,\n",
       "     'type': None,\n",
       "     'text': ''},\n",
       "    {'spans': [{'start': 32371, 'end': 32380, 'box': None}],\n",
       "     'box_group': None,\n",
       "     'id': None,\n",
       "     'type': None,\n",
       "     'text': ''},\n",
       "    {'spans': [{'start': 32655, 'end': 32667, 'box': None}],\n",
       "     'box_group': None,\n",
       "     'id': None,\n",
       "     'type': None,\n",
       "     'text': ''},\n",
       "    {'spans': [{'start': 32669, 'end': 32674, 'box': None}],\n",
       "     'box_group': None,\n",
       "     'id': None,\n",
       "     'type': None,\n",
       "     'text': ''},\n",
       "    {'spans': [{'start': 32676, 'end': 32690, 'box': None}],\n",
       "     'box_group': None,\n",
       "     'id': None,\n",
       "     'type': None,\n",
       "     'text': ''},\n",
       "    {'spans': [{'start': 32692, 'end': 32701, 'box': None}],\n",
       "     'box_group': None,\n",
       "     'id': None,\n",
       "     'type': None,\n",
       "     'text': ''},\n",
       "    {'spans': [{'start': 32703, 'end': 32712, 'box': None}],\n",
       "     'box_group': None,\n",
       "     'id': None,\n",
       "     'type': None,\n",
       "     'text': ''},\n",
       "    {'spans': [{'start': 32714, 'end': 32723, 'box': None}],\n",
       "     'box_group': None,\n",
       "     'id': None,\n",
       "     'type': None,\n",
       "     'text': ''},\n",
       "    {'spans': [{'start': 32824, 'end': 32835, 'box': None}],\n",
       "     'box_group': None,\n",
       "     'id': None,\n",
       "     'type': None,\n",
       "     'text': ''},\n",
       "    {'spans': [{'start': 32837, 'end': 32843, 'box': None}],\n",
       "     'box_group': None,\n",
       "     'id': None,\n",
       "     'type': None,\n",
       "     'text': ''},\n",
       "    {'spans': [{'start': 32845, 'end': 32856, 'box': None}],\n",
       "     'box_group': None,\n",
       "     'id': None,\n",
       "     'type': None,\n",
       "     'text': ''},\n",
       "    {'spans': [{'start': 32858, 'end': 32869, 'box': None}],\n",
       "     'box_group': None,\n",
       "     'id': None,\n",
       "     'type': None,\n",
       "     'text': ''},\n",
       "    {'spans': [{'start': 32871, 'end': 32880, 'box': None}],\n",
       "     'box_group': None,\n",
       "     'id': None,\n",
       "     'type': None,\n",
       "     'text': ''},\n",
       "    {'spans': [{'start': 32882, 'end': 32890, 'box': None}],\n",
       "     'box_group': None,\n",
       "     'id': None,\n",
       "     'type': None,\n",
       "     'text': ''},\n",
       "    {'spans': [{'start': 33040, 'end': 33047, 'box': None}],\n",
       "     'box_group': None,\n",
       "     'id': None,\n",
       "     'type': None,\n",
       "     'text': ''},\n",
       "    {'spans': [{'start': 33049, 'end': 33054, 'box': None}],\n",
       "     'box_group': None,\n",
       "     'id': None,\n",
       "     'type': None,\n",
       "     'text': ''},\n",
       "    {'spans': [{'start': 33056, 'end': 33060, 'box': None}],\n",
       "     'box_group': None,\n",
       "     'id': None,\n",
       "     'type': None,\n",
       "     'text': ''},\n",
       "    {'spans': [{'start': 33062, 'end': 33068, 'box': None}],\n",
       "     'box_group': None,\n",
       "     'id': None,\n",
       "     'type': None,\n",
       "     'text': ''},\n",
       "    {'spans': [{'start': 33070, 'end': 33075, 'box': None}],\n",
       "     'box_group': None,\n",
       "     'id': None,\n",
       "     'type': None,\n",
       "     'text': ''},\n",
       "    {'spans': [{'start': 33208, 'end': 33218, 'box': None}],\n",
       "     'box_group': None,\n",
       "     'id': None,\n",
       "     'type': None,\n",
       "     'text': ''},\n",
       "    {'spans': [{'start': 33220, 'end': 33226, 'box': None}],\n",
       "     'box_group': None,\n",
       "     'id': None,\n",
       "     'type': None,\n",
       "     'text': ''},\n",
       "    {'spans': [{'start': 33676, 'end': 33682, 'box': None}],\n",
       "     'box_group': None,\n",
       "     'id': None,\n",
       "     'type': None,\n",
       "     'text': ''},\n",
       "    {'spans': [{'start': 33684, 'end': 33690, 'box': None}],\n",
       "     'box_group': None,\n",
       "     'id': None,\n",
       "     'type': None,\n",
       "     'text': ''},\n",
       "    {'spans': [{'start': 33692, 'end': 33698, 'box': None}],\n",
       "     'box_group': None,\n",
       "     'id': None,\n",
       "     'type': None,\n",
       "     'text': ''},\n",
       "    {'spans': [{'start': 37166, 'end': 37173, 'box': None}],\n",
       "     'box_group': None,\n",
       "     'id': None,\n",
       "     'type': None,\n",
       "     'text': ''},\n",
       "    {'spans': [{'start': 37175, 'end': 37183, 'box': None}],\n",
       "     'box_group': None,\n",
       "     'id': None,\n",
       "     'type': None,\n",
       "     'text': ''},\n",
       "    {'spans': [{'start': 37185, 'end': 37192, 'box': None}],\n",
       "     'box_group': None,\n",
       "     'id': None,\n",
       "     'type': None,\n",
       "     'text': ''},\n",
       "    {'spans': [{'start': 36257, 'end': 36265, 'box': None}],\n",
       "     'box_group': None,\n",
       "     'id': None,\n",
       "     'type': None,\n",
       "     'text': ''},\n",
       "    {'spans': [{'start': 36267, 'end': 36273, 'box': None}],\n",
       "     'box_group': None,\n",
       "     'id': None,\n",
       "     'type': None,\n",
       "     'text': ''},\n",
       "    {'spans': [{'start': 36275, 'end': 36282, 'box': None}],\n",
       "     'box_group': None,\n",
       "     'id': None,\n",
       "     'type': None,\n",
       "     'text': ''},\n",
       "    {'spans': [{'start': 36422, 'end': 36430, 'box': None}],\n",
       "     'box_group': None,\n",
       "     'id': None,\n",
       "     'type': None,\n",
       "     'text': ''},\n",
       "    {'spans': [{'start': 36432, 'end': 36438, 'box': None}],\n",
       "     'box_group': None,\n",
       "     'id': None,\n",
       "     'type': None,\n",
       "     'text': ''},\n",
       "    {'spans': [{'start': 36440, 'end': 36448, 'box': None}],\n",
       "     'box_group': None,\n",
       "     'id': None,\n",
       "     'type': None,\n",
       "     'text': ''},\n",
       "    {'spans': [{'start': 36559, 'end': 36564, 'box': None}],\n",
       "     'box_group': None,\n",
       "     'id': None,\n",
       "     'type': None,\n",
       "     'text': ''},\n",
       "    {'spans': [{'start': 36566, 'end': 36573, 'box': None}],\n",
       "     'box_group': None,\n",
       "     'id': None,\n",
       "     'type': None,\n",
       "     'text': ''},\n",
       "    {'spans': [{'start': 36575, 'end': 36582, 'box': None}],\n",
       "     'box_group': None,\n",
       "     'id': None,\n",
       "     'type': None,\n",
       "     'text': ''},\n",
       "    {'spans': [{'start': 36584, 'end': 36592, 'box': None}],\n",
       "     'box_group': None,\n",
       "     'id': None,\n",
       "     'type': None,\n",
       "     'text': ''},\n",
       "    {'spans': [{'start': 36929, 'end': 36937, 'box': None}],\n",
       "     'box_group': None,\n",
       "     'id': None,\n",
       "     'type': None,\n",
       "     'text': ''},\n",
       "    {'spans': [{'start': 37040, 'end': 37048, 'box': None}],\n",
       "     'box_group': None,\n",
       "     'id': None,\n",
       "     'type': None,\n",
       "     'text': ''},\n",
       "    {'spans': [{'start': 37050, 'end': 37058, 'box': None}],\n",
       "     'box_group': None,\n",
       "     'id': None,\n",
       "     'type': None,\n",
       "     'text': ''},\n",
       "    {'spans': [{'start': 40016, 'end': 40024, 'box': None}],\n",
       "     'box_group': None,\n",
       "     'id': None,\n",
       "     'type': None,\n",
       "     'text': ''},\n",
       "    {'spans': [{'start': 40026, 'end': 40033, 'box': None}],\n",
       "     'box_group': None,\n",
       "     'id': None,\n",
       "     'type': None,\n",
       "     'text': ''},\n",
       "    {'spans': [{'start': 40035, 'end': 40046, 'box': None}],\n",
       "     'box_group': None,\n",
       "     'id': None,\n",
       "     'type': None,\n",
       "     'text': ''},\n",
       "    {'spans': [{'start': 37449, 'end': 37454, 'box': None}],\n",
       "     'box_group': None,\n",
       "     'id': None,\n",
       "     'type': None,\n",
       "     'text': ''},\n",
       "    {'spans': [{'start': 37456, 'end': 37464, 'box': None}],\n",
       "     'box_group': None,\n",
       "     'id': None,\n",
       "     'type': None,\n",
       "     'text': ''},\n",
       "    {'spans': [{'start': 37466, 'end': 37473, 'box': None}],\n",
       "     'box_group': None,\n",
       "     'id': None,\n",
       "     'type': None,\n",
       "     'text': ''},\n",
       "    {'spans': [{'start': 37475, 'end': 37483, 'box': None}],\n",
       "     'box_group': None,\n",
       "     'id': None,\n",
       "     'type': None,\n",
       "     'text': ''},\n",
       "    {'spans': [{'start': 37599, 'end': 37605, 'box': None}],\n",
       "     'box_group': None,\n",
       "     'id': None,\n",
       "     'type': None,\n",
       "     'text': ''},\n",
       "    {'spans': [{'start': 37607, 'end': 37613, 'box': None}],\n",
       "     'box_group': None,\n",
       "     'id': None,\n",
       "     'type': None,\n",
       "     'text': ''},\n",
       "    {'spans': [{'start': 37615, 'end': 37620, 'box': None}],\n",
       "     'box_group': None,\n",
       "     'id': None,\n",
       "     'type': None,\n",
       "     'text': ''},\n",
       "    {'spans': [{'start': 37622, 'end': 37631, 'box': None}],\n",
       "     'box_group': None,\n",
       "     'id': None,\n",
       "     'type': None,\n",
       "     'text': ''},\n",
       "    {'spans': [{'start': 37633, 'end': 37640, 'box': None}],\n",
       "     'box_group': None,\n",
       "     'id': None,\n",
       "     'type': None,\n",
       "     'text': ''}],\n",
       "   'bib_entry_title': [{'spans': [{'start': 34134, 'end': 34181, 'box': None}],\n",
       "     'box_group': None,\n",
       "     'id': None,\n",
       "     'type': None,\n",
       "     'text': ''},\n",
       "    {'spans': [{'start': 31675, 'end': 31722, 'box': None}],\n",
       "     'box_group': None,\n",
       "     'id': None,\n",
       "     'type': None,\n",
       "     'text': ''},\n",
       "    {'spans': [{'start': 31804, 'end': 31937, 'box': None}],\n",
       "     'box_group': None,\n",
       "     'id': None,\n",
       "     'type': None,\n",
       "     'text': ''},\n",
       "    {'spans': [{'start': 31997, 'end': 32046, 'box': None}],\n",
       "     'box_group': None,\n",
       "     'id': None,\n",
       "     'type': None,\n",
       "     'text': ''},\n",
       "    {'spans': [{'start': 32382, 'end': 32469, 'box': None}],\n",
       "     'box_group': None,\n",
       "     'id': None,\n",
       "     'type': None,\n",
       "     'text': ''},\n",
       "    {'spans': [{'start': 32574, 'end': 32621, 'box': None}],\n",
       "     'box_group': None,\n",
       "     'id': None,\n",
       "     'type': None,\n",
       "     'text': ''},\n",
       "    {'spans': [{'start': 32892, 'end': 32996, 'box': None}],\n",
       "     'box_group': None,\n",
       "     'id': None,\n",
       "     'type': None,\n",
       "     'text': ''},\n",
       "    {'spans': [{'start': 33077, 'end': 33170, 'box': None}],\n",
       "     'box_group': None,\n",
       "     'id': None,\n",
       "     'type': None,\n",
       "     'text': ''},\n",
       "    {'spans': [{'start': 33228, 'end': 33303, 'box': None}],\n",
       "     'box_group': None,\n",
       "     'id': None,\n",
       "     'type': None,\n",
       "     'text': ''},\n",
       "    {'spans': [{'start': 33707, 'end': 33815, 'box': None}],\n",
       "     'box_group': None,\n",
       "     'id': None,\n",
       "     'type': None,\n",
       "     'text': ''},\n",
       "    {'spans': [{'start': 37113, 'end': 37130, 'box': None}],\n",
       "     'box_group': None,\n",
       "     'id': None,\n",
       "     'type': None,\n",
       "     'text': ''},\n",
       "    {'spans': [{'start': 36291, 'end': 36383, 'box': None}],\n",
       "     'box_group': None,\n",
       "     'id': None,\n",
       "     'type': None,\n",
       "     'text': ''},\n",
       "    {'spans': [{'start': 36450, 'end': 36495, 'box': None},\n",
       "      {'start': 36499, 'end': 36522, 'box': None}],\n",
       "     'box_group': None,\n",
       "     'id': None,\n",
       "     'type': None,\n",
       "     'text': ''},\n",
       "    {'spans': [{'start': 36594, 'end': 36638, 'box': None}],\n",
       "     'box_group': None,\n",
       "     'id': None,\n",
       "     'type': None,\n",
       "     'text': ''},\n",
       "    {'spans': [{'start': 36939, 'end': 37006, 'box': None}],\n",
       "     'box_group': None,\n",
       "     'id': None,\n",
       "     'type': None,\n",
       "     'text': ''},\n",
       "    {'spans': [{'start': 37060, 'end': 37112, 'box': None}],\n",
       "     'box_group': None,\n",
       "     'id': None,\n",
       "     'type': None,\n",
       "     'text': ''},\n",
       "    {'spans': [{'start': 40055, 'end': 40133, 'box': None}],\n",
       "     'box_group': None,\n",
       "     'id': None,\n",
       "     'type': None,\n",
       "     'text': ''},\n",
       "    {'spans': [{'start': 37485, 'end': 37562, 'box': None}],\n",
       "     'box_group': None,\n",
       "     'id': None,\n",
       "     'type': None,\n",
       "     'text': ''},\n",
       "    {'spans': [{'start': 37642, 'end': 37743, 'box': None}],\n",
       "     'box_group': None,\n",
       "     'id': None,\n",
       "     'type': None,\n",
       "     'text': ''}],\n",
       "   'bib_entry_venue_or_event': [{'spans': [{'start': 34183,\n",
       "       'end': 34197,\n",
       "       'box': None}],\n",
       "     'box_group': None,\n",
       "     'id': None,\n",
       "     'type': None,\n",
       "     'text': ''},\n",
       "    {'spans': [{'start': 31724, 'end': 31740, 'box': None}],\n",
       "     'box_group': None,\n",
       "     'id': None,\n",
       "     'type': None,\n",
       "     'text': ''},\n",
       "    {'spans': [{'start': 31939, 'end': 31947, 'box': None}],\n",
       "     'box_group': None,\n",
       "     'id': None,\n",
       "     'type': None,\n",
       "     'text': ''},\n",
       "    {'spans': [{'start': 32048, 'end': 32067, 'box': None}],\n",
       "     'box_group': None,\n",
       "     'id': None,\n",
       "     'type': None,\n",
       "     'text': ''},\n",
       "    {'spans': [{'start': 32471, 'end': 32483, 'box': None}],\n",
       "     'box_group': None,\n",
       "     'id': None,\n",
       "     'type': None,\n",
       "     'text': ''},\n",
       "    {'spans': [{'start': 32623, 'end': 32628, 'box': None}],\n",
       "     'box_group': None,\n",
       "     'id': None,\n",
       "     'type': None,\n",
       "     'text': ''},\n",
       "    {'spans': [{'start': 32998, 'end': 33009, 'box': None}],\n",
       "     'box_group': None,\n",
       "     'id': None,\n",
       "     'type': None,\n",
       "     'text': ''},\n",
       "    {'spans': [{'start': 33172, 'end': 33177, 'box': None}],\n",
       "     'box_group': None,\n",
       "     'id': None,\n",
       "     'type': None,\n",
       "     'text': ''},\n",
       "    {'spans': [{'start': 33305, 'end': 33319, 'box': None}],\n",
       "     'box_group': None,\n",
       "     'id': None,\n",
       "     'type': None,\n",
       "     'text': ''},\n",
       "    {'spans': [{'start': 33817, 'end': 33822, 'box': None}],\n",
       "     'box_group': None,\n",
       "     'id': None,\n",
       "     'type': None,\n",
       "     'text': ''},\n",
       "    {'spans': [{'start': 37132, 'end': 37142, 'box': None}],\n",
       "     'box_group': None,\n",
       "     'id': None,\n",
       "     'type': None,\n",
       "     'text': ''},\n",
       "    {'spans': [{'start': 36385, 'end': 36391, 'box': None}],\n",
       "     'box_group': None,\n",
       "     'id': None,\n",
       "     'type': None,\n",
       "     'text': ''},\n",
       "    {'spans': [{'start': 36524, 'end': 36532, 'box': None}],\n",
       "     'box_group': None,\n",
       "     'id': None,\n",
       "     'type': None,\n",
       "     'text': ''},\n",
       "    {'spans': [{'start': 36640, 'end': 36645, 'box': None}],\n",
       "     'box_group': None,\n",
       "     'id': None,\n",
       "     'type': None,\n",
       "     'text': ''},\n",
       "    {'spans': [{'start': 37008, 'end': 37013, 'box': None}],\n",
       "     'box_group': None,\n",
       "     'id': None,\n",
       "     'type': None,\n",
       "     'text': ''},\n",
       "    {'spans': [{'start': 40135, 'end': 40147, 'box': None}],\n",
       "     'box_group': None,\n",
       "     'id': None,\n",
       "     'type': None,\n",
       "     'text': ''},\n",
       "    {'spans': [{'start': 37564, 'end': 37572, 'box': None}],\n",
       "     'box_group': None,\n",
       "     'id': None,\n",
       "     'type': None,\n",
       "     'text': ''},\n",
       "    {'spans': [{'start': 37745, 'end': 37780, 'box': None}],\n",
       "     'box_group': None,\n",
       "     'id': None,\n",
       "     'type': None,\n",
       "     'text': ''}],\n",
       "   'bib_entry_year': [{'spans': [{'start': 34200, 'end': 34204, 'box': None}],\n",
       "     'box_group': None,\n",
       "     'id': None,\n",
       "     'type': None,\n",
       "     'text': ''},\n",
       "    {'spans': [{'start': 31743, 'end': 31747, 'box': None}],\n",
       "     'box_group': None,\n",
       "     'id': None,\n",
       "     'type': None,\n",
       "     'text': ''},\n",
       "    {'spans': [{'start': 31950, 'end': 31954, 'box': None}],\n",
       "     'box_group': None,\n",
       "     'id': None,\n",
       "     'type': None,\n",
       "     'text': ''},\n",
       "    {'spans': [{'start': 32070, 'end': 32074, 'box': None}],\n",
       "     'box_group': None,\n",
       "     'id': None,\n",
       "     'type': None,\n",
       "     'text': ''},\n",
       "    {'spans': [{'start': 32486, 'end': 32490, 'box': None}],\n",
       "     'box_group': None,\n",
       "     'id': None,\n",
       "     'type': None,\n",
       "     'text': ''},\n",
       "    {'spans': [{'start': 32631, 'end': 32635, 'box': None}],\n",
       "     'box_group': None,\n",
       "     'id': None,\n",
       "     'type': None,\n",
       "     'text': ''},\n",
       "    {'spans': [{'start': 33012, 'end': 33016, 'box': None}],\n",
       "     'box_group': None,\n",
       "     'id': None,\n",
       "     'type': None,\n",
       "     'text': ''},\n",
       "    {'spans': [{'start': 33180, 'end': 33184, 'box': None}],\n",
       "     'box_group': None,\n",
       "     'id': None,\n",
       "     'type': None,\n",
       "     'text': ''},\n",
       "    {'spans': [{'start': 33322, 'end': 33326, 'box': None}],\n",
       "     'box_group': None,\n",
       "     'id': None,\n",
       "     'type': None,\n",
       "     'text': ''},\n",
       "    {'spans': [{'start': 33825, 'end': 33829, 'box': None}],\n",
       "     'box_group': None,\n",
       "     'id': None,\n",
       "     'type': None,\n",
       "     'text': ''},\n",
       "    {'spans': [{'start': 37145, 'end': 37149, 'box': None}],\n",
       "     'box_group': None,\n",
       "     'id': None,\n",
       "     'type': None,\n",
       "     'text': ''},\n",
       "    {'spans': [{'start': 36394, 'end': 36398, 'box': None}],\n",
       "     'box_group': None,\n",
       "     'id': None,\n",
       "     'type': None,\n",
       "     'text': ''},\n",
       "    {'spans': [{'start': 36535, 'end': 36539, 'box': None}],\n",
       "     'box_group': None,\n",
       "     'id': None,\n",
       "     'type': None,\n",
       "     'text': ''},\n",
       "    {'spans': [{'start': 36648, 'end': 36652, 'box': None}],\n",
       "     'box_group': None,\n",
       "     'id': None,\n",
       "     'type': None,\n",
       "     'text': ''},\n",
       "    {'spans': [{'start': 37016, 'end': 37020, 'box': None}],\n",
       "     'box_group': None,\n",
       "     'id': None,\n",
       "     'type': None,\n",
       "     'text': ''},\n",
       "    {'spans': [{'start': 40150, 'end': 40154, 'box': None}],\n",
       "     'box_group': None,\n",
       "     'id': None,\n",
       "     'type': None,\n",
       "     'text': ''},\n",
       "    {'spans': [{'start': 37575, 'end': 37579, 'box': None}],\n",
       "     'box_group': None,\n",
       "     'id': None,\n",
       "     'type': None,\n",
       "     'text': ''},\n",
       "    {'spans': [{'start': 37783, 'end': 37787, 'box': None}],\n",
       "     'box_group': None,\n",
       "     'id': None,\n",
       "     'type': None,\n",
       "     'text': ''}],\n",
       "   'bib_entry_doi': [],\n",
       "   'bib_entry_url': []}]}"
      ]
     },
     "execution_count": 98,
     "metadata": {},
     "output_type": "execute_result"
    }
   ],
   "source": [
    "bib_struct_response.json()"
   ]
  },
  {
   "cell_type": "code",
   "execution_count": 127,
   "id": "30a39715",
   "metadata": {},
   "outputs": [
    {
     "data": {
      "text/plain": [
       "dict_keys(['bib_entry_number', 'bib_entry_authors', 'bib_entry_title', 'bib_entry_venue_or_event', 'bib_entry_year', 'bib_entry_doi', 'bib_entry_url'])"
      ]
     },
     "execution_count": 127,
     "metadata": {},
     "output_type": "execute_result"
    }
   ],
   "source": [
    "prediction_fields"
   ]
  },
  {
   "cell_type": "code",
   "execution_count": 138,
   "id": "3696d672",
   "metadata": {},
   "outputs": [
    {
     "name": "stdout",
     "output_type": "stream",
     "text": [
      "\n",
      "\n",
      "\n",
      "\n",
      "\n",
      "\n",
      "\n"
     ]
    },
    {
     "name": "stderr",
     "output_type": "stream",
     "text": [
      "/home/ubuntu/anaconda3/envs/mmda/lib/python3.8/site-packages/mmda-0.0.28.dev1-py3.8.egg/mmda/types/document.py:70: UserWarning: The annotations is empty for the field bib_entry_doi\n",
      "  warnings.warn(f\"The annotations is empty for the field {field_name}\")\n",
      "/home/ubuntu/anaconda3/envs/mmda/lib/python3.8/site-packages/mmda-0.0.28.dev1-py3.8.egg/mmda/types/document.py:70: UserWarning: The annotations is empty for the field bib_entry_url\n",
      "  warnings.warn(f\"The annotations is empty for the field {field_name}\")\n"
     ]
    }
   ],
   "source": [
    "# spangroups_json to mmda_spangroups:\n",
    "prediction_fields = bib_struct_response.json()['predictions'][0].keys()\n",
    "# for each field make span groups and annotate on doc\n",
    "fields_to_annos = dict()\n",
    "for f in prediction_fields:\n",
    "    print()\n",
    "#     print(str(f))\n",
    "#     field_string = str(f)\n",
    "    preds_for_field = bib_struct_response.json()['predictions'][0][f]\n",
    "    # spangroups_json to mmda_spangroups:\n",
    "    pred_spangroups = [SpanGroup.from_json(sg_json) for sg_json in preds_for_field]\n",
    "#     doc.annotate(f=pred_spangroups) # doesn't work (f is \"f\")\n",
    "#     doc.annotate(field_string=pred_spangroups)\n",
    "    fields_to_annos[str(f)] = pred_spangroups\n",
    "\n",
    "# doc.annotate(f=pred_spangroups) # doesn't work (f is \"f\")\n",
    "doc.annotate(bib_entry_number=fields_to_annos['bib_entry_number'])\n",
    "doc.annotate(bib_entry_authors=fields_to_annos['bib_entry_authors'])\n",
    "doc.annotate(bib_entry_title=fields_to_annos['bib_entry_title'])\n",
    "doc.annotate(bib_entry_venue_or_event=fields_to_annos['bib_entry_venue_or_event'])\n",
    "doc.annotate(bib_entry_year=fields_to_annos['bib_entry_year'])\n",
    "doc.annotate(bib_entry_doi=fields_to_annos['bib_entry_doi']) # warning, empty\n",
    "doc.annotate(bib_entry_url=fields_to_annos['bib_entry_url']) # warning, empty"
   ]
  },
  {
   "cell_type": "code",
   "execution_count": 139,
   "id": "caee7fa8",
   "metadata": {},
   "outputs": [
    {
     "data": {
      "text/plain": [
       "['vila',\n",
       " 'pages',\n",
       " 'tokens',\n",
       " 'rows',\n",
       " 'bibs',\n",
       " 'f',\n",
       " 'field_string',\n",
       " 'bib_entry_number',\n",
       " 'bib_entry_authors',\n",
       " 'bib_entry_title',\n",
       " 'bib_entry_venue_or_event',\n",
       " 'bib_entry_year']"
      ]
     },
     "execution_count": 139,
     "metadata": {},
     "output_type": "execute_result"
    }
   ],
   "source": [
    "doc.fields"
   ]
  },
  {
   "cell_type": "code",
   "execution_count": 170,
   "id": "b21f5737",
   "metadata": {},
   "outputs": [
    {
     "name": "stdout",
     "output_type": "stream",
     "text": [
      "[SpanGroup(uuid='a246166a-8fb8-4afe-9c0d-5ebb85cc554a', doc=<mmda.types.document.Document object at 0x7f1888303970>, metadata=Metadata({'id': None, 'type': None, 'text': ''}), spans=[Span(start=34109, end=34121, box=None)], box_group=None, id=None, type=None, text='Stirewalt DL'), SpanGroup(uuid='0d2a5ab0-e827-4550-bfd8-78cdf4b5cfaf', doc=<mmda.types.document.Document object at 0x7f1888303970>, metadata=Metadata({'id': None, 'type': None, 'text': ''}), spans=[Span(start=34123, end=34132, box=None)], box_group=None, id=None, type=None, text='Radich JP')]\n",
      "\n",
      "SpanGroup(uuid='a246166a-8fb8-4afe-9c0d-5ebb85cc554a', doc=<mmda.types.document.Document object at 0x7f1888303970>, metadata=Metadata({'id': None, 'type': None, 'text': ''}), spans=[Span(start=34109, end=34121, box=None)], box_group=None, id=None, type=None, text='Stirewalt DL')\n",
      "\n",
      "Stirewalt DL\n",
      "Radich JP\n"
     ]
    }
   ],
   "source": [
    "print(doc.bibs[0].bib_entry_authors)\n",
    "print()\n",
    "print(doc.bibs[0].bib_entry_authors[0])\n",
    "print()\n",
    "for author in doc.bibs[0].bib_entry_authors:\n",
    "    print(author.text)"
   ]
  },
  {
   "cell_type": "markdown",
   "id": "de557bb8",
   "metadata": {},
   "source": [
    "#### save struct data to anno-store"
   ]
  },
  {
   "cell_type": "code",
   "execution_count": 171,
   "id": "c401cfc4",
   "metadata": {},
   "outputs": [],
   "source": [
    "# i think spangroups do not have multiple spans for structuring model\n",
    "def spangroups_to_text_anno_arrays(spangroups):\n",
    "    # more lil hackiness\n",
    "    import itertools\n",
    "\n",
    "    sg_counter = itertools.count()\n",
    "    \n",
    "    text_anno_array = []\n",
    "    for sg in spangroups:\n",
    "        current_id = next(sg_counter)\n",
    "        \n",
    "        for span in sg.spans: # i believe could/should instead be span[0]\n",
    "            text_anno_array.append({\n",
    "                \"startChar\": span.start,\n",
    "                \"endChar\": span.end,\n",
    "                \"attributes\": {\"group\": current_id, \"text\": sg.text } # spangroup text cause only 1 span per sg\n",
    "            })\n",
    "    return text_anno_array"
   ]
  },
  {
   "cell_type": "code",
   "execution_count": 177,
   "id": "a89be950",
   "metadata": {},
   "outputs": [],
   "source": [
    "annos = dict()\n",
    "# in scala make a big dict with these annos types to spans\n",
    "bib_entry_numbers = spangroups_to_text_anno_arrays(doc.bib_entry_number)\n",
    "annos[\"bib_entry_numbers\"] = bib_entry_numbers\n",
    "\n",
    "bib_entry_authors = spangroups_to_text_anno_arrays(doc.bib_entry_authors)\n",
    "annos[\"bib_entry_authors\"] = bib_entry_authors\n",
    "\n",
    "bib_entry_title = spangroups_to_text_anno_arrays(doc.bib_entry_title)\n",
    "annos[\"bib_entry_title\"] = bib_entry_title\n",
    "\n",
    "bib_entry_venue_or_event = spangroups_to_text_anno_arrays(doc.bib_entry_venue_or_event)\n",
    "annos[\"bib_entry_venue_or_event\"] = bib_entry_venue_or_event\n",
    "\n",
    "bib_entry_year = spangroups_to_text_anno_arrays(doc.bib_entry_year)\n",
    "annos[\"bib_entry_year\"] = bib_entry_year\n",
    "\n",
    "# bib_entry_doi = spangroups_to_text_anno_arrays(doc.bib_entry_doi) # does not exist since were no annots\n",
    "# bib_entry_url = spangroups_to_text_anno_arrays(doc.bib_entry_url) # does not exist since were no annots "
   ]
  },
  {
   "cell_type": "code",
   "execution_count": 174,
   "id": "b6999edb",
   "metadata": {},
   "outputs": [
    {
     "ename": "AttributeError",
     "evalue": "'Document' object has no attribute 'bib_entry_url'",
     "output_type": "error",
     "traceback": [
      "\u001b[0;31m---------------------------------------------------------------------------\u001b[0m",
      "\u001b[0;31mAttributeError\u001b[0m                            Traceback (most recent call last)",
      "Input \u001b[0;32mIn [174]\u001b[0m, in \u001b[0;36m<cell line: 1>\u001b[0;34m()\u001b[0m\n\u001b[0;32m----> 1\u001b[0m bib_entry_url \u001b[38;5;241m=\u001b[39m spangroups_to_text_anno_arrays(\u001b[43mdoc\u001b[49m\u001b[38;5;241;43m.\u001b[39;49m\u001b[43mbib_entry_url\u001b[49m)\n",
      "\u001b[0;31mAttributeError\u001b[0m: 'Document' object has no attribute 'bib_entry_url'"
     ]
    }
   ],
   "source": [
    "# in scala wrap each in Try, then if this attribute error, skip\n",
    "bib_entry_url = spangroups_to_text_anno_arrays(doc.bib_entry_url) # does not exist since were no annots "
   ]
  },
  {
   "cell_type": "code",
   "execution_count": 176,
   "id": "225e7b42",
   "metadata": {},
   "outputs": [
    {
     "name": "stdout",
     "output_type": "stream",
     "text": [
      "{'startChar': 31511, 'endChar': 31513, 'attributes': {'group': 0, 'text': '13 16'}}\n",
      "{'startChar': 34134, 'endChar': 34181, 'attributes': {'group': 0, 'text': 'The role of FLT3 in haematopoietic malignancies'}}\n"
     ]
    }
   ],
   "source": [
    "print(bib_entry_numbers[0])\n",
    "print(bib_entry_title[0])"
   ]
  },
  {
   "cell_type": "code",
   "execution_count": 193,
   "id": "d2f150af",
   "metadata": {},
   "outputs": [
    {
     "name": "stdout",
     "output_type": "stream",
     "text": [
      "{'startChar': 31511, 'endChar': 31513, 'attributes': {'group': 0, 'text': '13 16'}}\n",
      "\n",
      "{\"bib_entry_numbers\": [{\"startChar\": 31511, \"endChar\": 31513, \"attributes\": {\"group\": 0, \"text\": \"13 16\"}}, {\"startChar\": 34105, \"endChar\": 34107, \"attributes\": {\"group\": 0, \"text\": \"13 16\"}}, {\"startChar\": 31653, \"endChar\": 31654, \"attributes\": {\"group\": 1, \"text\": \"2\"}}, {\"startChar\": 31763, \"endC\n",
      "\n",
      "{'bib_entry_numbers': [{'startChar': 31511, 'endChar': 31513, 'attributes': {'group': 0, 'text': '13 16'}}, {'startChar': 34105, 'endChar': 34107, 'attributes': {'group': 0, 'text': '13 16'}}, {'startChar': 31653, 'endChar': 31654, 'attributes': {'group': 1, 'text': '2'}}, {'startChar': 31763, 'endChar': 31764, 'attributes': {'group': 2, 'text': '3'}}, {'startChar': 31971, 'endChar': 31972, 'attributes': {'group': 3, 'text': '4'}}, {'startChar': 32329, 'endChar': 32330, 'attributes': {'group': 4, 'text': '6'}}, {'startChar': 32821, 'endChar': 32822, 'attributes': {'group': 5, 'text': '9'}}, {'startChar': 33036, 'endChar': 33038, 'attributes': {'group': 6, 'text': '10'}}, {'startChar': 33204, 'endChar': 33206, 'attributes': {'group': 7, 'text': '11'}}, {'startChar': 33672, 'endChar': 33674, 'attributes': {'group': 8, 'text': '14'}}, {'startChar': 34297, 'endChar': 34299, 'attributes': {'group': 9, 'text': '14'}}, {'startChar': 36253, 'endChar': 36255, 'attributes': {'group': 10, 'text': '27'}}, {'startChar': 36418, 'endChar': 36420, 'attributes': {'group': 11, 'text': '28'}}, {'startChar': 36555, 'endChar': 36557, 'attributes': {'group': 12, 'text': '29'}}, {'startChar': 36925, 'endChar': 36927, 'attributes': {'group': 13, 'text': '32'}}, {'startChar': 37036, 'endChar': 37038, 'attributes': {'group': 14, 'text': '33'}}, {'startChar': 37326, 'endChar': 37328, 'attributes': {'group': 15, 'text': '15 49'}}, {'startChar': 40012, 'endChar': 40014, 'attributes': {'group': 15, 'text': '15 49'}}, {'startChar': 37445, 'endChar': 37447, 'attributes': {'group': 16, 'text': '35'}}, {'startChar': 37595, 'endChar': 37597, 'attributes': {'group': 17, 'text': '36'}}], 'bib_entry_authors': [{'startChar': 34109, 'endChar': 34121, 'attributes': {'group': 0, 'text': 'Stirewalt DL'}}, {'startChar': 34123, 'endChar': 34132, 'attributes': {'group': 1, 'text': 'Radich JP'}}, {'startChar': 31656, 'endChar': 31660, 'attributes': {'group': 2, 'text': 'Xu J'}}, {'startChar': 31662, 'endChar': 31666, 'attributes': {'group': 3, 'text': 'Du L'}}, {'startChar': 31668, 'endChar': 31673, 'attributes': {'group': 4, 'text': 'Wen Z'}}, {'startChar': 31766, 'endChar': 31777, 'attributes': {'group': 5, 'text': 'Lieschke GJ'}}, {'startChar': 31779, 'endChar': 31787, 'attributes': {'group': 6, 'text': 'Oates AC'}}, {'startChar': 31789, 'endChar': 31795, 'attributes': {'group': 7, 'text': 'Paw BH'}}, {'startChar': 31974, 'endChar': 31982, 'attributes': {'group': 8, 'text': 'Ellett F'}}, {'startChar': 31984, 'endChar': 31995, 'attributes': {'group': 9, 'text': 'Lieschke GJ'}}, {'startChar': 32332, 'endChar': 32338, 'attributes': {'group': 10, 'text': 'Hall C'}}, {'startChar': 32340, 'endChar': 32349, 'attributes': {'group': 11, 'text': 'Flores MV'}}, {'startChar': 32351, 'endChar': 32358, 'attributes': {'group': 12, 'text': 'Storm T'}}, {'startChar': 32360, 'endChar': 32369, 'attributes': {'group': 13, 'text': 'Crosier K'}}, {'startChar': 32371, 'endChar': 32380, 'attributes': {'group': 14, 'text': 'Crosier P'}}, {'startChar': 32655, 'endChar': 32667, 'attributes': {'group': 15, 'text': 'Zakrzewska A'}}, {'startChar': 32669, 'endChar': 32674, 'attributes': {'group': 16, 'text': 'Cui C'}}, {'startChar': 32676, 'endChar': 32690, 'attributes': {'group': 17, 'text': 'Stockhammer OW'}}, {'startChar': 32692, 'endChar': 32701, 'attributes': {'group': 18, 'text': 'Benard EL'}}, {'startChar': 32703, 'endChar': 32712, 'attributes': {'group': 19, 'text': 'Spaink HP'}}, {'startChar': 32714, 'endChar': 32723, 'attributes': {'group': 20, 'text': 'Meijer AH'}}, {'startChar': 32824, 'endChar': 32835, 'attributes': {'group': 21, 'text': 'Bertrand JY'}}, {'startChar': 32837, 'endChar': 32843, 'attributes': {'group': 22, 'text': 'Kim AD'}}, {'startChar': 32845, 'endChar': 32856, 'attributes': {'group': 23, 'text': 'Violette EP'}}, {'startChar': 32858, 'endChar': 32869, 'attributes': {'group': 24, 'text': 'Stachura DL'}}, {'startChar': 32871, 'endChar': 32880, 'attributes': {'group': 25, 'text': 'Cisson JL'}}, {'startChar': 32882, 'endChar': 32890, 'attributes': {'group': 26, 'text': 'Traver D'}}, {'startChar': 33040, 'endChar': 33047, 'attributes': {'group': 27, 'text': 'Zhang Y'}}, {'startChar': 33049, 'endChar': 33054, 'attributes': {'group': 28, 'text': 'Jin H'}}, {'startChar': 33056, 'endChar': 33060, 'attributes': {'group': 29, 'text': 'Li L'}}, {'startChar': 33062, 'endChar': 33068, 'attributes': {'group': 30, 'text': 'Qin FX'}}, {'startChar': 33070, 'endChar': 33075, 'attributes': {'group': 31, 'text': 'Wen Z'}}, {'startChar': 33208, 'endChar': 33218, 'attributes': {'group': 32, 'text': 'de Jong JL'}}, {'startChar': 33220, 'endChar': 33226, 'attributes': {'group': 33, 'text': 'Zon LI'}}, {'startChar': 33676, 'endChar': 33682, 'attributes': {'group': 34, 'text': 'Yuan H'}}, {'startChar': 33684, 'endChar': 33690, 'attributes': {'group': 35, 'text': 'Zhou J'}}, {'startChar': 33692, 'endChar': 33698, 'attributes': {'group': 36, 'text': 'Deng M'}}, {'startChar': 37166, 'endChar': 37173, 'attributes': {'group': 37, 'text': 'Liang D'}}, {'startChar': 37175, 'endChar': 37183, 'attributes': {'group': 38, 'text': 'Chang JR'}}, {'startChar': 37185, 'endChar': 37192, 'attributes': {'group': 39, 'text': 'Chin AJ'}}, {'startChar': 36257, 'endChar': 36265, 'attributes': {'group': 40, 'text': 'Smith CC'}}, {'startChar': 36267, 'endChar': 36273, 'attributes': {'group': 41, 'text': 'Wang Q'}}, {'startChar': 36275, 'endChar': 36282, 'attributes': {'group': 42, 'text': 'Chin CS'}}, {'startChar': 36422, 'endChar': 36430, 'attributes': {'group': 43, 'text': 'Leung AY'}}, {'startChar': 36432, 'endChar': 36438, 'attributes': {'group': 44, 'text': 'Man CH'}}, {'startChar': 36440, 'endChar': 36448, 'attributes': {'group': 45, 'text': 'Kwong YL'}}, {'startChar': 36559, 'endChar': 36564, 'attributes': {'group': 46, 'text': 'Ma AC'}}, {'startChar': 36566, 'endChar': 36573, 'attributes': {'group': 47, 'text': 'Ward AC'}}, {'startChar': 36575, 'endChar': 36582, 'attributes': {'group': 48, 'text': 'Liang R'}}, {'startChar': 36584, 'endChar': 36592, 'attributes': {'group': 49, 'text': 'Leung AY'}}, {'startChar': 36929, 'endChar': 36937, 'attributes': {'group': 50, 'text': 'Ekker SC'}}, {'startChar': 37040, 'endChar': 37048, 'attributes': {'group': 51, 'text': 'Thisse C'}}, {'startChar': 37050, 'endChar': 37058, 'attributes': {'group': 52, 'text': 'Thisse B'}}, {'startChar': 40016, 'endChar': 40024, 'attributes': {'group': 53, 'text': 'Patel JP'}}, {'startChar': 40026, 'endChar': 40033, 'attributes': {'group': 54, 'text': 'Gonen M'}}, {'startChar': 40035, 'endChar': 40046, 'attributes': {'group': 55, 'text': 'Figueroa ME'}}, {'startChar': 37449, 'endChar': 37454, 'attributes': {'group': 56, 'text': 'Ma AC'}}, {'startChar': 37456, 'endChar': 37464, 'attributes': {'group': 57, 'text': 'Chung MI'}}, {'startChar': 37466, 'endChar': 37473, 'attributes': {'group': 58, 'text': 'Liang R'}}, {'startChar': 37475, 'endChar': 37483, 'attributes': {'group': 59, 'text': 'Leung AY'}}, {'startChar': 37599, 'endChar': 37605, 'attributes': {'group': 60, 'text': 'Tang R'}}, {'startChar': 37607, 'endChar': 37613, 'attributes': {'group': 61, 'text': 'Dodd A'}}, {'startChar': 37615, 'endChar': 37620, 'attributes': {'group': 62, 'text': 'Lai D'}}, {'startChar': 37622, 'endChar': 37631, 'attributes': {'group': 63, 'text': 'McNabb WC'}}, {'startChar': 37633, 'endChar': 37640, 'attributes': {'group': 64, 'text': 'Love DR'}}], 'bib_entry_title': [{'startChar': 34134, 'endChar': 34181, 'attributes': {'group': 0, 'text': 'The role of FLT3 in haematopoietic malignancies'}}, {'startChar': 31675, 'endChar': 31722, 'attributes': {'group': 1, 'text': 'Myelopoiesis during zebrafish early development'}}, {'startChar': 31804, 'endChar': 31937, 'attributes': {'group': 2, 'text': 'Zebrafish SPI-1 (PU.1) marks a site of\\nmyeloid development independent of primitive erythropoiesis: implications for axial\\npatterning'}}, {'startChar': 31997, 'endChar': 32046, 'attributes': {'group': 3, 'text': 'Zebrafish as a model for vertebrate hematopoiesis'}}, {'startChar': 32382, 'endChar': 32469, 'attributes': {'group': 4, 'text': 'The zebrafish lysozyme C\\npromoter drives myeloid-specific expression in transgenic fish'}}, {'startChar': 32574, 'endChar': 32621, 'attributes': {'group': 5, 'text': 'behavior of neutrophils in developing zebrafish'}}, {'startChar': 32892, 'endChar': 32996, 'attributes': {'group': 6, 'text': 'Definitive\\nhematopoiesis initiates through a committed erythromyeloid progenitor in the\\nzebrafish embryo'}}, {'startChar': 33077, 'endChar': 33170, 'attributes': {'group': 7, 'text': 'cMyb regulates hematopoietic\\nstem/progenitor\\ncell\\nmobilization\\nduring\\nzebrafish\\nhematopoiesis'}}, {'startChar': 33228, 'endChar': 33303, 'attributes': {'group': 8, 'text': 'Use of the zebrafish system to study primitive and definitive\\nhematopoiesis'}}, {'startChar': 33707, 'endChar': 33815, 'attributes': {'group': 9, 'text': 'Sumoylation of CCAAT/enhancer-binding protein\\nalpha\\npromotes\\nthe\\nbiased\\nprimitive\\nhematopoiesis\\nof\\nzebrafish'}}, {'startChar': 37113, 'endChar': 37130, 'attributes': {'group': 10, 'text': 'zebrafish embryos'}}, {'startChar': 36291, 'endChar': 36383, 'attributes': {'group': 11, 'text': 'Validation of ITD mutations in FLT3 as a\\ntherapeutic\\ntarget\\nin\\nhuman\\nacute\\nmyeloid\\nleukaemia'}}, {'startChar': 36450, 'endChar': 36495, 'attributes': {'group': 12, 'text': 'FLT3 inhibition: a moving and evolving target acute myeloid leukaemia'}}, {'startChar': 36499, 'endChar': 36522, 'attributes': {'group': 12, 'text': 'FLT3 inhibition: a moving and evolving target acute myeloid leukaemia'}}, {'startChar': 36594, 'endChar': 36638, 'attributes': {'group': 13, 'text': 'The role of jak2a in zebrafish\\nhematopoiesis'}}, {'startChar': 36939, 'endChar': 37006, 'attributes': {'group': 14, 'text': 'Morphants: a new systematic vertebrate functional genomics approach'}}, {'startChar': 37060, 'endChar': 37112, 'attributes': {'group': 15, 'text': 'High-resolution in situ hybridization to whole-mount'}}, {'startChar': 40055, 'endChar': 40133, 'attributes': {'group': 16, 'text': 'Prognostic relevance of integrated genetic\\nprofiling in acute myeloid leukemia'}}, {'startChar': 37485, 'endChar': 37562, 'attributes': {'group': 17, 'text': 'The role of survivin2 in primitive\\nhematopoiesis during zebrafish development'}}, {'startChar': 37642, 'endChar': 37743, 'attributes': {'group': 18, 'text': 'Validation of zebrafish (Danio\\nrerio) reference genes for quantitative real-time RT-PCR normalization'}}], 'bib_entry_venue_or_event': [{'startChar': 34183, 'endChar': 34197, 'attributes': {'group': 0, 'text': 'Nat\\nRev Cancer'}}, {'startChar': 31724, 'endChar': 31740, 'attributes': {'group': 1, 'text': 'J Genet\\nGenomics'}}, {'startChar': 31939, 'endChar': 31947, 'attributes': {'group': 2, 'text': 'Dev Biol'}}, {'startChar': 32048, 'endChar': 32067, 'attributes': {'group': 3, 'text': 'Curr\\nOpin Pharmacol'}}, {'startChar': 32471, 'endChar': 32483, 'attributes': {'group': 4, 'text': 'BMC Dev Biol'}}, {'startChar': 32623, 'endChar': 32628, 'attributes': {'group': 5, 'text': 'Blood'}}, {'startChar': 32998, 'endChar': 33009, 'attributes': {'group': 6, 'text': 'Development'}}, {'startChar': 33172, 'endChar': 33177, 'attributes': {'group': 7, 'text': 'Blood'}}, {'startChar': 33305, 'endChar': 33319, 'attributes': {'group': 8, 'text': 'Annu Rev Genet'}}, {'startChar': 33817, 'endChar': 33822, 'attributes': {'group': 9, 'text': 'Blood'}}, {'startChar': 37132, 'endChar': 37142, 'attributes': {'group': 10, 'text': 'Nat Protoc'}}, {'startChar': 36385, 'endChar': 36391, 'attributes': {'group': 11, 'text': 'Nature'}}, {'startChar': 36524, 'endChar': 36532, 'attributes': {'group': 12, 'text': 'Leukemia'}}, {'startChar': 36640, 'endChar': 36645, 'attributes': {'group': 13, 'text': 'Blood'}}, {'startChar': 37008, 'endChar': 37013, 'attributes': {'group': 14, 'text': 'Yeast'}}, {'startChar': 40135, 'endChar': 40147, 'attributes': {'group': 15, 'text': 'N Engl J Med'}}, {'startChar': 37564, 'endChar': 37572, 'attributes': {'group': 16, 'text': 'Leukemia'}}, {'startChar': 37745, 'endChar': 37780, 'attributes': {'group': 17, 'text': 'Acta Biochim\\nBiophys Sin (Shanghai)'}}], 'bib_entry_year': [{'startChar': 34200, 'endChar': 34204, 'attributes': {'group': 0, 'text': '2003'}}, {'startChar': 31743, 'endChar': 31747, 'attributes': {'group': 1, 'text': '2012'}}, {'startChar': 31950, 'endChar': 31954, 'attributes': {'group': 2, 'text': '2002'}}, {'startChar': 32070, 'endChar': 32074, 'attributes': {'group': 3, 'text': '2010'}}, {'startChar': 32486, 'endChar': 32490, 'attributes': {'group': 4, 'text': '2007'}}, {'startChar': 32631, 'endChar': 32635, 'attributes': {'group': 5, 'text': '2008'}}, {'startChar': 33012, 'endChar': 33016, 'attributes': {'group': 6, 'text': '2007'}}, {'startChar': 33180, 'endChar': 33184, 'attributes': {'group': 7, 'text': '2011'}}, {'startChar': 33322, 'endChar': 33326, 'attributes': {'group': 8, 'text': '2005'}}, {'startChar': 33825, 'endChar': 33829, 'attributes': {'group': 9, 'text': '2011'}}, {'startChar': 37145, 'endChar': 37149, 'attributes': {'group': 10, 'text': '2008'}}, {'startChar': 36394, 'endChar': 36398, 'attributes': {'group': 11, 'text': '2012'}}, {'startChar': 36535, 'endChar': 36539, 'attributes': {'group': 12, 'text': '2013'}}, {'startChar': 36648, 'endChar': 36652, 'attributes': {'group': 13, 'text': '2007'}}, {'startChar': 37016, 'endChar': 37020, 'attributes': {'group': 14, 'text': '2000'}}, {'startChar': 40150, 'endChar': 40154, 'attributes': {'group': 15, 'text': '2012'}}, {'startChar': 37575, 'endChar': 37579, 'attributes': {'group': 16, 'text': '2009'}}, {'startChar': 37783, 'endChar': 37787, 'attributes': {'group': 17, 'text': '2007'}}]}\n"
     ]
    }
   ],
   "source": [
    "#idk double checking\n",
    "print(annos['bib_entry_numbers'][0])\n",
    "print()\n",
    "import json\n",
    "print(json.dumps(annos)[:300])\n",
    "print()\n",
    "print(annos)"
   ]
  },
  {
   "cell_type": "code",
   "execution_count": 194,
   "id": "9bd29a4a",
   "metadata": {},
   "outputs": [
    {
     "data": {
      "text/plain": [
       "<Response [200]>"
      ]
     },
     "execution_count": 194,
     "metadata": {},
     "output_type": "execute_result"
    }
   ],
   "source": [
    "source = \"bib-struct-test-1\"\n",
    "bib_struct_post_response = requests.post(\n",
    "    f'http://annotations-api.dev.s2.allenai.org/plain-text/{dev_text_id}/annotations/{source}',\n",
    "    json=annos\n",
    "    )\n",
    "bib_struct_post_response"
   ]
  },
  {
   "cell_type": "code",
   "execution_count": 197,
   "id": "e02d9c51",
   "metadata": {},
   "outputs": [
    {
     "data": {
      "text/plain": [
       "<Response [200]>"
      ]
     },
     "execution_count": 197,
     "metadata": {},
     "output_type": "execute_result"
    }
   ],
   "source": [
    "bib_struct_post_response"
   ]
  },
  {
   "cell_type": "markdown",
   "id": "10d81213",
   "metadata": {},
   "source": [
    "### store teh source infos"
   ]
  },
  {
   "cell_type": "code",
   "execution_count": 205,
   "id": "2e04a30c",
   "metadata": {},
   "outputs": [
    {
     "data": {
      "text/plain": [
       "<Response [200]>"
      ]
     },
     "execution_count": 205,
     "metadata": {},
     "output_type": "execute_result"
    }
   ],
   "source": [
    "# to doc level pdf attributes\n",
    "source = \"spp-test-1\"\n",
    "\n",
    "attributes = {\n",
    "        \"plain-text-doc-id\": \"740c1d64752b4679a742544046cf5de3452cfef4\",\n",
    "        \"pdf-plumber\": \"pdfplumber-0.0.4\", # pages, tokens, rows (from prod env) -- PlainText and PDF anno stores\n",
    "#         \"dwp\": \"tbd\" # words\n",
    "        \"bib-entries\": {\n",
    "            \"annotation-type\": \"PDF\",\n",
    "            \"bib-detection-source\": \"bib_detector_test_3\" , # annotation and attribute source\n",
    "#             \"bib-grouping-source\": what it is #  if any. attribute source\n",
    "        },\n",
    "        \"mentions\": {\n",
    "            # mentions model returns spans w/boxes, so annos are split, grouped by \"_group\" attribute\n",
    "            \"annotation-type\": [\"PlainText\", \"PDF\"],  # or token stream\n",
    "            \"mention-detection-source\": \"mentions-test-3\", # annotation and attribute source\n",
    "            \"bib-mention-linker-source\": \"citation-links-test-1\" # attribute source\n",
    "        },\n",
    "        \"bib-entry-parses\": {\n",
    "            \"annotation-type\": \"PDF\",\n",
    "            \"bib-parsing-source\": \"bib-struct-test-1\" # annotation and attribute source\n",
    "        }\n",
    "    }\n",
    "\n",
    "\n",
    "requests.post(\n",
    "    f'http://annotations-api.dev.s2.allenai.org/pdf/{dev_doc_id}/attributes/{source}',\n",
    "    json=attributes\n",
    "    )"
   ]
  },
  {
   "cell_type": "code",
   "execution_count": null,
   "id": "59ee09b4",
   "metadata": {},
   "outputs": [],
   "source": []
  }
 ],
 "metadata": {
  "kernelspec": {
   "display_name": "mmda",
   "language": "python",
   "name": "mmda"
  },
  "language_info": {
   "codemirror_mode": {
    "name": "ipython",
    "version": 3
   },
   "file_extension": ".py",
   "mimetype": "text/x-python",
   "name": "python",
   "nbconvert_exporter": "python",
   "pygments_lexer": "ipython3",
   "version": "3.8.13"
  }
 },
 "nbformat": 4,
 "nbformat_minor": 5
}
