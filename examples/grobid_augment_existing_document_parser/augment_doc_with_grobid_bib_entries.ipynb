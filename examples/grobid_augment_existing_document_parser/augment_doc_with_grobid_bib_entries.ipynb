{
 "cells": [
  {
   "cell_type": "code",
   "execution_count": 1,
   "metadata": {},
   "outputs": [],
   "source": [
    "%load_ext autoreload\n",
    "%autoreload 2"
   ]
  },
  {
   "cell_type": "code",
   "execution_count": 2,
   "metadata": {},
   "outputs": [
    {
     "data": {
      "text/plain": [
       "['tokens', 'rows', 'pages']"
      ]
     },
     "execution_count": 2,
     "metadata": {},
     "output_type": "execute_result"
    }
   ],
   "source": [
    "# Generate a basic PdfPlumber parsed MMDA doc\n",
    "\n",
    "PDF_PATH = '../../tests/fixtures/grobid_augment_existing_document_parser/0c027af0ee9c1901c57f6579d903aedee7f4.pdf'\n",
    "\n",
    "from mmda.parsers import PDFPlumberParser\n",
    "from mmda.types import Document\n",
    "# PDF to text\n",
    "pdf_plumber = PDFPlumberParser()\n",
    "doc: Document = pdf_plumber.parse(input_pdf_path=PDF_PATH)\n",
    "doc.fields"
   ]
  },
  {
   "cell_type": "code",
   "execution_count": 3,
   "metadata": {},
   "outputs": [
    {
     "name": "stdout",
     "output_type": "stream",
     "text": [
      "GROBID server is up and running\n"
     ]
    }
   ],
   "source": [
    "# Pass the doc as well as the PDF to the Grobid parser\n",
    "\n",
    "from mmda.parsers.grobid_augment_existing_document_parser import GrobidAugmentExistingDocumentParser\n",
    "parser = GrobidAugmentExistingDocumentParser(config_path='../../src/mmda/parsers/grobid.config', check_server=True)"
   ]
  },
  {
   "cell_type": "code",
   "execution_count": 4,
   "metadata": {},
   "outputs": [],
   "source": [
    "doc = parser.parse(PDF_PATH, doc, \".\")"
   ]
  },
  {
   "cell_type": "code",
   "execution_count": 5,
   "metadata": {},
   "outputs": [
    {
     "data": {
      "text/plain": [
       "['tokens', 'rows', 'pages', 'bib_entries']"
      ]
     },
     "execution_count": 5,
     "metadata": {},
     "output_type": "execute_result"
    }
   ],
   "source": [
    "doc.fields"
   ]
  },
  {
   "cell_type": "code",
   "execution_count": null,
   "metadata": {},
   "outputs": [],
   "source": []
  },
  {
   "cell_type": "code",
   "execution_count": 6,
   "metadata": {},
   "outputs": [
    {
     "name": "stdout",
     "output_type": "stream",
     "text": [
      "0 b0\n",
      "1 b1\n",
      "2 b2\n"
     ]
    }
   ],
   "source": [
    "for bib in doc.bib_entries[:3]:\n",
    "    print(bib.id, bib.box_group.id)"
   ]
  },
  {
   "cell_type": "code",
   "execution_count": 7,
   "metadata": {},
   "outputs": [
    {
     "name": "stdout",
     "output_type": "stream",
     "text": [
      "\n",
      "\n",
      " [Span(start=34511, end=34621, box=Box(l=0.11442973856209156, t=0.3006296222222226, w=0.35348235294117647, h=0.03977661818181799, page=8))] \n",
      " ISPRS 2D Semantic Labeling Challenge.\n",
      "http:\n",
      "//www2.isprs.org/commissions/comm3/wg4/\n",
      "semantic-labeling.html . 4\n",
      "\n",
      "\n",
      " [Span(start=34626, end=34810, box=Box(l=0.11442973856209161, t=0.3449347757575761, w=0.35348859869281046, h=0.05283257575757566, page=8))] \n",
      " N. Audebert, B. Saux, and S. Lefvre. Beyond RGB: Very\n",
      "High Resolution Urban Remote Sensing with Multimodal\n",
      "Deep Networks. ISPRS Journal of Photogrammetry and Re-\n",
      "mote Sensing , 2018. 2\n",
      "\n",
      "\n",
      " [Span(start=34815, end=35032, box=Box(l=0.11442973856209161, t=0.4022946242424245, w=0.35348910588235294, h=0.05283257575757577, page=8))] \n",
      " V. Badrinarayanan, A. Kendall, and R. Cipolla. SegNet: A\n",
      "Deep Convolutional Encoder-Decoder Architecture for Im-\n",
      "age Segmentation. IEEE Transactions on Pattern Analysis\n",
      "and Machine Intelligence (TPAMI) , 2017. 2, 4, 7\n"
     ]
    }
   ],
   "source": [
    "for bib in doc.bib_entries[:3]:\n",
    "    print('\\n\\n', bib.spans, '\\n', bib.text)"
   ]
  }
 ],
 "metadata": {
  "kernelspec": {
   "display_name": "mmda_grobid_full_parser",
   "language": "python",
   "name": "python3"
  },
  "language_info": {
   "codemirror_mode": {
    "name": "ipython",
    "version": 3
   },
   "file_extension": ".py",
   "mimetype": "text/x-python",
   "name": "python",
   "nbconvert_exporter": "python",
   "pygments_lexer": "ipython3",
   "version": "3.8.13"
  },
  "orig_nbformat": 4,
  "vscode": {
   "interpreter": {
    "hash": "dc38cbd6e5751ec215f598ee4bef57c27d0235302e69bf5b1dc0ed13ebb054b0"
   }
  }
 },
 "nbformat": 4,
 "nbformat_minor": 2
}
