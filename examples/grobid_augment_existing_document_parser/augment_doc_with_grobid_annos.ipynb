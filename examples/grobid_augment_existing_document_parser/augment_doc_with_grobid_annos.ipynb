{
 "cells": [
  {
   "cell_type": "code",
   "execution_count": 1,
   "metadata": {},
   "outputs": [],
   "source": [
    "%load_ext autoreload\n",
    "%autoreload 2"
   ]
  },
  {
   "attachments": {},
   "cell_type": "markdown",
   "metadata": {},
   "source": [
    "## Augment basic MMDA document with Grobid Annotations"
   ]
  },
  {
   "attachments": {},
   "cell_type": "markdown",
   "metadata": {},
   "source": [
    "#### Generate a basic PdfPlumber parsed MMDA doc\n"
   ]
  },
  {
   "cell_type": "code",
   "execution_count": 2,
   "metadata": {},
   "outputs": [
    {
     "data": {
      "text/plain": [
       "['tokens', 'rows', 'pages']"
      ]
     },
     "execution_count": 2,
     "metadata": {},
     "output_type": "execute_result"
    }
   ],
   "source": [
    "\n",
    "PDF_PATH = '../../tests/fixtures/grobid_augment_existing_document_parser/e5910c027af0ee9c1901c57f6579d903aedee7f4.pdf'\n",
    "from mmda.parsers import PDFPlumberParser\n",
    "from mmda.types import Document\n",
    "# PDF to text\n",
    "pdf_plumber = PDFPlumberParser()\n",
    "doc: Document = pdf_plumber.parse(input_pdf_path=PDF_PATH)\n",
    "doc.fields"
   ]
  },
  {
   "attachments": {},
   "cell_type": "markdown",
   "metadata": {},
   "source": [
    "#### Pass the doc as well as the PDF to the Grobid parser"
   ]
  },
  {
   "attachments": {},
   "cell_type": "markdown",
   "metadata": {},
   "source": [
    "Run a Grobid server (from https://grobid.readthedocs.io/en/latest/Grobid-docker/):\n",
    "> docker pull lfoppiano/grobid:0.7.2\n",
    "> docker run -t --rm -p 8070:8070 lfoppiano/grobid:0.7.2"
   ]
  },
  {
   "cell_type": "code",
   "execution_count": 3,
   "metadata": {},
   "outputs": [
    {
     "name": "stdout",
     "output_type": "stream",
     "text": [
      "GROBID server is up and running\n"
     ]
    }
   ],
   "source": [
    "\n",
    "from mmda.parsers.grobid_augment_existing_document_parser import GrobidAugmentExistingDocumentParser\n",
    "parser = GrobidAugmentExistingDocumentParser(config_path='../../src/mmda/parsers/grobid.config', check_server=True)"
   ]
  },
  {
   "cell_type": "code",
   "execution_count": 4,
   "metadata": {},
   "outputs": [
    {
     "name": "stderr",
     "output_type": "stream",
     "text": [
      "WARNING:root:tokens with box stored in SpanGroup span.box will be deprecated (that is, future Spans wont contain box). Ensure Document is annotated with tokens having box stored in SpanGroup box_group.boxes\n",
      "WARNING:root:tokens with box stored in SpanGroup span.box will be deprecated (that is, future Spans wont contain box). Ensure Document is annotated with tokens having box stored in SpanGroup box_group.boxes\n",
      "WARNING:root:tokens with box stored in SpanGroup span.box will be deprecated (that is, future Spans wont contain box). Ensure Document is annotated with tokens having box stored in SpanGroup box_group.boxes\n"
     ]
    }
   ],
   "source": [
    "doc = parser.parse(PDF_PATH, doc, \".\")"
   ]
  },
  {
   "cell_type": "code",
   "execution_count": 5,
   "metadata": {},
   "outputs": [
    {
     "data": {
      "text/plain": [
       "['tokens', 'rows', 'pages', 'authors', 'bib_entries', 'citation_mentions']"
      ]
     },
     "execution_count": 5,
     "metadata": {},
     "output_type": "execute_result"
    }
   ],
   "source": [
    "doc.fields"
   ]
  },
  {
   "attachments": {},
   "cell_type": "markdown",
   "metadata": {},
   "source": [
    "## XML Playground"
   ]
  },
  {
   "cell_type": "code",
   "execution_count": 6,
   "metadata": {},
   "outputs": [
    {
     "data": {
      "text/plain": [
       "{0: [612.0, 792.0],\n",
       " 1: [612.0, 792.0],\n",
       " 2: [612.0, 792.0],\n",
       " 3: [612.0, 792.0],\n",
       " 4: [612.0, 792.0],\n",
       " 5: [612.0, 792.0],\n",
       " 6: [612.0, 792.0],\n",
       " 7: [612.0, 792.0],\n",
       " 8: [612.0, 792.0],\n",
       " 9: [612.0, 792.0]}"
      ]
     },
     "execution_count": 6,
     "metadata": {},
     "output_type": "execute_result"
    }
   ],
   "source": [
    "import xml.etree.ElementTree as et\n",
    "from collections import defaultdict\n",
    "\n",
    "XML_PATH = '../../tests/fixtures/grobid_augment_existing_document_parser/e5910c027af0ee9c1901c57f6579d903aedee7f4.xml'\n",
    "\n",
    "xml = open(XML_PATH).read()\n",
    "\n",
    "xml_root = et.fromstring(xml)\n",
    "\n",
    "parser._cache_page_sizes(xml_root)\n",
    "\n",
    "parser.page_sizes\n"
   ]
  },
  {
   "cell_type": "code",
   "execution_count": 7,
   "metadata": {},
   "outputs": [
    {
     "name": "stdout",
     "output_type": "stream",
     "text": [
      "{http://www.tei-c.org/ns/1.0}teiHeader\n",
      "{http://www.tei-c.org/ns/1.0}facsimile\n",
      "{http://www.tei-c.org/ns/1.0}text\n"
     ]
    }
   ],
   "source": [
    "NS = {\"tei\": \"http://www.tei-c.org/ns/1.0\"}\n",
    "\n",
    "for child in xml_root:\n",
    "    print(child.tag)"
   ]
  },
  {
   "cell_type": "code",
   "execution_count": 8,
   "metadata": {},
   "outputs": [
    {
     "name": "stdout",
     "output_type": "stream",
     "text": [
      "author_list_root <Element '{http://www.tei-c.org/ns/1.0}sourceDesc' at 0x14c3cfb30>\n"
     ]
    },
    {
     "data": {
      "text/plain": [
       "[]"
      ]
     },
     "execution_count": 8,
     "metadata": {},
     "output_type": "execute_result"
    }
   ],
   "source": [
    "\n",
    "author_list_root = xml_root.find(\".//tei:sourceDesc\", NS)\n",
    "print('author_list_root', author_list_root)\n",
    "\n",
    "author_names = []\n",
    "author_name_structs = author_list_root.findall(\".//tei:persName\", NS)\n",
    "\n",
    "for a in author_name_structs:\n",
    "    coords_string = a.attrib[\"coords\"]\n",
    "    boxes = parser._xml_coords_to_boxes(coords_string)\n",
    "author_names\n"
   ]
  },
  {
   "cell_type": "code",
   "execution_count": 26,
   "metadata": {},
   "outputs": [
    {
     "name": "stdout",
     "output_type": "stream",
     "text": [
      "81\n",
      "67\n",
      "bibr\n",
      "bibr\n",
      "bibr\n",
      "figure\n",
      "bibr\n",
      "bibr\n",
      "bibr\n",
      "bibr\n",
      "bibr\n",
      "bibr\n",
      "bibr\n",
      "bibr\n",
      "bibr\n",
      "bibr\n",
      "figure\n",
      "bibr\n",
      "bibr\n",
      "bibr\n",
      "bibr\n",
      "bibr\n",
      "bibr\n",
      "bibr\n",
      "bibr\n",
      "bibr\n",
      "bibr\n",
      "bibr\n",
      "bibr\n",
      "bibr\n",
      "bibr\n",
      "bibr\n",
      "bibr\n",
      "bibr\n",
      "bibr\n",
      "bibr\n",
      "bibr\n",
      "bibr\n",
      "bibr\n",
      "bibr\n",
      "bibr\n",
      "bibr\n",
      "bibr\n",
      "bibr\n",
      "bibr\n",
      "bibr\n",
      "bibr\n",
      "figure\n",
      "bibr\n",
      "bibr\n",
      "bibr\n",
      "bibr\n",
      "bibr\n",
      "bibr\n",
      "bibr\n",
      "bibr\n",
      "bibr\n",
      "bibr\n",
      "bibr\n",
      "bibr\n",
      "bibr\n",
      "bibr\n",
      "bibr\n",
      "bibr\n",
      "bibr\n",
      "bibr\n",
      "bibr\n",
      "table\n",
      "table\n",
      "figure\n",
      "table\n",
      "table\n",
      "figure\n",
      "table\n",
      "table\n",
      "bibr\n",
      "table\n",
      "bibr\n",
      "bibr\n",
      "bibr\n",
      "bibr\n",
      "table\n",
      "figure\n"
     ]
    }
   ],
   "source": [
    "\n",
    "body_root = xml_root.find(\".//tei:body\", NS)\n",
    "\n",
    "all_refs = body_root.findall(\".//tei:ref\", NS)\n",
    "\n",
    "bib_refs = []\n",
    "for r in all_refs:\n",
    "    type_attr = r.attrib[\"type\"]\n",
    "    if type_attr == \"bibr\":\n",
    "        bib_refs.append(r)\n",
    "\n",
    "print(len(all_refs))\n",
    "print(len(bib_refs))\n",
    "for ref in all_refs:\n",
    "    print(ref.attrib[\"type\"])"
   ]
  },
  {
   "attachments": {},
   "cell_type": "markdown",
   "metadata": {},
   "source": [
    "### Check out the Bibliography Entries"
   ]
  },
  {
   "cell_type": "code",
   "execution_count": 20,
   "metadata": {},
   "outputs": [
    {
     "name": "stdout",
     "output_type": "stream",
     "text": [
      "0 None\n",
      "1 None\n",
      "2 None\n"
     ]
    }
   ],
   "source": [
    "for bib in doc.bib_entries[:3]:\n",
    "    print(bib.id, bib.box_group.id)"
   ]
  },
  {
   "cell_type": "code",
   "execution_count": 21,
   "metadata": {},
   "outputs": [
    {
     "name": "stdout",
     "output_type": "stream",
     "text": [
      "\n",
      "\n",
      " [Span(start=34511, end=34621, box=Box(l=0.11442973856209156, t=0.3006296222222226, w=0.35348235294117647, h=0.03977661818181799, page=8))] \n",
      " ISPRS 2D Semantic Labeling Challenge.\n",
      "http:\n",
      "//www2.isprs.org/commissions/comm3/wg4/\n",
      "semantic-labeling.html . 4\n",
      "\n",
      "\n",
      " [Span(start=34626, end=34810, box=Box(l=0.11442973856209161, t=0.3449347757575761, w=0.35348859869281046, h=0.05283257575757566, page=8))] \n",
      " N. Audebert, B. Saux, and S. Lefvre. Beyond RGB: Very\n",
      "High Resolution Urban Remote Sensing with Multimodal\n",
      "Deep Networks. ISPRS Journal of Photogrammetry and Re-\n",
      "mote Sensing , 2018. 2\n",
      "\n",
      "\n",
      " [Span(start=34815, end=35032, box=Box(l=0.11442973856209161, t=0.4022946242424245, w=0.35348910588235294, h=0.05283257575757577, page=8))] \n",
      " V. Badrinarayanan, A. Kendall, and R. Cipolla. SegNet: A\n",
      "Deep Convolutional Encoder-Decoder Architecture for Im-\n",
      "age Segmentation. IEEE Transactions on Pattern Analysis\n",
      "and Machine Intelligence (TPAMI) , 2017. 2, 4, 7\n"
     ]
    }
   ],
   "source": [
    "for bib in doc.bib_entries[:3]:\n",
    "    print('\\n\\n', bib.spans, '\\n', bib.text)"
   ]
  },
  {
   "attachments": {},
   "cell_type": "markdown",
   "metadata": {},
   "source": [
    "### Check out the Author names"
   ]
  },
  {
   "cell_type": "code",
   "execution_count": 22,
   "metadata": {},
   "outputs": [
    {
     "name": "stdout",
     "output_type": "stream",
     "text": [
      "\n",
      "\n",
      " [Span(start=87, end=99, box=Box(l=0.20770588235294118, t=0.20625141818181814, w=0.11447299346405226, h=0.015094949494949494, page=0))] \n",
      " Xueqing Deng\n",
      "\n",
      "\n",
      " [Span(start=100, end=109, box=Box(l=0.2191045751633987, t=0.22386126666666661, w=0.09167606797385619, h=0.015094949494949494, page=0))] \n",
      " UC Merced\n",
      "\n",
      "\n",
      " [Span(start=130, end=136, box=Box(l=0.4588872549019608, t=0.20625141818181814, w=0.0548142013071895, h=0.015094949494949494, page=0))] \n",
      " Yi Zhu\n",
      "\n",
      "\n",
      " [Span(start=205, end=217, box=Box(l=0.42348039215686284, t=0.26663020606060595, w=0.12562727320261435, h=0.015094949494949494, page=0))] \n",
      " Shawn Newsam\n"
     ]
    }
   ],
   "source": [
    "for author_name in doc.authors:\n",
    "    print('\\n\\n', author_name.spans, '\\n', author_name.text)"
   ]
  },
  {
   "attachments": {},
   "cell_type": "markdown",
   "metadata": {},
   "source": [
    "### Check out the Citation Mentions"
   ]
  },
  {
   "cell_type": "code",
   "execution_count": 23,
   "metadata": {},
   "outputs": [
    {
     "name": "stdout",
     "output_type": "stream",
     "text": [
      "\n",
      "\n",
      " [Span(start=1985, end=1989, box=Box(l=0.15930412679738573, t=0.8878653050505045, w=0.02712041111111113, h=0.012579040404040454, page=0))] \n",
      " [21]\n",
      "\n",
      "\n",
      " [Span(start=2006, end=2009, box=Box(l=0.2999525973856211, t=0.8878653050505045, w=0.018981032026143818, h=0.012579040404040454, page=0))] \n",
      " [4]\n",
      "\n",
      "\n",
      " [Span(start=2029, end=2032, box=Box(l=0.4448661026143793, t=0.8878653050505045, w=0.018981032026143818, h=0.012579040404040454, page=0))] \n",
      " [9]\n",
      "\n",
      "\n",
      " [Span(start=2359, end=2363, box=Box(l=0.6671547558823531, t=0.6119233858585857, w=0.027120411111111187, h=0.012579040404040454, page=0))] \n",
      " [17]\n",
      "\n",
      "\n",
      " [Span(start=2385, end=2389, box=Box(l=0.8293563022875818, t=0.6119233858585857, w=0.027120411111111076, h=0.012579040404040454, page=0))] \n",
      " [36]\n",
      "\n",
      "\n",
      " [Span(start=3543, end=3547, box=Box(l=0.21730534215686276, t=0.10872136565656562, w=0.02712041111111116, h=0.012579040404040481, page=1))] \n",
      " [10]\n",
      "\n",
      "\n",
      " [Span(start=3919, end=3923, box=Box(l=0.3445726735294119, t=0.19929081010101035, w=0.025769274183006563, h=0.012579040404040481, page=1))] \n",
      " [12,\n",
      "\n",
      "\n",
      " [Span(start=3923, end=3926, box=Box(l=0.372197726143791, t=0.19929081010101035, w=0.02034844771241834, h=0.012579040404040481, page=1))] \n",
      " 13,\n",
      "\n",
      "\n",
      " [Span(start=3926, end=3928, box=Box(l=0.3943856735294119, t=0.19929081010101035, w=0.016278758169934626, h=0.012579040404040481, page=1))] \n",
      " 32\n",
      "\n",
      "\n",
      " [Span(start=3928, end=3929, box=Box(l=0.4106644316993466, t=0.19929081010101035, w=0.008139379084967313, h=0.012579040404040481, page=1))] \n",
      " –\n",
      "\n",
      "\n",
      " [Span(start=3929, end=3932, box=Box(l=0.4188038107843139, t=0.19929081010101035, w=0.02169958464052285, h=0.012579040404040481, page=1))] \n",
      " 34]\n",
      "\n",
      "\n",
      " [Span(start=4018, end=4021, box=Box(l=0.2542744019607844, t=0.2294802040404044, w=0.018981032026143818, h=0.012579040404040481, page=1))] \n",
      " [2]\n",
      "\n",
      "\n",
      " [Span(start=4550, end=4554, box=Box(l=0.2448490009803922, t=0.38050166868686924, w=0.02712041111111113, h=0.012579040404040398, page=1))] \n",
      " [15]\n",
      "\n",
      "\n",
      " [Span(start=5659, end=5663, box=Box(l=0.3322659323529413, t=0.7369170727272732, w=0.02712041111111113, h=0.012579040404040343, page=1))] \n",
      " [20]\n",
      "\n",
      "\n",
      " [Span(start=5760, end=5762, box=Box(l=0.22643772549019608, t=0.7671064666666672, w=0.013560205555555593, h=0.012579040404040343, page=1))] \n",
      " [6\n",
      "\n",
      "\n",
      " [Span(start=5762, end=5763, box=Box(l=0.23999793104575168, t=0.7671064666666672, w=0.008139379084967313, h=0.012579040404040343, page=1))] \n",
      " –\n",
      "\n",
      "\n",
      " [Span(start=5763, end=5765, box=Box(l=0.248137310130719, t=0.7671064666666672, w=0.01220906862745097, h=0.012579040404040343, page=1))] \n",
      " 8,\n",
      "\n",
      "\n",
      " [Span(start=5766, end=5769, box=Box(l=0.2629672588235295, t=0.7671064666666672, w=0.02169958464052285, h=0.012579040404040343, page=1))] \n",
      " 39]\n",
      "\n",
      "\n",
      " [Span(start=5788, end=5792, box=Box(l=0.4082226179738564, t=0.7671064666666672, w=0.02712041111111113, h=0.012579040404040343, page=1))] \n",
      " [26]\n",
      "\n",
      "\n",
      " [Span(start=5841, end=5844, box=Box(l=0.3832835604575165, t=0.7822011636363642, w=0.018981032026143818, h=0.012579040404040343, page=1))] \n",
      " [3]\n",
      "\n",
      "\n",
      " [Span(start=6015, end=6019, box=Box(l=0.34436104967320275, t=0.8274865171717176, w=0.02712041111111113, h=0.012579040404040343, page=1))] \n",
      " [41]\n",
      "\n",
      "\n",
      " [Span(start=6308, end=6312, box=Box(l=0.7764991745098041, t=0.09362666868686904, w=0.027120411111111187, h=0.012579040404040481, page=1))] \n",
      " [17]\n",
      "\n",
      "\n",
      " [Span(start=6336, end=6340, box=Box(l=0.5584940450980392, t=0.10872136565656605, w=0.027120411111111187, h=0.012579040404040481, page=1))] \n",
      " [36]\n",
      "\n",
      "\n",
      " [Span(start=6360, end=6364, box=Box(l=0.7174723973856211, t=0.10872136565656605, w=0.027120411111111187, h=0.012579040404040481, page=1))] \n",
      " [23]\n",
      "\n",
      "\n",
      " [Span(start=6380, end=6383, box=Box(l=0.8405072516339871, t=0.10872136565656605, w=0.018981032026143763, h=0.012579040404040481, page=1))] \n",
      " [9]\n",
      "\n",
      "\n",
      " [Span(start=6438, end=6442, box=Box(l=0.8232843254901964, t=0.12381606262626307, w=0.027120411111111076, h=0.012579040404040481, page=1))] \n",
      " [40]\n",
      "\n",
      "\n",
      " [Span(start=6534, end=6538, box=Box(l=0.7154212738562093, t=0.15400671919191972, w=0.027120411111111187, h=0.012579040404040481, page=1))] \n",
      " [24]\n",
      "\n",
      "\n",
      " [Span(start=6550, end=6554, box=Box(l=0.8179286140522877, t=0.15400671919191972, w=0.027120411111111076, h=0.012579040404040481, page=1))] \n",
      " [19]\n",
      "\n",
      "\n",
      " [Span(start=7179, end=7182, box=Box(l=0.8450001888888892, t=0.32272010303030396, w=0.017629895098039028, h=0.012579040404040509, page=1))] \n",
      " [5,\n",
      "\n",
      "\n",
      " [Span(start=7182, end=7185, box=Box(l=0.8649416676470592, t=0.32272010303030396, w=0.021699584640522795, h=0.012579040404040509, page=1))] \n",
      " 38]\n",
      "\n",
      "\n",
      " [Span(start=7199, end=7202, box=Box(l=0.5881865000000002, t=0.33781480000000097, w=0.018981032026143874, h=0.012579040404040509, page=1))] \n",
      " [5]\n",
      "\n",
      "\n",
      " [Span(start=7390, end=7394, box=Box(l=0.7533182228758172, t=0.3830988909090919, w=0.027120411111111187, h=0.012579040404040343, page=1))] \n",
      " [38]\n",
      "\n",
      "\n",
      " [Span(start=8065, end=8069, box=Box(l=0.8635905307189544, t=0.5664246484848493, w=0.027120411111111076, h=0.012579040404040454, page=1))] \n",
      " [18]\n",
      "\n",
      "\n",
      " [Span(start=8198, end=8202, box=Box(l=0.6104721199346406, t=0.6117087393939402, w=0.027120411111111187, h=0.012579040404040343, page=1))] \n",
      " [27]\n",
      "\n",
      "\n",
      " [Span(start=8533, end=8537, box=Box(l=0.8595208411764709, t=0.6871834868686876, w=0.027120411111111187, h=0.012579040404040454, page=1))] \n",
      " [30]\n",
      "\n",
      "\n",
      " [Span(start=8646, end=8649, box=Box(l=0.8566883372549023, t=0.7173728808080817, w=0.017629895098039028, h=0.012579040404040343, page=1))] \n",
      " [7,\n",
      "\n",
      "\n",
      " [Span(start=8650, end=8652, box=Box(l=0.87715073627451, t=0.7173728808080817, w=0.013560205555555482, h=0.012579040404040343, page=1))] \n",
      " 8]\n",
      "\n",
      "\n",
      " [Span(start=8838, end=8842, box=Box(l=0.5617335179738563, t=0.7777529313131322, w=0.027120411111111187, h=0.012579040404040343, page=1))] \n",
      " [35]\n",
      "\n",
      "\n",
      " [Span(start=10148, end=10152, box=Box(l=0.3831339869281046, t=0.6301645474747473, w=0.02712041111111113, h=0.012579040404040343, page=2))] \n",
      " [31]\n",
      "\n",
      "\n",
      " [Span(start=11151, end=11155, box=Box(l=0.5208575562091502, t=0.09362666868686846, w=0.025769274183006563, h=0.012579040404040481, page=2))] \n",
      " [14,\n",
      "\n",
      "\n",
      " [Span(start=11155, end=11158, box=Box(l=0.5477989009803921, t=0.09362666868686846, w=0.021699584640523017, h=0.012579040404040481, page=2))] \n",
      " 37]\n",
      "\n",
      "\n",
      " [Span(start=11204, end=11208, box=Box(l=0.8635905307189544, t=0.09362666868686846, w=0.027120411111111076, h=0.012579040404040481, page=2))] \n",
      " [16]\n",
      "\n",
      "\n",
      " [Span(start=11764, end=11768, box=Box(l=0.6023349673202614, t=0.26072515353535375, w=0.027120411111111187, h=0.012579040404040509, page=2))] \n",
      " [25]\n",
      "\n",
      "\n",
      " [Span(start=15692, end=15696, box=Box(l=0.7135001843137254, t=0.1219915676767675, w=0.027120411111111187, h=0.012579040404040481, page=3))] \n",
      " [29]\n",
      "\n",
      "\n",
      " [Span(start=15822, end=15826, box=Box(l=0.8377398627450982, t=0.15218096161616154, w=0.027120411111111076, h=0.012579040404040481, page=3))] \n",
      " [20]\n",
      "\n",
      "\n",
      " [Span(start=15835, end=15839, box=Box(l=0.5279388160130718, t=0.16727692121212115, w=0.027120411111111187, h=0.012579040404040481, page=3))] \n",
      " [26]\n",
      "\n",
      "\n",
      " [Span(start=15852, end=15855, box=Box(l=0.6405552650326797, t=0.16727692121212115, w=0.018981032026143874, h=0.012579040404040481, page=3))] \n",
      " [3]\n",
      "\n",
      "\n",
      " [Span(start=16799, end=16802, box=Box(l=0.5046764705882353, t=0.5141418202020206, w=0.018981032026143763, h=0.012579040404040343, page=3))] \n",
      " [1]\n",
      "\n",
      "\n",
      " [Span(start=17835, end=17839, box=Box(l=0.8212169232026143, t=0.7764789414141418, w=0.025769274183006452, h=0.012579040404040343, page=3))] \n",
      " [22,\n",
      "\n",
      "\n",
      " [Span(start=17839, end=17842, box=Box(l=0.8491024359477124, t=0.7764789414141418, w=0.021699584640522795, h=0.012579040404040343, page=3))] \n",
      " 28]\n",
      "\n",
      "\n",
      " [Span(start=18189, end=18193, box=Box(l=0.5295504130718953, t=0.887865305050505, w=0.025769274183006563, h=0.012579040404040454, page=3))] \n",
      " [22,\n",
      "\n",
      "\n",
      " [Span(start=18193, end=18196, box=Box(l=0.5574359258169934, t=0.887865305050505, w=0.021699584640522906, h=0.012579040404040454, page=3))] \n",
      " 28]\n",
      "\n",
      "\n",
      " [Span(start=19405, end=19409, box=Box(l=0.4367291702614379, t=0.5009195979797979, w=0.027120411111111076, h=0.012579040404040454, page=4))] \n",
      " [35]\n",
      "\n",
      "\n",
      " [Span(start=19536, end=19540, box=Box(l=0.17989675588235293, t=0.5462036888888888, w=0.02712041111111113, h=0.012579040404040343, page=4))] \n",
      " [11]\n",
      "\n",
      "\n",
      " [Span(start=19727, end=19729, box=Box(l=0.30714780849673207, t=0.5914890424242424, w=0.013560205555555593, h=0.012579040404040343, page=4))] \n",
      " [6\n",
      "\n",
      "\n",
      " [Span(start=19729, end=19730, box=Box(l=0.32070801405228766, t=0.5914890424242424, w=0.008139379084967313, h=0.012579040404040343, page=4))] \n",
      " –\n",
      "\n",
      "\n",
      " [Span(start=19730, end=19732, box=Box(l=0.328847393137255, t=0.5914890424242424, w=0.013560205555555538, h=0.012579040404040343, page=4))] \n",
      " 8]\n",
      "\n",
      "\n",
      " [Span(start=19744, end=19748, box=Box(l=0.43672672352941194, t=0.5914890424242424, w=0.02712041111111113, h=0.012579040404040343, page=4))] \n",
      " [39]\n",
      "\n",
      "\n",
      " [Span(start=19977, end=19981, box=Box(l=0.08188235294117646, t=0.6669637898989897, w=0.027120411111111117, h=0.012579040404040343, page=4))] \n",
      " [27]\n",
      "\n",
      "\n",
      " [Span(start=19997, end=20001, box=Box(l=0.21841407418300654, t=0.6669637898989897, w=0.02712041111111113, h=0.012579040404040343, page=4))] \n",
      " [35]\n",
      "\n",
      "\n",
      " [Span(start=21492, end=21496, box=Box(l=0.5423455169934642, t=0.7389233858585857, w=0.027120411111111076, h=0.012579040404040454, page=4))] \n",
      " [20]\n",
      "\n",
      "\n",
      " [Span(start=21536, end=21540, box=Box(l=0.859520841176471, t=0.7389233858585857, w=0.027120411111111076, h=0.012579040404040454, page=4))] \n",
      " [29]\n",
      "\n",
      "\n",
      " [Span(start=25977, end=25981, box=Box(l=0.6557921826797386, t=0.8274865171717171, w=0.027120411111111076, h=0.012579040404040343, page=5))] \n",
      " [32]\n",
      "\n",
      "\n",
      " [Span(start=27167, end=27170, box=Box(l=0.17485034084967319, t=0.37447262828282885, w=0.018981032026143818, h=0.012579040404040343, page=6))] \n",
      " [6]\n",
      "\n",
      "\n",
      " [Span(start=27182, end=27185, box=Box(l=0.2797181009803922, t=0.37447262828282885, w=0.018981032026143763, h=0.012579040404040343, page=6))] \n",
      " [3]\n",
      "\n",
      "\n",
      " [Span(start=27453, end=27456, box=Box(l=0.1649689385620915, t=0.46512540606060654, w=0.018981032026143818, h=0.012579040404040398, page=6))] \n",
      " [6]\n",
      "\n",
      "\n",
      " [Span(start=27619, end=27623, box=Box(l=0.14396953660130718, t=0.5104094969696974, w=0.02712041111111113, h=0.012579040404040343, page=6))] \n",
      " [32]\n"
     ]
    }
   ],
   "source": [
    "for author_name in doc.citation_mentions:\n",
    "    print('\\n\\n', author_name.spans, '\\n', author_name.text)"
   ]
  }
 ],
 "metadata": {
  "kernelspec": {
   "display_name": "mmda_grobid_full_parser",
   "language": "python",
   "name": "python3"
  },
  "language_info": {
   "codemirror_mode": {
    "name": "ipython",
    "version": 3
   },
   "file_extension": ".py",
   "mimetype": "text/x-python",
   "name": "python",
   "nbconvert_exporter": "python",
   "pygments_lexer": "ipython3",
   "version": "3.8.16"
  },
  "orig_nbformat": 4,
  "vscode": {
   "interpreter": {
    "hash": "dc38cbd6e5751ec215f598ee4bef57c27d0235302e69bf5b1dc0ed13ebb054b0"
   }
  }
 },
 "nbformat": 4,
 "nbformat_minor": 2
}
