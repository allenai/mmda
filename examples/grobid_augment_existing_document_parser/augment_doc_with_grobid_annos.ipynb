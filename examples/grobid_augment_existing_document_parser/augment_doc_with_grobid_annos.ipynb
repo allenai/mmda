{
 "cells": [
  {
   "cell_type": "code",
   "execution_count": 1,
   "metadata": {},
   "outputs": [],
   "source": [
    "%load_ext autoreload\n",
    "%autoreload 2"
   ]
  },
  {
   "attachments": {},
   "cell_type": "markdown",
   "metadata": {},
   "source": [
    "## Augment basic MMDA document with Grobid Annotations"
   ]
  },
  {
   "attachments": {},
   "cell_type": "markdown",
   "metadata": {},
   "source": [
    "#### Generate a basic PdfPlumber parsed MMDA doc\n"
   ]
  },
  {
   "cell_type": "code",
   "execution_count": 2,
   "metadata": {},
   "outputs": [
    {
     "data": {
      "text/plain": [
       "['tokens', 'rows', 'pages']"
      ]
     },
     "execution_count": 2,
     "metadata": {},
     "output_type": "execute_result"
    }
   ],
   "source": [
    "\n",
    "PDF_PATH = '../../tests/fixtures/grobid_augment_existing_document_parser/0c027af0ee9c1901c57f6579d903aedee7f4.pdf'\n",
    "from mmda.parsers import PDFPlumberParser\n",
    "from mmda.types import Document\n",
    "# PDF to text\n",
    "pdf_plumber = PDFPlumberParser()\n",
    "doc: Document = pdf_plumber.parse(input_pdf_path=PDF_PATH)\n",
    "doc.fields"
   ]
  },
  {
   "attachments": {},
   "cell_type": "markdown",
   "metadata": {},
   "source": [
    "#### Pass the doc as well as the PDF to the Grobid parser"
   ]
  },
  {
   "cell_type": "code",
   "execution_count": 3,
   "metadata": {},
   "outputs": [
    {
     "name": "stdout",
     "output_type": "stream",
     "text": [
      "GROBID server is up and running\n"
     ]
    }
   ],
   "source": [
    "\n",
    "from mmda.parsers.grobid_augment_existing_document_parser import GrobidAugmentExistingDocumentParser\n",
    "parser = GrobidAugmentExistingDocumentParser(config_path='../../src/mmda/parsers/grobid.config', check_server=True)"
   ]
  },
  {
   "cell_type": "code",
   "execution_count": 4,
   "metadata": {},
   "outputs": [
    {
     "name": "stderr",
     "output_type": "stream",
     "text": [
      "WARNING:root:tokens with box stored in SpanGroup span.box will be deprecated (that is, future Spans wont contain box). Ensure Document is annotated with tokens having box stored in SpanGroup box_group.boxes\n",
      "WARNING:root:tokens with box stored in SpanGroup span.box will be deprecated (that is, future Spans wont contain box). Ensure Document is annotated with tokens having box stored in SpanGroup box_group.boxes\n"
     ]
    }
   ],
   "source": [
    "doc = parser.parse(PDF_PATH, doc, \".\")"
   ]
  },
  {
   "cell_type": "code",
   "execution_count": 5,
   "metadata": {},
   "outputs": [
    {
     "data": {
      "text/plain": [
       "['tokens', 'rows', 'pages', 'authors', 'bib_entries']"
      ]
     },
     "execution_count": 5,
     "metadata": {},
     "output_type": "execute_result"
    }
   ],
   "source": [
    "doc.fields"
   ]
  },
  {
   "attachments": {},
   "cell_type": "markdown",
   "metadata": {},
   "source": [
    "## XML Playground"
   ]
  },
  {
   "cell_type": "code",
   "execution_count": 6,
   "metadata": {},
   "outputs": [
    {
     "data": {
      "text/plain": [
       "{0: [612.0, 792.0],\n",
       " 1: [612.0, 792.0],\n",
       " 2: [612.0, 792.0],\n",
       " 3: [612.0, 792.0],\n",
       " 4: [612.0, 792.0],\n",
       " 5: [612.0, 792.0],\n",
       " 6: [612.0, 792.0],\n",
       " 7: [612.0, 792.0],\n",
       " 8: [612.0, 792.0],\n",
       " 9: [612.0, 792.0]}"
      ]
     },
     "execution_count": 6,
     "metadata": {},
     "output_type": "execute_result"
    }
   ],
   "source": [
    "import xml.etree.ElementTree as et\n",
    "from collections import defaultdict\n",
    "\n",
    "XML_PATH = '../../tests/fixtures/grobid_augment_existing_document_parser/0c027af0ee9c1901c57f6579d903aedee7f4.xml'\n",
    "\n",
    "xml = open(XML_PATH).read()\n",
    "\n",
    "xml_root = et.fromstring(xml)\n",
    "\n",
    "parser._cache_page_sizes(xml_root)\n",
    "\n",
    "parser.page_sizes\n"
   ]
  },
  {
   "cell_type": "code",
   "execution_count": 7,
   "metadata": {},
   "outputs": [
    {
     "name": "stdout",
     "output_type": "stream",
     "text": [
      "{http://www.tei-c.org/ns/1.0}teiHeader\n",
      "{http://www.tei-c.org/ns/1.0}facsimile\n",
      "{http://www.tei-c.org/ns/1.0}text\n"
     ]
    }
   ],
   "source": [
    "NS = {\"tei\": \"http://www.tei-c.org/ns/1.0\"}\n",
    "\n",
    "for child in xml_root:\n",
    "    print(child.tag)"
   ]
  },
  {
   "cell_type": "code",
   "execution_count": 8,
   "metadata": {},
   "outputs": [
    {
     "name": "stdout",
     "output_type": "stream",
     "text": [
      "author_list_root <Element '{http://www.tei-c.org/ns/1.0}sourceDesc' at 0x15ac39ea0>\n"
     ]
    },
    {
     "data": {
      "text/plain": [
       "[]"
      ]
     },
     "execution_count": 8,
     "metadata": {},
     "output_type": "execute_result"
    }
   ],
   "source": [
    "\n",
    "author_list_root = xml_root.find(\".//tei:sourceDesc\", NS)\n",
    "print('author_list_root', author_list_root)\n",
    "\n",
    "author_names = []\n",
    "author_name_structs = author_list_root.findall(\".//tei:persName\", NS)\n",
    "\n",
    "for a in author_name_structs:\n",
    "    coords_string = a.attrib[\"coords\"]\n",
    "    boxes = parser._xml_coords_to_boxes(coords_string)\n",
    "author_names\n"
   ]
  },
  {
   "attachments": {},
   "cell_type": "markdown",
   "metadata": {},
   "source": [
    "### Check out the Bibliography Entries"
   ]
  },
  {
   "cell_type": "code",
   "execution_count": 9,
   "metadata": {},
   "outputs": [
    {
     "name": "stdout",
     "output_type": "stream",
     "text": [
      "0 None\n",
      "1 None\n",
      "2 None\n"
     ]
    }
   ],
   "source": [
    "for bib in doc.bib_entries[:3]:\n",
    "    print(bib.id, bib.box_group.id)"
   ]
  },
  {
   "cell_type": "code",
   "execution_count": 10,
   "metadata": {},
   "outputs": [
    {
     "name": "stdout",
     "output_type": "stream",
     "text": [
      "\n",
      "\n",
      " [Span(start=34511, end=34621, box=Box(l=0.11442973856209156, t=0.3006296222222226, w=0.35348235294117647, h=0.03977661818181799, page=8))] \n",
      " ISPRS 2D Semantic Labeling Challenge.\n",
      "http:\n",
      "//www2.isprs.org/commissions/comm3/wg4/\n",
      "semantic-labeling.html . 4\n",
      "\n",
      "\n",
      " [Span(start=34626, end=34810, box=Box(l=0.11442973856209161, t=0.3449347757575761, w=0.35348859869281046, h=0.05283257575757566, page=8))] \n",
      " N. Audebert, B. Saux, and S. Lefvre. Beyond RGB: Very\n",
      "High Resolution Urban Remote Sensing with Multimodal\n",
      "Deep Networks. ISPRS Journal of Photogrammetry and Re-\n",
      "mote Sensing , 2018. 2\n",
      "\n",
      "\n",
      " [Span(start=34815, end=35032, box=Box(l=0.11442973856209161, t=0.4022946242424245, w=0.35348910588235294, h=0.05283257575757577, page=8))] \n",
      " V. Badrinarayanan, A. Kendall, and R. Cipolla. SegNet: A\n",
      "Deep Convolutional Encoder-Decoder Architecture for Im-\n",
      "age Segmentation. IEEE Transactions on Pattern Analysis\n",
      "and Machine Intelligence (TPAMI) , 2017. 2, 4, 7\n"
     ]
    }
   ],
   "source": [
    "for bib in doc.bib_entries[:3]:\n",
    "    print('\\n\\n', bib.spans, '\\n', bib.text)"
   ]
  },
  {
   "attachments": {},
   "cell_type": "markdown",
   "metadata": {},
   "source": [
    "### Check out the Author names"
   ]
  },
  {
   "cell_type": "code",
   "execution_count": 11,
   "metadata": {},
   "outputs": [
    {
     "name": "stdout",
     "output_type": "stream",
     "text": [
      "\n",
      "\n",
      " [Span(start=87, end=99, box=Box(l=0.20770588235294118, t=0.20625141818181814, w=0.11447299346405226, h=0.015094949494949494, page=0))] \n",
      " Xueqing Deng\n",
      "\n",
      "\n",
      " [Span(start=100, end=109, box=Box(l=0.2191045751633987, t=0.22386126666666661, w=0.09167606797385619, h=0.015094949494949494, page=0))] \n",
      " UC Merced\n",
      "\n",
      "\n",
      " [Span(start=130, end=136, box=Box(l=0.4588872549019608, t=0.20625141818181814, w=0.0548142013071895, h=0.015094949494949494, page=0))] \n",
      " Yi Zhu\n",
      "\n",
      "\n",
      " [Span(start=205, end=217, box=Box(l=0.42348039215686284, t=0.26663020606060595, w=0.12562727320261435, h=0.015094949494949494, page=0))] \n",
      " Shawn Newsam\n"
     ]
    }
   ],
   "source": [
    "for author_name in doc.authors:\n",
    "    print('\\n\\n', author_name.spans, '\\n', author_name.text)"
   ]
  }
 ],
 "metadata": {
  "kernelspec": {
   "display_name": "mmda_grobid_full_parser",
   "language": "python",
   "name": "python3"
  },
  "language_info": {
   "codemirror_mode": {
    "name": "ipython",
    "version": 3
   },
   "file_extension": ".py",
   "mimetype": "text/x-python",
   "name": "python",
   "nbconvert_exporter": "python",
   "pygments_lexer": "ipython3",
   "version": "3.8.16"
  },
  "orig_nbformat": 4,
  "vscode": {
   "interpreter": {
    "hash": "dc38cbd6e5751ec215f598ee4bef57c27d0235302e69bf5b1dc0ed13ebb054b0"
   }
  }
 },
 "nbformat": 4,
 "nbformat_minor": 2
}
